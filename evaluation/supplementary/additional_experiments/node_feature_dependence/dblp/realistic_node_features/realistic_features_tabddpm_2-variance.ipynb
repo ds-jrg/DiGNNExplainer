{
 "cells": [
  {
   "cell_type": "code",
   "execution_count": 1,
   "id": "a4caf51b",
   "metadata": {},
   "outputs": [],
   "source": [
    "import pandas as pd\n",
    "import numpy as np\n",
    "import warnings\n",
    "warnings.filterwarnings('ignore')\n",
    "import torch\n",
    "import seaborn as sns\n",
    "from sklearn.metrics.pairwise import cosine_similarity\n",
    "from sklearn.feature_selection import VarianceThreshold\n",
    "import torch_geometric.transforms as T\n",
    "from torch_geometric.datasets.dblp import DBLP\n",
    "import matplotlib.pyplot as plt"
   ]
  },
  {
   "cell_type": "markdown",
   "id": "88fa7623",
   "metadata": {},
   "source": [
    "## DBLP"
   ]
  },
  {
   "cell_type": "code",
   "execution_count": 2,
   "id": "5f41565f-cbfc-40d2-a48c-d0f4477477bc",
   "metadata": {},
   "outputs": [],
   "source": [
    "FEATURE_SIZE = 2"
   ]
  },
  {
   "cell_type": "code",
   "execution_count": 3,
   "id": "1fe3c5a2",
   "metadata": {},
   "outputs": [],
   "source": [
    "dataset = DBLP(root='./dblp_data', transform=T.Constant(node_types='conference'))\n",
    "data = dataset[0]\n",
    "author = data['author'].x.tolist()\n",
    "df = pd.DataFrame(author)\n",
    "df['class'] = data['author'].y.tolist()"
   ]
  },
  {
   "cell_type": "markdown",
   "id": "c28b245a",
   "metadata": {},
   "source": [
    "### Feature selection from Bag-of-Words features of Author node using most frequent occurences"
   ]
  },
  {
   "cell_type": "code",
   "execution_count": 4,
   "id": "0e4c2cf5-10ed-4394-9f7a-8a271b5e25ce",
   "metadata": {},
   "outputs": [],
   "source": [
    "def feature_selection_var(X, threshold=0.0):\n",
    "    sel = VarianceThreshold(threshold=(threshold * (1 - threshold)))\n",
    "    fitted_X = sel.fit_transform(X)\n",
    "    imp_feat = pd.DataFrame(fitted_X)\n",
    "\n",
    "    return imp_feat"
   ]
  },
  {
   "cell_type": "code",
   "execution_count": 5,
   "id": "6d30f685",
   "metadata": {},
   "outputs": [
    {
     "data": {
      "text/html": [
       "<div>\n",
       "<style scoped>\n",
       "    .dataframe tbody tr th:only-of-type {\n",
       "        vertical-align: middle;\n",
       "    }\n",
       "\n",
       "    .dataframe tbody tr th {\n",
       "        vertical-align: top;\n",
       "    }\n",
       "\n",
       "    .dataframe thead th {\n",
       "        text-align: right;\n",
       "    }\n",
       "</style>\n",
       "<table border=\"1\" class=\"dataframe\">\n",
       "  <thead>\n",
       "    <tr style=\"text-align: right;\">\n",
       "      <th></th>\n",
       "      <th>0</th>\n",
       "      <th>1</th>\n",
       "    </tr>\n",
       "  </thead>\n",
       "  <tbody>\n",
       "    <tr>\n",
       "      <th>0</th>\n",
       "      <td>0.0</td>\n",
       "      <td>0.0</td>\n",
       "    </tr>\n",
       "    <tr>\n",
       "      <th>1</th>\n",
       "      <td>1.0</td>\n",
       "      <td>0.0</td>\n",
       "    </tr>\n",
       "    <tr>\n",
       "      <th>2</th>\n",
       "      <td>1.0</td>\n",
       "      <td>0.0</td>\n",
       "    </tr>\n",
       "    <tr>\n",
       "      <th>3</th>\n",
       "      <td>1.0</td>\n",
       "      <td>0.0</td>\n",
       "    </tr>\n",
       "    <tr>\n",
       "      <th>4</th>\n",
       "      <td>1.0</td>\n",
       "      <td>0.0</td>\n",
       "    </tr>\n",
       "  </tbody>\n",
       "</table>\n",
       "</div>"
      ],
      "text/plain": [
       "     0    1\n",
       "0  0.0  0.0\n",
       "1  1.0  0.0\n",
       "2  1.0  0.0\n",
       "3  1.0  0.0\n",
       "4  1.0  0.0"
      ]
     },
     "execution_count": 5,
     "metadata": {},
     "output_type": "execute_result"
    }
   ],
   "source": [
    "# Feature selection for Author class 0\n",
    "class0 = df[df['class'] == 0].drop(['class'], axis=1)\n",
    "\n",
    "imp_feat0 =  feature_selection_var(class0, threshold=0.7)\n",
    "imp_feat0.head()"
   ]
  },
  {
   "cell_type": "code",
   "execution_count": 6,
   "id": "9b176a1e",
   "metadata": {},
   "outputs": [
    {
     "data": {
      "text/html": [
       "<div>\n",
       "<style scoped>\n",
       "    .dataframe tbody tr th:only-of-type {\n",
       "        vertical-align: middle;\n",
       "    }\n",
       "\n",
       "    .dataframe tbody tr th {\n",
       "        vertical-align: top;\n",
       "    }\n",
       "\n",
       "    .dataframe thead th {\n",
       "        text-align: right;\n",
       "    }\n",
       "</style>\n",
       "<table border=\"1\" class=\"dataframe\">\n",
       "  <thead>\n",
       "    <tr style=\"text-align: right;\">\n",
       "      <th></th>\n",
       "      <th>0</th>\n",
       "      <th>1</th>\n",
       "    </tr>\n",
       "  </thead>\n",
       "  <tbody>\n",
       "    <tr>\n",
       "      <th>0</th>\n",
       "      <td>0.0</td>\n",
       "      <td>0.0</td>\n",
       "    </tr>\n",
       "    <tr>\n",
       "      <th>1</th>\n",
       "      <td>0.0</td>\n",
       "      <td>0.0</td>\n",
       "    </tr>\n",
       "    <tr>\n",
       "      <th>2</th>\n",
       "      <td>1.0</td>\n",
       "      <td>1.0</td>\n",
       "    </tr>\n",
       "    <tr>\n",
       "      <th>3</th>\n",
       "      <td>1.0</td>\n",
       "      <td>0.0</td>\n",
       "    </tr>\n",
       "    <tr>\n",
       "      <th>4</th>\n",
       "      <td>0.0</td>\n",
       "      <td>0.0</td>\n",
       "    </tr>\n",
       "  </tbody>\n",
       "</table>\n",
       "</div>"
      ],
      "text/plain": [
       "     0    1\n",
       "0  0.0  0.0\n",
       "1  0.0  0.0\n",
       "2  1.0  1.0\n",
       "3  1.0  0.0\n",
       "4  0.0  0.0"
      ]
     },
     "execution_count": 6,
     "metadata": {},
     "output_type": "execute_result"
    }
   ],
   "source": [
    "# Feature selection for Author class 1\n",
    "class1 = df[df['class'] == 1].drop(['class'], axis=1)\n",
    "\n",
    "imp_feat1 =  feature_selection_var(class1, threshold=0.7)\n",
    "imp_feat1.head()\n",
    "imp_feat1.head()"
   ]
  },
  {
   "cell_type": "code",
   "execution_count": 7,
   "id": "8a9367d2",
   "metadata": {},
   "outputs": [
    {
     "data": {
      "text/html": [
       "<div>\n",
       "<style scoped>\n",
       "    .dataframe tbody tr th:only-of-type {\n",
       "        vertical-align: middle;\n",
       "    }\n",
       "\n",
       "    .dataframe tbody tr th {\n",
       "        vertical-align: top;\n",
       "    }\n",
       "\n",
       "    .dataframe thead th {\n",
       "        text-align: right;\n",
       "    }\n",
       "</style>\n",
       "<table border=\"1\" class=\"dataframe\">\n",
       "  <thead>\n",
       "    <tr style=\"text-align: right;\">\n",
       "      <th></th>\n",
       "      <th>0</th>\n",
       "      <th>1</th>\n",
       "    </tr>\n",
       "  </thead>\n",
       "  <tbody>\n",
       "    <tr>\n",
       "      <th>0</th>\n",
       "      <td>0.0</td>\n",
       "      <td>0.0</td>\n",
       "    </tr>\n",
       "    <tr>\n",
       "      <th>1</th>\n",
       "      <td>0.0</td>\n",
       "      <td>0.0</td>\n",
       "    </tr>\n",
       "    <tr>\n",
       "      <th>2</th>\n",
       "      <td>1.0</td>\n",
       "      <td>1.0</td>\n",
       "    </tr>\n",
       "    <tr>\n",
       "      <th>3</th>\n",
       "      <td>1.0</td>\n",
       "      <td>0.0</td>\n",
       "    </tr>\n",
       "    <tr>\n",
       "      <th>4</th>\n",
       "      <td>0.0</td>\n",
       "      <td>0.0</td>\n",
       "    </tr>\n",
       "  </tbody>\n",
       "</table>\n",
       "</div>"
      ],
      "text/plain": [
       "     0    1\n",
       "0  0.0  0.0\n",
       "1  0.0  0.0\n",
       "2  1.0  1.0\n",
       "3  1.0  0.0\n",
       "4  0.0  0.0"
      ]
     },
     "execution_count": 7,
     "metadata": {},
     "output_type": "execute_result"
    }
   ],
   "source": [
    "# Feature selection for Author class 2\n",
    "class2 = df[df['class'] == 2].drop(['class'], axis=1)\n",
    "\n",
    "imp_feat2 =  feature_selection_var(class2, threshold=0.75)\n",
    "imp_feat2.head()"
   ]
  },
  {
   "cell_type": "code",
   "execution_count": 8,
   "id": "b365e408",
   "metadata": {},
   "outputs": [
    {
     "data": {
      "text/html": [
       "<div>\n",
       "<style scoped>\n",
       "    .dataframe tbody tr th:only-of-type {\n",
       "        vertical-align: middle;\n",
       "    }\n",
       "\n",
       "    .dataframe tbody tr th {\n",
       "        vertical-align: top;\n",
       "    }\n",
       "\n",
       "    .dataframe thead th {\n",
       "        text-align: right;\n",
       "    }\n",
       "</style>\n",
       "<table border=\"1\" class=\"dataframe\">\n",
       "  <thead>\n",
       "    <tr style=\"text-align: right;\">\n",
       "      <th></th>\n",
       "      <th>0</th>\n",
       "      <th>1</th>\n",
       "    </tr>\n",
       "  </thead>\n",
       "  <tbody>\n",
       "    <tr>\n",
       "      <th>0</th>\n",
       "      <td>1.0</td>\n",
       "      <td>0.0</td>\n",
       "    </tr>\n",
       "    <tr>\n",
       "      <th>1</th>\n",
       "      <td>0.0</td>\n",
       "      <td>0.0</td>\n",
       "    </tr>\n",
       "    <tr>\n",
       "      <th>2</th>\n",
       "      <td>0.0</td>\n",
       "      <td>1.0</td>\n",
       "    </tr>\n",
       "    <tr>\n",
       "      <th>3</th>\n",
       "      <td>1.0</td>\n",
       "      <td>1.0</td>\n",
       "    </tr>\n",
       "    <tr>\n",
       "      <th>4</th>\n",
       "      <td>0.0</td>\n",
       "      <td>1.0</td>\n",
       "    </tr>\n",
       "  </tbody>\n",
       "</table>\n",
       "</div>"
      ],
      "text/plain": [
       "     0    1\n",
       "0  1.0  0.0\n",
       "1  0.0  0.0\n",
       "2  0.0  1.0\n",
       "3  1.0  1.0\n",
       "4  0.0  1.0"
      ]
     },
     "execution_count": 8,
     "metadata": {},
     "output_type": "execute_result"
    }
   ],
   "source": [
    "# Feature selection for Author class 3\n",
    "class3 = df[df['class'] == 3].drop(['class'], axis=1)\n",
    "\n",
    "imp_feat3 =  feature_selection_var(class3, threshold=0.7)\n",
    "imp_feat3.head()"
   ]
  },
  {
   "cell_type": "markdown",
   "id": "4dbe7c58",
   "metadata": {},
   "source": [
    "### Features of each class of Author node sampled using Diffusion Models"
   ]
  },
  {
   "cell_type": "code",
   "execution_count": 9,
   "id": "6295fd17-9da6-4805-9ac7-fb8f6b7bcb9b",
   "metadata": {},
   "outputs": [],
   "source": [
    "class_path = '../../../../../../graph generator/diffusion models/sampled_features_diffusion/dependence/TabDDPM/dblp/variance/'"
   ]
  },
  {
   "cell_type": "code",
   "execution_count": 10,
   "id": "23553de8",
   "metadata": {},
   "outputs": [
    {
     "data": {
      "text/html": [
       "<div>\n",
       "<style scoped>\n",
       "    .dataframe tbody tr th:only-of-type {\n",
       "        vertical-align: middle;\n",
       "    }\n",
       "\n",
       "    .dataframe tbody tr th {\n",
       "        vertical-align: top;\n",
       "    }\n",
       "\n",
       "    .dataframe thead th {\n",
       "        text-align: right;\n",
       "    }\n",
       "</style>\n",
       "<table border=\"1\" class=\"dataframe\">\n",
       "  <thead>\n",
       "    <tr style=\"text-align: right;\">\n",
       "      <th></th>\n",
       "      <th>0</th>\n",
       "      <th>1</th>\n",
       "    </tr>\n",
       "  </thead>\n",
       "  <tbody>\n",
       "    <tr>\n",
       "      <th>0</th>\n",
       "      <td>1.0</td>\n",
       "      <td>0.0</td>\n",
       "    </tr>\n",
       "    <tr>\n",
       "      <th>1</th>\n",
       "      <td>0.0</td>\n",
       "      <td>1.0</td>\n",
       "    </tr>\n",
       "    <tr>\n",
       "      <th>2</th>\n",
       "      <td>1.0</td>\n",
       "      <td>1.0</td>\n",
       "    </tr>\n",
       "    <tr>\n",
       "      <th>3</th>\n",
       "      <td>1.0</td>\n",
       "      <td>1.0</td>\n",
       "    </tr>\n",
       "    <tr>\n",
       "      <th>4</th>\n",
       "      <td>0.0</td>\n",
       "      <td>0.0</td>\n",
       "    </tr>\n",
       "  </tbody>\n",
       "</table>\n",
       "</div>"
      ],
      "text/plain": [
       "     0    1\n",
       "0  1.0  0.0\n",
       "1  0.0  1.0\n",
       "2  1.0  1.0\n",
       "3  1.0  1.0\n",
       "4  0.0  0.0"
      ]
     },
     "execution_count": 10,
     "metadata": {},
     "output_type": "execute_result"
    }
   ],
   "source": [
    "sampled0  = pd.DataFrame(np.load(class_path + 'author0_2.npy',allow_pickle=True)).iloc[:, : FEATURE_SIZE] \n",
    "sampled0.head()"
   ]
  },
  {
   "cell_type": "code",
   "execution_count": 11,
   "id": "8c2b7137",
   "metadata": {},
   "outputs": [
    {
     "data": {
      "text/html": [
       "<div>\n",
       "<style scoped>\n",
       "    .dataframe tbody tr th:only-of-type {\n",
       "        vertical-align: middle;\n",
       "    }\n",
       "\n",
       "    .dataframe tbody tr th {\n",
       "        vertical-align: top;\n",
       "    }\n",
       "\n",
       "    .dataframe thead th {\n",
       "        text-align: right;\n",
       "    }\n",
       "</style>\n",
       "<table border=\"1\" class=\"dataframe\">\n",
       "  <thead>\n",
       "    <tr style=\"text-align: right;\">\n",
       "      <th></th>\n",
       "      <th>0</th>\n",
       "      <th>1</th>\n",
       "    </tr>\n",
       "  </thead>\n",
       "  <tbody>\n",
       "    <tr>\n",
       "      <th>0</th>\n",
       "      <td>1.0</td>\n",
       "      <td>0.0</td>\n",
       "    </tr>\n",
       "    <tr>\n",
       "      <th>1</th>\n",
       "      <td>0.0</td>\n",
       "      <td>1.0</td>\n",
       "    </tr>\n",
       "    <tr>\n",
       "      <th>2</th>\n",
       "      <td>1.0</td>\n",
       "      <td>1.0</td>\n",
       "    </tr>\n",
       "    <tr>\n",
       "      <th>3</th>\n",
       "      <td>1.0</td>\n",
       "      <td>1.0</td>\n",
       "    </tr>\n",
       "    <tr>\n",
       "      <th>4</th>\n",
       "      <td>0.0</td>\n",
       "      <td>0.0</td>\n",
       "    </tr>\n",
       "  </tbody>\n",
       "</table>\n",
       "</div>"
      ],
      "text/plain": [
       "     0    1\n",
       "0  1.0  0.0\n",
       "1  0.0  1.0\n",
       "2  1.0  1.0\n",
       "3  1.0  1.0\n",
       "4  0.0  0.0"
      ]
     },
     "execution_count": 11,
     "metadata": {},
     "output_type": "execute_result"
    }
   ],
   "source": [
    "sampled1  = pd.DataFrame(np.load(class_path + 'author1_2.npy',allow_pickle=True)).iloc[:, : FEATURE_SIZE] \n",
    "sampled1.head()"
   ]
  },
  {
   "cell_type": "code",
   "execution_count": 12,
   "id": "ab305db8",
   "metadata": {},
   "outputs": [
    {
     "data": {
      "text/html": [
       "<div>\n",
       "<style scoped>\n",
       "    .dataframe tbody tr th:only-of-type {\n",
       "        vertical-align: middle;\n",
       "    }\n",
       "\n",
       "    .dataframe tbody tr th {\n",
       "        vertical-align: top;\n",
       "    }\n",
       "\n",
       "    .dataframe thead th {\n",
       "        text-align: right;\n",
       "    }\n",
       "</style>\n",
       "<table border=\"1\" class=\"dataframe\">\n",
       "  <thead>\n",
       "    <tr style=\"text-align: right;\">\n",
       "      <th></th>\n",
       "      <th>0</th>\n",
       "      <th>1</th>\n",
       "    </tr>\n",
       "  </thead>\n",
       "  <tbody>\n",
       "    <tr>\n",
       "      <th>0</th>\n",
       "      <td>1.0</td>\n",
       "      <td>0.0</td>\n",
       "    </tr>\n",
       "    <tr>\n",
       "      <th>1</th>\n",
       "      <td>0.0</td>\n",
       "      <td>1.0</td>\n",
       "    </tr>\n",
       "    <tr>\n",
       "      <th>2</th>\n",
       "      <td>1.0</td>\n",
       "      <td>1.0</td>\n",
       "    </tr>\n",
       "    <tr>\n",
       "      <th>3</th>\n",
       "      <td>1.0</td>\n",
       "      <td>1.0</td>\n",
       "    </tr>\n",
       "    <tr>\n",
       "      <th>4</th>\n",
       "      <td>0.0</td>\n",
       "      <td>0.0</td>\n",
       "    </tr>\n",
       "  </tbody>\n",
       "</table>\n",
       "</div>"
      ],
      "text/plain": [
       "     0    1\n",
       "0  1.0  0.0\n",
       "1  0.0  1.0\n",
       "2  1.0  1.0\n",
       "3  1.0  1.0\n",
       "4  0.0  0.0"
      ]
     },
     "execution_count": 12,
     "metadata": {},
     "output_type": "execute_result"
    }
   ],
   "source": [
    "sampled2  = pd.DataFrame(np.load(class_path + 'author2_2.npy',allow_pickle=True)).iloc[:, : FEATURE_SIZE] \n",
    "sampled2.head()"
   ]
  },
  {
   "cell_type": "code",
   "execution_count": 13,
   "id": "82199245",
   "metadata": {},
   "outputs": [
    {
     "data": {
      "text/html": [
       "<div>\n",
       "<style scoped>\n",
       "    .dataframe tbody tr th:only-of-type {\n",
       "        vertical-align: middle;\n",
       "    }\n",
       "\n",
       "    .dataframe tbody tr th {\n",
       "        vertical-align: top;\n",
       "    }\n",
       "\n",
       "    .dataframe thead th {\n",
       "        text-align: right;\n",
       "    }\n",
       "</style>\n",
       "<table border=\"1\" class=\"dataframe\">\n",
       "  <thead>\n",
       "    <tr style=\"text-align: right;\">\n",
       "      <th></th>\n",
       "      <th>0</th>\n",
       "      <th>1</th>\n",
       "    </tr>\n",
       "  </thead>\n",
       "  <tbody>\n",
       "    <tr>\n",
       "      <th>0</th>\n",
       "      <td>1.0</td>\n",
       "      <td>0.0</td>\n",
       "    </tr>\n",
       "    <tr>\n",
       "      <th>1</th>\n",
       "      <td>0.0</td>\n",
       "      <td>1.0</td>\n",
       "    </tr>\n",
       "    <tr>\n",
       "      <th>2</th>\n",
       "      <td>1.0</td>\n",
       "      <td>1.0</td>\n",
       "    </tr>\n",
       "    <tr>\n",
       "      <th>3</th>\n",
       "      <td>1.0</td>\n",
       "      <td>1.0</td>\n",
       "    </tr>\n",
       "    <tr>\n",
       "      <th>4</th>\n",
       "      <td>0.0</td>\n",
       "      <td>0.0</td>\n",
       "    </tr>\n",
       "  </tbody>\n",
       "</table>\n",
       "</div>"
      ],
      "text/plain": [
       "     0    1\n",
       "0  1.0  0.0\n",
       "1  0.0  1.0\n",
       "2  1.0  1.0\n",
       "3  1.0  1.0\n",
       "4  0.0  0.0"
      ]
     },
     "execution_count": 13,
     "metadata": {},
     "output_type": "execute_result"
    }
   ],
   "source": [
    "sampled3  = pd.DataFrame(np.load(class_path + 'author3_2.npy',allow_pickle=True)).iloc[:, : FEATURE_SIZE] \n",
    "sampled3.head()"
   ]
  },
  {
   "cell_type": "code",
   "execution_count": 14,
   "id": "50ab348f",
   "metadata": {},
   "outputs": [],
   "source": [
    "def cosine_sim(original,sampled):\n",
    "    return cosine_similarity(original, sampled)"
   ]
  },
  {
   "cell_type": "markdown",
   "id": "98e1b50f",
   "metadata": {},
   "source": [
    "### Pairwise cosine similarity of all features for real and synthetic distributions"
   ]
  },
  {
   "cell_type": "markdown",
   "id": "651a385d",
   "metadata": {},
   "source": [
    "Author class 0"
   ]
  },
  {
   "cell_type": "code",
   "execution_count": 15,
   "id": "9ad1509b",
   "metadata": {},
   "outputs": [
    {
     "data": {
      "text/plain": [
       "array([[0.        , 0.        , 0.        , ..., 0.        , 0.        ,\n",
       "        0.        ],\n",
       "       [1.        , 0.        , 0.70710678, ..., 0.70710678, 0.70710678,\n",
       "        0.        ],\n",
       "       [1.        , 0.        , 0.70710678, ..., 0.70710678, 0.70710678,\n",
       "        0.        ],\n",
       "       ...,\n",
       "       [0.        , 0.        , 0.        , ..., 0.        , 0.        ,\n",
       "        0.        ],\n",
       "       [0.        , 0.        , 0.        , ..., 0.        , 0.        ,\n",
       "        0.        ],\n",
       "       [0.        , 0.        , 0.        , ..., 0.        , 0.        ,\n",
       "        0.        ]])"
      ]
     },
     "execution_count": 15,
     "metadata": {},
     "output_type": "execute_result"
    }
   ],
   "source": [
    "real_class0= np.array(imp_feat0)\n",
    "cosine_sim(real_class0,sampled0)"
   ]
  },
  {
   "cell_type": "code",
   "execution_count": 16,
   "id": "b450cf58",
   "metadata": {},
   "outputs": [],
   "source": [
    "sns.set(font_scale=1.4)"
   ]
  },
  {
   "cell_type": "code",
   "execution_count": 17,
   "id": "ba188eb2",
   "metadata": {},
   "outputs": [
    {
     "data": {
      "image/png": "[encoded data removed]",
      "text/plain": [
       "<Figure size 800x500 with 2 Axes>"
      ]
     },
     "metadata": {},
     "output_type": "display_data"
    }
   ],
   "source": [
    "fig, ax = plt.subplots(figsize=(8,5)) \n",
    "sns.heatmap(cosine_sim(real_class0[:8],sampled0[:8]), \n",
    "            xticklabels = 1, yticklabels = 1, annot=True, cmap='Blues', linewidth=.5)\n",
    "plt.xlabel(\"synthetic samples\") \n",
    "plt.ylabel(\"real samples\") \n",
    "plt.show()"
   ]
  },
  {
   "cell_type": "code",
   "execution_count": 18,
   "id": "fcccd6f6",
   "metadata": {},
   "outputs": [
    {
     "data": {
      "text/plain": [
       "0.30295138871770133"
      ]
     },
     "execution_count": 18,
     "metadata": {},
     "output_type": "execute_result"
    }
   ],
   "source": [
    "avg_cossim_class0 = np.mean(cosine_sim(real_class0,sampled0))\n",
    "avg_cossim_class0"
   ]
  },
  {
   "cell_type": "markdown",
   "id": "f6354d34",
   "metadata": {},
   "source": [
    "Author class 1"
   ]
  },
  {
   "cell_type": "code",
   "execution_count": 19,
   "id": "86445c8f",
   "metadata": {},
   "outputs": [
    {
     "data": {
      "text/plain": [
       "array([[0.        , 0.        , 0.        , ..., 0.        , 0.        ,\n",
       "        0.        ],\n",
       "       [0.        , 0.        , 0.        , ..., 0.        , 0.        ,\n",
       "        0.        ],\n",
       "       [0.70710678, 0.70710678, 1.        , ..., 0.70710678, 0.70710678,\n",
       "        1.        ],\n",
       "       ...,\n",
       "       [1.        , 0.        , 0.70710678, ..., 1.        , 1.        ,\n",
       "        0.70710678],\n",
       "       [1.        , 0.        , 0.70710678, ..., 1.        , 1.        ,\n",
       "        0.70710678],\n",
       "       [0.        , 0.        , 0.        , ..., 0.        , 0.        ,\n",
       "        0.        ]])"
      ]
     },
     "execution_count": 19,
     "metadata": {},
     "output_type": "execute_result"
    }
   ],
   "source": [
    "real_class1= np.array(imp_feat1)\n",
    "cosine_sim(real_class1,sampled1)"
   ]
  },
  {
   "cell_type": "code",
   "execution_count": 20,
   "id": "99c4f0bd",
   "metadata": {},
   "outputs": [
    {
     "data": {
      "image/png": "[encoded data removed]",
      "text/plain": [
       "<Figure size 800x500 with 2 Axes>"
      ]
     },
     "metadata": {},
     "output_type": "display_data"
    }
   ],
   "source": [
    "fig, ax = plt.subplots(figsize=(8,5)) \n",
    "sns.heatmap(cosine_sim(real_class1[:8],sampled1[:8]), \n",
    "            xticklabels = 1, yticklabels = 1, annot=True, cmap='Blues', linewidth=.5)\n",
    "plt.xlabel(\"synthetic samples\") \n",
    "plt.ylabel(\"real samples\") \n",
    "plt.show()"
   ]
  },
  {
   "cell_type": "code",
   "execution_count": 21,
   "id": "39f09841",
   "metadata": {},
   "outputs": [
    {
     "data": {
      "text/plain": [
       "0.34959248351181166"
      ]
     },
     "execution_count": 21,
     "metadata": {},
     "output_type": "execute_result"
    }
   ],
   "source": [
    "avg_cossim_class1 = np.mean(cosine_sim(real_class1,sampled1))\n",
    "avg_cossim_class1"
   ]
  },
  {
   "cell_type": "markdown",
   "id": "540843aa",
   "metadata": {},
   "source": [
    "Author class 2"
   ]
  },
  {
   "cell_type": "code",
   "execution_count": 22,
   "id": "fa693c41",
   "metadata": {},
   "outputs": [
    {
     "data": {
      "text/plain": [
       "array([[0.        , 0.        , 0.        , ..., 0.        , 0.        ,\n",
       "        0.        ],\n",
       "       [0.        , 0.        , 0.        , ..., 0.        , 0.        ,\n",
       "        0.        ],\n",
       "       [0.70710678, 0.70710678, 1.        , ..., 0.        , 0.70710678,\n",
       "        1.        ],\n",
       "       ...,\n",
       "       [0.        , 1.        , 0.70710678, ..., 0.        , 0.        ,\n",
       "        0.70710678],\n",
       "       [1.        , 0.        , 0.70710678, ..., 0.        , 1.        ,\n",
       "        0.70710678],\n",
       "       [0.        , 0.        , 0.        , ..., 0.        , 0.        ,\n",
       "        0.        ]])"
      ]
     },
     "execution_count": 22,
     "metadata": {},
     "output_type": "execute_result"
    }
   ],
   "source": [
    "real_class2= np.array(imp_feat2)\n",
    "cosine_sim(real_class2,sampled2)"
   ]
  },
  {
   "cell_type": "code",
   "execution_count": 23,
   "id": "cd3b3d2f",
   "metadata": {},
   "outputs": [
    {
     "data": {
      "image/png": "[encoded data removed]",
      "text/plain": [
       "<Figure size 800x500 with 2 Axes>"
      ]
     },
     "metadata": {},
     "output_type": "display_data"
    }
   ],
   "source": [
    "fig, ax = plt.subplots(figsize=(8,5)) \n",
    "sns.heatmap(cosine_sim(real_class2[:8],sampled2[:8]), \n",
    "            xticklabels = 1, yticklabels = 1, annot=True, cmap='Blues', linewidth=.5)\n",
    "plt.xlabel(\"synthetic samples\") \n",
    "plt.ylabel(\"real samples\") \n",
    "plt.show()"
   ]
  },
  {
   "cell_type": "code",
   "execution_count": 24,
   "id": "50ac17e8",
   "metadata": {},
   "outputs": [
    {
     "data": {
      "text/plain": [
       "0.19716872735740268"
      ]
     },
     "execution_count": 24,
     "metadata": {},
     "output_type": "execute_result"
    }
   ],
   "source": [
    "avg_cossim_class2 = np.mean(cosine_sim(real_class2,sampled2))\n",
    "avg_cossim_class2"
   ]
  },
  {
   "cell_type": "markdown",
   "id": "2c64c603",
   "metadata": {},
   "source": [
    "Author class 3"
   ]
  },
  {
   "cell_type": "code",
   "execution_count": 25,
   "id": "5bdfb932",
   "metadata": {},
   "outputs": [
    {
     "data": {
      "text/plain": [
       "array([[1.        , 0.        , 0.70710678, ..., 0.70710678, 0.        ,\n",
       "        0.        ],\n",
       "       [0.        , 0.        , 0.        , ..., 0.        , 0.        ,\n",
       "        0.        ],\n",
       "       [0.        , 1.        , 0.70710678, ..., 0.70710678, 1.        ,\n",
       "        0.        ],\n",
       "       ...,\n",
       "       [0.        , 0.        , 0.        , ..., 0.        , 0.        ,\n",
       "        0.        ],\n",
       "       [0.        , 0.        , 0.        , ..., 0.        , 0.        ,\n",
       "        0.        ],\n",
       "       [0.        , 0.        , 0.        , ..., 0.        , 0.        ,\n",
       "        0.        ]])"
      ]
     },
     "execution_count": 25,
     "metadata": {},
     "output_type": "execute_result"
    }
   ],
   "source": [
    "real_class3 = np.array(imp_feat3)\n",
    "cosine_sim(real_class3,sampled3)"
   ]
  },
  {
   "cell_type": "code",
   "execution_count": 26,
   "id": "2b2e09c6",
   "metadata": {},
   "outputs": [
    {
     "data": {
      "image/png": "[encoded data removed]",
      "text/plain": [
       "<Figure size 800x500 with 2 Axes>"
      ]
     },
     "metadata": {},
     "output_type": "display_data"
    }
   ],
   "source": [
    "fig, ax = plt.subplots(figsize=(8,5)) \n",
    "sns.heatmap(cosine_sim(real_class3[:8],sampled3[:8]), \n",
    "            xticklabels = 1, yticklabels = 1, annot=True, cmap='Blues', linewidth=.5)\n",
    "plt.xlabel(\"synthetic samples\") \n",
    "plt.ylabel(\"real samples\") \n",
    "plt.show()"
   ]
  },
  {
   "cell_type": "code",
   "execution_count": 27,
   "id": "e37cc8c7",
   "metadata": {},
   "outputs": [
    {
     "data": {
      "text/plain": [
       "0.2734779340819072"
      ]
     },
     "execution_count": 27,
     "metadata": {},
     "output_type": "execute_result"
    }
   ],
   "source": [
    "avg_cossim_class3 = np.mean(cosine_sim(real_class3,sampled3))\n",
    "avg_cossim_class3"
   ]
  },
  {
   "cell_type": "code",
   "execution_count": 28,
   "id": "a109223b",
   "metadata": {},
   "outputs": [
    {
     "data": {
      "text/plain": [
       "0.2807976334172057"
      ]
     },
     "execution_count": 28,
     "metadata": {},
     "output_type": "execute_result"
    }
   ],
   "source": [
    "(avg_cossim_class0 + avg_cossim_class1 +avg_cossim_class2 + avg_cossim_class3)/4"
   ]
  },
  {
   "cell_type": "code",
   "execution_count": null,
   "id": "3ec2b189",
   "metadata": {},
   "outputs": [],
   "source": []
  },
  {
   "cell_type": "code",
   "execution_count": null,
   "id": "a40811ed-3d0a-43e9-a984-f85740070fa8",
   "metadata": {},
   "outputs": [],
   "source": []
  },
  {
   "cell_type": "code",
   "execution_count": null,
   "id": "2068d9b5-fe20-4406-b32f-8268699a18f2",
   "metadata": {},
   "outputs": [],
   "source": []
  }
 ],
 "metadata": {
  "kernelspec": {
   "display_name": "Python 3 (ipykernel)",
   "language": "python",
   "name": "python3"
  },
  "language_info": {
   "codemirror_mode": {
    "name": "ipython",
    "version": 3
   },
   "file_extension": ".py",
   "mimetype": "text/x-python",
   "name": "python",
   "nbconvert_exporter": "python",
   "pygments_lexer": "ipython3",
   "version": "3.10.6"
  }
 },
 "nbformat": 4,
 "nbformat_minor": 5
}
