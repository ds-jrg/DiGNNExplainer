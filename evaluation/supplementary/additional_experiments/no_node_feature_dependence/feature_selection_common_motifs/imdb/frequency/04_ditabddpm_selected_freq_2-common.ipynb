{
 "cells": [
  {
   "cell_type": "code",
   "execution_count": 1,
   "id": "d41a5804",
   "metadata": {},
   "outputs": [],
   "source": [
    "# This code works in Python 3.10.6\n",
    "import os\n",
    "import os.path as osp\n",
    "from typing import Dict, List, Union\n",
    "\n",
    "import torch\n",
    "import torch.nn.functional as F\n",
    "from torch import nn\n",
    "import dgl\n",
    "import torch_geometric.transforms as T\n",
    "from torch_geometric.datasets import IMDB\n",
    "from torch_geometric.nn import HANConv\n",
    "from sklearn.feature_selection import VarianceThreshold\n",
    "\n",
    "import matplotlib.pyplot as plt\n",
    "import numpy as np\n",
    "import pandas as pd\n",
    "import networkx as nx\n",
    "from collections import Counter\n",
    "import random\n",
    "import seaborn as sns\n",
    "import torch_geometric.utils.convert\n",
    "from torch import optim\n",
    "from torch_geometric.data import HeteroData\n",
    "\n",
    "from torch_geometric.nn import HeteroConv, Linear, SAGEConv\n",
    "\n",
    "import warnings\n",
    "warnings.filterwarnings('ignore')"
   ]
  },
  {
   "cell_type": "markdown",
   "id": "bcabe090-5473-4aff-af21-a84e8f7f0f17",
   "metadata": {},
   "source": [
    "Create Metagraph"
   ]
  },
  {
   "cell_type": "code",
   "execution_count": 2,
   "id": "a38ea3ad-c994-41db-aacb-8300ced15702",
   "metadata": {},
   "outputs": [
    {
     "name": "stdout",
     "output_type": "stream",
     "text": [
      "HeteroData(\n",
      "  movie={\n",
      "    x=[4278, 3066],\n",
      "    y=[4278],\n",
      "    train_mask=[4278],\n",
      "    val_mask=[4278],\n",
      "    test_mask=[4278],\n",
      "  },\n",
      "  director={ x=[2081, 3066] },\n",
      "  actor={ x=[5257, 3066] },\n",
      "  (movie, to, director)={ edge_index=[2, 4278] },\n",
      "  (movie, to, actor)={ edge_index=[2, 12828] },\n",
      "  (director, to, movie)={ edge_index=[2, 4278] },\n",
      "  (actor, to, movie)={ edge_index=[2, 12828] }\n",
      ")\n"
     ]
    }
   ],
   "source": [
    "dataset = IMDB(root='./imdb_data')\n",
    "data = dataset[0]\n",
    "print(data)"
   ]
  },
  {
   "cell_type": "code",
   "execution_count": 3,
   "id": "5599f9fa-4a43-49c0-9a6b-adf1492f2251",
   "metadata": {},
   "outputs": [],
   "source": [
    "#Create metagraph\n",
    "g = torch_geometric.utils.convert.to_dgl(data)\n",
    "meta_g= g.metagraph()"
   ]
  },
  {
   "cell_type": "markdown",
   "id": "f94e7b35",
   "metadata": {},
   "source": [
    "Original IMDB dataset with all node features"
   ]
  },
  {
   "cell_type": "code",
   "execution_count": 4,
   "id": "a25e17c9",
   "metadata": {},
   "outputs": [
    {
     "name": "stdout",
     "output_type": "stream",
     "text": [
      "HeteroData(\n",
      "  movie={\n",
      "    x=[4278, 3066],\n",
      "    y=[4278],\n",
      "    train_mask=[4278],\n",
      "    val_mask=[4278],\n",
      "    test_mask=[4278],\n",
      "  },\n",
      "  director={ x=[2081, 3066] },\n",
      "  actor={ x=[5257, 3066] },\n",
      "  (movie, to, director)={ edge_index=[2, 4278] },\n",
      "  (movie, to, actor)={ edge_index=[2, 12828] },\n",
      "  (director, to, movie)={ edge_index=[2, 4278] },\n",
      "  (actor, to, movie)={ edge_index=[2, 12828] }\n",
      ")\n"
     ]
    }
   ],
   "source": [
    "dataset = IMDB(root='./imdb_data')\n",
    "data = dataset[0]\n",
    "print(data)"
   ]
  },
  {
   "cell_type": "code",
   "execution_count": 5,
   "id": "972e22fd-ae09-4d8f-9c61-5d10cefb27cb",
   "metadata": {},
   "outputs": [],
   "source": [
    "def feature_selection_var(X,threshold=0.0):\n",
    "    sel = VarianceThreshold(threshold=(threshold * (1 - threshold)))\n",
    "    fitted_X = sel.fit_transform(X)\n",
    "    imp_feat = pd.DataFrame(fitted_X)\n",
    "\n",
    "    return imp_feat"
   ]
  },
  {
   "cell_type": "code",
   "execution_count": 6,
   "id": "b442cc49",
   "metadata": {},
   "outputs": [
    {
     "data": {
      "text/html": [
       "<div>\n",
       "<style scoped>\n",
       "    .dataframe tbody tr th:only-of-type {\n",
       "        vertical-align: middle;\n",
       "    }\n",
       "\n",
       "    .dataframe tbody tr th {\n",
       "        vertical-align: top;\n",
       "    }\n",
       "\n",
       "    .dataframe thead th {\n",
       "        text-align: right;\n",
       "    }\n",
       "</style>\n",
       "<table border=\"1\" class=\"dataframe\">\n",
       "  <thead>\n",
       "    <tr style=\"text-align: right;\">\n",
       "      <th></th>\n",
       "      <th>0</th>\n",
       "      <th>1</th>\n",
       "    </tr>\n",
       "  </thead>\n",
       "  <tbody>\n",
       "    <tr>\n",
       "      <th>0</th>\n",
       "      <td>0.0</td>\n",
       "      <td>0.0</td>\n",
       "    </tr>\n",
       "    <tr>\n",
       "      <th>1</th>\n",
       "      <td>0.0</td>\n",
       "      <td>0.0</td>\n",
       "    </tr>\n",
       "    <tr>\n",
       "      <th>2</th>\n",
       "      <td>0.0</td>\n",
       "      <td>0.0</td>\n",
       "    </tr>\n",
       "    <tr>\n",
       "      <th>3</th>\n",
       "      <td>0.0</td>\n",
       "      <td>0.0</td>\n",
       "    </tr>\n",
       "    <tr>\n",
       "      <th>4</th>\n",
       "      <td>0.0</td>\n",
       "      <td>0.0</td>\n",
       "    </tr>\n",
       "    <tr>\n",
       "      <th>...</th>\n",
       "      <td>...</td>\n",
       "      <td>...</td>\n",
       "    </tr>\n",
       "    <tr>\n",
       "      <th>4273</th>\n",
       "      <td>0.0</td>\n",
       "      <td>0.0</td>\n",
       "    </tr>\n",
       "    <tr>\n",
       "      <th>4274</th>\n",
       "      <td>0.0</td>\n",
       "      <td>0.0</td>\n",
       "    </tr>\n",
       "    <tr>\n",
       "      <th>4275</th>\n",
       "      <td>0.0</td>\n",
       "      <td>0.0</td>\n",
       "    </tr>\n",
       "    <tr>\n",
       "      <th>4276</th>\n",
       "      <td>0.0</td>\n",
       "      <td>0.0</td>\n",
       "    </tr>\n",
       "    <tr>\n",
       "      <th>4277</th>\n",
       "      <td>0.0</td>\n",
       "      <td>0.0</td>\n",
       "    </tr>\n",
       "  </tbody>\n",
       "</table>\n",
       "<p>4278 rows × 2 columns</p>\n",
       "</div>"
      ],
      "text/plain": [
       "        0    1\n",
       "0     0.0  0.0\n",
       "1     0.0  0.0\n",
       "2     0.0  0.0\n",
       "3     0.0  0.0\n",
       "4     0.0  0.0\n",
       "...   ...  ...\n",
       "4273  0.0  0.0\n",
       "4274  0.0  0.0\n",
       "4275  0.0  0.0\n",
       "4276  0.0  0.0\n",
       "4277  0.0  0.0\n",
       "\n",
       "[4278 rows x 2 columns]"
      ]
     },
     "execution_count": 6,
     "metadata": {},
     "output_type": "execute_result"
    }
   ],
   "source": [
    "#all classes\n",
    "# Feature selection for Movie node\n",
    "imp_feat = feature_selection_var(data['movie'].x, threshold=0.912)\n",
    "imp_feat"
   ]
  },
  {
   "cell_type": "code",
   "execution_count": 7,
   "id": "682aa632",
   "metadata": {},
   "outputs": [],
   "source": [
    "data['movie'].x = torch.tensor(imp_feat.values).to(dtype=torch.float32)"
   ]
  },
  {
   "cell_type": "markdown",
   "id": "defd1919",
   "metadata": {},
   "source": [
    "Dataset with selected node features used for GNN training"
   ]
  },
  {
   "cell_type": "code",
   "execution_count": 8,
   "id": "63d0fe89",
   "metadata": {},
   "outputs": [
    {
     "data": {
      "text/plain": [
       "HeteroData(\n",
       "  movie={\n",
       "    x=[4278, 2],\n",
       "    y=[4278],\n",
       "    train_mask=[4278],\n",
       "    val_mask=[4278],\n",
       "    test_mask=[4278],\n",
       "  },\n",
       "  director={ x=[2081, 3066] },\n",
       "  actor={ x=[5257, 3066] },\n",
       "  (movie, to, director)={ edge_index=[2, 4278] },\n",
       "  (movie, to, actor)={ edge_index=[2, 12828] },\n",
       "  (director, to, movie)={ edge_index=[2, 4278] },\n",
       "  (actor, to, movie)={ edge_index=[2, 12828] }\n",
       ")"
      ]
     },
     "execution_count": 8,
     "metadata": {},
     "output_type": "execute_result"
    }
   ],
   "source": [
    "data"
   ]
  },
  {
   "cell_type": "code",
   "execution_count": 9,
   "id": "ed9f02b1",
   "metadata": {},
   "outputs": [],
   "source": [
    "#https://github.com/pyg-team/pytorch_geometric/blob/master/examples/hetero/han_imdb.py\n",
    "class HAN(nn.Module):\n",
    "    def __init__(self, in_channels: Union[int, Dict[str, int]],\n",
    "                 out_channels: int, hidden_channels=128, heads=8):\n",
    "        super().__init__()\n",
    "        self.han_conv = HANConv(in_channels, hidden_channels, heads=heads,\n",
    "                                dropout=0.6, metadata=data.metadata())\n",
    "        self.lin = nn.Linear(hidden_channels, out_channels)\n",
    "\n",
    "    def forward(self, x_dict, edge_index_dict):\n",
    "        out = self.han_conv(x_dict, edge_index_dict)\n",
    "        out = self.lin(out['movie'])\n",
    "        return out\n",
    "\n",
    "def train() -> float:\n",
    "    model.train()\n",
    "    optimizer.zero_grad()\n",
    "    out = model(data.x_dict, data.edge_index_dict)\n",
    "    mask = data['movie'].train_mask\n",
    "    loss = F.cross_entropy(out[mask], data['movie'].y[mask])\n",
    "    loss.backward()\n",
    "    optimizer.step()\n",
    "    return float(loss)\n",
    "\n",
    "\n",
    "@torch.no_grad()\n",
    "def test() -> List[float]:\n",
    "    model.eval()\n",
    "    pred = model(data.x_dict, data.edge_index_dict).argmax(dim=-1)\n",
    "\n",
    "    accs = []\n",
    "    for split in ['train_mask', 'val_mask', 'test_mask']:\n",
    "        mask = data['movie'][split]\n",
    "        acc = (pred[mask] == data['movie'].y[mask]).sum() / mask.sum()\n",
    "        accs.append(float(acc))\n",
    "    return accs\n"
   ]
  },
  {
   "cell_type": "code",
   "execution_count": 10,
   "id": "524a8098",
   "metadata": {},
   "outputs": [],
   "source": [
    "import random\n",
    "def apply_threshold(df):\n",
    "    return df.applymap(lambda x: random.uniform(-1.0, 0.0) if x == 0.0 else random.uniform(0.1, 1.0))"
   ]
  },
  {
   "cell_type": "code",
   "execution_count": 11,
   "id": "c1ccc7cf-cc01-4a17-84af-518ed1c87968",
   "metadata": {},
   "outputs": [],
   "source": [
    "#Reading from files, the generated node features using diffusion\n",
    "class_path = '../../../../../../../graph generator/diffusion models/sampled_features_diffusion/no_dependence/discrete_diffusion/imdb/frequency/'\n",
    "\n",
    "class0  = pd.DataFrame(torch.load(class_path + 'movie0_2feat.pt').cpu().numpy())\n",
    "class1  = pd.DataFrame(torch.load(class_path + 'movie1_2feat.pt').cpu().numpy())\n",
    "class2  = pd.DataFrame(torch.load(class_path + 'movie2_2feat.pt').cpu().numpy())\n",
    "#Download from https://drive.google.com/file/d/1cYWwO4WgfafH3G0bOw69DQsLAFUiJs-5/view in the current folder location and reference the files director_tabddpm.npy, actor_tabddpm.npy as below\n",
    "tabddpm_path = '../../../../../../../graph generator/diffusion models/sampled_features_diffusion/no_dependence/tabddpm/imdb/'\n",
    "\n",
    "director  = pd.DataFrame(np.load(tabddpm_path + 'imdb_features_tabddpm/imdb/director_tabddpm.npy',allow_pickle=True))\n",
    "actor  = pd.DataFrame(np.load(tabddpm_path + 'imdb_features_tabddpm/imdb/actor_tabddpm.npy',allow_pickle=True))\n",
    "\n",
    "df_class0=class0.reset_index(drop=True)\n",
    "df_class1=class1.reset_index(drop=True)\n",
    "df_class2=class2.reset_index(drop=True)"
   ]
  },
  {
   "cell_type": "code",
   "execution_count": 12,
   "id": "a21395d4-0a72-4645-8656-12db70af3bd4",
   "metadata": {},
   "outputs": [
    {
     "data": {
      "text/html": [
       "<div>\n",
       "<style scoped>\n",
       "    .dataframe tbody tr th:only-of-type {\n",
       "        vertical-align: middle;\n",
       "    }\n",
       "\n",
       "    .dataframe tbody tr th {\n",
       "        vertical-align: top;\n",
       "    }\n",
       "\n",
       "    .dataframe thead th {\n",
       "        text-align: right;\n",
       "    }\n",
       "</style>\n",
       "<table border=\"1\" class=\"dataframe\">\n",
       "  <thead>\n",
       "    <tr style=\"text-align: right;\">\n",
       "      <th></th>\n",
       "      <th>0</th>\n",
       "      <th>1</th>\n",
       "      <th>2</th>\n",
       "      <th>3</th>\n",
       "      <th>4</th>\n",
       "      <th>5</th>\n",
       "      <th>6</th>\n",
       "      <th>7</th>\n",
       "      <th>8</th>\n",
       "      <th>9</th>\n",
       "      <th>...</th>\n",
       "      <th>3056</th>\n",
       "      <th>3057</th>\n",
       "      <th>3058</th>\n",
       "      <th>3059</th>\n",
       "      <th>3060</th>\n",
       "      <th>3061</th>\n",
       "      <th>3062</th>\n",
       "      <th>3063</th>\n",
       "      <th>3064</th>\n",
       "      <th>3065</th>\n",
       "    </tr>\n",
       "  </thead>\n",
       "  <tbody>\n",
       "    <tr>\n",
       "      <th>0</th>\n",
       "      <td>1.0</td>\n",
       "      <td>0.0</td>\n",
       "      <td>0.0</td>\n",
       "      <td>1.0</td>\n",
       "      <td>0.0</td>\n",
       "      <td>1.0</td>\n",
       "      <td>0.142857</td>\n",
       "      <td>0.0</td>\n",
       "      <td>0.0</td>\n",
       "      <td>1.0</td>\n",
       "      <td>...</td>\n",
       "      <td>0.0</td>\n",
       "      <td>1.0</td>\n",
       "      <td>1.0</td>\n",
       "      <td>0.0</td>\n",
       "      <td>0.0</td>\n",
       "      <td>0.0</td>\n",
       "      <td>0.666667</td>\n",
       "      <td>0.0</td>\n",
       "      <td>0.000000</td>\n",
       "      <td>1.0</td>\n",
       "    </tr>\n",
       "    <tr>\n",
       "      <th>1</th>\n",
       "      <td>0.0</td>\n",
       "      <td>0.0</td>\n",
       "      <td>0.0</td>\n",
       "      <td>0.0</td>\n",
       "      <td>1.0</td>\n",
       "      <td>0.0</td>\n",
       "      <td>0.000000</td>\n",
       "      <td>0.0</td>\n",
       "      <td>1.0</td>\n",
       "      <td>0.0</td>\n",
       "      <td>...</td>\n",
       "      <td>0.0</td>\n",
       "      <td>0.0</td>\n",
       "      <td>1.0</td>\n",
       "      <td>0.0</td>\n",
       "      <td>1.0</td>\n",
       "      <td>0.0</td>\n",
       "      <td>0.666667</td>\n",
       "      <td>0.0</td>\n",
       "      <td>0.000000</td>\n",
       "      <td>1.0</td>\n",
       "    </tr>\n",
       "    <tr>\n",
       "      <th>2</th>\n",
       "      <td>0.0</td>\n",
       "      <td>1.0</td>\n",
       "      <td>0.0</td>\n",
       "      <td>0.0</td>\n",
       "      <td>0.0</td>\n",
       "      <td>0.0</td>\n",
       "      <td>0.142857</td>\n",
       "      <td>1.0</td>\n",
       "      <td>1.0</td>\n",
       "      <td>1.0</td>\n",
       "      <td>...</td>\n",
       "      <td>0.0</td>\n",
       "      <td>0.0</td>\n",
       "      <td>1.0</td>\n",
       "      <td>0.0</td>\n",
       "      <td>1.0</td>\n",
       "      <td>1.0</td>\n",
       "      <td>0.666667</td>\n",
       "      <td>3.0</td>\n",
       "      <td>0.333333</td>\n",
       "      <td>1.0</td>\n",
       "    </tr>\n",
       "    <tr>\n",
       "      <th>3</th>\n",
       "      <td>0.0</td>\n",
       "      <td>0.0</td>\n",
       "      <td>1.0</td>\n",
       "      <td>1.0</td>\n",
       "      <td>0.0</td>\n",
       "      <td>0.0</td>\n",
       "      <td>0.142857</td>\n",
       "      <td>1.0</td>\n",
       "      <td>0.0</td>\n",
       "      <td>1.0</td>\n",
       "      <td>...</td>\n",
       "      <td>1.0</td>\n",
       "      <td>0.0</td>\n",
       "      <td>1.0</td>\n",
       "      <td>0.0</td>\n",
       "      <td>0.0</td>\n",
       "      <td>0.0</td>\n",
       "      <td>0.000000</td>\n",
       "      <td>3.0</td>\n",
       "      <td>0.333333</td>\n",
       "      <td>0.0</td>\n",
       "    </tr>\n",
       "    <tr>\n",
       "      <th>4</th>\n",
       "      <td>0.0</td>\n",
       "      <td>0.0</td>\n",
       "      <td>0.0</td>\n",
       "      <td>1.0</td>\n",
       "      <td>1.0</td>\n",
       "      <td>0.0</td>\n",
       "      <td>0.142857</td>\n",
       "      <td>0.0</td>\n",
       "      <td>0.0</td>\n",
       "      <td>0.0</td>\n",
       "      <td>...</td>\n",
       "      <td>0.0</td>\n",
       "      <td>0.0</td>\n",
       "      <td>1.0</td>\n",
       "      <td>0.0</td>\n",
       "      <td>1.0</td>\n",
       "      <td>0.0</td>\n",
       "      <td>0.666667</td>\n",
       "      <td>0.0</td>\n",
       "      <td>0.333333</td>\n",
       "      <td>1.0</td>\n",
       "    </tr>\n",
       "    <tr>\n",
       "      <th>...</th>\n",
       "      <td>...</td>\n",
       "      <td>...</td>\n",
       "      <td>...</td>\n",
       "      <td>...</td>\n",
       "      <td>...</td>\n",
       "      <td>...</td>\n",
       "      <td>...</td>\n",
       "      <td>...</td>\n",
       "      <td>...</td>\n",
       "      <td>...</td>\n",
       "      <td>...</td>\n",
       "      <td>...</td>\n",
       "      <td>...</td>\n",
       "      <td>...</td>\n",
       "      <td>...</td>\n",
       "      <td>...</td>\n",
       "      <td>...</td>\n",
       "      <td>...</td>\n",
       "      <td>...</td>\n",
       "      <td>...</td>\n",
       "      <td>...</td>\n",
       "    </tr>\n",
       "    <tr>\n",
       "      <th>5252</th>\n",
       "      <td>0.0</td>\n",
       "      <td>0.0</td>\n",
       "      <td>1.0</td>\n",
       "      <td>0.0</td>\n",
       "      <td>0.0</td>\n",
       "      <td>0.0</td>\n",
       "      <td>0.142857</td>\n",
       "      <td>0.0</td>\n",
       "      <td>0.0</td>\n",
       "      <td>0.0</td>\n",
       "      <td>...</td>\n",
       "      <td>0.0</td>\n",
       "      <td>0.0</td>\n",
       "      <td>0.0</td>\n",
       "      <td>0.0</td>\n",
       "      <td>1.0</td>\n",
       "      <td>1.0</td>\n",
       "      <td>0.666667</td>\n",
       "      <td>3.0</td>\n",
       "      <td>0.000000</td>\n",
       "      <td>0.0</td>\n",
       "    </tr>\n",
       "    <tr>\n",
       "      <th>5253</th>\n",
       "      <td>0.0</td>\n",
       "      <td>1.0</td>\n",
       "      <td>0.0</td>\n",
       "      <td>1.0</td>\n",
       "      <td>0.0</td>\n",
       "      <td>0.0</td>\n",
       "      <td>0.000000</td>\n",
       "      <td>0.0</td>\n",
       "      <td>1.0</td>\n",
       "      <td>0.0</td>\n",
       "      <td>...</td>\n",
       "      <td>0.0</td>\n",
       "      <td>0.0</td>\n",
       "      <td>0.0</td>\n",
       "      <td>0.0</td>\n",
       "      <td>1.0</td>\n",
       "      <td>1.0</td>\n",
       "      <td>0.666667</td>\n",
       "      <td>3.0</td>\n",
       "      <td>0.000000</td>\n",
       "      <td>0.0</td>\n",
       "    </tr>\n",
       "    <tr>\n",
       "      <th>5254</th>\n",
       "      <td>0.0</td>\n",
       "      <td>1.0</td>\n",
       "      <td>1.0</td>\n",
       "      <td>1.0</td>\n",
       "      <td>1.0</td>\n",
       "      <td>1.0</td>\n",
       "      <td>0.000000</td>\n",
       "      <td>0.0</td>\n",
       "      <td>1.0</td>\n",
       "      <td>0.0</td>\n",
       "      <td>...</td>\n",
       "      <td>1.0</td>\n",
       "      <td>1.0</td>\n",
       "      <td>1.0</td>\n",
       "      <td>0.0</td>\n",
       "      <td>0.0</td>\n",
       "      <td>1.0</td>\n",
       "      <td>0.666667</td>\n",
       "      <td>0.0</td>\n",
       "      <td>0.333333</td>\n",
       "      <td>0.0</td>\n",
       "    </tr>\n",
       "    <tr>\n",
       "      <th>5255</th>\n",
       "      <td>0.0</td>\n",
       "      <td>0.0</td>\n",
       "      <td>1.0</td>\n",
       "      <td>1.0</td>\n",
       "      <td>0.0</td>\n",
       "      <td>1.0</td>\n",
       "      <td>0.142857</td>\n",
       "      <td>1.0</td>\n",
       "      <td>0.0</td>\n",
       "      <td>1.0</td>\n",
       "      <td>...</td>\n",
       "      <td>1.0</td>\n",
       "      <td>0.0</td>\n",
       "      <td>0.0</td>\n",
       "      <td>0.0</td>\n",
       "      <td>1.0</td>\n",
       "      <td>0.0</td>\n",
       "      <td>0.000000</td>\n",
       "      <td>3.0</td>\n",
       "      <td>0.000000</td>\n",
       "      <td>0.0</td>\n",
       "    </tr>\n",
       "    <tr>\n",
       "      <th>5256</th>\n",
       "      <td>0.0</td>\n",
       "      <td>1.0</td>\n",
       "      <td>1.0</td>\n",
       "      <td>1.0</td>\n",
       "      <td>1.0</td>\n",
       "      <td>0.0</td>\n",
       "      <td>0.142857</td>\n",
       "      <td>1.0</td>\n",
       "      <td>0.0</td>\n",
       "      <td>0.0</td>\n",
       "      <td>...</td>\n",
       "      <td>0.0</td>\n",
       "      <td>0.0</td>\n",
       "      <td>0.0</td>\n",
       "      <td>0.0</td>\n",
       "      <td>0.0</td>\n",
       "      <td>1.0</td>\n",
       "      <td>0.000000</td>\n",
       "      <td>0.0</td>\n",
       "      <td>0.333333</td>\n",
       "      <td>1.0</td>\n",
       "    </tr>\n",
       "  </tbody>\n",
       "</table>\n",
       "<p>5257 rows × 3066 columns</p>\n",
       "</div>"
      ],
      "text/plain": [
       "      0     1     2     3     4     5         6     7     8     9     ...  \\\n",
       "0      1.0   0.0   0.0   1.0   0.0   1.0  0.142857   0.0   0.0   1.0  ...   \n",
       "1      0.0   0.0   0.0   0.0   1.0   0.0  0.000000   0.0   1.0   0.0  ...   \n",
       "2      0.0   1.0   0.0   0.0   0.0   0.0  0.142857   1.0   1.0   1.0  ...   \n",
       "3      0.0   0.0   1.0   1.0   0.0   0.0  0.142857   1.0   0.0   1.0  ...   \n",
       "4      0.0   0.0   0.0   1.0   1.0   0.0  0.142857   0.0   0.0   0.0  ...   \n",
       "...    ...   ...   ...   ...   ...   ...       ...   ...   ...   ...  ...   \n",
       "5252   0.0   0.0   1.0   0.0   0.0   0.0  0.142857   0.0   0.0   0.0  ...   \n",
       "5253   0.0   1.0   0.0   1.0   0.0   0.0  0.000000   0.0   1.0   0.0  ...   \n",
       "5254   0.0   1.0   1.0   1.0   1.0   1.0  0.000000   0.0   1.0   0.0  ...   \n",
       "5255   0.0   0.0   1.0   1.0   0.0   1.0  0.142857   1.0   0.0   1.0  ...   \n",
       "5256   0.0   1.0   1.0   1.0   1.0   0.0  0.142857   1.0   0.0   0.0  ...   \n",
       "\n",
       "      3056  3057  3058  3059  3060  3061      3062  3063      3064  3065  \n",
       "0      0.0   1.0   1.0   0.0   0.0   0.0  0.666667   0.0  0.000000   1.0  \n",
       "1      0.0   0.0   1.0   0.0   1.0   0.0  0.666667   0.0  0.000000   1.0  \n",
       "2      0.0   0.0   1.0   0.0   1.0   1.0  0.666667   3.0  0.333333   1.0  \n",
       "3      1.0   0.0   1.0   0.0   0.0   0.0  0.000000   3.0  0.333333   0.0  \n",
       "4      0.0   0.0   1.0   0.0   1.0   0.0  0.666667   0.0  0.333333   1.0  \n",
       "...    ...   ...   ...   ...   ...   ...       ...   ...       ...   ...  \n",
       "5252   0.0   0.0   0.0   0.0   1.0   1.0  0.666667   3.0  0.000000   0.0  \n",
       "5253   0.0   0.0   0.0   0.0   1.0   1.0  0.666667   3.0  0.000000   0.0  \n",
       "5254   1.0   1.0   1.0   0.0   0.0   1.0  0.666667   0.0  0.333333   0.0  \n",
       "5255   1.0   0.0   0.0   0.0   1.0   0.0  0.000000   3.0  0.000000   0.0  \n",
       "5256   0.0   0.0   0.0   0.0   0.0   1.0  0.000000   0.0  0.333333   1.0  \n",
       "\n",
       "[5257 rows x 3066 columns]"
      ]
     },
     "execution_count": 12,
     "metadata": {},
     "output_type": "execute_result"
    }
   ],
   "source": [
    "actor"
   ]
  },
  {
   "cell_type": "code",
   "execution_count": 13,
   "id": "d51c1cfc-f2e3-48b1-8de4-7c85a0442377",
   "metadata": {},
   "outputs": [
    {
     "data": {
      "text/html": [
       "<div>\n",
       "<style scoped>\n",
       "    .dataframe tbody tr th:only-of-type {\n",
       "        vertical-align: middle;\n",
       "    }\n",
       "\n",
       "    .dataframe tbody tr th {\n",
       "        vertical-align: top;\n",
       "    }\n",
       "\n",
       "    .dataframe thead th {\n",
       "        text-align: right;\n",
       "    }\n",
       "</style>\n",
       "<table border=\"1\" class=\"dataframe\">\n",
       "  <thead>\n",
       "    <tr style=\"text-align: right;\">\n",
       "      <th></th>\n",
       "      <th>0</th>\n",
       "      <th>1</th>\n",
       "      <th>2</th>\n",
       "      <th>3</th>\n",
       "      <th>4</th>\n",
       "      <th>5</th>\n",
       "      <th>6</th>\n",
       "      <th>7</th>\n",
       "      <th>8</th>\n",
       "      <th>9</th>\n",
       "      <th>...</th>\n",
       "      <th>3056</th>\n",
       "      <th>3057</th>\n",
       "      <th>3058</th>\n",
       "      <th>3059</th>\n",
       "      <th>3060</th>\n",
       "      <th>3061</th>\n",
       "      <th>3062</th>\n",
       "      <th>3063</th>\n",
       "      <th>3064</th>\n",
       "      <th>3065</th>\n",
       "    </tr>\n",
       "  </thead>\n",
       "  <tbody>\n",
       "    <tr>\n",
       "      <th>0</th>\n",
       "      <td>0.2</td>\n",
       "      <td>0.0</td>\n",
       "      <td>0.000000</td>\n",
       "      <td>1.0</td>\n",
       "      <td>0.00</td>\n",
       "      <td>0.5</td>\n",
       "      <td>1.0</td>\n",
       "      <td>0.0</td>\n",
       "      <td>0.0</td>\n",
       "      <td>0.5</td>\n",
       "      <td>...</td>\n",
       "      <td>0.0</td>\n",
       "      <td>1.0</td>\n",
       "      <td>1.0</td>\n",
       "      <td>0.0</td>\n",
       "      <td>0.0</td>\n",
       "      <td>0.0</td>\n",
       "      <td>0.333333</td>\n",
       "      <td>0.0</td>\n",
       "      <td>0.0</td>\n",
       "      <td>0.222222</td>\n",
       "    </tr>\n",
       "    <tr>\n",
       "      <th>1</th>\n",
       "      <td>0.0</td>\n",
       "      <td>0.0</td>\n",
       "      <td>0.000000</td>\n",
       "      <td>0.0</td>\n",
       "      <td>0.25</td>\n",
       "      <td>0.0</td>\n",
       "      <td>0.0</td>\n",
       "      <td>0.0</td>\n",
       "      <td>1.0</td>\n",
       "      <td>0.0</td>\n",
       "      <td>...</td>\n",
       "      <td>0.0</td>\n",
       "      <td>0.0</td>\n",
       "      <td>1.0</td>\n",
       "      <td>0.0</td>\n",
       "      <td>1.0</td>\n",
       "      <td>0.0</td>\n",
       "      <td>0.333333</td>\n",
       "      <td>0.0</td>\n",
       "      <td>0.0</td>\n",
       "      <td>0.222222</td>\n",
       "    </tr>\n",
       "    <tr>\n",
       "      <th>2</th>\n",
       "      <td>0.0</td>\n",
       "      <td>1.0</td>\n",
       "      <td>0.000000</td>\n",
       "      <td>0.0</td>\n",
       "      <td>0.00</td>\n",
       "      <td>0.0</td>\n",
       "      <td>1.0</td>\n",
       "      <td>0.5</td>\n",
       "      <td>1.0</td>\n",
       "      <td>0.5</td>\n",
       "      <td>...</td>\n",
       "      <td>0.0</td>\n",
       "      <td>0.0</td>\n",
       "      <td>1.0</td>\n",
       "      <td>0.0</td>\n",
       "      <td>1.0</td>\n",
       "      <td>0.5</td>\n",
       "      <td>0.333333</td>\n",
       "      <td>2.0</td>\n",
       "      <td>0.4</td>\n",
       "      <td>0.222222</td>\n",
       "    </tr>\n",
       "    <tr>\n",
       "      <th>3</th>\n",
       "      <td>0.0</td>\n",
       "      <td>0.0</td>\n",
       "      <td>0.333333</td>\n",
       "      <td>1.0</td>\n",
       "      <td>0.00</td>\n",
       "      <td>0.0</td>\n",
       "      <td>1.0</td>\n",
       "      <td>0.5</td>\n",
       "      <td>0.0</td>\n",
       "      <td>0.5</td>\n",
       "      <td>...</td>\n",
       "      <td>1.0</td>\n",
       "      <td>0.0</td>\n",
       "      <td>1.0</td>\n",
       "      <td>0.0</td>\n",
       "      <td>0.0</td>\n",
       "      <td>0.0</td>\n",
       "      <td>0.000000</td>\n",
       "      <td>2.0</td>\n",
       "      <td>0.4</td>\n",
       "      <td>0.000000</td>\n",
       "    </tr>\n",
       "    <tr>\n",
       "      <th>4</th>\n",
       "      <td>0.0</td>\n",
       "      <td>0.0</td>\n",
       "      <td>0.000000</td>\n",
       "      <td>1.0</td>\n",
       "      <td>0.25</td>\n",
       "      <td>0.0</td>\n",
       "      <td>1.0</td>\n",
       "      <td>0.0</td>\n",
       "      <td>0.0</td>\n",
       "      <td>0.0</td>\n",
       "      <td>...</td>\n",
       "      <td>0.0</td>\n",
       "      <td>0.0</td>\n",
       "      <td>1.0</td>\n",
       "      <td>0.0</td>\n",
       "      <td>1.0</td>\n",
       "      <td>0.0</td>\n",
       "      <td>0.333333</td>\n",
       "      <td>0.0</td>\n",
       "      <td>0.4</td>\n",
       "      <td>0.222222</td>\n",
       "    </tr>\n",
       "    <tr>\n",
       "      <th>...</th>\n",
       "      <td>...</td>\n",
       "      <td>...</td>\n",
       "      <td>...</td>\n",
       "      <td>...</td>\n",
       "      <td>...</td>\n",
       "      <td>...</td>\n",
       "      <td>...</td>\n",
       "      <td>...</td>\n",
       "      <td>...</td>\n",
       "      <td>...</td>\n",
       "      <td>...</td>\n",
       "      <td>...</td>\n",
       "      <td>...</td>\n",
       "      <td>...</td>\n",
       "      <td>...</td>\n",
       "      <td>...</td>\n",
       "      <td>...</td>\n",
       "      <td>...</td>\n",
       "      <td>...</td>\n",
       "      <td>...</td>\n",
       "      <td>...</td>\n",
       "    </tr>\n",
       "    <tr>\n",
       "      <th>2076</th>\n",
       "      <td>0.2</td>\n",
       "      <td>0.0</td>\n",
       "      <td>0.000000</td>\n",
       "      <td>0.0</td>\n",
       "      <td>0.25</td>\n",
       "      <td>0.0</td>\n",
       "      <td>1.0</td>\n",
       "      <td>0.0</td>\n",
       "      <td>1.0</td>\n",
       "      <td>0.5</td>\n",
       "      <td>...</td>\n",
       "      <td>0.0</td>\n",
       "      <td>1.0</td>\n",
       "      <td>1.0</td>\n",
       "      <td>1.0</td>\n",
       "      <td>1.0</td>\n",
       "      <td>0.0</td>\n",
       "      <td>0.333333</td>\n",
       "      <td>2.0</td>\n",
       "      <td>0.4</td>\n",
       "      <td>0.222222</td>\n",
       "    </tr>\n",
       "    <tr>\n",
       "      <th>2077</th>\n",
       "      <td>0.2</td>\n",
       "      <td>0.0</td>\n",
       "      <td>0.333333</td>\n",
       "      <td>1.0</td>\n",
       "      <td>0.00</td>\n",
       "      <td>0.5</td>\n",
       "      <td>1.0</td>\n",
       "      <td>0.0</td>\n",
       "      <td>1.0</td>\n",
       "      <td>0.5</td>\n",
       "      <td>...</td>\n",
       "      <td>0.0</td>\n",
       "      <td>1.0</td>\n",
       "      <td>1.0</td>\n",
       "      <td>0.0</td>\n",
       "      <td>1.0</td>\n",
       "      <td>0.0</td>\n",
       "      <td>0.333333</td>\n",
       "      <td>0.0</td>\n",
       "      <td>0.0</td>\n",
       "      <td>0.222222</td>\n",
       "    </tr>\n",
       "    <tr>\n",
       "      <th>2078</th>\n",
       "      <td>0.2</td>\n",
       "      <td>0.0</td>\n",
       "      <td>0.000000</td>\n",
       "      <td>0.0</td>\n",
       "      <td>0.25</td>\n",
       "      <td>0.5</td>\n",
       "      <td>1.0</td>\n",
       "      <td>0.5</td>\n",
       "      <td>0.0</td>\n",
       "      <td>0.5</td>\n",
       "      <td>...</td>\n",
       "      <td>1.0</td>\n",
       "      <td>0.0</td>\n",
       "      <td>1.0</td>\n",
       "      <td>1.0</td>\n",
       "      <td>0.0</td>\n",
       "      <td>0.5</td>\n",
       "      <td>0.000000</td>\n",
       "      <td>0.0</td>\n",
       "      <td>0.0</td>\n",
       "      <td>0.222222</td>\n",
       "    </tr>\n",
       "    <tr>\n",
       "      <th>2079</th>\n",
       "      <td>0.2</td>\n",
       "      <td>0.0</td>\n",
       "      <td>0.000000</td>\n",
       "      <td>1.0</td>\n",
       "      <td>0.25</td>\n",
       "      <td>0.5</td>\n",
       "      <td>1.0</td>\n",
       "      <td>0.0</td>\n",
       "      <td>1.0</td>\n",
       "      <td>0.5</td>\n",
       "      <td>...</td>\n",
       "      <td>0.0</td>\n",
       "      <td>1.0</td>\n",
       "      <td>0.0</td>\n",
       "      <td>0.0</td>\n",
       "      <td>0.0</td>\n",
       "      <td>0.0</td>\n",
       "      <td>0.333333</td>\n",
       "      <td>2.0</td>\n",
       "      <td>0.0</td>\n",
       "      <td>0.000000</td>\n",
       "    </tr>\n",
       "    <tr>\n",
       "      <th>2080</th>\n",
       "      <td>0.2</td>\n",
       "      <td>0.0</td>\n",
       "      <td>0.000000</td>\n",
       "      <td>0.0</td>\n",
       "      <td>0.25</td>\n",
       "      <td>0.5</td>\n",
       "      <td>1.0</td>\n",
       "      <td>0.0</td>\n",
       "      <td>1.0</td>\n",
       "      <td>0.5</td>\n",
       "      <td>...</td>\n",
       "      <td>1.0</td>\n",
       "      <td>1.0</td>\n",
       "      <td>0.0</td>\n",
       "      <td>1.0</td>\n",
       "      <td>0.0</td>\n",
       "      <td>0.0</td>\n",
       "      <td>0.333333</td>\n",
       "      <td>2.0</td>\n",
       "      <td>0.4</td>\n",
       "      <td>0.000000</td>\n",
       "    </tr>\n",
       "  </tbody>\n",
       "</table>\n",
       "<p>2081 rows × 3066 columns</p>\n",
       "</div>"
      ],
      "text/plain": [
       "      0     1         2     3     4     5     6     7     8     9     ...  \\\n",
       "0      0.2   0.0  0.000000   1.0  0.00   0.5   1.0   0.0   0.0   0.5  ...   \n",
       "1      0.0   0.0  0.000000   0.0  0.25   0.0   0.0   0.0   1.0   0.0  ...   \n",
       "2      0.0   1.0  0.000000   0.0  0.00   0.0   1.0   0.5   1.0   0.5  ...   \n",
       "3      0.0   0.0  0.333333   1.0  0.00   0.0   1.0   0.5   0.0   0.5  ...   \n",
       "4      0.0   0.0  0.000000   1.0  0.25   0.0   1.0   0.0   0.0   0.0  ...   \n",
       "...    ...   ...       ...   ...   ...   ...   ...   ...   ...   ...  ...   \n",
       "2076   0.2   0.0  0.000000   0.0  0.25   0.0   1.0   0.0   1.0   0.5  ...   \n",
       "2077   0.2   0.0  0.333333   1.0  0.00   0.5   1.0   0.0   1.0   0.5  ...   \n",
       "2078   0.2   0.0  0.000000   0.0  0.25   0.5   1.0   0.5   0.0   0.5  ...   \n",
       "2079   0.2   0.0  0.000000   1.0  0.25   0.5   1.0   0.0   1.0   0.5  ...   \n",
       "2080   0.2   0.0  0.000000   0.0  0.25   0.5   1.0   0.0   1.0   0.5  ...   \n",
       "\n",
       "      3056  3057  3058  3059  3060  3061      3062  3063  3064      3065  \n",
       "0      0.0   1.0   1.0   0.0   0.0   0.0  0.333333   0.0   0.0  0.222222  \n",
       "1      0.0   0.0   1.0   0.0   1.0   0.0  0.333333   0.0   0.0  0.222222  \n",
       "2      0.0   0.0   1.0   0.0   1.0   0.5  0.333333   2.0   0.4  0.222222  \n",
       "3      1.0   0.0   1.0   0.0   0.0   0.0  0.000000   2.0   0.4  0.000000  \n",
       "4      0.0   0.0   1.0   0.0   1.0   0.0  0.333333   0.0   0.4  0.222222  \n",
       "...    ...   ...   ...   ...   ...   ...       ...   ...   ...       ...  \n",
       "2076   0.0   1.0   1.0   1.0   1.0   0.0  0.333333   2.0   0.4  0.222222  \n",
       "2077   0.0   1.0   1.0   0.0   1.0   0.0  0.333333   0.0   0.0  0.222222  \n",
       "2078   1.0   0.0   1.0   1.0   0.0   0.5  0.000000   0.0   0.0  0.222222  \n",
       "2079   0.0   1.0   0.0   0.0   0.0   0.0  0.333333   2.0   0.0  0.000000  \n",
       "2080   1.0   1.0   0.0   1.0   0.0   0.0  0.333333   2.0   0.4  0.000000  \n",
       "\n",
       "[2081 rows x 3066 columns]"
      ]
     },
     "execution_count": 13,
     "metadata": {},
     "output_type": "execute_result"
    }
   ],
   "source": [
    "director"
   ]
  },
  {
   "cell_type": "code",
   "execution_count": 14,
   "id": "26797a60",
   "metadata": {},
   "outputs": [],
   "source": [
    "def get_node_features(G):\n",
    "    nodes = []\n",
    "    director_node_features = []\n",
    "    movie_node_features = []\n",
    "    movie_class = []\n",
    "    actor_node_features = []\n",
    "\n",
    "    for key, value in G.nodes(data=True):\n",
    "\n",
    "        nodes.append(key)\n",
    "        edges = [e for e in G.edges]\n",
    "        node_id = G.nodes[key][\"label\"]\n",
    "        node_type = G.nodes[key][\"node_type\"]\n",
    "        if node_type == 0:\n",
    "\n",
    "            node_id = G.nodes[key][\"label\"]\n",
    "\n",
    "            director_node = director.loc[int(node_id), :].values.flatten().tolist()\n",
    "            director_node_features.append(director_node)\n",
    "        elif node_type == 2:\n",
    "\n",
    "            node_class = random.choice([0, 1, 2])\n",
    "\n",
    "            if node_class == 0:\n",
    "                \n",
    "                movie_node = df_class0.loc[int(node_id), :].values.flatten().tolist()\n",
    "                movie_class.append(0)\n",
    "                movie_node_features.append(movie_node)\n",
    "                \n",
    "            elif node_class == 1:\n",
    "                \n",
    "                movie_node = df_class1.loc[int(node_id), :].values.flatten().tolist()\n",
    "                movie_class.append(1)\n",
    "                movie_node_features.append(movie_node)\n",
    "                \n",
    "            elif node_class == 2:\n",
    "                \n",
    "                movie_node = df_class2.loc[int(node_id), :].values.flatten().tolist()\n",
    "                movie_class.append(2)\n",
    "                movie_node_features.append(movie_node)\n",
    "\n",
    "        elif node_type == 1:\n",
    "   \n",
    "            actor_node = actor.loc[int(node_id), :].values.flatten().tolist()\n",
    "            actor_node_features.append(actor_node)\n",
    "\n",
    "\n",
    "        movie_node_features_df = pd.DataFrame(movie_node_features)\n",
    "        movie_node_features_df['class'] = movie_class\n",
    "        director_node_features_df = pd.DataFrame(director_node_features)\n",
    "        actor_node_features_df = pd.DataFrame(actor_node_features)\n",
    "\n",
    "    return nodes, edges, movie_node_features_df, director_node_features_df, actor_node_features_df\n"
   ]
  },
  {
   "cell_type": "code",
   "execution_count": 15,
   "id": "9b949f33",
   "metadata": {},
   "outputs": [],
   "source": [
    "def remap_indices(node_list):\n",
    "    val_list = [*range(0, len(node_list), 1)]\n",
    "    return dict(zip(node_list,val_list))  "
   ]
  },
  {
   "cell_type": "code",
   "execution_count": 16,
   "id": "5cf7d442",
   "metadata": {},
   "outputs": [],
   "source": [
    "def preprocess_edges(edgelist,node_list):\n",
    "    res = [[node_list[i] for i, j in edgelist],[node_list[j] for i, j in edgelist]] \n",
    "    node_from = torch.tensor(res[0])\n",
    "    node_to = torch.tensor(res[1])\n",
    "    edges = torch.concat((node_from,node_to)).reshape(-1,len(node_from))\n",
    "    return edges"
   ]
  },
  {
   "cell_type": "code",
   "execution_count": 17,
   "id": "80250c8d-fd88-4933-96a8-0976ddf209ba",
   "metadata": {},
   "outputs": [],
   "source": [
    "def get_node_type(node_type):\n",
    "    if node_type == 1:\n",
    "        return 'actor'\n",
    "    elif node_type == 0:\n",
    "        return 'director'\n",
    "    elif node_type == 2:\n",
    "        return 'movie'\n"
   ]
  },
  {
   "cell_type": "code",
   "execution_count": 18,
   "id": "ba63ed49-7635-4622-8131-26799f7e5292",
   "metadata": {},
   "outputs": [
    {
     "data": {
      "text/plain": [
       "[('actor', 'movie'),\n",
       " ('movie', 'actor'),\n",
       " ('movie', 'director'),\n",
       " ('director', 'movie')]"
      ]
     },
     "execution_count": 18,
     "metadata": {},
     "output_type": "execute_result"
    }
   ],
   "source": [
    "#List of edges in metagraph of DBLP\n",
    "list(meta_g.edges())"
   ]
  },
  {
   "cell_type": "code",
   "execution_count": 19,
   "id": "47e4dede",
   "metadata": {},
   "outputs": [],
   "source": [
    "def create_dataset(nodes,edges,movie_df,director_df,actor_df,node_id,df_graph):\n",
    "    movie = np.asarray(movie_df.drop(columns=['class']))\n",
    "    director = np.asarray(director_df)\n",
    "    actor = np.asarray(actor_df)\n",
    "    \n",
    "    x_movie = torch.tensor(movie).to(dtype=torch.float32)\n",
    "    y_movie = torch.tensor(np.array(movie_df[\"class\"]), dtype=torch.long)\n",
    "    x_director = torch.tensor(director).to(dtype=torch.float32)\n",
    "    x_actor = torch.tensor(actor).to(dtype=torch.float32)\n",
    "    \n",
    "    #Edges\n",
    "    source,dest =list(map(list, zip(*edges)))\n",
    "\n",
    "    movie_to_director = []\n",
    "    director_to_movie = []\n",
    "    movie_to_actor = []\n",
    "    actor_to_movie = []\n",
    "    remaining_edges = []\n",
    "\n",
    "    class_dict = {'Director':0, 'Actor':1, 'Movie':2}\n",
    "\n",
    "    for i in range(len(edges)):\n",
    "        if (df_graph.iloc[int(source[i])]['class'] == class_dict['Movie']) and \\\n",
    "        (df_graph.iloc[int(dest[i])]['class'] == class_dict['Director']):\n",
    "                movie_to_director.append((int(source[i]),int(dest[i])))\n",
    "\n",
    "        elif (df_graph.iloc[int(source[i])]['class'] == class_dict['Movie']) and \\\n",
    "            (df_graph.iloc[int(dest[i])]['class'] == class_dict['Actor']):\n",
    "                movie_to_actor.append((int(source[i]),int(dest[i])))\n",
    "\n",
    "        elif (df_graph.iloc[int(source[i])]['class'] == class_dict['Director']) and \\\n",
    "            (df_graph.iloc[int(dest[i])]['class'] == class_dict['Movie']):\n",
    "                director_to_movie.append((int(source[i]),int(dest[i])))\n",
    "\n",
    "        elif (df_graph.iloc[int(source[i])]['class'] == class_dict['Actor']) and \\\n",
    "            (df_graph.iloc[int(dest[i])]['class'] == class_dict['Movie']):\n",
    "                actor_to_movie.append((int(source[i]),int(dest[i])))\n",
    "\n",
    "        else:\n",
    "            #The edges not present in the metagraph  \n",
    "            source_node_type = get_node_type(df_graph.iloc[int(source[i])]['class'])\n",
    "            dest_node_type = get_node_type(df_graph.iloc[int(dest[i])]['class'])\n",
    "            remaining_edges.append((source_node_type,dest_node_type))\n",
    "            \n",
    "            \n",
    "    all_edges[node_id] = [*movie_to_director,*movie_to_actor,*director_to_movie,*actor_to_movie]\n",
    "            \n",
    "    actor = list(df_graph[df_graph['class'] == 1]['nodeId'])\n",
    "    actor = [int(i) for i in actor]\n",
    "    actor_nodes_mapping = remap_indices(actor)\n",
    "    \n",
    "    director = list(df_graph[df_graph['class'] == 0]['nodeId'])\n",
    "    director = [int(i) for i in director]\n",
    "    director_nodes_mapping = remap_indices(director)\n",
    "    \n",
    "    movie = list(df_graph[df_graph['class'] == 2]['nodeId'])\n",
    "    movie = [int(i) for i in movie]\n",
    "    movie_nodes_mapping = remap_indices(movie)\n",
    "\n",
    "    node_list = {}\n",
    "    for d in [movie_nodes_mapping, director_nodes_mapping, actor_nodes_mapping]:\n",
    "        node_list.update(d)            \n",
    "\n",
    "    #Create Hetero Data      \n",
    "    small_graph = HeteroData({'movie':{'x': x_movie, 'y':y_movie}, \n",
    "                              'director':{'x': x_director},'actor':{'x': x_actor}})\n",
    "\n",
    "    if movie_to_director:\n",
    "        edge_index_movie_director = preprocess_edges(movie_to_director,node_list)\n",
    "        small_graph['movie','to','director'].edge_index = edge_index_movie_director\n",
    "        \n",
    "    if director_to_movie:\n",
    "        edge_index_director_movie = preprocess_edges(director_to_movie,node_list)\n",
    "        small_graph['director','to','movie'].edge_index = edge_index_director_movie\n",
    "    \n",
    "    if actor_to_movie:\n",
    "        edge_index_actor_movie = preprocess_edges(actor_to_movie,node_list)\n",
    "        small_graph['actor','to','movie'].edge_index = edge_index_actor_movie\n",
    "        \n",
    "    if movie_to_actor:\n",
    "        edge_index_movie_actor = preprocess_edges(movie_to_actor,node_list)\n",
    "        small_graph['movie','to','actor'].edge_index = edge_index_movie_actor\n",
    "    \n",
    "    #Removing isolated nodes\n",
    "    transform = T.Compose([T.remove_isolated_nodes.RemoveIsolatedNodes()])\n",
    "    small_graph = transform(small_graph)\n",
    "\n",
    "    #Adding test mask for prediction\n",
    "    transform = T.RandomNodeSplit(split='train_rest', num_val=0.0, num_test=1.0)\n",
    "    small_graph = transform(small_graph)\n",
    "            \n",
    "    return small_graph, remaining_edges"
   ]
  },
  {
   "cell_type": "code",
   "execution_count": 20,
   "id": "0ae6a7ae",
   "metadata": {},
   "outputs": [],
   "source": [
    "def evaluate_gnn(small_graph):\n",
    "    with torch.no_grad():\n",
    "        model.eval()\n",
    "        small_graph= small_graph.to(device)\n",
    "        \n",
    "        #Getting class prediction probabilities from the softmax layer\n",
    "        softmax = model(small_graph.x_dict, small_graph.edge_index_dict).softmax(dim=-1)\n",
    "\n",
    "        return softmax.tolist()"
   ]
  },
  {
   "cell_type": "code",
   "execution_count": 21,
   "id": "838d0960-2745-4e50-831c-91fac1fa1f07",
   "metadata": {},
   "outputs": [
    {
     "name": "stdout",
     "output_type": "stream",
     "text": [
      "Original no of graphs: 1367\n"
     ]
    }
   ],
   "source": [
    "import glob\n",
    "graphs_path = '../../../../../../../graph generator/diffusion models/sampled_graphs_diffusion/'\n",
    "print('Original no of graphs:',len([name for name in glob.iglob(graphs_path + 'imdb_5to10/*.gexf')]))"
   ]
  },
  {
   "cell_type": "code",
   "execution_count": 22,
   "id": "f3144bb8-f5f0-40a9-bc46-c1ffe11fa950",
   "metadata": {},
   "outputs": [],
   "source": [
    "avg_max_pred_list = []\n",
    "max_pred_list = []\n",
    "graph_dict_list = []\n",
    "softmax_dict_list = []\n",
    "nodefeature_dict_list = []\n",
    "all_edges_list = []\n",
    "class_graphid_list = []"
   ]
  },
  {
   "cell_type": "code",
   "execution_count": 23,
   "id": "4c0794bd-460d-4761-8d79-0b96576a32bc",
   "metadata": {},
   "outputs": [],
   "source": [
    "def get_max_pred(softmax_dict,i):\n",
    "    #Getting the list of predictions for each class\n",
    "    prob_class0_dict = {}\n",
    "    prob_class1_dict = {}\n",
    "    prob_class2_dict = {}\n",
    "    \n",
    "    for nodeid in softmax_dict:\n",
    "        list0= []\n",
    "        list1= []\n",
    "        list2= [] \n",
    "        if len(softmax_dict[nodeid]) > 0:\n",
    "            list0= []\n",
    "            list1= []\n",
    "            list2= []   \n",
    "            for prob in softmax_dict[nodeid]:        \n",
    "                list0.append(prob[0])        \n",
    "                list1.append(prob[1]) \n",
    "                list2.append(prob[2]) \n",
    "    \n",
    "    \n",
    "         #Taking max probability of all nodes of each class in a graph\n",
    "        if len(list0) != 0:\n",
    "            prob_class0_dict[nodeid]=max(list0)\n",
    "        if len(list1) != 0:\n",
    "            prob_class1_dict[nodeid]=max(list1)\n",
    "        if len(list2) != 0:\n",
    "            prob_class2_dict[nodeid]=max(list2)\n",
    "    \n",
    "    max_pred0 = max(prob_class0_dict.values())\n",
    "    max_pred1 = max(prob_class1_dict.values())\n",
    "    max_pred2 = max(prob_class2_dict.values())\n",
    "    \n",
    "    print('Run'+str(i), max_pred0, max_pred1, max_pred2)\n",
    "    max_pred_list.append([max_pred0, max_pred1, max_pred2])\n",
    "\n",
    "    graph_dict_list.append(graph_dict)\n",
    "    all_edges_list.append(all_edges)\n",
    "    softmax_dict_list.append(softmax_dict)\n",
    "    nodefeature_dict_list.append(nodefeature_dict)\n",
    "\n",
    "    avg_max_pred = (max_pred0+max_pred1+max_pred2)/3\n",
    "    avg_max_pred_list.append(avg_max_pred)\n",
    "    \n",
    "    class0_graphid = max(prob_class0_dict, key=prob_class0_dict.get)\n",
    "    class1_graphid = max(prob_class1_dict, key=prob_class1_dict.get)\n",
    "    class2_graphid = max(prob_class2_dict, key=prob_class2_dict.get)\n",
    "    \n",
    "    class_graphid_list.append([class0_graphid,class1_graphid,class2_graphid])"
   ]
  },
  {
   "cell_type": "code",
   "execution_count": 24,
   "id": "f46c7b3a",
   "metadata": {},
   "outputs": [
    {
     "name": "stdout",
     "output_type": "stream",
     "text": [
      "Epoch: 200, Loss: 0.0619, Train: 1.0000, Val: 0.6025, Test: 0.5765\n",
      "Stopping training as validation accuracy did not improve for 100 epochs\n",
      "No. of graphs evaluated:  188\n",
      "Run0 1.0 0.9999998807907104 0.4513205289840698\n",
      "Epoch: 200, Loss: 0.0634, Train: 1.0000, Val: 0.6125, Test: 0.5638\n",
      "Stopping training as validation accuracy did not improve for 100 epochs\n",
      "No. of graphs evaluated:  188\n",
      "Run1 1.0 1.0 0.9999996423721313\n",
      "Epoch: 200, Loss: 0.0654, Train: 1.0000, Val: 0.6400, Test: 0.5713\n",
      "Stopping training as validation accuracy did not improve for 100 epochs\n",
      "No. of graphs evaluated:  188\n",
      "Run2 1.0 1.0 1.0\n",
      "Stopping training as validation accuracy did not improve for 100 epochs\n",
      "No. of graphs evaluated:  188\n",
      "Run3 1.0 0.9999997615814209 0.8943389058113098\n",
      "Stopping training as validation accuracy did not improve for 100 epochs\n",
      "No. of graphs evaluated:  188\n",
      "Run4 1.0 1.0 0.9999680519104004\n",
      "Epoch: 200, Loss: 0.0641, Train: 1.0000, Val: 0.6175, Test: 0.5771\n",
      "Stopping training as validation accuracy did not improve for 100 epochs\n",
      "No. of graphs evaluated:  188\n",
      "Run5 1.0 1.0 0.9980823993682861\n",
      "Stopping training as validation accuracy did not improve for 100 epochs\n",
      "No. of graphs evaluated:  188\n",
      "Run6 1.0 1.0 0.997141420841217\n",
      "Stopping training as validation accuracy did not improve for 100 epochs\n",
      "No. of graphs evaluated:  188\n",
      "Run7 1.0 0.9999995231628418 0.9992306232452393\n",
      "Stopping training as validation accuracy did not improve for 100 epochs\n",
      "No. of graphs evaluated:  188\n",
      "Run8 1.0 1.0 0.32919469475746155\n",
      "Epoch: 200, Loss: 0.0687, Train: 1.0000, Val: 0.6100, Test: 0.5664\n",
      "Stopping training as validation accuracy did not improve for 100 epochs\n",
      "No. of graphs evaluated:  188\n",
      "Run9 1.0 1.0 0.3076826333999634\n"
     ]
    }
   ],
   "source": [
    "for i in range(0,10):   \n",
    "    \n",
    "    model = HAN(in_channels=-1, out_channels=3)\n",
    "    \n",
    "    device = 'cpu'\n",
    "    device = torch.device('cuda' if torch.cuda.is_available() else 'cpu')\n",
    "    data, model = data.to(device), model.to(device)\n",
    "    \n",
    "    with torch.no_grad():  # Initialize lazy modules.\n",
    "        out = model(data.x_dict, data.edge_index_dict)\n",
    "    \n",
    "    optimizer = torch.optim.Adam(model.parameters(), lr=0.005, weight_decay=0.001)\n",
    "    \n",
    "    best_val_acc = 0\n",
    "    start_patience = patience = 100\n",
    "    for epoch in range(1, 700):  \n",
    "        loss = train()\n",
    "        train_acc, val_acc, test_acc = test()\n",
    "        if epoch%200==0:\n",
    "            print(f'Epoch: {epoch:03d}, Loss: {loss:.4f}, Train: {train_acc:.4f}, '\n",
    "                  f'Val: {val_acc:.4f}, Test: {test_acc:.4f}')\n",
    "    \n",
    "        if best_val_acc <= val_acc:\n",
    "            patience = start_patience\n",
    "            best_val_acc = val_acc\n",
    "        else:\n",
    "            patience -= 1\n",
    "    \n",
    "        if patience <= 0:\n",
    "            print('Stopping training as validation accuracy did not improve '\n",
    "                  f'for {start_patience} epochs')\n",
    "            break\n",
    "    \n",
    "    all_edges = {}\n",
    "    softmax_dict = {}\n",
    "    nodefeature_dict = {}\n",
    "    graph_dict = {}\n",
    "    \n",
    "    #Read from file the synthetic graphs generated using diffusion to evaluate the trained GNN on the graphs\n",
    "    for filepath in glob.iglob(graphs_path + 'imdb_5to10/*.gexf'):\n",
    "        \n",
    "        graph = nx.read_gexf(filepath)\n",
    "        \n",
    "        filename = os.path.basename(filepath)\n",
    "        graph_id= filename.split('.')[0]\n",
    "        \n",
    "        nodeId_list = []\n",
    "        node_type_list = []\n",
    "    \n",
    "    \n",
    "        for key, value in graph.nodes(data=True):\n",
    "            nodeId_list.append(key)\n",
    "            node_type_list.append(value['node_type'])\n",
    "    \n",
    "        \n",
    "        df_graph = pd.DataFrame()\n",
    "        df_graph[\"nodeId\"] = nodeId_list\n",
    "        df_graph[\"class\"] = node_type_list\n",
    "      \n",
    "    \n",
    "        nodes,edges,movie_node_features,director_node_features,actor_node_features= get_node_features(graph)\n",
    "        small_graph_data, removed_edges = create_dataset(nodes,edges,\n",
    "                                  movie_node_features,director_node_features,\n",
    "                                  actor_node_features,graph_id,df_graph)\n",
    "        \n",
    "        edge_list = all_edges[graph_id]\n",
    "        graph = nx.Graph(edge_list)\n",
    "        if not nx.is_empty(graph) and nx.is_connected(graph):\n",
    "        \n",
    "            if (small_graph_data['movie'].x.nelement()!=0) and \\\n",
    "                (small_graph_data['actor','to','movie']) and \\\n",
    "                (small_graph_data['movie','to','actor']) and \\\n",
    "                (small_graph_data['movie','to','director']) and \\\n",
    "                (small_graph_data['director','to','movie']):\n",
    "                \n",
    "                softmax = evaluate_gnn(small_graph_data)\n",
    "                softmax_dict[graph_id] = softmax\n",
    "                nodefeature_dict[graph_id]={'movie':small_graph_data['movie'].x,\n",
    "                                                 'director':small_graph_data['director'].x,\n",
    "                                                 'actor':small_graph_data['actor'].x}\n",
    "                graph_dict[graph_id]=df_graph\n",
    "\n",
    "    print(\"No. of graphs evaluated: \",len(softmax_dict))\n",
    "\n",
    "    get_max_pred(softmax_dict,i)"
   ]
  },
  {
   "cell_type": "code",
   "execution_count": 25,
   "id": "812ce677-64ba-4968-8fbf-78d6954c1495",
   "metadata": {},
   "outputs": [
    {
     "data": {
      "text/plain": [
       "[0.8171068032582601,\n",
       " 0.9999998807907104,\n",
       " 1.0,\n",
       " 0.9647795557975769,\n",
       " 0.9999893506368002,\n",
       " 0.9993607997894287,\n",
       " 0.9990471402804056,\n",
       " 0.999743382136027,\n",
       " 0.7763982315858206,\n",
       " 0.7692275444666544]"
      ]
     },
     "execution_count": 25,
     "metadata": {},
     "output_type": "execute_result"
    }
   ],
   "source": [
    "avg_max_pred_list"
   ]
  },
  {
   "cell_type": "code",
   "execution_count": 26,
   "id": "77cb1584-68ee-4c88-96d0-3edddd6979d4",
   "metadata": {},
   "outputs": [
    {
     "name": "stdout",
     "output_type": "stream",
     "text": [
      "Mean 0.9325652688741684\n"
     ]
    }
   ],
   "source": [
    "print('Mean',np.mean(avg_max_pred_list))"
   ]
  },
  {
   "cell_type": "code",
   "execution_count": 27,
   "id": "e728c4d2-ac78-4171-9f83-dfe76bc2b19f",
   "metadata": {},
   "outputs": [
    {
     "name": "stdout",
     "output_type": "stream",
     "text": [
      "Standard Deviation 0.09616185888367629\n"
     ]
    }
   ],
   "source": [
    "print('Standard Deviation',np.std(avg_max_pred_list))"
   ]
  },
  {
   "cell_type": "code",
   "execution_count": 28,
   "id": "6d8d3235-947c-4b5a-a99a-1c94cb6fc61e",
   "metadata": {},
   "outputs": [
    {
     "data": {
      "text/plain": [
       "2"
      ]
     },
     "execution_count": 28,
     "metadata": {},
     "output_type": "execute_result"
    }
   ],
   "source": [
    "m = max(avg_max_pred_list)\n",
    "index = avg_max_pred_list.index(m)\n",
    "index"
   ]
  },
  {
   "cell_type": "code",
   "execution_count": 29,
   "id": "adbc33e9",
   "metadata": {},
   "outputs": [],
   "source": [
    "def plot_graph(graphid, max_pred,nodetype,edges,graph):\n",
    "\n",
    "    classes = []\n",
    "    G = nx.Graph(edges)\n",
    "    df_graph = graph_dict[graphid]\n",
    "    for g in G.nodes():\n",
    "              \n",
    "        if df_graph.loc[g]['class'] == 0:\n",
    "            classes.append(0)\n",
    "        if df_graph.loc[g]['class'] == 1:\n",
    "            classes.append(1)\n",
    "        if df_graph.loc[g]['class'] == 2:\n",
    "            classes.append(2)\n",
    "\n",
    "   \n",
    "    \n",
    "    color_class_map = {0: 'blue', 1: 'red', 2: 'darkgreen'}\n",
    "    \n",
    "    nx.set_node_attributes(G, dict(zip(G.nodes(), classes)), 'class')\n",
    "    \n",
    "    print('Number of nodes: ',G.number_of_nodes())\n",
    "    print('graph id: ',graphid)\n",
    "    print(f'Max pred probability for class {nodetype} is {max_pred}')\n",
    "\n",
    "    nx.draw(G, \n",
    "    with_labels=False, node_color=[color_class_map[node[1]['class']] \n",
    "                        for node in G.nodes(data=True)], \n",
    "            node_size=100,\n",
    "        font_color='black')\n",
    "    plt.show()"
   ]
  },
  {
   "cell_type": "code",
   "execution_count": 30,
   "id": "9531a0b1",
   "metadata": {},
   "outputs": [],
   "source": [
    "def index_2d(prob_list, v):\n",
    "    for i, x in enumerate(prob_list):\n",
    "        if v in x:\n",
    "            return (i, x.index(v))"
   ]
  },
  {
   "cell_type": "code",
   "execution_count": 31,
   "id": "6ca231ed-ad98-4dc8-99d3-a45576a7997f",
   "metadata": {},
   "outputs": [],
   "source": [
    "plt.rcParams.update({'axes.ymargin': 0.2})"
   ]
  },
  {
   "cell_type": "code",
   "execution_count": 32,
   "id": "98ff6065",
   "metadata": {},
   "outputs": [],
   "source": [
    "def count_plot(feat_list):\n",
    "    fig, ax = plt.subplots(figsize=(7, 7))\n",
    "    sns.countplot(x=0,ax=ax,data=pd.DataFrame(feat_list),width=0.3)\n",
    "    for i in ax.containers:\n",
    "        ax.bar_label(i,fontsize=30)\n",
    "    plt.xticks(fontsize=30)\n",
    "    plt.yticks(fontsize=30)\n",
    "    plt.xlabel('feature values',fontsize=30)\n",
    "    plt.ylabel('feature count',fontsize=30)\n",
    "\n",
    "    plt.show()"
   ]
  },
  {
   "cell_type": "code",
   "execution_count": 33,
   "id": "a0d8fc36-7c82-4d2c-9805-e59ec52da6b1",
   "metadata": {},
   "outputs": [],
   "source": [
    "class0_graphid = class_graphid_list[index][0]\n",
    "class1_graphid = class_graphid_list[index][1]\n",
    "class2_graphid = class_graphid_list[index][2]"
   ]
  },
  {
   "cell_type": "code",
   "execution_count": 34,
   "id": "2b729d99-b60e-4cf1-93a9-984bf36d7637",
   "metadata": {},
   "outputs": [],
   "source": [
    "max_pred0 = max_pred_list[index][0]\n",
    "max_pred1 = max_pred_list[index][1]\n",
    "max_pred2 = max_pred_list[index][2]"
   ]
  },
  {
   "cell_type": "code",
   "execution_count": 35,
   "id": "17dca861-9d69-4503-8707-314e53f81c22",
   "metadata": {},
   "outputs": [],
   "source": [
    "all_edges = all_edges_list[index]"
   ]
  },
  {
   "cell_type": "code",
   "execution_count": 36,
   "id": "7307630f-71f2-4cbf-ae81-8e10c7838cde",
   "metadata": {},
   "outputs": [],
   "source": [
    "graph_dict = graph_dict_list[index]"
   ]
  },
  {
   "cell_type": "code",
   "execution_count": 37,
   "id": "8f95b895-0bcf-4f0a-8dcc-9743a663f74f",
   "metadata": {},
   "outputs": [],
   "source": [
    "softmax_dict = softmax_dict_list[index]"
   ]
  },
  {
   "cell_type": "code",
   "execution_count": 38,
   "id": "c2b58a84-7dce-47c5-bde7-c53afa32509a",
   "metadata": {},
   "outputs": [],
   "source": [
    "nodefeature_dict = nodefeature_dict_list[index]"
   ]
  },
  {
   "cell_type": "code",
   "execution_count": 39,
   "id": "2c417ed0-c57e-469f-a7a2-182608fb6080",
   "metadata": {},
   "outputs": [],
   "source": [
    "nodefeature_dict = nodefeature_dict_list[index]"
   ]
  },
  {
   "cell_type": "markdown",
   "id": "c837bbd6",
   "metadata": {},
   "source": [
    "Plotting explanation graphs and node features for each class of Movie node\n",
    "\n",
    "Node colors:\n",
    "\n",
    "Director - Blue\n",
    "\n",
    "Actor - Red\n",
    "\n",
    "Movie - Darkgreen"
   ]
  },
  {
   "cell_type": "code",
   "execution_count": 40,
   "id": "4bd3a00d",
   "metadata": {},
   "outputs": [
    {
     "name": "stdout",
     "output_type": "stream",
     "text": [
      "Number of nodes:  5\n",
      "graph id:  graph1\n",
      "Max pred probability for class 0 is 1.0\n"
     ]
    },
    {
     "data": {
      "image/png": "[encoded data removed]",
      "text/plain": [
       "<Figure size 640x480 with 1 Axes>"
      ]
     },
     "metadata": {},
     "output_type": "display_data"
    }
   ],
   "source": [
    "explanation_graph0 = plot_graph(class0_graphid, max_pred0, 0, all_edges[class0_graphid],graph_dict[class0_graphid])"
   ]
  },
  {
   "cell_type": "code",
   "execution_count": 41,
   "id": "197847d7",
   "metadata": {},
   "outputs": [
    {
     "data": {
      "text/plain": [
       "Counter({2.0: 1, 0.0: 1})"
      ]
     },
     "execution_count": 41,
     "metadata": {},
     "output_type": "execute_result"
    }
   ],
   "source": [
    "ind= index_2d(softmax_dict[class0_graphid], max_pred0)[0]\n",
    "list0= nodefeature_dict[class0_graphid]['movie'].cpu().numpy()[ind]\n",
    "Counter(list0)"
   ]
  },
  {
   "cell_type": "code",
   "execution_count": 42,
   "id": "9fb4c4c4",
   "metadata": {},
   "outputs": [
    {
     "data": {
      "image/png": "[encoded data removed]",
      "text/plain": [
       "<Figure size 700x700 with 1 Axes>"
      ]
     },
     "metadata": {},
     "output_type": "display_data"
    }
   ],
   "source": [
    "count_plot(list0)"
   ]
  },
  {
   "cell_type": "code",
   "execution_count": 43,
   "id": "0dd19f1d",
   "metadata": {},
   "outputs": [
    {
     "name": "stdout",
     "output_type": "stream",
     "text": [
      "Number of nodes:  10\n",
      "graph id:  graph1231\n",
      "Max pred probability for class 1 is 1.0\n"
     ]
    },
    {
     "data": {
      "image/png": "[encoded data removed]",
      "text/plain": [
       "<Figure size 640x480 with 1 Axes>"
      ]
     },
     "metadata": {},
     "output_type": "display_data"
    }
   ],
   "source": [
    "explanation_graph1 = plot_graph(class1_graphid, max_pred1, 1, all_edges[class1_graphid],graph_dict[class1_graphid])"
   ]
  },
  {
   "cell_type": "code",
   "execution_count": 44,
   "id": "3c2e4762",
   "metadata": {},
   "outputs": [
    {
     "data": {
      "text/plain": [
       "Counter({2.0: 1, 0.0: 1})"
      ]
     },
     "execution_count": 44,
     "metadata": {},
     "output_type": "execute_result"
    }
   ],
   "source": [
    "ind= index_2d(softmax_dict[class1_graphid], max_pred1)[0]\n",
    "list1= nodefeature_dict[class1_graphid]['movie'].cpu().numpy()[ind]\n",
    "Counter(list1)"
   ]
  },
  {
   "cell_type": "code",
   "execution_count": 45,
   "id": "a38bba92",
   "metadata": {},
   "outputs": [
    {
     "data": {
      "image/png": "[encoded data removed]",
      "text/plain": [
       "<Figure size 700x700 with 1 Axes>"
      ]
     },
     "metadata": {},
     "output_type": "display_data"
    }
   ],
   "source": [
    "count_plot(list1)"
   ]
  },
  {
   "cell_type": "code",
   "execution_count": 46,
   "id": "20985cc9",
   "metadata": {},
   "outputs": [
    {
     "name": "stdout",
     "output_type": "stream",
     "text": [
      "Number of nodes:  9\n",
      "graph id:  graph1021\n",
      "Max pred probability for class 2 is 1.0\n"
     ]
    },
    {
     "data": {
      "image/png": "[encoded data removed]",
      "text/plain": [
       "<Figure size 640x480 with 1 Axes>"
      ]
     },
     "metadata": {},
     "output_type": "display_data"
    }
   ],
   "source": [
    "explanation_graph2 = plot_graph(class2_graphid, max_pred2, 2, all_edges[class2_graphid],graph_dict[class2_graphid])"
   ]
  },
  {
   "cell_type": "code",
   "execution_count": 47,
   "id": "e4ca78be",
   "metadata": {},
   "outputs": [
    {
     "data": {
      "text/plain": [
       "Counter({5.0: 1, 0.0: 1})"
      ]
     },
     "execution_count": 47,
     "metadata": {},
     "output_type": "execute_result"
    }
   ],
   "source": [
    "ind= index_2d(softmax_dict[class2_graphid], max_pred2)[0]\n",
    "list2= nodefeature_dict[class2_graphid]['movie'].cpu().numpy()[ind]\n",
    "Counter(list2)"
   ]
  },
  {
   "cell_type": "code",
   "execution_count": 48,
   "id": "b6bcab3d",
   "metadata": {},
   "outputs": [
    {
     "data": {
      "image/png": "[encoded data removed]",
      "text/plain": [
       "<Figure size 700x700 with 1 Axes>"
      ]
     },
     "metadata": {},
     "output_type": "display_data"
    }
   ],
   "source": [
    "count_plot(list2)"
   ]
  },
  {
   "cell_type": "code",
   "execution_count": 49,
   "id": "449126bd",
   "metadata": {},
   "outputs": [],
   "source": [
    "def print_stat_cont_features(df):\n",
    "\n",
    "    print('mean',df.stack().mean())\n",
    "    print('std dev',df.stack().std())"
   ]
  },
  {
   "cell_type": "code",
   "execution_count": 50,
   "id": "a32ee0c4",
   "metadata": {},
   "outputs": [],
   "source": [
    "def plot_node_feat(imp_feat):\n",
    "    sns.distplot(imp_feat,color= 'orange',hist= False)\n",
    "    plt.xticks(fontsize=20)\n",
    "    plt.yticks(fontsize=20)\n",
    "    plt.xlabel('Feature values',fontsize=20)\n",
    "    plt.ylabel('Density',fontsize=20)\n",
    "\n",
    "    plt.show() "
   ]
  },
  {
   "cell_type": "code",
   "execution_count": 51,
   "id": "eb6e19cf",
   "metadata": {},
   "outputs": [
    {
     "name": "stdout",
     "output_type": "stream",
     "text": [
      "mean 0.5129977\n",
      "std dev 0.6229172\n"
     ]
    }
   ],
   "source": [
    "#Actor\n",
    "actor0_df = pd.DataFrame(nodefeature_dict[class0_graphid]['actor'].cpu().numpy())\n",
    "print_stat_cont_features(actor0_df)"
   ]
  },
  {
   "cell_type": "code",
   "execution_count": 52,
   "id": "d0277c00",
   "metadata": {},
   "outputs": [
    {
     "data": {
      "image/png": "[encoded data removed]",
      "text/plain": [
       "<Figure size 640x480 with 1 Axes>"
      ]
     },
     "metadata": {},
     "output_type": "display_data"
    }
   ],
   "source": [
    "plot_node_feat(actor0_df)"
   ]
  },
  {
   "cell_type": "code",
   "execution_count": 53,
   "id": "a54a605a",
   "metadata": {},
   "outputs": [
    {
     "name": "stdout",
     "output_type": "stream",
     "text": [
      "mean 0.5182818\n",
      "std dev 0.6166728\n"
     ]
    }
   ],
   "source": [
    "actor1_df = pd.DataFrame(nodefeature_dict[class1_graphid]['actor'].cpu().numpy())\n",
    "print_stat_cont_features(actor1_df)"
   ]
  },
  {
   "cell_type": "code",
   "execution_count": 54,
   "id": "3208ae3e",
   "metadata": {},
   "outputs": [
    {
     "data": {
      "image/png": "[encoded data removed]",
      "text/plain": [
       "<Figure size 640x480 with 1 Axes>"
      ]
     },
     "metadata": {},
     "output_type": "display_data"
    }
   ],
   "source": [
    "plot_node_feat(actor1_df)"
   ]
  },
  {
   "cell_type": "code",
   "execution_count": 55,
   "id": "62105c8e",
   "metadata": {},
   "outputs": [
    {
     "name": "stdout",
     "output_type": "stream",
     "text": [
      "mean 0.5063228\n",
      "std dev 0.6142758\n"
     ]
    }
   ],
   "source": [
    "actor2_df = pd.DataFrame(nodefeature_dict[class2_graphid]['actor'].cpu().numpy())\n",
    "print_stat_cont_features(actor2_df)"
   ]
  },
  {
   "cell_type": "code",
   "execution_count": 56,
   "id": "666ade21",
   "metadata": {},
   "outputs": [
    {
     "data": {
      "image/png": "[encoded data removed]",
      "text/plain": [
       "<Figure size 640x480 with 1 Axes>"
      ]
     },
     "metadata": {},
     "output_type": "display_data"
    }
   ],
   "source": [
    "plot_node_feat(actor2_df)"
   ]
  },
  {
   "cell_type": "code",
   "execution_count": 57,
   "id": "5498348f",
   "metadata": {},
   "outputs": [
    {
     "name": "stdout",
     "output_type": "stream",
     "text": [
      "mean 0.42053652\n",
      "std dev 0.5728745\n"
     ]
    }
   ],
   "source": [
    "#Director\n",
    "director0_df = pd.DataFrame(nodefeature_dict[class0_graphid]['director'].cpu().numpy())\n",
    "print_stat_cont_features(director0_df)"
   ]
  },
  {
   "cell_type": "code",
   "execution_count": 58,
   "id": "69e7740f",
   "metadata": {},
   "outputs": [
    {
     "data": {
      "image/png": "[encoded data removed]",
      "text/plain": [
       "<Figure size 640x480 with 1 Axes>"
      ]
     },
     "metadata": {},
     "output_type": "display_data"
    }
   ],
   "source": [
    "plot_node_feat(director0_df)"
   ]
  },
  {
   "cell_type": "code",
   "execution_count": 59,
   "id": "7661bc81",
   "metadata": {},
   "outputs": [
    {
     "name": "stdout",
     "output_type": "stream",
     "text": [
      "mean 0.42323345\n",
      "std dev 0.5582504\n"
     ]
    }
   ],
   "source": [
    "director1_df = pd.DataFrame(nodefeature_dict[class1_graphid]['director'].cpu().numpy())\n",
    "print_stat_cont_features(director1_df)"
   ]
  },
  {
   "cell_type": "code",
   "execution_count": 60,
   "id": "661d6ebc",
   "metadata": {},
   "outputs": [
    {
     "data": {
      "image/png": "[encoded data removed]",
      "text/plain": [
       "<Figure size 640x480 with 1 Axes>"
      ]
     },
     "metadata": {},
     "output_type": "display_data"
    }
   ],
   "source": [
    "plot_node_feat(director1_df)"
   ]
  },
  {
   "cell_type": "code",
   "execution_count": 61,
   "id": "a75d4772",
   "metadata": {},
   "outputs": [
    {
     "name": "stdout",
     "output_type": "stream",
     "text": [
      "mean 0.42053652\n",
      "std dev 0.5728745\n"
     ]
    }
   ],
   "source": [
    "director2_df = pd.DataFrame(nodefeature_dict[class2_graphid]['director'].cpu().numpy())\n",
    "print_stat_cont_features(director2_df)"
   ]
  },
  {
   "cell_type": "code",
   "execution_count": 62,
   "id": "af2fce38",
   "metadata": {},
   "outputs": [
    {
     "data": {
      "image/png": "[encoded data removed]",
      "text/plain": [
       "<Figure size 640x480 with 1 Axes>"
      ]
     },
     "metadata": {},
     "output_type": "display_data"
    }
   ],
   "source": [
    "plot_node_feat(director2_df)"
   ]
  },
  {
   "cell_type": "code",
   "execution_count": 4,
   "id": "f4caec69-a5ca-47f0-9248-bf51baadd58b",
   "metadata": {},
   "outputs": [],
   "source": [
    "motifs_path = '../../../../../common_motifs/imdb_5to10/'\n",
    "files_motif = os.listdir(motifs_path)"
   ]
  },
  {
   "cell_type": "code",
   "execution_count": 5,
   "id": "0629ae37-356a-47ce-a561-7ae5f3cdfde8",
   "metadata": {},
   "outputs": [
    {
     "name": "stdout",
     "output_type": "stream",
     "text": [
      "../../../../../common_motifs/imdb_5to10/motif_real_10_0.gexf\n",
      "../../../../../common_motifs/imdb_5to10/motif_real_10_1.gexf\n",
      "../../../../../common_motifs/imdb_5to10/motif_real_10_2.gexf\n",
      "../../../../../common_motifs/imdb_5to10/motif_real_10_3.gexf\n",
      "../../../../../common_motifs/imdb_5to10/motif_real_10_4.gexf\n",
      "../../../../../common_motifs/imdb_5to10/motif_real_5_0.gexf\n",
      "../../../../../common_motifs/imdb_5to10/motif_real_5_1.gexf\n",
      "../../../../../common_motifs/imdb_5to10/motif_real_5_2.gexf\n",
      "../../../../../common_motifs/imdb_5to10/motif_real_5_3.gexf\n",
      "../../../../../common_motifs/imdb_5to10/motif_real_5_4.gexf\n",
      "../../../../../common_motifs/imdb_5to10/motif_real_6_0.gexf\n",
      "../../../../../common_motifs/imdb_5to10/motif_real_6_1.gexf\n",
      "../../../../../common_motifs/imdb_5to10/motif_real_6_2.gexf\n",
      "../../../../../common_motifs/imdb_5to10/motif_real_6_3.gexf\n",
      "../../../../../common_motifs/imdb_5to10/motif_real_6_4.gexf\n",
      "../../../../../common_motifs/imdb_5to10/motif_real_7_0.gexf\n",
      "../../../../../common_motifs/imdb_5to10/motif_real_7_1.gexf\n",
      "../../../../../common_motifs/imdb_5to10/motif_real_7_2.gexf\n",
      "../../../../../common_motifs/imdb_5to10/motif_real_7_3.gexf\n",
      "../../../../../common_motifs/imdb_5to10/motif_real_7_4.gexf\n",
      "../../../../../common_motifs/imdb_5to10/motif_real_8_0.gexf\n",
      "../../../../../common_motifs/imdb_5to10/motif_real_8_1.gexf\n",
      "../../../../../common_motifs/imdb_5to10/motif_real_8_2.gexf\n",
      "../../../../../common_motifs/imdb_5to10/motif_real_8_3.gexf\n",
      "../../../../../common_motifs/imdb_5to10/motif_real_8_4.gexf\n",
      "../../../../../common_motifs/imdb_5to10/motif_real_9_0.gexf\n",
      "../../../../../common_motifs/imdb_5to10/motif_real_9_1.gexf\n",
      "../../../../../common_motifs/imdb_5to10/motif_real_9_2.gexf\n",
      "../../../../../common_motifs/imdb_5to10/motif_real_9_3.gexf\n",
      "../../../../../common_motifs/imdb_5to10/motif_real_9_4.gexf\n"
     ]
    }
   ],
   "source": [
    "for index_m, file_m in enumerate(files_motif):\n",
    "    filepath_m = os.path.join(motifs_path, file_m)\n",
    "    print(filepath_m)"
   ]
  },
  {
   "cell_type": "code",
   "execution_count": 65,
   "id": "b2909979-0f77-4b97-965d-68c6c9c784a9",
   "metadata": {},
   "outputs": [],
   "source": [
    "def get_faithfulness(graphid_list):\n",
    "    class_faithfulness = []\n",
    "    for graphid in graphid_list:\n",
    "        expln_graph = nx.Graph(all_edges[graphid])\n",
    "        edges = all_edges_list[i][graphid]\n",
    "        expln_graph = nx.Graph(edges)\n",
    "\n",
    "        fid_score_list = []       \n",
    "        for index_m, file_m in enumerate(files_motif):\n",
    "            filepath_m = os.path.join(motifs_path, file_m)\n",
    "            \n",
    "            motif_graph = nx.read_gexf(filepath_m)\n",
    "\n",
    "            GM = nx.algorithms.isomorphism.GraphMatcher(expln_graph,motif_graph)\n",
    "            x = 1 if GM.subgraph_is_isomorphic() else 0    \n",
    "            fid_score_list.append(x)\n",
    "\n",
    "        class_faithfulness.append(np.mean(fid_score_list))\n",
    "\n",
    "    return np.mean(class_faithfulness)"
   ]
  },
  {
   "cell_type": "code",
   "execution_count": 66,
   "id": "2b5448b6-a5ca-4f14-a50e-8f64dcc0a9b8",
   "metadata": {},
   "outputs": [
    {
     "name": "stdout",
     "output_type": "stream",
     "text": [
      "Run0 0.9111111111111111\n",
      "Run1 0.8555555555555555\n",
      "Run2 0.9111111111111111\n",
      "Run3 0.9\n",
      "Run4 0.8777777777777778\n",
      "Run5 0.8888888888888888\n",
      "Run6 0.8555555555555555\n",
      "Run7 0.9111111111111111\n",
      "Run8 0.9111111111111111\n",
      "Run9 0.9222222222222222\n",
      "Mean 0.8944444444444445\n"
     ]
    }
   ],
   "source": [
    "faithfulness_list = []\n",
    "\n",
    "for i in range(0,10):\n",
    "    faithfulness = get_faithfulness(class_graphid_list[i])\n",
    "\n",
    "    print('Run'+str(i),faithfulness)\n",
    "    faithfulness_list.append(faithfulness)\n",
    "print('Mean',np.mean(faithfulness_list))"
   ]
  },
  {
   "cell_type": "code",
   "execution_count": 67,
   "id": "0479ed72-9b55-4a45-9d79-955a702fb0dc",
   "metadata": {},
   "outputs": [
    {
     "name": "stdout",
     "output_type": "stream",
     "text": [
      "Standard Deviation 0.022906142364542567\n"
     ]
    }
   ],
   "source": "print('Standard Deviation',np.std(faithfulness_list))"
  },
  {
   "cell_type": "code",
   "execution_count": null,
   "id": "3afa6471-ecca-420d-a636-5d0c483e5ed6",
   "metadata": {},
   "outputs": [],
   "source": []
  }
 ],
 "metadata": {
  "kernelspec": {
   "display_name": "Python 3 (ipykernel)",
   "language": "python",
   "name": "python3"
  },
  "language_info": {
   "codemirror_mode": {
    "name": "ipython",
    "version": 3
   },
   "file_extension": ".py",
   "mimetype": "text/x-python",
   "name": "python",
   "nbconvert_exporter": "python",
   "pygments_lexer": "ipython3",
   "version": "3.10.6"
  }
 },
 "nbformat": 4,
 "nbformat_minor": 5
}
