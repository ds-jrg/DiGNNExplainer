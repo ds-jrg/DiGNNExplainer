{
 "cells": [
  {
   "cell_type": "code",
   "execution_count": 1,
   "id": "d9e142e2-1672-4398-a14d-83bed396f8a2",
   "metadata": {},
   "outputs": [],
   "source": [
    "# This code works in Python 3.10.6\n",
    "import matplotlib.pyplot as plt\n",
    "import networkx as nx\n",
    "import torch\n",
    "import torch_geometric.utils\n",
    "import torch_geometric.transforms as T\n",
    "import torch.nn.functional as F\n",
    "from torch_geometric.nn import GCNConv\n",
    "import time\n",
    "from torch_geometric.logging import log\n",
    "import os\n",
    "from collections import Counter\n",
    "import glob\n",
    "from torch_geometric.utils.convert import from_networkx\n",
    "import numpy as np"
   ]
  },
  {
   "cell_type": "code",
   "execution_count": 2,
   "id": "eda4cbaa-86fe-47b4-8bf2-85e00627a282",
   "metadata": {},
   "outputs": [],
   "source": [
    "import sys  \n",
    "sys.path.insert(1, '../../../../../evaluation/select_explanation/')\n",
    "import dblp_select_explanation as select_explanation"
   ]
  },
  {
   "cell_type": "code",
   "execution_count": 3,
   "id": "5e370a9d-8b8b-4a05-82af-2f1f05c29337",
   "metadata": {},
   "outputs": [
    {
     "data": {
      "text/plain": [
       "Data(edge_index=[2, 34212], x=[11616, 3], y=[11616], train_mask=[11616], val_mask=[11616], test_mask=[11616], node_type=[11616])"
      ]
     },
     "execution_count": 3,
     "metadata": {},
     "output_type": "execute_result"
    }
   ],
   "source": [
    "#Save data.pt file by following https://github.com/ds-jrg/DiGNNExplainer/blob/main/baseline_explainers/d4explainer/data_preparation/imdb.ipynb\n",
    "data = torch.load('imdb/processed/data.pt')\n",
    "data"
   ]
  },
  {
   "cell_type": "code",
   "execution_count": 4,
   "id": "2b2fe9c7-9672-4d4a-a1b6-df21e5f6bb4c",
   "metadata": {},
   "outputs": [
    {
     "data": {
      "text/plain": [
       "tensor([[1., 0., 0.],\n",
       "        [1., 0., 0.],\n",
       "        [1., 0., 0.],\n",
       "        ...,\n",
       "        [0., 0., 1.],\n",
       "        [0., 0., 1.],\n",
       "        [0., 0., 1.]])"
      ]
     },
     "execution_count": 4,
     "metadata": {},
     "output_type": "execute_result"
    }
   ],
   "source": [
    "data.x"
   ]
  },
  {
   "cell_type": "code",
   "execution_count": 5,
   "id": "51c5683a-ac49-4355-a0ad-f7bf7536ad4c",
   "metadata": {},
   "outputs": [],
   "source": [
    "nodetypes = torch.unique(data.node_type)"
   ]
  },
  {
   "cell_type": "code",
   "execution_count": 6,
   "id": "8482f72f-3b44-4732-9bea-b19f4cf7ae7f",
   "metadata": {},
   "outputs": [],
   "source": [
    "device = 'cpu'\n",
    "class GCN(torch.nn.Module):\n",
    "    def __init__(self, in_channels, hidden_channels, out_channels):\n",
    "        super().__init__()\n",
    "        self.conv1 = GCNConv(in_channels, hidden_channels,\n",
    "                             )\n",
    "        self.conv2 = GCNConv(hidden_channels, hidden_channels,\n",
    "                             )\n",
    "        self.conv3 = GCNConv(hidden_channels, out_channels,\n",
    "                             )\n",
    "\n",
    "    def forward(self, x, edge_index, edge_weight=None):\n",
    "        x = F.dropout(x, p=0.3, training=self.training)\n",
    "        x = self.conv1(x, edge_index, edge_weight).relu()\n",
    "        x = F.dropout(x, p=0.3, training=self.training)\n",
    "        x = self.conv2(x, edge_index, edge_weight).relu()\n",
    "        x = F.dropout(x, p=0.3, training=self.training)\n",
    "        x = self.conv3(x, edge_index, edge_weight)\n",
    "        return x\n",
    "\n",
    "\n",
    "def train():\n",
    "    model.train()\n",
    "    optimizer.zero_grad()\n",
    "    out = model(data.x, data.edge_index)\n",
    "    loss = F.cross_entropy(out[data.train_mask], data.y[data.train_mask])\n",
    "    loss.backward()\n",
    "    optimizer.step()\n",
    "    return float(loss)\n",
    "\n",
    "\n",
    "@torch.no_grad()\n",
    "def test():\n",
    "    model.eval()\n",
    "    pred = model(data.x, data.edge_index).argmax(dim=-1)\n",
    "\n",
    "    accs = []\n",
    "    for mask in [data.train_mask, data.val_mask, data.test_mask]:\n",
    "        accs.append(int((pred[mask] == data.y[mask]).sum()) / int(mask.sum()))\n",
    "    return accs"
   ]
  },
  {
   "cell_type": "code",
   "execution_count": 11,
   "id": "d22d8606-a963-4c67-8a74-656f628f890c",
   "metadata": {},
   "outputs": [],
   "source": [
    "def evaluate_gnn(graph):\n",
    "    with torch.no_grad():\n",
    "        model.eval()\n",
    "        graph = graph.to(device)\n",
    "\n",
    "        # The pred is not used for accuracy, the softmax is used\n",
    "        out = model(graph.x.float(), graph.edge_index, graph.batch)\n",
    "        pred = out.argmax(dim=-1)\n",
    "\n",
    "        # Getting class prediction probabilities from the softmax layer\n",
    "        softmax = out.softmax(dim=-1)\n",
    "\n",
    "        return softmax.tolist()"
   ]
  },
  {
   "cell_type": "code",
   "execution_count": 7,
   "id": "3891bd1f-654a-445a-b84a-da08813e9729",
   "metadata": {},
   "outputs": [
    {
     "name": "stdout",
     "output_type": "stream",
     "text": [
      "Original no of graphs: 1367\n"
     ]
    }
   ],
   "source": [
    "graphs_path = '../../../../../graph generator/diffusion models/sampled_graphs_diffusion/'\n",
    "print('Original no of graphs:',len([name for name in glob.iglob(graphs_path + 'imdb_5to10/*.gexf')]))"
   ]
  },
  {
   "cell_type": "code",
   "execution_count": 8,
   "id": "bd45699a-8ecd-4e54-b9b5-190a60756ad8",
   "metadata": {},
   "outputs": [],
   "source": [
    "avg_max_pred_list = []\n",
    "max_pred_list = []\n",
    "softmax_dict_list = []\n",
    "class_graphid_list = []"
   ]
  },
  {
   "cell_type": "code",
   "execution_count": 12,
   "id": "cfc31cca-c507-461f-9962-ffb16f0c3b6d",
   "metadata": {},
   "outputs": [
    {
     "name": "stdout",
     "output_type": "stream",
     "text": [
      "Epoch: 100, Loss: 1.0724, Train: 0.3975, Val: 0.3950, Test: 0.3689\n",
      "Stopping training as validation accuracy did not improve for 100 epochs\n",
      "No. of graphs evaluated:  1367\n",
      "Run0 0.2966282069683075 0.46907180547714233 0.4438047707080841\n",
      "Epoch: 100, Loss: 1.0803, Train: 0.3975, Val: 0.3950, Test: 0.3942\n",
      "Stopping training as validation accuracy did not improve for 100 epochs\n",
      "No. of graphs evaluated:  1367\n",
      "Run1 0.2931543290615082 0.4641944468021393 0.43668583035469055\n",
      "Epoch: 100, Loss: 1.0769, Train: 0.3975, Val: 0.3950, Test: 0.3643\n",
      "Stopping training as validation accuracy did not improve for 100 epochs\n",
      "No. of graphs evaluated:  1367\n",
      "Run2 0.2899254560470581 0.48774629831314087 0.4054414629936218\n",
      "Epoch: 100, Loss: 1.0822, Train: 0.3975, Val: 0.3950, Test: 0.3910\n",
      "Stopping training as validation accuracy did not improve for 100 epochs\n",
      "No. of graphs evaluated:  1367\n",
      "Run3 0.2902701497077942 0.4706496000289917 0.44292116165161133\n",
      "Epoch: 100, Loss: 1.0764, Train: 0.3975, Val: 0.3950, Test: 0.3643\n",
      "Stopping training as validation accuracy did not improve for 100 epochs\n",
      "No. of graphs evaluated:  1367\n",
      "Run4 0.28687426447868347 0.47989726066589355 0.4132227599620819\n",
      "Epoch: 100, Loss: 1.0766, Train: 0.3975, Val: 0.3950, Test: 0.3660\n",
      "Stopping training as validation accuracy did not improve for 100 epochs\n",
      "No. of graphs evaluated:  1367\n",
      "Run5 0.30017420649528503 0.47647973895072937 0.40774646401405334\n",
      "Epoch: 100, Loss: 1.0744, Train: 0.3975, Val: 0.3950, Test: 0.3623\n",
      "Stopping training as validation accuracy did not improve for 100 epochs\n",
      "No. of graphs evaluated:  1367\n",
      "Run6 0.30237966775894165 0.4680881202220917 0.47615450620651245\n",
      "Epoch: 100, Loss: 1.0724, Train: 0.3975, Val: 0.3950, Test: 0.3643\n",
      "Stopping training as validation accuracy did not improve for 100 epochs\n",
      "No. of graphs evaluated:  1367\n",
      "Run7 0.2949828803539276 0.4645039737224579 0.46598920226097107\n",
      "Epoch: 100, Loss: 1.0753, Train: 0.3975, Val: 0.3950, Test: 0.3856\n",
      "Stopping training as validation accuracy did not improve for 100 epochs\n",
      "No. of graphs evaluated:  1367\n",
      "Run8 0.30033549666404724 0.46795395016670227 0.4194560647010803\n",
      "Epoch: 100, Loss: 1.0799, Train: 0.3975, Val: 0.3950, Test: 0.3465\n",
      "Stopping training as validation accuracy did not improve for 100 epochs\n",
      "No. of graphs evaluated:  1367\n",
      "Run9 0.29231706261634827 0.49942636489868164 0.4055984318256378\n"
     ]
    }
   ],
   "source": [
    "for i in range(0,10):\n",
    "    device = 'cpu'\n",
    "    model = GCN(\n",
    "        in_channels=data.x.shape[1],\n",
    "        hidden_channels=64,\n",
    "        out_channels=4,\n",
    "    ).to(device)\n",
    "    \n",
    "    optimizer = torch.optim.Adam([\n",
    "    dict(params=model.conv1.parameters(), weight_decay=5e-4),\n",
    "    dict(params=model.conv2.parameters(), weight_decay=0),\n",
    "    dict(params=model.conv3.parameters(), weight_decay=0)\n",
    "    ], lr=0.005)   # Only perform weight-decay on first convolution.\n",
    "\n",
    "    best_val_acc = test_acc = 0\n",
    "    start_patience = patience = 100\n",
    "    #times = []\n",
    "    for epoch in range(1, 2000 + 1):\n",
    "        loss = train()\n",
    "        train_acc, val_acc, tmp_test_acc = test()\n",
    "        if val_acc > best_val_acc:\n",
    "            #best_val_acc = val_acc\n",
    "            test_acc = tmp_test_acc\n",
    "        if epoch%100==0:\n",
    "            log(Epoch=epoch, Loss=loss, Train=train_acc, Val=val_acc, Test=test_acc)\n",
    "        #times.append(time.time() - start)\n",
    "    \n",
    "        if (val_acc>best_val_acc):\n",
    "            patience = start_patience\n",
    "            best_val_acc = val_acc\n",
    "    \n",
    "        else:\n",
    "            patience -= 1\n",
    "            \n",
    "        if patience <= 0:\n",
    "            print('Stopping training as validation accuracy did not improve '\n",
    "                  f'for {start_patience} epochs')\n",
    "            break \n",
    "\n",
    "    all_edges = {}\n",
    "    softmax_dict = {}\n",
    "    nodefeature_dict = {}\n",
    "    graph_dict = {}\n",
    "\n",
    "    for filepath in glob.iglob(graphs_path + 'imdb_5to10/*.gexf'):\n",
    "    \n",
    "        graph = nx.read_gexf(filepath)\n",
    "    \n",
    "        filename = os.path.basename(filepath)\n",
    "        graph_id= filename.split('.')[0]\n",
    "\n",
    "        nodeId_list = [] \n",
    "        node_type_list = []\n",
    "    \n",
    "    \n",
    "        for key, value in graph.nodes(data=True):\n",
    "            nodeId_list.append(key)\n",
    "            node_type_list.append(value['node_type'])\n",
    "        \n",
    "        #Metagraph checking is not required since we are converting to homogeneous\n",
    "        small_graph = from_networkx(graph)\n",
    "        \n",
    "        small_graph.x = F.one_hot(torch.tensor(node_type_list), num_classes=len(nodetypes)).float()\n",
    "        \n",
    "\n",
    "        transform = T.RandomNodeSplit(split='train_rest', num_val=0.0, num_test=1.0)\n",
    "        small_graph = transform(small_graph)\n",
    "\n",
    "        \n",
    "        softmax = evaluate_gnn(small_graph)\n",
    "        softmax_dict[graph_id] = softmax\n",
    "\n",
    "    print(\"No. of graphs evaluated: \",len(softmax_dict))\n",
    "    avg_max_pred, max_pred, class_graphid = select_explanation.get_max_pred(softmax_dict,i)\n",
    "    \n",
    "    avg_max_pred_list.append(avg_max_pred)\n",
    "    max_pred_list.append(max_pred)\n",
    "    softmax_dict_list.append(softmax_dict)\n",
    "    class_graphid_list.append(class_graphid)"
   ]
  },
  {
   "cell_type": "code",
   "execution_count": 13,
   "id": "762ef9fc-ead5-4d68-86b5-579e0467786e",
   "metadata": {},
   "outputs": [
    {
     "data": {
      "text/plain": [
       "[0.403168261051178,\n",
       " 0.39801153540611267,\n",
       " 0.3943710724512736,\n",
       " 0.4012803037961324,\n",
       " 0.3933314283688863,\n",
       " 0.39480013648668927,\n",
       " 0.41554076472918194,\n",
       " 0.40849201877911884,\n",
       " 0.3959151705106099,\n",
       " 0.3991139531135559]"
      ]
     },
     "execution_count": 13,
     "metadata": {},
     "output_type": "execute_result"
    }
   ],
   "source": [
    "avg_max_pred_list"
   ]
  },
  {
   "cell_type": "code",
   "execution_count": 14,
   "id": "c35aa348-7b0c-409f-855b-7e2f108ba93b",
   "metadata": {},
   "outputs": [
    {
     "data": {
      "text/plain": [
       "0.40040246446927397"
      ]
     },
     "execution_count": 14,
     "metadata": {},
     "output_type": "execute_result"
    }
   ],
   "source": [
    "np.mean(avg_max_pred_list)"
   ]
  },
  {
   "cell_type": "code",
   "execution_count": 28,
   "id": "636e21f9-6104-46d1-a97c-0ab9ad680d41",
   "metadata": {},
   "outputs": [
    {
     "name": "stdout",
     "output_type": "stream",
     "text": [
      "Standard Deviation 0.006695559623436214\n"
     ]
    }
   ],
   "source": [
    "print('Standard Deviation',np.std(avg_max_pred_list))"
   ]
  },
  {
   "cell_type": "code",
   "execution_count": 15,
   "id": "412a9b78-cdc3-428c-8c85-9cb87cc77899",
   "metadata": {},
   "outputs": [
    {
     "data": {
      "text/plain": [
       "6"
      ]
     },
     "execution_count": 15,
     "metadata": {},
     "output_type": "execute_result"
    }
   ],
   "source": [
    "m = max(avg_max_pred_list)\n",
    "index = avg_max_pred_list.index(m)\n",
    "index"
   ]
  },
  {
   "cell_type": "code",
   "execution_count": 16,
   "id": "b59df8e4-fecc-445f-ac8f-e61592a34c51",
   "metadata": {},
   "outputs": [],
   "source": [
    "def plot_graph(graphid, max_pred, nodetype):\n",
    "    \n",
    "    graph=nx.read_gexf(graphs_path + 'imdb_5to10/' + graphid + '.gexf')\n",
    "    \n",
    "    print('Number of nodes: ',graph.number_of_nodes())\n",
    "    print('graph id: ',graphid)\n",
    "    print(f'Max pred probability for class {nodetype} is {max_pred}')\n",
    "\n",
    "    nx.draw(graph, \n",
    "    with_labels=False,\n",
    "             node_size=100)\n",
    "    plt.show()"
   ]
  },
  {
   "cell_type": "code",
   "execution_count": 17,
   "id": "0c09766b-17b8-46dc-b9aa-2547b95d86be",
   "metadata": {},
   "outputs": [],
   "source": [
    "class0_graphid = class_graphid_list[index][0]\n",
    "class1_graphid = class_graphid_list[index][1]\n",
    "class2_graphid = class_graphid_list[index][2]"
   ]
  },
  {
   "cell_type": "code",
   "execution_count": 18,
   "id": "696638c2-c4be-4d26-9836-619ad05336f3",
   "metadata": {},
   "outputs": [
    {
     "data": {
      "text/plain": [
       "'graph738'"
      ]
     },
     "execution_count": 18,
     "metadata": {},
     "output_type": "execute_result"
    }
   ],
   "source": [
    "class0_graphid"
   ]
  },
  {
   "cell_type": "code",
   "execution_count": 19,
   "id": "b1a2004a-3f15-4c9e-a58a-af89427383f4",
   "metadata": {},
   "outputs": [],
   "source": [
    "max_pred0 = max_pred_list[index][0]\n",
    "max_pred1 = max_pred_list[index][1]\n",
    "max_pred2 = max_pred_list[index][2]"
   ]
  },
  {
   "cell_type": "code",
   "execution_count": 20,
   "id": "e4459704-bdf8-4e06-b40f-bc0d5d401925",
   "metadata": {},
   "outputs": [
    {
     "name": "stdout",
     "output_type": "stream",
     "text": [
      "Number of nodes:  7\n",
      "graph id:  graph738\n",
      "Max pred probability for class 0 is 0.30237966775894165\n"
     ]
    },
    {
     "data": {
      "image/png": "[encoded data removed]",
      "text/plain": [
       "<Figure size 640x480 with 1 Axes>"
      ]
     },
     "metadata": {},
     "output_type": "display_data"
    }
   ],
   "source": [
    "explanation_graph0 = plot_graph(class0_graphid, max_pred0, 0)"
   ]
  },
  {
   "cell_type": "code",
   "execution_count": 21,
   "id": "9049c715-4003-44de-997f-1a2a403cfc9e",
   "metadata": {},
   "outputs": [
    {
     "name": "stdout",
     "output_type": "stream",
     "text": [
      "Number of nodes:  9\n",
      "graph id:  graph1121\n",
      "Max pred probability for class 1 is 0.4680881202220917\n"
     ]
    },
    {
     "data": {
      "image/png": "[encoded data removed]",
      "text/plain": [
       "<Figure size 640x480 with 1 Axes>"
      ]
     },
     "metadata": {},
     "output_type": "display_data"
    }
   ],
   "source": [
    "explanation_graph1 = plot_graph(class1_graphid, max_pred1, 1)"
   ]
  },
  {
   "cell_type": "code",
   "execution_count": 22,
   "id": "cf7a15df-c456-4774-a221-c5f466a424b4",
   "metadata": {},
   "outputs": [
    {
     "name": "stdout",
     "output_type": "stream",
     "text": [
      "Number of nodes:  10\n",
      "graph id:  graph1285\n",
      "Max pred probability for class 2 is 0.47615450620651245\n"
     ]
    },
    {
     "data": {
      "image/png": "[encoded data removed]",
      "text/plain": [
       "<Figure size 640x480 with 1 Axes>"
      ]
     },
     "metadata": {},
     "output_type": "display_data"
    }
   ],
   "source": [
    "explanation_graph2 = plot_graph(class2_graphid, max_pred2, 2)"
   ]
  },
  {
   "cell_type": "code",
   "execution_count": 2,
   "id": "277eb0dc-a2c3-426e-9033-d80970ebcffd",
   "metadata": {},
   "outputs": [],
   "source": [
    "motifs_path = '../../../common_motifs/imdb_5to10/'\n",
    "files_motif = os.listdir(motifs_path)"
   ]
  },
  {
   "cell_type": "code",
   "execution_count": 3,
   "id": "0d3eeae6-bf4d-4d14-84a4-403ded2ddda7",
   "metadata": {},
   "outputs": [
    {
     "name": "stdout",
     "output_type": "stream",
     "text": [
      "../../../common_motifs/imdb_5to10/motif_real_10_0.gexf\n",
      "../../../common_motifs/imdb_5to10/motif_real_10_1.gexf\n",
      "../../../common_motifs/imdb_5to10/motif_real_10_2.gexf\n",
      "../../../common_motifs/imdb_5to10/motif_real_10_3.gexf\n",
      "../../../common_motifs/imdb_5to10/motif_real_10_4.gexf\n",
      "../../../common_motifs/imdb_5to10/motif_real_5_0.gexf\n",
      "../../../common_motifs/imdb_5to10/motif_real_5_1.gexf\n",
      "../../../common_motifs/imdb_5to10/motif_real_5_2.gexf\n",
      "../../../common_motifs/imdb_5to10/motif_real_5_3.gexf\n",
      "../../../common_motifs/imdb_5to10/motif_real_5_4.gexf\n",
      "../../../common_motifs/imdb_5to10/motif_real_6_0.gexf\n",
      "../../../common_motifs/imdb_5to10/motif_real_6_1.gexf\n",
      "../../../common_motifs/imdb_5to10/motif_real_6_2.gexf\n",
      "../../../common_motifs/imdb_5to10/motif_real_6_3.gexf\n",
      "../../../common_motifs/imdb_5to10/motif_real_6_4.gexf\n",
      "../../../common_motifs/imdb_5to10/motif_real_7_0.gexf\n",
      "../../../common_motifs/imdb_5to10/motif_real_7_1.gexf\n",
      "../../../common_motifs/imdb_5to10/motif_real_7_2.gexf\n",
      "../../../common_motifs/imdb_5to10/motif_real_7_3.gexf\n",
      "../../../common_motifs/imdb_5to10/motif_real_7_4.gexf\n",
      "../../../common_motifs/imdb_5to10/motif_real_8_0.gexf\n",
      "../../../common_motifs/imdb_5to10/motif_real_8_1.gexf\n",
      "../../../common_motifs/imdb_5to10/motif_real_8_2.gexf\n",
      "../../../common_motifs/imdb_5to10/motif_real_8_3.gexf\n",
      "../../../common_motifs/imdb_5to10/motif_real_8_4.gexf\n",
      "../../../common_motifs/imdb_5to10/motif_real_9_0.gexf\n",
      "../../../common_motifs/imdb_5to10/motif_real_9_1.gexf\n",
      "../../../common_motifs/imdb_5to10/motif_real_9_2.gexf\n",
      "../../../common_motifs/imdb_5to10/motif_real_9_3.gexf\n",
      "../../../common_motifs/imdb_5to10/motif_real_9_4.gexf\n"
     ]
    }
   ],
   "source": [
    "for index_m, file_m in enumerate(files_motif):\n",
    "    filepath_m = os.path.join(motifs_path, file_m)\n",
    "    print(filepath_m)"
   ]
  },
  {
   "cell_type": "code",
   "execution_count": 25,
   "id": "f6299ffd-48c9-4d47-aecc-d8bb42a6058c",
   "metadata": {},
   "outputs": [],
   "source": [
    "def get_faithfulness(graphid_list):\n",
    "    class_faithfulness = []\n",
    "    for graphid in graphid_list:\n",
    "        expln_graph=nx.read_gexf(graphs_path + 'imdb_5to10/' + graphid + '.gexf')\n",
    "    \n",
    "        faith_score_list = []       \n",
    "        for index_m, file_m in enumerate(files_motif):\n",
    "            filepath_m = os.path.join(motifs_path, file_m)\n",
    "            \n",
    "            motif_graph = nx.read_gexf(filepath_m)\n",
    "\n",
    "            GM = nx.algorithms.isomorphism.GraphMatcher(expln_graph,motif_graph)\n",
    "            x = 1 if GM.subgraph_is_isomorphic() else 0    \n",
    "            faith_score_list.append(x)\n",
    "\n",
    "        class_faithfulness.append(np.mean(faith_score_list))\n",
    "\n",
    "    return np.mean(class_faithfulness)"
   ]
  },
  {
   "cell_type": "code",
   "execution_count": 26,
   "id": "a79d4639-9983-4c70-8e4f-9d8957a9a2e1",
   "metadata": {},
   "outputs": [
    {
     "name": "stdout",
     "output_type": "stream",
     "text": [
      "Run0 0.8444444444444446\n",
      "Run1 0.8444444444444446\n",
      "Run2 0.8444444444444446\n",
      "Run3 0.9\n",
      "Run4 0.8444444444444446\n",
      "Run5 0.8333333333333334\n",
      "Run6 0.8444444444444446\n",
      "Run7 0.8444444444444446\n",
      "Run8 0.8444444444444446\n",
      "Run9 0.9\n",
      "0.8544444444444446\n"
     ]
    }
   ],
   "source": [
    "faithfulness_list = []\n",
    "\n",
    "for i in range(0,10):\n",
    "    faithfulness = get_faithfulness(class_graphid_list[i])\n",
    "\n",
    "    print('Run'+str(i),faithfulness)\n",
    "    faithfulness_list.append(faithfulness)\n",
    "print(np.mean(faithfulness_list))"
   ]
  },
  {
   "cell_type": "code",
   "execution_count": 27,
   "id": "3a720fed-4a94-4ec8-87a1-1787ab72c0d9",
   "metadata": {},
   "outputs": [
    {
     "name": "stdout",
     "output_type": "stream",
     "text": [
      "Standard Deviation 0.02301368353023106\n"
     ]
    }
   ],
   "source": [
    "print('Standard Deviation',np.std(faithfulness_list))"
   ]
  },
  {
   "cell_type": "code",
   "execution_count": null,
   "id": "32a85e8b-b88d-43f1-938d-4b32a47554e6",
   "metadata": {},
   "outputs": [],
   "source": []
  },
  {
   "cell_type": "code",
   "execution_count": null,
   "id": "5e4e9f9e-7fe4-4f57-bb34-508ca4b6c14b",
   "metadata": {},
   "outputs": [],
   "source": []
  },
  {
   "cell_type": "code",
   "execution_count": null,
   "id": "e5acb8e8-e47a-48a5-bb44-15f7627c016e",
   "metadata": {},
   "outputs": [],
   "source": []
  },
  {
   "cell_type": "code",
   "execution_count": null,
   "id": "fef84dce-b184-4f8a-bc4a-c16c33163b72",
   "metadata": {},
   "outputs": [],
   "source": []
  }
 ],
 "metadata": {
  "kernelspec": {
   "display_name": "Python 3 (ipykernel)",
   "language": "python",
   "name": "python3"
  },
  "language_info": {
   "codemirror_mode": {
    "name": "ipython",
    "version": 3
   },
   "file_extension": ".py",
   "mimetype": "text/x-python",
   "name": "python",
   "nbconvert_exporter": "python",
   "pygments_lexer": "ipython3",
   "version": "3.10.6"
  }
 },
 "nbformat": 4,
 "nbformat_minor": 5
}
