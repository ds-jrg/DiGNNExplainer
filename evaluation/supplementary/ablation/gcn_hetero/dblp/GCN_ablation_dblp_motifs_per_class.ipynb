{
 "cells": [
  {
   "cell_type": "code",
   "execution_count": 1,
   "id": "d9e142e2-1672-4398-a14d-83bed396f8a2",
   "metadata": {},
   "outputs": [],
   "source": [
    "# This code works in Python 3.10.6\n",
    "import matplotlib.pyplot as plt\n",
    "import networkx as nx\n",
    "import torch\n",
    "import torch_geometric.utils\n",
    "#from torch_geometric.data import HeteroData\n",
    "import torch_geometric.transforms as T\n",
    "import torch.nn.functional as F\n",
    "#from torch_geometric.datasets.dblp import DBLP\n",
    "from torch_geometric.nn import GCNConv\n",
    "import time\n",
    "from torch_geometric.logging import log\n",
    "import os\n",
    "from collections import Counter\n",
    "import glob\n",
    "from torch_geometric.utils.convert import from_networkx\n",
    "import numpy as np"
   ]
  },
  {
   "cell_type": "code",
   "execution_count": 2,
   "id": "5e370a9d-8b8b-4a05-82af-2f1f05c29337",
   "metadata": {},
   "outputs": [],
   "source": [
    "data = torch.load('../../baseline_explainers/d4explainer/data/dblp/processed/data.pt')"
   ]
  },
  {
   "cell_type": "code",
   "execution_count": 3,
   "id": "2ff7ccd8-2857-4160-aeda-64f3a9057410",
   "metadata": {},
   "outputs": [
    {
     "data": {
      "text/plain": [
       "Data(edge_index=[2, 239566], x=[26128, 4], y=[26128], train_mask=[26128], val_mask=[26128], test_mask=[26128], node_type=[26128])"
      ]
     },
     "execution_count": 3,
     "metadata": {},
     "output_type": "execute_result"
    }
   ],
   "source": [
    "data"
   ]
  },
  {
   "cell_type": "code",
   "execution_count": 4,
   "id": "2b2fe9c7-9672-4d4a-a1b6-df21e5f6bb4c",
   "metadata": {},
   "outputs": [
    {
     "data": {
      "text/plain": [
       "tensor([[1., 0., 0., 0.],\n",
       "        [1., 0., 0., 0.],\n",
       "        [1., 0., 0., 0.],\n",
       "        ...,\n",
       "        [0., 0., 0., 1.],\n",
       "        [0., 0., 0., 1.],\n",
       "        [0., 0., 0., 1.]])"
      ]
     },
     "execution_count": 4,
     "metadata": {},
     "output_type": "execute_result"
    }
   ],
   "source": [
    "data.x"
   ]
  },
  {
   "cell_type": "code",
   "execution_count": 5,
   "id": "51c5683a-ac49-4355-a0ad-f7bf7536ad4c",
   "metadata": {},
   "outputs": [],
   "source": [
    "nodetypes = torch.unique(data.node_type)"
   ]
  },
  {
   "cell_type": "code",
   "execution_count": 6,
   "id": "8482f72f-3b44-4732-9bea-b19f4cf7ae7f",
   "metadata": {},
   "outputs": [],
   "source": [
    "device = 'cpu'\n",
    "class GCN(torch.nn.Module):\n",
    "    def __init__(self, in_channels, hidden_channels, out_channels):\n",
    "        super().__init__()\n",
    "        self.conv1 = GCNConv(in_channels, hidden_channels,\n",
    "                             )\n",
    "        self.conv2 = GCNConv(hidden_channels, hidden_channels,\n",
    "                             )\n",
    "        self.conv3 = GCNConv(hidden_channels, out_channels,\n",
    "                             )\n",
    "\n",
    "    def forward(self, x, edge_index, edge_weight=None):\n",
    "        x = F.dropout(x, p=0.3, training=self.training)\n",
    "        x = self.conv1(x, edge_index, edge_weight).relu()\n",
    "        x = F.dropout(x, p=0.3, training=self.training)\n",
    "        x = self.conv2(x, edge_index, edge_weight).relu()\n",
    "        x = F.dropout(x, p=0.3, training=self.training)\n",
    "        x = self.conv3(x, edge_index, edge_weight)\n",
    "        return x\n",
    "\n",
    "\n",
    "def train():\n",
    "    model.train()\n",
    "    optimizer.zero_grad()\n",
    "    out = model(data.x, data.edge_index)\n",
    "    loss = F.cross_entropy(out[data.train_mask], data.y[data.train_mask])\n",
    "    loss.backward()\n",
    "    optimizer.step()\n",
    "    return float(loss)\n",
    "\n",
    "\n",
    "@torch.no_grad()\n",
    "def test():\n",
    "    model.eval()\n",
    "    pred = model(data.x, data.edge_index).argmax(dim=-1)\n",
    "\n",
    "    accs = []\n",
    "    for mask in [data.train_mask, data.val_mask, data.test_mask]:\n",
    "        accs.append(int((pred[mask] == data.y[mask]).sum()) / int(mask.sum()))\n",
    "    return accs"
   ]
  },
  {
   "cell_type": "code",
   "execution_count": 7,
   "id": "d22d8606-a963-4c67-8a74-656f628f890c",
   "metadata": {},
   "outputs": [],
   "source": [
    "def evaluate_gnn(graph):\n",
    "    with torch.no_grad():\n",
    "        model.eval()\n",
    "        graph = graph.to(device)\n",
    "\n",
    "        # The pred is not used for accuracy, the softmax is used\n",
    "        out = model(graph.x.float(), graph.edge_index, graph.batch)\n",
    "        pred = out.argmax(dim=-1)\n",
    "\n",
    "        # Getting class prediction probabilities from the softmax layer\n",
    "        softmax = out.softmax(dim=-1)\n",
    "\n",
    "        return softmax.tolist()"
   ]
  },
  {
   "cell_type": "code",
   "execution_count": 8,
   "id": "3891bd1f-654a-445a-b84a-da08813e9729",
   "metadata": {},
   "outputs": [
    {
     "name": "stdout",
     "output_type": "stream",
     "text": [
      "Original no of graphs: 1416\n"
     ]
    }
   ],
   "source": [
    "graphs_path = '../../graph generator/diffusion models/sampled_graphs_diffusion/' \n",
    "print('Original no of graphs:',len([name for name in glob.iglob(graphs_path + 'dblp_10to15/*.gexf')]))"
   ]
  },
  {
   "cell_type": "code",
   "execution_count": 9,
   "id": "bd45699a-8ecd-4e54-b9b5-190a60756ad8",
   "metadata": {},
   "outputs": [],
   "source": [
    "avg_max_pred_list = []\n",
    "max_pred_list = []\n",
    "softmax_dict_list = []\n",
    "class_graphid_list = []"
   ]
  },
  {
   "cell_type": "code",
   "execution_count": 10,
   "id": "78a69643-aa45-40a7-8bad-47b85222f0ab",
   "metadata": {},
   "outputs": [],
   "source": [
    "def get_max_pred(softmax_dict,i):\n",
    "    #Getting the list of predictions for each class\n",
    "    prob_class0_dict = {}\n",
    "    prob_class1_dict = {}\n",
    "    prob_class2_dict = {}\n",
    "    prob_class3_dict = {}\n",
    "    for nodeid in softmax_dict:\n",
    "        list0= []\n",
    "        list1= []\n",
    "        list2= []\n",
    "        list3= []\n",
    "        if len(softmax_dict[nodeid]) > 0:\n",
    "            list0= []\n",
    "            list1= []\n",
    "            list2= []\n",
    "            list3= []\n",
    "    \n",
    "            for prob in softmax_dict[nodeid]:        \n",
    "                list0.append(prob[0])        \n",
    "                list1.append(prob[1]) \n",
    "                list2.append(prob[2]) \n",
    "                list3.append(prob[3])\n",
    "    \n",
    "         #Taking max probability of all nodes of each class in a graph\n",
    "        if len(list0) != 0:\n",
    "            prob_class0_dict[nodeid]=max(list0)\n",
    "        if len(list1) != 0:    \n",
    "            prob_class1_dict[nodeid]=max(list1)\n",
    "        if len(list2) != 0:    \n",
    "            prob_class2_dict[nodeid]=max(list2)\n",
    "        if len(list3) != 0:    \n",
    "            prob_class3_dict[nodeid]=max(list3)\n",
    "\n",
    "    max_pred0 = max(prob_class0_dict.values())\n",
    "    max_pred1 = max(prob_class1_dict.values())\n",
    "    max_pred2 = max(prob_class2_dict.values())\n",
    "    max_pred3 = max(prob_class3_dict.values())\n",
    "\n",
    "    print('Run'+str(i), max_pred0, max_pred1, max_pred2, max_pred3)\n",
    "    max_pred_list.append([max_pred0, max_pred1, max_pred2, max_pred3])\n",
    "\n",
    "    softmax_dict_list.append(softmax_dict)\n",
    "    \n",
    "    avg_max_pred = (max_pred0+max_pred1+max_pred2+max_pred3)/4\n",
    "    avg_max_pred_list.append(avg_max_pred)\n",
    "    \n",
    "    class0_graphid = max(prob_class0_dict, key=prob_class0_dict.get)\n",
    "    class1_graphid = max(prob_class1_dict, key=prob_class1_dict.get)\n",
    "    class2_graphid = max(prob_class2_dict, key=prob_class2_dict.get)\n",
    "    class3_graphid = max(prob_class3_dict, key=prob_class3_dict.get)\n",
    "\n",
    "    class_graphid_list.append([class0_graphid,class1_graphid,class2_graphid,class3_graphid])"
   ]
  },
  {
   "cell_type": "code",
   "execution_count": 11,
   "id": "cfc31cca-c507-461f-9962-ffb16f0c3b6d",
   "metadata": {},
   "outputs": [
    {
     "name": "stdout",
     "output_type": "stream",
     "text": [
      "Epoch: 100, Loss: 1.2876, Train: 0.4175, Val: 0.3325, Test: 0.3783\n",
      "Stopping training as validation accuracy did not improve for 100 epochs\n",
      "No. of graphs evaluated:  1416\n",
      "Run0 0.593814492225647 0.13523536920547485 0.9683535695075989 0.8626789450645447\n",
      "Epoch: 100, Loss: 1.2959, Train: 0.3950, Val: 0.3150, Test: 0.3743\n",
      "Stopping training as validation accuracy did not improve for 100 epochs\n",
      "No. of graphs evaluated:  1416\n",
      "Run1 0.6551328301429749 0.11901882290840149 0.9549248218536377 0.8046750426292419\n",
      "Epoch: 100, Loss: 1.2904, Train: 0.4100, Val: 0.3250, Test: 0.3755\n",
      "Stopping training as validation accuracy did not improve for 100 epochs\n",
      "No. of graphs evaluated:  1416\n",
      "Run2 0.5362724661827087 0.11443108320236206 0.9438018202781677 0.873037576675415\n",
      "Epoch: 100, Loss: 1.2927, Train: 0.3975, Val: 0.3250, Test: 0.3752\n",
      "Stopping training as validation accuracy did not improve for 100 epochs\n",
      "No. of graphs evaluated:  1416\n",
      "Run3 0.5418155193328857 0.1259716898202896 0.9486671090126038 0.8612974882125854\n",
      "Epoch: 100, Loss: 1.3013, Train: 0.4050, Val: 0.3175, Test: 0.3743\n",
      "Stopping training as validation accuracy did not improve for 100 epochs\n",
      "No. of graphs evaluated:  1416\n",
      "Run4 0.6441627740859985 0.1313883364200592 0.9775275588035583 0.7803517580032349\n",
      "Epoch: 100, Loss: 1.3012, Train: 0.4100, Val: 0.3300, Test: 0.3712\n",
      "Epoch: 200, Loss: 1.2799, Train: 0.4150, Val: 0.3350, Test: 0.3740\n",
      "Epoch: 300, Loss: 1.2789, Train: 0.4300, Val: 0.3425, Test: 0.3829\n",
      "Epoch: 400, Loss: 1.2567, Train: 0.4525, Val: 0.3375, Test: 0.3847\n",
      "Stopping training as validation accuracy did not improve for 100 epochs\n",
      "No. of graphs evaluated:  1416\n",
      "Run5 0.8229386806488037 0.136918306350708 0.9281953573226929 0.8422214388847351\n",
      "Epoch: 100, Loss: 1.3022, Train: 0.4100, Val: 0.3300, Test: 0.3758\n",
      "Stopping training as validation accuracy did not improve for 100 epochs\n",
      "No. of graphs evaluated:  1416\n",
      "Run6 0.6599969863891602 0.11360132694244385 0.9665082097053528 0.8529059290885925\n",
      "Epoch: 100, Loss: 1.2763, Train: 0.4075, Val: 0.3250, Test: 0.3694\n",
      "Epoch: 200, Loss: 1.2870, Train: 0.4150, Val: 0.3275, Test: 0.3798\n",
      "Epoch: 300, Loss: 1.2712, Train: 0.4300, Val: 0.3400, Test: 0.3801\n",
      "Stopping training as validation accuracy did not improve for 100 epochs\n",
      "No. of graphs evaluated:  1416\n",
      "Run7 0.8236909508705139 0.12567992508411407 0.9464171528816223 0.7717191576957703\n",
      "Epoch: 100, Loss: 1.2942, Train: 0.3875, Val: 0.3300, Test: 0.3749\n",
      "Stopping training as validation accuracy did not improve for 100 epochs\n",
      "No. of graphs evaluated:  1416\n",
      "Run8 0.47780606150627136 0.10886210203170776 0.969770073890686 0.8840668797492981\n",
      "Epoch: 100, Loss: 1.3021, Train: 0.3900, Val: 0.3275, Test: 0.3684\n",
      "Epoch: 200, Loss: 1.2987, Train: 0.4125, Val: 0.3300, Test: 0.3737\n",
      "Stopping training as validation accuracy did not improve for 100 epochs\n",
      "No. of graphs evaluated:  1416\n",
      "Run9 0.7831787467002869 0.12768614292144775 0.9568018317222595 0.7770443558692932\n"
     ]
    }
   ],
   "source": [
    "for i in range(0,10):\n",
    "    device = 'cpu'\n",
    "    model = GCN(\n",
    "        in_channels=data.x.shape[1],\n",
    "        hidden_channels=64,\n",
    "        out_channels=4,\n",
    "    ).to(device)\n",
    "    \n",
    "    optimizer = torch.optim.Adam([\n",
    "    dict(params=model.conv1.parameters(), weight_decay=5e-4),\n",
    "    dict(params=model.conv2.parameters(), weight_decay=0),\n",
    "    dict(params=model.conv3.parameters(), weight_decay=0)\n",
    "    ], lr=0.005)   # Only perform weight-decay on first convolution.\n",
    "\n",
    "    best_val_acc = test_acc = 0\n",
    "    start_patience = patience = 100\n",
    "    #times = []\n",
    "    for epoch in range(1, 2000 + 1):\n",
    "        loss = train()\n",
    "        train_acc, val_acc, tmp_test_acc = test()\n",
    "        if val_acc > best_val_acc:\n",
    "            #best_val_acc = val_acc\n",
    "            test_acc = tmp_test_acc\n",
    "        if epoch%100==0:\n",
    "            log(Epoch=epoch, Loss=loss, Train=train_acc, Val=val_acc, Test=test_acc)\n",
    "        #times.append(time.time() - start)\n",
    "    \n",
    "        if (val_acc>best_val_acc):\n",
    "            patience = start_patience\n",
    "            best_val_acc = val_acc\n",
    "    \n",
    "        else:\n",
    "            patience -= 1\n",
    "            \n",
    "        if patience <= 0:\n",
    "            print('Stopping training as validation accuracy did not improve '\n",
    "                  f'for {start_patience} epochs')\n",
    "            break \n",
    "\n",
    "    all_edges = {}\n",
    "    softmax_dict = {}\n",
    "    nodefeature_dict = {}\n",
    "    graph_dict = {}\n",
    "\n",
    "    for filepath in glob.iglob(graphs_path + 'dblp_10to15/*.gexf'):\n",
    "    \n",
    "        graph = nx.read_gexf(filepath)\n",
    "    \n",
    "        filename = os.path.basename(filepath)\n",
    "        graph_id= filename.split('.')[0]\n",
    "\n",
    "        nodeId_list = [] \n",
    "        node_type_list = []\n",
    "    \n",
    "    \n",
    "        for key, value in graph.nodes(data=True):\n",
    "            nodeId_list.append(key)\n",
    "            node_type_list.append(value['node_type'])\n",
    "        \n",
    "        #Metagraph checking is not required since we are converting to homogeneous\n",
    "        small_graph = from_networkx(graph)\n",
    "\n",
    "        small_graph.x = F.one_hot(torch.tensor(node_type_list), num_classes=len(nodetypes)).float()\n",
    "\n",
    "        transform = T.RandomNodeSplit(split='train_rest', num_val=0.0, num_test=1.0)\n",
    "        small_graph = transform(small_graph)\n",
    "        \n",
    "        softmax = evaluate_gnn(small_graph)\n",
    "        softmax_dict[graph_id] = softmax\n",
    "\n",
    "    print(\"No. of graphs evaluated: \",len(softmax_dict))\n",
    "    get_max_pred(softmax_dict,i)"
   ]
  },
  {
   "cell_type": "code",
   "execution_count": 12,
   "id": "762ef9fc-ead5-4d68-86b5-579e0467786e",
   "metadata": {},
   "outputs": [
    {
     "data": {
      "text/plain": [
       "[0.6400205940008163,\n",
       " 0.633437879383564,\n",
       " 0.6168857365846634,\n",
       " 0.6194379515945911,\n",
       " 0.6333576068282127,\n",
       " 0.6825684458017349,\n",
       " 0.6482531130313873,\n",
       " 0.6668767966330051,\n",
       " 0.6101262792944908,\n",
       " 0.6611777693033218]"
      ]
     },
     "execution_count": 12,
     "metadata": {},
     "output_type": "execute_result"
    }
   ],
   "source": [
    "avg_max_pred_list"
   ]
  },
  {
   "cell_type": "code",
   "execution_count": 13,
   "id": "c35aa348-7b0c-409f-855b-7e2f108ba93b",
   "metadata": {},
   "outputs": [
    {
     "data": {
      "text/plain": [
       "0.6412142172455788"
      ]
     },
     "execution_count": 13,
     "metadata": {},
     "output_type": "execute_result"
    }
   ],
   "source": [
    "np.mean(avg_max_pred_list)"
   ]
  },
  {
   "cell_type": "code",
   "execution_count": 14,
   "id": "68d9f392-b4e0-4b67-af8b-1ed2cb32724a",
   "metadata": {},
   "outputs": [
    {
     "name": "stdout",
     "output_type": "stream",
     "text": [
      "Standard Deviation 0.022300207986032265\n"
     ]
    }
   ],
   "source": [
    "print('Standard Deviation',np.std(avg_max_pred_list))"
   ]
  },
  {
   "cell_type": "code",
   "execution_count": 15,
   "id": "412a9b78-cdc3-428c-8c85-9cb87cc77899",
   "metadata": {},
   "outputs": [
    {
     "data": {
      "text/plain": [
       "5"
      ]
     },
     "execution_count": 15,
     "metadata": {},
     "output_type": "execute_result"
    }
   ],
   "source": [
    "m = max(avg_max_pred_list)\n",
    "index = avg_max_pred_list.index(m)\n",
    "index"
   ]
  },
  {
   "cell_type": "code",
   "execution_count": 16,
   "id": "b59df8e4-fecc-445f-ac8f-e61592a34c51",
   "metadata": {},
   "outputs": [],
   "source": [
    "def plot_graph(graphid, max_pred, nodetype):\n",
    "    \n",
    "    graph=nx.read_gexf(graphs_path + 'dblp_10to15/' + graphid + '.gexf')\n",
    "    \n",
    "    print('Number of nodes: ',graph.number_of_nodes())\n",
    "    print('graph id: ',graphid)\n",
    "    print(f'Max pred probability for class {nodetype} is {max_pred}')\n",
    "\n",
    "    nx.draw(graph, \n",
    "    with_labels=False,\n",
    "             node_size=100)\n",
    "    plt.show()"
   ]
  },
  {
   "cell_type": "code",
   "execution_count": 17,
   "id": "0c09766b-17b8-46dc-b9aa-2547b95d86be",
   "metadata": {},
   "outputs": [],
   "source": [
    "class0_graphid = class_graphid_list[index][0]\n",
    "class1_graphid = class_graphid_list[index][1]\n",
    "class2_graphid = class_graphid_list[index][2]\n",
    "class3_graphid = class_graphid_list[index][3]"
   ]
  },
  {
   "cell_type": "code",
   "execution_count": 18,
   "id": "696638c2-c4be-4d26-9836-619ad05336f3",
   "metadata": {},
   "outputs": [
    {
     "data": {
      "text/plain": [
       "'graph897'"
      ]
     },
     "execution_count": 18,
     "metadata": {},
     "output_type": "execute_result"
    }
   ],
   "source": [
    "class0_graphid"
   ]
  },
  {
   "cell_type": "code",
   "execution_count": 19,
   "id": "b1a2004a-3f15-4c9e-a58a-af89427383f4",
   "metadata": {},
   "outputs": [],
   "source": [
    "max_pred0 = max_pred_list[index][0]\n",
    "max_pred1 = max_pred_list[index][1]\n",
    "max_pred2 = max_pred_list[index][2]\n",
    "max_pred3 = max_pred_list[index][3]"
   ]
  },
  {
   "cell_type": "code",
   "execution_count": 20,
   "id": "e4459704-bdf8-4e06-b40f-bc0d5d401925",
   "metadata": {},
   "outputs": [
    {
     "name": "stdout",
     "output_type": "stream",
     "text": [
      "Number of nodes:  13\n",
      "graph id:  graph897\n",
      "Max pred probability for class 0 is 0.8229386806488037\n"
     ]
    },
    {
     "data": {
      "image/png": "[encoded data removed]",
      "text/plain": [
       "<Figure size 640x480 with 1 Axes>"
      ]
     },
     "metadata": {},
     "output_type": "display_data"
    }
   ],
   "source": [
    "explanation_graph0 = plot_graph(class0_graphid, max_pred0, 0)"
   ]
  },
  {
   "cell_type": "code",
   "execution_count": 21,
   "id": "9049c715-4003-44de-997f-1a2a403cfc9e",
   "metadata": {},
   "outputs": [
    {
     "name": "stdout",
     "output_type": "stream",
     "text": [
      "Number of nodes:  11\n",
      "graph id:  graph474\n",
      "Max pred probability for class 1 is 0.136918306350708\n"
     ]
    },
    {
     "data": {
      "image/png": "[encoded data removed]",
      "text/plain": [
       "<Figure size 640x480 with 1 Axes>"
      ]
     },
     "metadata": {},
     "output_type": "display_data"
    }
   ],
   "source": [
    "explanation_graph1 = plot_graph(class1_graphid, max_pred1, 1)"
   ]
  },
  {
   "cell_type": "code",
   "execution_count": 22,
   "id": "cf7a15df-c456-4774-a221-c5f466a424b4",
   "metadata": {},
   "outputs": [
    {
     "name": "stdout",
     "output_type": "stream",
     "text": [
      "Number of nodes:  11\n",
      "graph id:  graph265\n",
      "Max pred probability for class 2 is 0.9281953573226929\n"
     ]
    },
    {
     "data": {
      "image/png": "[encoded data removed]",
      "text/plain": [
       "<Figure size 640x480 with 1 Axes>"
      ]
     },
     "metadata": {},
     "output_type": "display_data"
    }
   ],
   "source": [
    "explanation_graph2 = plot_graph(class2_graphid, max_pred2, 2)"
   ]
  },
  {
   "cell_type": "code",
   "execution_count": 23,
   "id": "7661829a-ef5d-47b4-8932-77cec2dd9426",
   "metadata": {},
   "outputs": [
    {
     "name": "stdout",
     "output_type": "stream",
     "text": [
      "Number of nodes:  13\n",
      "graph id:  graph946\n",
      "Max pred probability for class 3 is 0.8422214388847351\n"
     ]
    },
    {
     "data": {
      "image/png": "[encoded data removed]",
      "text/plain": [
       "<Figure size 640x480 with 1 Axes>"
      ]
     },
     "metadata": {},
     "output_type": "display_data"
    }
   ],
   "source": [
    "explanation_graph3 = plot_graph(class3_graphid, max_pred3, 3)"
   ]
  },
  {
   "cell_type": "code",
   "execution_count": 24,
   "id": "bbd4293a-d666-4986-bab3-9ace4250178d",
   "metadata": {},
   "outputs": [],
   "source": [
    "motifs_path = 'motifs/dblp/'\n",
    "files_motif = os.listdir(motifs_path)"
   ]
  },
  {
   "cell_type": "code",
   "execution_count": 25,
   "id": "3d7c07df-078f-45f3-8aa2-91ff841d9fdf",
   "metadata": {},
   "outputs": [
    {
     "name": "stdout",
     "output_type": "stream",
     "text": [
      "motifs/dblp/ []\n",
      "motifs/dblp/class0 ['motif_real_dblp_17.gexf', 'motif_real_dblp_3.gexf', 'motif_real_dblp_35.gexf', 'motif_real_dblp_42.gexf', 'motif_real_dblp_5.gexf', 'motif_real_dblp_54.gexf', 'motif_real_dblp_76.gexf', 'motif_real_dblp_86.gexf', 'motif_real_dblp_90.gexf', 'motif_real_dblp_99.gexf']\n",
      "motifs/dblp/class1 ['motif_real_dblp_10.gexf', 'motif_real_dblp_13.gexf', 'motif_real_dblp_23.gexf', 'motif_real_dblp_31.gexf', 'motif_real_dblp_41.gexf', 'motif_real_dblp_47.gexf', 'motif_real_dblp_64.gexf', 'motif_real_dblp_75.gexf', 'motif_real_dblp_80.gexf', 'motif_real_dblp_91.gexf']\n",
      "motifs/dblp/class2 ['motif_real_dblp_15.gexf', 'motif_real_dblp_22.gexf', 'motif_real_dblp_39.gexf', 'motif_real_dblp_51.gexf', 'motif_real_dblp_56.gexf', 'motif_real_dblp_60.gexf', 'motif_real_dblp_72.gexf', 'motif_real_dblp_88.gexf', 'motif_real_dblp_97.gexf', 'motif_real_dblp_98.gexf']\n",
      "motifs/dblp/class3 ['motif_real_dblp_11.gexf', 'motif_real_dblp_24.gexf', 'motif_real_dblp_36.gexf', 'motif_real_dblp_43.gexf', 'motif_real_dblp_49.gexf', 'motif_real_dblp_6.gexf', 'motif_real_dblp_63.gexf', 'motif_real_dblp_66.gexf', 'motif_real_dblp_68.gexf', 'motif_real_dblp_73.gexf']\n"
     ]
    }
   ],
   "source": [
    "from os import walk\n",
    "w = walk(motifs_path)\n",
    "\n",
    "for (dirpath, dirnames, filenames) in w:\n",
    "    print(dirpath,filenames)"
   ]
  },
  {
   "cell_type": "code",
   "execution_count": 30,
   "id": "ac7a2dff-d4b1-40b5-b8fd-ade4b1e46638",
   "metadata": {},
   "outputs": [],
   "source": [
    "def get_avg_fidelity(graphid_list):\n",
    "    class_avg_fidelity = []\n",
    "    for i, graphid in enumerate(graphid_list):\n",
    "        \n",
    "        expln_graph=nx.read_gexf(graphs_path + 'dblp_10to15/' + graphid + '.gexf')\n",
    "    \n",
    "        fid_score_list = []     \n",
    "        path = motifs_path + 'class' + str(i) + '/'\n",
    "        \n",
    "        files_motif = os.listdir(path)\n",
    "        \n",
    "        for index_m, file_m in enumerate(files_motif):\n",
    "            filepath_m = os.path.join(path, file_m)\n",
    "            \n",
    "            motif_graph = nx.read_gexf(filepath_m)\n",
    "\n",
    "            GM = nx.algorithms.isomorphism.GraphMatcher(expln_graph,motif_graph)\n",
    "            x = 1 if GM.subgraph_is_isomorphic() else 0    \n",
    "            fid_score_list.append(x)\n",
    "\n",
    "        class_avg_fidelity.append(np.mean(fid_score_list))\n",
    "\n",
    "    return np.mean(class_avg_fidelity) "
   ]
  },
  {
   "cell_type": "code",
   "execution_count": 34,
   "id": "3b335b9d-93dd-437d-8613-1fe99c8e9299",
   "metadata": {},
   "outputs": [
    {
     "name": "stdout",
     "output_type": "stream",
     "text": [
      "Run0 0.75\n",
      "Run1 0.8\n",
      "Run2 0.825\n",
      "Run3 0.75\n",
      "Run4 0.825\n",
      "Run5 0.8\n",
      "Run6 0.75\n",
      "Run7 0.95\n",
      "Run8 0.825\n",
      "Run9 0.725\n",
      "0.8\n"
     ]
    }
   ],
   "source": [
    "avg_fidelity_list = []\n",
    "\n",
    "for i in range(0,10):\n",
    "    avg_fidelity = get_avg_fidelity(class_graphid_list[i])\n",
    "\n",
    "    print('Run'+str(i),avg_fidelity)\n",
    "    avg_fidelity_list.append(avg_fidelity)\n",
    "print(np.mean(avg_fidelity_list))"
   ]
  },
  {
   "cell_type": "code",
   "execution_count": 29,
   "id": "32a85e8b-b88d-43f1-938d-4b32a47554e6",
   "metadata": {},
   "outputs": [
    {
     "name": "stdout",
     "output_type": "stream",
     "text": [
      "Standard Deviation 0.06123724356957944\n"
     ]
    }
   ],
   "source": [
    "print('Standard Deviation',np.std(avg_fidelity_list))"
   ]
  },
  {
   "cell_type": "code",
   "execution_count": null,
   "id": "5e4e9f9e-7fe4-4f57-bb34-508ca4b6c14b",
   "metadata": {},
   "outputs": [],
   "source": []
  },
  {
   "cell_type": "code",
   "execution_count": null,
   "id": "e5acb8e8-e47a-48a5-bb44-15f7627c016e",
   "metadata": {},
   "outputs": [],
   "source": []
  },
  {
   "cell_type": "code",
   "execution_count": null,
   "id": "fef84dce-b184-4f8a-bc4a-c16c33163b72",
   "metadata": {},
   "outputs": [],
   "source": []
  }
 ],
 "metadata": {
  "kernelspec": {
   "display_name": "Python 3 (ipykernel)",
   "language": "python",
   "name": "python3"
  },
  "language_info": {
   "codemirror_mode": {
    "name": "ipython",
    "version": 3
   },
   "file_extension": ".py",
   "mimetype": "text/x-python",
   "name": "python",
   "nbconvert_exporter": "python",
   "pygments_lexer": "ipython3",
   "version": "3.10.6"
  }
 },
 "nbformat": 4,
 "nbformat_minor": 5
}
