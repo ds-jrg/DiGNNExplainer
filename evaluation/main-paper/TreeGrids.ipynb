{
 "cells": [
  {
   "cell_type": "code",
   "execution_count": 1,
   "id": "6fecbe2c-d2ec-43d7-bc65-b1a44498873b",
   "metadata": {
    "scrolled": true
   },
   "outputs": [],
   "source": [
    "import dgl\n",
    "from dgl.data import TreeGridDataset\n",
    "import torch\n",
    "import torch_geometric\n",
    "import torch_geometric.transforms as T"
   ]
  },
  {
   "cell_type": "code",
   "execution_count": 2,
   "id": "d36e0977-759d-4b89-91f7-ca95919e81f7",
   "metadata": {},
   "outputs": [],
   "source": [
    "import argparse\n",
    "import time\n",
    "import easydict\n",
    "from torch.nn import Linear\n",
    "import torch.nn.functional as F\n",
    "from torch_geometric.nn import GCNConv\n",
    "import networkx as nx\n",
    "import matplotlib.pyplot as plt\n",
    "import numpy as np"
   ]
  },
  {
   "cell_type": "code",
   "execution_count": 3,
   "id": "1f01a4e1-0075-4c10-8b44-34d7e756963a",
   "metadata": {},
   "outputs": [],
   "source": [
    "import torch_geometric.utils\n",
    "from torch_geometric.utils.convert import from_networkx\n",
    "from torch_geometric.logging import log\n",
    "import os\n",
    "import pandas as pd\n",
    "import glob\n",
    "import pickle"
   ]
  },
  {
   "cell_type": "code",
   "execution_count": 4,
   "id": "f1a64946-187d-46d7-8eba-a9f2a30309c5",
   "metadata": {},
   "outputs": [
    {
     "name": "stdout",
     "output_type": "stream",
     "text": [
      "Done loading data from cached files.\n"
     ]
    }
   ],
   "source": [
    "dataset = TreeGridDataset()\n",
    "g = dataset[0]"
   ]
  },
  {
   "cell_type": "code",
   "execution_count": 5,
   "id": "e5b1cb97-7113-4f6f-8c3f-dc2ac48bd2e9",
   "metadata": {},
   "outputs": [],
   "source": [
    "#Download file Tree_Grids.pkl from the dataset in https://github.com/Graph-and-Geometric-Learning/D4Explainer. Tree_Grids.pkl is required for the train/val/test splits."
   ]
  },
  {
   "cell_type": "code",
   "execution_count": 6,
   "id": "ffd4b139-e533-41a7-8987-55fa48d2ee03",
   "metadata": {},
   "outputs": [],
   "source": [
    "with open('Tree_Grids.pkl', 'rb') as fin:\n",
    "    adj, features, y_train, y_val, y_test, train_mask, val_mask, test_mask, edge_label_matrix  = pickle.load(fin)"
   ]
  },
  {
   "cell_type": "code",
   "execution_count": 7,
   "id": "0065bc51-a16d-44b2-9f24-4c530350eb6c",
   "metadata": {},
   "outputs": [
    {
     "data": {
      "text/plain": [
       "1231"
      ]
     },
     "execution_count": 7,
     "metadata": {},
     "output_type": "execute_result"
    }
   ],
   "source": [
    "len(adj)"
   ]
  },
  {
   "cell_type": "code",
   "execution_count": 8,
   "id": "247c4e9a-62ce-4b7f-9482-d5dd853ed58e",
   "metadata": {},
   "outputs": [],
   "source": [
    "g.ndata[\"train_mask\"] = torch.tensor(train_mask)\n",
    "g.ndata[\"val_mask\"] = torch.tensor(val_mask)\n",
    "g.ndata[\"test_mask\"] = torch.tensor(test_mask)"
   ]
  },
  {
   "cell_type": "code",
   "execution_count": 9,
   "id": "19fc04df-11df-41c7-9356-a5c456359faf",
   "metadata": {},
   "outputs": [
    {
     "data": {
      "text/plain": [
       "tensor([1, 1, 1,  ..., 0, 0, 0])"
      ]
     },
     "execution_count": 9,
     "metadata": {},
     "output_type": "execute_result"
    }
   ],
   "source": [
    "data = torch_geometric.utils.from_dgl(g)\n",
    "data.x = data.feat\n",
    "data.y = data.label\n",
    "data.pop('feat')\n",
    "data.pop('__orig__')\n",
    "data.pop('label')\n",
    "#data"
   ]
  },
  {
   "cell_type": "code",
   "execution_count": 10,
   "id": "521c2856-c4af-4f44-b061-568f8f339d99",
   "metadata": {},
   "outputs": [],
   "source": [
    "x = torch.tensor([1.0]*10)\n",
    "data.x = x.repeat(data.x.shape[0],1)"
   ]
  },
  {
   "cell_type": "code",
   "execution_count": 11,
   "id": "6395dee7-2ebc-444b-b812-6aceaf4fe8fb",
   "metadata": {},
   "outputs": [
    {
     "data": {
      "text/plain": [
       "tensor([[1., 1., 1.,  ..., 1., 1., 1.],\n",
       "        [1., 1., 1.,  ..., 1., 1., 1.],\n",
       "        [1., 1., 1.,  ..., 1., 1., 1.],\n",
       "        ...,\n",
       "        [1., 1., 1.,  ..., 1., 1., 1.],\n",
       "        [1., 1., 1.,  ..., 1., 1., 1.],\n",
       "        [1., 1., 1.,  ..., 1., 1., 1.]])"
      ]
     },
     "execution_count": 11,
     "metadata": {},
     "output_type": "execute_result"
    }
   ],
   "source": [
    "data.x"
   ]
  },
  {
   "cell_type": "code",
   "execution_count": 12,
   "id": "b9c23ecd-b1db-4b1e-acc6-459d3ff6d7f9",
   "metadata": {},
   "outputs": [
    {
     "data": {
      "text/plain": [
       "Data(edge_index=[2, 1705], train_mask=[1231], val_mask=[1231], test_mask=[1231], x=[1231, 10], y=[1231])"
      ]
     },
     "execution_count": 12,
     "metadata": {},
     "output_type": "execute_result"
    }
   ],
   "source": [
    "data"
   ]
  },
  {
   "cell_type": "code",
   "execution_count": 13,
   "id": "eb4d1d38-b73f-4531-9843-6163416cc70e",
   "metadata": {},
   "outputs": [],
   "source": [
    "parser = argparse.ArgumentParser()\n",
    "args = easydict.EasyDict({\n",
    "    \"dataset\": 'TreeGrid',\n",
    "    #\"batch_size\": 128,\n",
    "    # \"hidden_channels\": 64,\n",
    "    # \"lr\": 0.0005,\n",
    "    \"epochs\": 2000,\n",
    "})"
   ]
  },
  {
   "cell_type": "code",
   "execution_count": 14,
   "id": "8bd04be0-b2bd-4c46-9273-c459a8d4fcc4",
   "metadata": {},
   "outputs": [],
   "source": [
    "device = 'cpu'\n",
    "class GCN(torch.nn.Module):\n",
    "    def __init__(self, in_channels, hidden_channels, out_channels):\n",
    "        super().__init__()\n",
    "        self.conv1 = GCNConv(in_channels, hidden_channels,\n",
    "                             )\n",
    "        self.conv2 = GCNConv(hidden_channels, hidden_channels,\n",
    "                             )\n",
    "        self.conv3 = GCNConv(hidden_channels, out_channels,\n",
    "                             )\n",
    "\n",
    "    def forward(self, x, edge_index, edge_weight=None):\n",
    "        x = F.dropout(x, p=0.5, training=self.training)\n",
    "        x = self.conv1(x, edge_index, edge_weight).relu()\n",
    "        x = F.dropout(x, p=0.5, training=self.training)\n",
    "        x = self.conv2(x, edge_index, edge_weight).relu()\n",
    "        x = F.dropout(x, p=0.5, training=self.training)\n",
    "        x = self.conv3(x, edge_index, edge_weight)\n",
    "        return x\n",
    "\n",
    "\n",
    "def train():\n",
    "    model.train()\n",
    "    optimizer.zero_grad()\n",
    "    out = model(data.x, data.edge_index)\n",
    "\n",
    "    loss = F.cross_entropy(out[data.train_mask], data.y[data.train_mask])\n",
    "    loss.backward()\n",
    "    optimizer.step()\n",
    "    return float(loss)\n",
    "\n",
    "\n",
    "@torch.no_grad()\n",
    "def test():\n",
    "    model.eval()\n",
    "    pred = model(data.x, data.edge_index).argmax(dim=-1)\n",
    "\n",
    "    accs = []\n",
    "    for mask in [data.train_mask, data.val_mask, data.test_mask]:\n",
    "        accs.append(int((pred[mask] == data.y[mask]).sum()) / int(mask.sum()))\n",
    "    return accs"
   ]
  },
  {
   "cell_type": "code",
   "execution_count": 15,
   "id": "6f65c16c-d7de-43a0-bb46-9d9d034839e8",
   "metadata": {},
   "outputs": [],
   "source": [
    "def evaluate_gnn(graph):\n",
    "    with torch.no_grad():\n",
    "        model.eval()\n",
    "        graph = graph.to(device)\n",
    "        # The pred is not used for accuracy, the softmax is used\n",
    "        out = model(graph.x.float(), graph.edge_index, graph.batch)\n",
    "        pred = out.argmax(dim=-1)\n",
    "\n",
    "        # Getting class prediction probabilities from the softmax layer\n",
    "        softmax = out.softmax(dim=-1)\n",
    "\n",
    "        return softmax.tolist()"
   ]
  },
  {
   "cell_type": "code",
   "execution_count": 16,
   "id": "ac68d905-8c9b-4cc7-b07e-ce312c31c087",
   "metadata": {},
   "outputs": [
    {
     "name": "stdout",
     "output_type": "stream",
     "text": [
      "Original no of graphs: 1196\n"
     ]
    }
   ],
   "source": [
    "graphs_path = '../../graph generator/diffusion models/sampled_graphs_diffusion/' \n",
    "print('Original no of graphs:',len([name for name in glob.iglob(graphs_path + 'TreeGrid_10to15/*.gexf')]))"
   ]
  },
  {
   "cell_type": "code",
   "execution_count": 17,
   "id": "e5181a8c-87b7-44fe-8e08-c8d835234e19",
   "metadata": {},
   "outputs": [],
   "source": [
    "avg_max_pred_list = []\n",
    "max_pred_list = []\n",
    "graph_dict_list = []\n",
    "softmax_dict_list = []\n",
    "class_graphid_list = []"
   ]
  },
  {
   "cell_type": "code",
   "execution_count": 18,
   "id": "90803ef3-29ea-4707-96db-5e63ba3cde7f",
   "metadata": {},
   "outputs": [],
   "source": [
    "def get_max_pred(softmax_dict,i):\n",
    "    #Getting the list of predictions for each class\n",
    "    prob_class0_dict = {}\n",
    "    prob_class1_dict = {}\n",
    "\n",
    "    for nodeid in softmax_dict:\n",
    "        list0= []\n",
    "        list1= []\n",
    " \n",
    "        if len(softmax_dict[nodeid]) > 0:\n",
    "            list0= []\n",
    "            list1= []\n",
    "\n",
    "    \n",
    "            for prob in softmax_dict[nodeid]:        \n",
    "                list0.append(prob[0])        \n",
    "                list1.append(prob[1]) \n",
    "     \n",
    "    \n",
    "         #Taking max probability of all nodes of each class in a graph\n",
    "        if len(list0) != 0:\n",
    "            prob_class0_dict[nodeid]=max(list0)\n",
    "        if len(list1) != 0:    \n",
    "            prob_class1_dict[nodeid]=max(list1)\n",
    "\n",
    "\n",
    "    max_pred0 = max(prob_class0_dict.values())\n",
    "    max_pred1 = max(prob_class1_dict.values())\n",
    "\n",
    "\n",
    "    print('Run'+str(i), max_pred0, max_pred1)\n",
    "    max_pred_list.append([max_pred0, max_pred1])\n",
    "\n",
    "    graph_dict_list.append(graph_dict)\n",
    "    softmax_dict_list.append(softmax_dict)\n",
    "    \n",
    "    avg_max_pred = (max_pred0+max_pred1)/2\n",
    "    avg_max_pred_list.append(avg_max_pred)\n",
    "    \n",
    "    class0_graphid = max(prob_class0_dict, key=prob_class0_dict.get)\n",
    "    class1_graphid = max(prob_class1_dict, key=prob_class1_dict.get)\n",
    "\n",
    "\n",
    "    class_graphid_list.append([class0_graphid,class1_graphid])"
   ]
  },
  {
   "cell_type": "code",
   "execution_count": 19,
   "id": "174c90d3-d58a-4b8d-b15a-955f4f66629e",
   "metadata": {},
   "outputs": [
    {
     "name": "stdout",
     "output_type": "stream",
     "text": [
      "Epoch: 100, Loss: 0.6320, Train: 0.4248, Val: 0.3821, Test: 0.7500\n",
      "Stopping training as validation accuracy did not improve for 100 epochs\n",
      "No. of graphs evaluated:  1196\n",
      "Run0 0.6606975197792053 0.35886600613594055\n",
      "Epoch: 100, Loss: 0.6347, Train: 0.4248, Val: 0.3821, Test: 0.7500\n",
      "Stopping training as validation accuracy did not improve for 100 epochs\n",
      "No. of graphs evaluated:  1196\n",
      "Run1 0.6290929913520813 0.3820337653160095\n",
      "Epoch: 100, Loss: 0.6429, Train: 0.4248, Val: 0.3821, Test: 0.6371\n",
      "Stopping training as validation accuracy did not improve for 100 epochs\n",
      "No. of graphs evaluated:  1196\n",
      "Run2 0.6077994704246521 0.4006652235984802\n",
      "Epoch: 100, Loss: 0.6263, Train: 0.4248, Val: 0.3821, Test: 0.7500\n",
      "Stopping training as validation accuracy did not improve for 100 epochs\n",
      "No. of graphs evaluated:  1196\n",
      "Run3 0.6784277558326721 0.34692198038101196\n",
      "Epoch: 100, Loss: 0.6279, Train: 0.4248, Val: 0.3821, Test: 0.7500\n",
      "Stopping training as validation accuracy did not improve for 100 epochs\n",
      "No. of graphs evaluated:  1196\n",
      "Run4 0.6399834752082825 0.3669714629650116\n",
      "Epoch: 100, Loss: 0.6425, Train: 0.4248, Val: 0.3821, Test: 0.7500\n",
      "Stopping training as validation accuracy did not improve for 100 epochs\n",
      "No. of graphs evaluated:  1196\n",
      "Run5 0.6201845407485962 0.3985045254230499\n",
      "Epoch: 100, Loss: 0.6452, Train: 0.4248, Val: 0.3821, Test: 0.7339\n",
      "Stopping training as validation accuracy did not improve for 100 epochs\n",
      "No. of graphs evaluated:  1196\n",
      "Run6 0.6040058135986328 0.40412256121635437\n",
      "Epoch: 100, Loss: 0.6363, Train: 0.4248, Val: 0.3821, Test: 0.7339\n",
      "Stopping training as validation accuracy did not improve for 100 epochs\n",
      "No. of graphs evaluated:  1196\n",
      "Run7 0.6425953507423401 0.37630218267440796\n",
      "Epoch: 100, Loss: 0.6380, Train: 0.4248, Val: 0.3821, Test: 0.7500\n",
      "Stopping training as validation accuracy did not improve for 100 epochs\n",
      "No. of graphs evaluated:  1196\n",
      "Run8 0.6492055058479309 0.37376224994659424\n",
      "Epoch: 100, Loss: 0.6382, Train: 0.4248, Val: 0.3821, Test: 0.7661\n",
      "Stopping training as validation accuracy did not improve for 100 epochs\n",
      "No. of graphs evaluated:  1196\n",
      "Run9 0.6059378385543823 0.4085395336151123\n"
     ]
    }
   ],
   "source": [
    "for i in range(0,10):\n",
    "    device = 'cpu'\n",
    "    model = GCN(\n",
    "        in_channels=data.x.shape[1],\n",
    "        hidden_channels=64,\n",
    "        out_channels=2,\n",
    "    ).to(device)\n",
    "    \n",
    "    optimizer = torch.optim.Adam([\n",
    "    dict(params=model.conv1.parameters(), weight_decay=5e-4),\n",
    "    dict(params=model.conv2.parameters(), weight_decay=0),\n",
    "    dict(params=model.conv3.parameters(), weight_decay=0)\n",
    "    ], lr=0.005)  # Only perform weight-decay on first convolution.\n",
    "\n",
    "    best_val_acc = test_acc = 0\n",
    "    start_patience = patience = 100\n",
    "    #times = []\n",
    "    for epoch in range(1, 2000 + 1):\n",
    "        loss = train()\n",
    "        train_acc, val_acc, tmp_test_acc = test()\n",
    "        if val_acc > best_val_acc:\n",
    "            test_acc = tmp_test_acc\n",
    "        if epoch%100==0:\n",
    "            log(Epoch=epoch, Loss=loss, Train=train_acc, Val=val_acc, Test=test_acc)\n",
    "        #times.append(time.time() - start)\n",
    "    \n",
    "        if (val_acc>best_val_acc):\n",
    "            patience = start_patience\n",
    "            best_val_acc = val_acc\n",
    "    \n",
    "        else:\n",
    "            patience -= 1\n",
    "            \n",
    "        if patience <= 0:\n",
    "            print('Stopping training as validation accuracy did not improve '\n",
    "                  f'for {start_patience} epochs')\n",
    "            break \n",
    "\n",
    "    all_edges = {}\n",
    "    softmax_dict = {}\n",
    "    nodefeature_dict = {}\n",
    "    graph_dict = {}\n",
    "\n",
    "    for filepath in glob.iglob(graphs_path + 'TreeGrid_10to15/*.gexf'):\n",
    "    \n",
    "        graph = nx.read_gexf(filepath)\n",
    "    \n",
    "        filename = os.path.basename(filepath)\n",
    "        graph_id= filename.split('.')[0]\n",
    "\n",
    "        small_graph = from_networkx(graph)\n",
    "        #x = torch.tensor([1.0,0.0])\n",
    "        x = torch.tensor([1.0]*10)\n",
    "        small_graph.x= x.repeat(small_graph.num_nodes,1)\n",
    "        small_graph.y = small_graph.pop('node_type')\n",
    "        transform=T.Constant(node_types='conference')\n",
    "        small_graph = transform(small_graph)\n",
    "        transform = T.RandomNodeSplit(split='train_rest', num_val=0.0, num_test=1.0)\n",
    "        small_graph = transform(small_graph)\n",
    "    \n",
    "        small_graph.pop('mode')\n",
    "        small_graph.pop('weight')\n",
    "        small_graph.pop('label')\n",
    "        small_graph.pop('id')\n",
    "        small_graph.pop('num_nodes')\n",
    "        #print(small_graph)\n",
    "        \n",
    "        softmax = evaluate_gnn(small_graph)\n",
    "        softmax_dict[graph_id] = softmax\n",
    "        graph_dict[graph_id]=graph\n",
    "\n",
    "    print(\"No. of graphs evaluated: \",len(softmax_dict))\n",
    "    get_max_pred(softmax_dict,i)\n"
   ]
  },
  {
   "cell_type": "code",
   "execution_count": 20,
   "id": "e98b72ec-7042-43f8-a729-911719bc5773",
   "metadata": {},
   "outputs": [
    {
     "data": {
      "text/plain": [
       "[0.5097817629575729,\n",
       " 0.5055633783340454,\n",
       " 0.5042323470115662,\n",
       " 0.512674868106842,\n",
       " 0.503477469086647,\n",
       " 0.5093445330858231,\n",
       " 0.5040641874074936,\n",
       " 0.509448766708374,\n",
       " 0.5114838778972626,\n",
       " 0.5072386860847473]"
      ]
     },
     "execution_count": 20,
     "metadata": {},
     "output_type": "execute_result"
    }
   ],
   "source": [
    "avg_max_pred_list"
   ]
  },
  {
   "cell_type": "code",
   "execution_count": 21,
   "id": "967a8f91-a894-4aca-bda8-332ae3e386e4",
   "metadata": {},
   "outputs": [
    {
     "data": {
      "text/plain": [
       "0.5077309876680374"
      ]
     },
     "execution_count": 21,
     "metadata": {},
     "output_type": "execute_result"
    }
   ],
   "source": [
    "np.mean(avg_max_pred_list)"
   ]
  },
  {
   "cell_type": "code",
   "execution_count": 22,
   "id": "1f9dbbea-29ff-489a-bc88-cde53aa5e079",
   "metadata": {},
   "outputs": [
    {
     "data": {
      "text/plain": [
       "3"
      ]
     },
     "execution_count": 22,
     "metadata": {},
     "output_type": "execute_result"
    }
   ],
   "source": [
    "m = max(avg_max_pred_list)\n",
    "index = avg_max_pred_list.index(m)\n",
    "index"
   ]
  },
  {
   "cell_type": "code",
   "execution_count": 23,
   "id": "22cf81a7-b923-471a-b64d-45246838f2ef",
   "metadata": {},
   "outputs": [
    {
     "data": {
      "text/plain": [
       "[['graph1182', 'graph855'],\n",
       " ['graph811', 'graph855'],\n",
       " ['graph1016', 'graph855'],\n",
       " ['graph1182', 'graph855'],\n",
       " ['graph54', 'graph225'],\n",
       " ['graph1109', 'graph477'],\n",
       " ['graph911', 'graph225'],\n",
       " ['graph1109', 'graph245'],\n",
       " ['graph1016', 'graph477'],\n",
       " ['graph54', 'graph477']]"
      ]
     },
     "execution_count": 23,
     "metadata": {},
     "output_type": "execute_result"
    }
   ],
   "source": [
    "class_graphid_list"
   ]
  },
  {
   "cell_type": "code",
   "execution_count": 24,
   "id": "26fff878-e162-4ff5-bba2-4ac6f8e45726",
   "metadata": {},
   "outputs": [],
   "source": [
    "def plot_graph(graphid, max_pred, nodetype):\n",
    "    \n",
    "    graph=nx.read_gexf(graphs_path + 'TreeGrid_10to15/' + graphid + '.gexf')\n",
    "    \n",
    "    print('Number of nodes: ',graph.number_of_nodes())\n",
    "    print('graph id: ',graphid)\n",
    "    print(f'Max pred probability for class {nodetype} is {max_pred}')\n",
    "\n",
    "    nx.draw(graph, \n",
    "    with_labels=False,\n",
    "             node_size=100)\n",
    "    plt.show()"
   ]
  },
  {
   "cell_type": "code",
   "execution_count": 25,
   "id": "ce6a0cd6-f843-4d68-b674-17197a39bdbd",
   "metadata": {},
   "outputs": [],
   "source": [
    "class0_graphid = class_graphid_list[index][0]\n",
    "class1_graphid = class_graphid_list[index][1]"
   ]
  },
  {
   "cell_type": "code",
   "execution_count": 26,
   "id": "229cf0d8-b3dd-4ded-bf84-e28f3b624643",
   "metadata": {},
   "outputs": [],
   "source": [
    "max_pred0 = max_pred_list[index][0]\n",
    "max_pred1 = max_pred_list[index][1]"
   ]
  },
  {
   "cell_type": "code",
   "execution_count": 27,
   "id": "4c1a418e-5302-4db5-9845-c84caf7e8f65",
   "metadata": {},
   "outputs": [
    {
     "name": "stdout",
     "output_type": "stream",
     "text": [
      "Number of nodes:  15\n",
      "graph id:  graph1182\n",
      "Max pred probability for class 0 is 0.6784277558326721\n"
     ]
    },
    {
     "data": {
      "image/png": "[encoded data removed]",
      "text/plain": [
       "<Figure size 640x480 with 1 Axes>"
      ]
     },
     "metadata": {},
     "output_type": "display_data"
    }
   ],
   "source": [
    "explanation_graph0 = plot_graph(class0_graphid, max_pred0, 0)"
   ]
  },
  {
   "cell_type": "code",
   "execution_count": 28,
   "id": "3e0b7648-f409-4fe1-b85c-c2de113a5771",
   "metadata": {},
   "outputs": [
    {
     "name": "stdout",
     "output_type": "stream",
     "text": [
      "Number of nodes:  14\n",
      "graph id:  graph855\n",
      "Max pred probability for class 1 is 0.34692198038101196\n"
     ]
    },
    {
     "data": {
      "image/png": "[encoded data removed]",
      "text/plain": [
       "<Figure size 640x480 with 1 Axes>"
      ]
     },
     "metadata": {},
     "output_type": "display_data"
    }
   ],
   "source": [
    "explanation_graph1 = plot_graph(class1_graphid, max_pred1, 1)"
   ]
  },
  {
   "cell_type": "code",
   "execution_count": 29,
   "id": "7e2f0ab8-02e0-4a0d-9ba5-1728b36d0f9b",
   "metadata": {},
   "outputs": [],
   "source": [
    "motifs_path = '../motifs/TreeGrids/'\n",
    "files_motif = os.listdir(motifs_path)"
   ]
  },
  {
   "cell_type": "code",
   "execution_count": null,
   "id": "f37677d4-5908-45de-80ec-1ee98604995f",
   "metadata": {},
   "outputs": [],
   "source": [
    "for index_m, file_m in enumerate(files_motif):\n",
    "    filepath_m = os.path.join(motifs_path, file_m)\n",
    "    print(filepath_m)"
   ]
  },
  {
   "cell_type": "code",
   "execution_count": 31,
   "id": "e7d00960-ce62-430f-80a6-b125495249f1",
   "metadata": {},
   "outputs": [],
   "source": [
    "def get_faithfulness(graphid_list):\n",
    "    class_faithfulness = []\n",
    "    for graphid in graphid_list:\n",
    "        expln_graph=nx.read_gexf(graphs_path + 'TreeGrid_10to15/' + graphid + '.gexf')\n",
    "        \n",
    "        faith_score_list = []\n",
    "        for index_m, file_m in enumerate(files_motif):\n",
    "            filepath_m = os.path.join(motifs_path, file_m)\n",
    "            \n",
    "            motif_graph = nx.read_gexf(filepath_m)\n",
    "\n",
    "            GM = nx.algorithms.isomorphism.GraphMatcher(expln_graph,motif_graph)\n",
    "            x = 1 if GM.subgraph_is_isomorphic() else 0    \n",
    "            faith_score_list.append(x)\n",
    "\n",
    "        class_faithfulness.append(np.mean(faith_score_list))\n",
    "\n",
    "    return np.mean(class_faithfulness)"
   ]
  },
  {
   "cell_type": "code",
   "execution_count": 32,
   "id": "c4cd79ca-4abe-40ab-94e2-86a04c98c194",
   "metadata": {},
   "outputs": [
    {
     "name": "stdout",
     "output_type": "stream",
     "text": [
      "Run0 1.0\n",
      "Run1 1.0\n",
      "Run2 1.0\n",
      "Run3 1.0\n",
      "Run4 0.6333333333333333\n",
      "Run5 1.0\n",
      "Run6 0.6666666666666666\n",
      "Run7 0.6666666666666666\n",
      "Run8 1.0\n",
      "Run9 0.9666666666666667\n",
      "0.8933333333333333\n"
     ]
    }
   ],
   "source": [
    "faithfulness_list = []\n",
    "\n",
    "for i in range(0,10):\n",
    "    faithfulness = get_faithfulness(class_graphid_list[i])\n",
    "\n",
    "    print('Run'+str(i),faithfulness)\n",
    "    faithfulness_list.append(faithfulness)\n",
    "print(np.mean(faithfulness_list))"
   ]
  },
  {
   "cell_type": "code",
   "execution_count": null,
   "id": "f92b22f3-b31c-401e-98c6-42714072a064",
   "metadata": {},
   "outputs": [],
   "source": []
  },
  {
   "cell_type": "code",
   "execution_count": null,
   "id": "e1c6e232-58de-42aa-b3e5-5d5919a7bfe7",
   "metadata": {},
   "outputs": [],
   "source": []
  },
  {
   "cell_type": "code",
   "execution_count": null,
   "id": "eb3e2b3e-edc8-4a34-8ad0-1bacc79c5d15",
   "metadata": {},
   "outputs": [],
   "source": []
  }
 ],
 "metadata": {
  "kernelspec": {
   "display_name": "Python 3 (ipykernel)",
   "language": "python",
   "name": "python3"
  },
  "language_info": {
   "codemirror_mode": {
    "name": "ipython",
    "version": 3
   },
   "file_extension": ".py",
   "mimetype": "text/x-python",
   "name": "python",
   "nbconvert_exporter": "python",
   "pygments_lexer": "ipython3",
   "version": "3.10.6"
  }
 },
 "nbformat": 4,
 "nbformat_minor": 5
}
