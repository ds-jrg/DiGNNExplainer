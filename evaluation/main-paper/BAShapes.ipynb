{
 "cells": [
  {
   "cell_type": "code",
   "execution_count": 1,
   "id": "6fecbe2c-d2ec-43d7-bc65-b1a44498873b",
   "metadata": {},
   "outputs": [],
   "source": [
    "import dgl\n",
    "from dgl.data import BAShapeDataset\n",
    "import torch\n",
    "import torch_geometric\n",
    "import torch_geometric.transforms as T"
   ]
  },
  {
   "cell_type": "code",
   "execution_count": 2,
   "id": "d36e0977-759d-4b89-91f7-ca95919e81f7",
   "metadata": {},
   "outputs": [],
   "source": [
    "import argparse\n",
    "import time\n",
    "import easydict\n",
    "from torch.nn import Linear\n",
    "import torch.nn.functional as F\n",
    "from torch_geometric.nn import GCNConv\n",
    "import networkx as nx\n",
    "import matplotlib.pyplot as plt\n",
    "import numpy as np"
   ]
  },
  {
   "cell_type": "code",
   "execution_count": 3,
   "id": "1f01a4e1-0075-4c10-8b44-34d7e756963a",
   "metadata": {},
   "outputs": [],
   "source": [
    "import torch_geometric.utils\n",
    "from torch_geometric.utils.convert import from_networkx\n",
    "from torch_geometric.logging import log\n",
    "import os\n",
    "import pandas as pd\n",
    "import glob\n",
    "import pickle"
   ]
  },
  {
   "cell_type": "code",
   "execution_count": 4,
   "id": "f1a64946-187d-46d7-8eba-a9f2a30309c5",
   "metadata": {},
   "outputs": [
    {
     "name": "stdout",
     "output_type": "stream",
     "text": [
      "Done loading data from cached files.\n"
     ]
    }
   ],
   "source": [
    "dataset = BAShapeDataset()\n",
    "g = dataset[0]"
   ]
  },
  {
   "cell_type": "code",
   "execution_count": 5,
   "id": "a327a04c-407d-4b05-ae96-c385b4a747d4",
   "metadata": {},
   "outputs": [
    {
     "data": {
      "text/plain": [
       "Graph(num_nodes=700, num_edges=2055,\n",
       "      ndata_schemes={'feat': Scheme(shape=(1,), dtype=torch.float32), 'label': Scheme(shape=(), dtype=torch.int64)}\n",
       "      edata_schemes={'__orig__': Scheme(shape=(), dtype=torch.int64)})"
      ]
     },
     "execution_count": 5,
     "metadata": {},
     "output_type": "execute_result"
    }
   ],
   "source": [
    "g"
   ]
  },
  {
   "cell_type": "code",
   "execution_count": 6,
   "id": "cd45ac5e-11f3-4339-ba88-37c373000693",
   "metadata": {},
   "outputs": [],
   "source": [
    "#Download file BA_shapes.pkl from the dataset in https://github.com/Graph-and-Geometric-Learning/D4Explainer. BA_shapes.pkl is required for the train/val/test splits."
   ]
  },
  {
   "cell_type": "code",
   "execution_count": 9,
   "id": "ffd4b139-e533-41a7-8987-55fa48d2ee03",
   "metadata": {},
   "outputs": [],
   "source": [
    "with open('BA_shapes.pkl', 'rb') as fin:\n",
    "    adj, features, y_train, y_val, y_test, train_mask, val_mask, test_mask, edge_label_matrix  = pickle.load(fin)"
   ]
  },
  {
   "cell_type": "code",
   "execution_count": 10,
   "id": "88d3c8e4-bc86-42fb-a33b-7fad4a70b97b",
   "metadata": {},
   "outputs": [],
   "source": [
    "#features"
   ]
  },
  {
   "cell_type": "code",
   "execution_count": 11,
   "id": "247c4e9a-62ce-4b7f-9482-d5dd853ed58e",
   "metadata": {},
   "outputs": [],
   "source": [
    "g.ndata[\"train_mask\"] = torch.tensor(train_mask)\n",
    "g.ndata[\"val_mask\"] = torch.tensor(val_mask)\n",
    "g.ndata[\"test_mask\"] = torch.tensor(test_mask)"
   ]
  },
  {
   "cell_type": "code",
   "execution_count": 12,
   "id": "19fc04df-11df-41c7-9356-a5c456359faf",
   "metadata": {},
   "outputs": [
    {
     "data": {
      "text/plain": [
       "tensor([2, 2, 2, 2, 2, 2, 2, 2, 2, 2, 2, 2, 2, 2, 2, 2, 2, 2, 2, 2, 2, 2, 2, 2,\n",
       "        2, 2, 2, 2, 2, 2, 2, 2, 2, 2, 2, 2, 2, 2, 2, 2, 2, 2, 2, 2, 2, 1, 2, 3,\n",
       "        2, 2, 2, 2, 2, 2, 2, 1, 2, 3, 1, 2, 3, 2, 1, 2, 3, 2, 2, 1, 2, 3, 2, 2,\n",
       "        1, 2, 3, 1, 2, 3, 1, 2, 3, 2, 1, 2, 3, 1, 2, 3, 2, 1, 2, 3, 2, 2, 1, 2,\n",
       "        3, 1, 2, 3, 2, 1, 3, 2, 1, 2, 3, 1, 2, 3, 2, 2, 1, 2, 3, 1, 2, 3, 1, 2,\n",
       "        3, 2, 1, 3, 1, 2, 3, 1, 2, 3, 1, 2, 3, 1, 2, 3, 2, 3, 1, 2, 3, 2, 1, 2,\n",
       "        3, 1, 2, 3, 1, 2, 3, 1, 2, 3, 2, 2, 1, 2, 3, 1, 2, 3, 1, 2, 3, 1, 2, 3,\n",
       "        1, 2, 3, 2, 1, 2, 3, 1, 2, 3, 1, 2, 3, 1, 2, 3, 1, 2, 3, 1, 2, 3, 1, 2,\n",
       "        3, 2, 1, 2, 3, 1, 3, 2, 1, 2, 3, 1, 2, 3, 2, 1, 2, 3, 1, 2, 3, 1, 1, 2,\n",
       "        3, 2, 1, 3, 2, 1, 2, 3, 1, 2, 3, 1, 2, 3, 2, 3, 1, 2, 3, 2, 1, 2, 3, 1,\n",
       "        2, 3, 2, 1, 1, 1, 2, 3, 2, 1, 2, 3, 1, 1, 2, 3, 1, 2, 3, 1, 1, 2, 3, 1,\n",
       "        2, 3, 1, 1, 3, 1, 1, 2, 3, 1, 1, 2, 1, 1, 2, 3, 1, 1, 2, 3, 1, 2, 3, 1,\n",
       "        1, 1, 2, 3, 1, 1, 2, 3, 1, 1, 1, 1, 2, 3, 1, 1, 1, 1, 2, 3, 1, 1, 1, 1,\n",
       "        1, 1, 1, 2, 1, 2, 3, 1, 1, 1, 1, 1, 2, 1, 2, 3, 1, 1, 1, 1, 1, 3, 1, 0,\n",
       "        0, 0, 1, 1, 1, 1, 1, 1, 2, 1, 1, 1, 1, 2, 1, 1, 0, 0, 0, 0, 1, 1, 1, 1,\n",
       "        1, 1, 0, 1, 1, 1, 2, 3, 1, 2, 0, 0, 1, 1, 1, 2, 3, 0, 0, 0, 0, 0, 1, 1,\n",
       "        2, 3, 0, 1, 0, 1, 0, 0, 0, 0, 0, 1, 0, 3, 0, 0, 0, 1, 1, 0, 0, 0, 0, 0,\n",
       "        0, 0, 0, 0, 0, 0, 0, 0, 0, 0, 0, 1, 0, 0, 1, 0, 0, 0, 0, 2, 0, 0, 0, 1,\n",
       "        0, 1, 1, 0, 0, 0, 1, 0, 0, 1, 0, 0, 0, 0, 0, 0, 0, 0, 0, 0, 1, 0, 0, 0,\n",
       "        0, 0, 0, 0, 0, 0, 0, 0, 0, 0, 0, 0, 0, 0, 0, 0, 0, 0, 0, 0, 0, 1, 0, 0,\n",
       "        0, 0, 0, 0, 0, 0, 0, 0, 0, 0, 0, 0, 0, 0, 0, 0, 0, 0, 0, 0, 0, 0, 0, 0,\n",
       "        0, 1, 0, 0, 0, 0, 0, 0, 0, 0, 0, 0, 0, 0, 1, 0, 0, 0, 0, 0, 0, 0, 0, 0,\n",
       "        1, 0, 0, 0, 0, 0, 0, 0, 0, 0, 0, 0, 0, 0, 0, 0, 0, 0, 0, 0, 0, 0, 0, 0,\n",
       "        0, 1, 0, 0, 0, 0, 0, 0, 0, 0, 0, 0, 0, 0, 0, 0, 0, 0, 0, 0, 0, 0, 0, 0,\n",
       "        0, 0, 0, 0, 0, 0, 0, 0, 0, 0, 0, 0, 0, 0, 0, 0, 0, 0, 0, 0, 0, 0, 0, 0,\n",
       "        0, 0, 0, 0, 0, 0, 0, 0, 0, 0, 0, 0, 0, 0, 0, 0, 1, 2, 0, 0, 0, 0, 0, 0,\n",
       "        0, 0, 1, 0, 0, 0, 0, 0, 0, 0, 0, 0, 0, 0, 1, 0, 0, 0, 0, 0, 0, 0, 0, 0,\n",
       "        0, 0, 0, 0, 0, 0, 0, 0, 0, 0, 0, 0, 0, 0, 0, 0, 0, 0, 0, 0, 0, 0, 0, 0,\n",
       "        0, 0, 0, 0, 0, 0, 0, 0, 0, 0, 0, 0, 0, 0, 0, 0, 0, 0, 0, 0, 0, 0, 0, 2,\n",
       "        2, 1, 1, 3])"
      ]
     },
     "execution_count": 12,
     "metadata": {},
     "output_type": "execute_result"
    }
   ],
   "source": [
    "data = torch_geometric.utils.from_dgl(g)\n",
    "data.x = data.feat\n",
    "data.y = data.label\n",
    "data.pop('feat')\n",
    "data.pop('__orig__')\n",
    "data.pop('label')\n",
    "#data"
   ]
  },
  {
   "cell_type": "code",
   "execution_count": 13,
   "id": "9d20ce22-6e81-4319-8617-12149e803108",
   "metadata": {},
   "outputs": [],
   "source": [
    "x = torch.tensor([1.0]*4)\n",
    "data.x = x.repeat(data.x.shape[0],1)"
   ]
  },
  {
   "cell_type": "code",
   "execution_count": 14,
   "id": "8e11cb82-bd03-4cf7-80e8-f3bae9094b86",
   "metadata": {},
   "outputs": [
    {
     "data": {
      "text/plain": [
       "tensor([[1., 1., 1., 1.],\n",
       "        [1., 1., 1., 1.],\n",
       "        [1., 1., 1., 1.],\n",
       "        ...,\n",
       "        [1., 1., 1., 1.],\n",
       "        [1., 1., 1., 1.],\n",
       "        [1., 1., 1., 1.]])"
      ]
     },
     "execution_count": 14,
     "metadata": {},
     "output_type": "execute_result"
    }
   ],
   "source": [
    "data.x"
   ]
  },
  {
   "cell_type": "code",
   "execution_count": 15,
   "id": "ff918c54-0c94-4f93-a55d-893bff65cb76",
   "metadata": {},
   "outputs": [
    {
     "data": {
      "text/plain": [
       "tensor([0, 1, 2, 3])"
      ]
     },
     "execution_count": 15,
     "metadata": {},
     "output_type": "execute_result"
    }
   ],
   "source": [
    "torch.unique(data.y)"
   ]
  },
  {
   "cell_type": "code",
   "execution_count": 16,
   "id": "e6717508-6438-426d-8e26-b23b7f59dc3f",
   "metadata": {},
   "outputs": [
    {
     "data": {
      "text/plain": [
       "Data(edge_index=[2, 2055], train_mask=[700], val_mask=[700], test_mask=[700], x=[700, 4], y=[700])"
      ]
     },
     "execution_count": 16,
     "metadata": {},
     "output_type": "execute_result"
    }
   ],
   "source": [
    "data"
   ]
  },
  {
   "cell_type": "code",
   "execution_count": 17,
   "id": "eb4d1d38-b73f-4531-9843-6163416cc70e",
   "metadata": {},
   "outputs": [],
   "source": [
    "parser = argparse.ArgumentParser()\n",
    "args = easydict.EasyDict({\n",
    "    \"dataset\": 'BAShapes',\n",
    "    #\"batch_size\": 128,\n",
    "    # \"hidden_channels\": 64,\n",
    "    # \"lr\": 0.0005,\n",
    "    \"epochs\": 2000,\n",
    "})"
   ]
  },
  {
   "cell_type": "code",
   "execution_count": 18,
   "id": "8bd04be0-b2bd-4c46-9273-c459a8d4fcc4",
   "metadata": {},
   "outputs": [],
   "source": [
    "device = 'cpu'\n",
    "class GCN(torch.nn.Module):\n",
    "    def __init__(self, in_channels, hidden_channels, out_channels):\n",
    "        super().__init__()\n",
    "        self.conv1 = GCNConv(in_channels, hidden_channels,\n",
    "                             )\n",
    "        self.conv2 = GCNConv(hidden_channels, hidden_channels,\n",
    "                             )\n",
    "        self.conv3 = GCNConv(hidden_channels, out_channels,\n",
    "                             )\n",
    "\n",
    "    def forward(self, x, edge_index, edge_weight=None):\n",
    "        x = F.dropout(x, p=0.5, training=self.training)\n",
    "        x = self.conv1(x, edge_index, edge_weight).relu()\n",
    "        x = F.dropout(x, p=0.5, training=self.training)\n",
    "        x = self.conv2(x, edge_index, edge_weight).relu()\n",
    "        x = F.dropout(x, p=0.5, training=self.training)\n",
    "        x = self.conv3(x, edge_index, edge_weight)\n",
    "        return x\n",
    "\n",
    "\n",
    "def train():\n",
    "    model.train()\n",
    "    optimizer.zero_grad()\n",
    "    out = model(data.x, data.edge_index)\n",
    "    loss = F.cross_entropy(out[data.train_mask], data.y[data.train_mask])\n",
    "    loss.backward()\n",
    "    optimizer.step()\n",
    "    return float(loss)\n",
    "\n",
    "\n",
    "@torch.no_grad()\n",
    "def test():\n",
    "    model.eval()\n",
    "    pred = model(data.x, data.edge_index).argmax(dim=-1)\n",
    "\n",
    "    accs = []\n",
    "    for mask in [data.train_mask, data.val_mask, data.test_mask]:\n",
    "        accs.append(int((pred[mask] == data.y[mask]).sum()) / int(mask.sum()))\n",
    "    return accs"
   ]
  },
  {
   "cell_type": "code",
   "execution_count": 19,
   "id": "6f65c16c-d7de-43a0-bb46-9d9d034839e8",
   "metadata": {},
   "outputs": [],
   "source": [
    "def evaluate_gnn(graph):\n",
    "    with torch.no_grad():\n",
    "        model.eval()\n",
    "        graph = graph.to(device)\n",
    "\n",
    "        # The pred is not used for accuracy, the softmax is used\n",
    "        out = model(graph.x.float(), graph.edge_index, graph.batch)\n",
    "        pred = out.argmax(dim=-1)\n",
    "\n",
    "        # Getting class prediction probabilities from the softmax layer\n",
    "        softmax = out.softmax(dim=-1)\n",
    "\n",
    "        return softmax.tolist()"
   ]
  },
  {
   "cell_type": "code",
   "execution_count": 20,
   "id": "ac68d905-8c9b-4cc7-b07e-ce312c31c087",
   "metadata": {},
   "outputs": [
    {
     "name": "stdout",
     "output_type": "stream",
     "text": [
      "Original no of graphs: 1058\n"
     ]
    }
   ],
   "source": [
    "graphs_path = '../../graph generator/diffusion models/sampled_graphs_diffusion/' \n",
    "print('Original no of graphs:',len([name for name in glob.iglob(graphs_path + 'BAshapes_10to15/*.gexf')]))"
   ]
  },
  {
   "cell_type": "code",
   "execution_count": 21,
   "id": "e5181a8c-87b7-44fe-8e08-c8d835234e19",
   "metadata": {},
   "outputs": [],
   "source": [
    "avg_max_pred_list = []\n",
    "max_pred_list = []\n",
    "softmax_dict_list = []\n",
    "class_graphid_list = []"
   ]
  },
  {
   "cell_type": "code",
   "execution_count": 22,
   "id": "90803ef3-29ea-4707-96db-5e63ba3cde7f",
   "metadata": {},
   "outputs": [],
   "source": [
    "def get_max_pred(softmax_dict,i):\n",
    "    #Getting the list of predictions for each class\n",
    "    prob_class0_dict = {}\n",
    "    prob_class1_dict = {}\n",
    "    prob_class2_dict = {}\n",
    "    prob_class3_dict = {}\n",
    "    for nodeid in softmax_dict:\n",
    "        list0= []\n",
    "        list1= []\n",
    "        list2= []\n",
    "        list3= []\n",
    "        if len(softmax_dict[nodeid]) > 0:\n",
    "            list0= []\n",
    "            list1= []\n",
    "            list2= []\n",
    "            list3= []\n",
    "    \n",
    "            for prob in softmax_dict[nodeid]:        \n",
    "                list0.append(prob[0])        \n",
    "                list1.append(prob[1]) \n",
    "                list2.append(prob[2]) \n",
    "                list3.append(prob[3])\n",
    "    \n",
    "         #Taking max probability of all nodes of each class in a graph\n",
    "        if len(list0) != 0:\n",
    "            prob_class0_dict[nodeid]=max(list0)\n",
    "        if len(list1) != 0:    \n",
    "            prob_class1_dict[nodeid]=max(list1)\n",
    "        if len(list2) != 0:    \n",
    "            prob_class2_dict[nodeid]=max(list2)\n",
    "        if len(list3) != 0:    \n",
    "            prob_class3_dict[nodeid]=max(list3)\n",
    "\n",
    "    max_pred0 = max(prob_class0_dict.values())\n",
    "    max_pred1 = max(prob_class1_dict.values())\n",
    "    max_pred2 = max(prob_class2_dict.values())\n",
    "    max_pred3 = max(prob_class3_dict.values())\n",
    "\n",
    "    print('Run'+str(i), max_pred0, max_pred1, max_pred2, max_pred3)\n",
    "    max_pred_list.append([max_pred0, max_pred1, max_pred2, max_pred3])\n",
    "\n",
    "    softmax_dict_list.append(softmax_dict)\n",
    "    \n",
    "    avg_max_pred = (max_pred0+max_pred1+max_pred2+max_pred3)/4\n",
    "    avg_max_pred_list.append(avg_max_pred)\n",
    "    \n",
    "    class0_graphid = max(prob_class0_dict, key=prob_class0_dict.get)\n",
    "    class1_graphid = max(prob_class1_dict, key=prob_class1_dict.get)\n",
    "    class2_graphid = max(prob_class2_dict, key=prob_class2_dict.get)\n",
    "    class3_graphid = max(prob_class3_dict, key=prob_class3_dict.get)\n",
    "\n",
    "    class_graphid_list.append([class0_graphid,class1_graphid,class2_graphid,class3_graphid])"
   ]
  },
  {
   "cell_type": "code",
   "execution_count": 23,
   "id": "174c90d3-d58a-4b8d-b15a-955f4f66629e",
   "metadata": {},
   "outputs": [
    {
     "name": "stdout",
     "output_type": "stream",
     "text": [
      "Epoch: 100, Loss: 0.9508, Train: 0.4143, Val: 0.5429, Test: 0.4286\n",
      "Stopping training as validation accuracy did not improve for 100 epochs\n",
      "No. of graphs evaluated:  1058\n",
      "Run0 0.9635231494903564 0.06914570927619934 0.19927093386650085 0.02966192364692688\n",
      "Epoch: 100, Loss: 0.8474, Train: 0.4143, Val: 0.5429, Test: 0.4286\n",
      "Stopping training as validation accuracy did not improve for 100 epochs\n",
      "No. of graphs evaluated:  1058\n",
      "Run1 0.9549464583396912 0.07635442167520523 0.20636925101280212 0.03149763122200966\n",
      "Epoch: 100, Loss: 0.7633, Train: 0.4143, Val: 0.5429, Test: 0.4286\n",
      "Stopping training as validation accuracy did not improve for 100 epochs\n",
      "No. of graphs evaluated:  1058\n",
      "Run2 0.9550869464874268 0.0669507309794426 0.21224839985370636 0.02876129560172558\n",
      "Epoch: 100, Loss: 0.8791, Train: 0.4143, Val: 0.5429, Test: 0.4286\n",
      "Stopping training as validation accuracy did not improve for 100 epochs\n",
      "No. of graphs evaluated:  1058\n",
      "Run3 0.9480962753295898 0.08631490170955658 0.20485292375087738 0.03519691899418831\n",
      "Epoch: 100, Loss: 0.8657, Train: 0.4143, Val: 0.5429, Test: 0.4286\n",
      "Stopping training as validation accuracy did not improve for 100 epochs\n",
      "No. of graphs evaluated:  1058\n",
      "Run4 0.9650641679763794 0.06917967647314072 0.1954161822795868 0.025205329060554504\n",
      "Epoch: 100, Loss: 0.8207, Train: 0.4143, Val: 0.5429, Test: 0.4286\n",
      "Stopping training as validation accuracy did not improve for 100 epochs\n",
      "No. of graphs evaluated:  1058\n",
      "Run5 0.9671740531921387 0.06624972075223923 0.1904463917016983 0.022840552031993866\n",
      "Epoch: 100, Loss: 0.8498, Train: 0.4143, Val: 0.5429, Test: 0.4286\n",
      "Stopping training as validation accuracy did not improve for 100 epochs\n",
      "No. of graphs evaluated:  1058\n",
      "Run6 0.9613315463066101 0.06443814933300018 0.20378455519676208 0.02685409225523472\n",
      "Epoch: 100, Loss: 0.8836, Train: 0.4143, Val: 0.5429, Test: 0.4286\n",
      "Stopping training as validation accuracy did not improve for 100 epochs\n",
      "No. of graphs evaluated:  1058\n",
      "Run7 0.9630270600318909 0.07384614646434784 0.1928938776254654 0.02730458229780197\n",
      "Epoch: 100, Loss: 1.0474, Train: 0.4143, Val: 0.5429, Test: 0.4286\n",
      "Stopping training as validation accuracy did not improve for 100 epochs\n",
      "No. of graphs evaluated:  1058\n",
      "Run8 0.9602979421615601 0.07916959375143051 0.19934800267219543 0.034258726984262466\n",
      "Epoch: 100, Loss: 1.0892, Train: 0.4143, Val: 0.5429, Test: 0.4286\n",
      "Stopping training as validation accuracy did not improve for 100 epochs\n",
      "No. of graphs evaluated:  1058\n",
      "Run9 0.958894670009613 0.06933142989873886 0.2078731656074524 0.03219030797481537\n"
     ]
    }
   ],
   "source": [
    "for i in range(0,10):\n",
    "    device = 'cpu'\n",
    "    model = GCN(\n",
    "        in_channels=data.x.shape[1],\n",
    "        hidden_channels=64,\n",
    "        out_channels=4,\n",
    "    ).to(device)\n",
    "    \n",
    "    optimizer = torch.optim.Adam([\n",
    "    dict(params=model.conv1.parameters(), weight_decay=5e-4),\n",
    "    dict(params=model.conv2.parameters(), weight_decay=0),\n",
    "    dict(params=model.conv3.parameters(), weight_decay=0)\n",
    "    ], lr=0.005)   # Only perform weight-decay on first convolution.\n",
    "\n",
    "    best_val_acc = test_acc = 0\n",
    "    start_patience = patience = 100\n",
    "    #times = []\n",
    "    for epoch in range(1, 2000 + 1):\n",
    "        loss = train()\n",
    "        train_acc, val_acc, tmp_test_acc = test()\n",
    "        if val_acc > best_val_acc:\n",
    "            #best_val_acc = val_acc\n",
    "            test_acc = tmp_test_acc\n",
    "        if epoch%100==0:\n",
    "            log(Epoch=epoch, Loss=loss, Train=train_acc, Val=val_acc, Test=test_acc)\n",
    "        #times.append(time.time() - start)\n",
    "    \n",
    "        if (val_acc>best_val_acc):\n",
    "            patience = start_patience\n",
    "            best_val_acc = val_acc\n",
    "    \n",
    "        else:\n",
    "            patience -= 1\n",
    "            \n",
    "        if patience <= 0:\n",
    "            print('Stopping training as validation accuracy did not improve '\n",
    "                  f'for {start_patience} epochs')\n",
    "            break \n",
    "\n",
    "    all_edges = {}\n",
    "    softmax_dict = {}\n",
    "    nodefeature_dict = {}\n",
    "    graph_dict = {}\n",
    "\n",
    "    for filepath in glob.iglob(graphs_path + 'BAshapes_10to15/*.gexf'):\n",
    "    \n",
    "        graph = nx.read_gexf(filepath)\n",
    "    \n",
    "        filename = os.path.basename(filepath)\n",
    "        graph_id= filename.split('.')[0]\n",
    "\n",
    "        small_graph = from_networkx(graph)\n",
    "        x = torch.tensor([1.0]*4)\n",
    "        small_graph.x= x.repeat(small_graph.num_nodes,1)\n",
    "        small_graph.y = small_graph.pop('node_type')\n",
    "        transform=T.Constant(node_types='conference')\n",
    "        small_graph = transform(small_graph)\n",
    "        transform = T.RandomNodeSplit(split='train_rest', num_val=0.0, num_test=1.0)\n",
    "        small_graph = transform(small_graph)\n",
    "    \n",
    "        small_graph.pop('mode')\n",
    "        small_graph.pop('weight')\n",
    "        small_graph.pop('label')\n",
    "        small_graph.pop('id')\n",
    "        small_graph.pop('num_nodes')\n",
    "        #print(small_graph)\n",
    "        \n",
    "        softmax = evaluate_gnn(small_graph)\n",
    "        softmax_dict[graph_id] = softmax\n",
    "\n",
    "    print(\"No. of graphs evaluated: \",len(softmax_dict))\n",
    "    get_max_pred(softmax_dict,i)\n"
   ]
  },
  {
   "cell_type": "code",
   "execution_count": 24,
   "id": "e98b72ec-7042-43f8-a729-911719bc5773",
   "metadata": {},
   "outputs": [
    {
     "data": {
      "text/plain": [
       "[0.3154004290699959,\n",
       " 0.31729194056242704,\n",
       " 0.3157618432305753,\n",
       " 0.31861525494605303,\n",
       " 0.31371633894741535,\n",
       " 0.3116776794195175,\n",
       " 0.3141020857729018,\n",
       " 0.3142679166048765,\n",
       " 0.3182685663923621,\n",
       " 0.3170723933726549]"
      ]
     },
     "execution_count": 24,
     "metadata": {},
     "output_type": "execute_result"
    }
   ],
   "source": [
    "avg_max_pred_list"
   ]
  },
  {
   "cell_type": "code",
   "execution_count": 25,
   "id": "967a8f91-a894-4aca-bda8-332ae3e386e4",
   "metadata": {},
   "outputs": [
    {
     "data": {
      "text/plain": [
       "0.3156174448318779"
      ]
     },
     "execution_count": 25,
     "metadata": {},
     "output_type": "execute_result"
    }
   ],
   "source": [
    "np.mean(avg_max_pred_list)"
   ]
  },
  {
   "cell_type": "code",
   "execution_count": 26,
   "id": "1f9dbbea-29ff-489a-bc88-cde53aa5e079",
   "metadata": {},
   "outputs": [
    {
     "data": {
      "text/plain": [
       "3"
      ]
     },
     "execution_count": 26,
     "metadata": {},
     "output_type": "execute_result"
    }
   ],
   "source": [
    "m = max(avg_max_pred_list)\n",
    "index = avg_max_pred_list.index(m)\n",
    "index"
   ]
  },
  {
   "cell_type": "code",
   "execution_count": 27,
   "id": "3b046827-8688-4257-a2aa-1546d6d3efe8",
   "metadata": {},
   "outputs": [],
   "source": [
    "def plot_graph(graphid, max_pred, nodetype):\n",
    "    \n",
    "    graph=nx.read_gexf(graphs_path + 'BAshapes_10to15/' + graphid + '.gexf')\n",
    "    \n",
    "    print('Number of nodes: ',graph.number_of_nodes())\n",
    "    print('graph id: ',graphid)\n",
    "    print(f'Max pred probability for class {nodetype} is {max_pred}')\n",
    "\n",
    "    nx.draw(graph, \n",
    "    with_labels=False,\n",
    "             node_size=100)\n",
    "    plt.show()"
   ]
  },
  {
   "cell_type": "code",
   "execution_count": 28,
   "id": "ce6a0cd6-f843-4d68-b674-17197a39bdbd",
   "metadata": {},
   "outputs": [],
   "source": [
    "class0_graphid = class_graphid_list[index][0]\n",
    "class1_graphid = class_graphid_list[index][1]\n",
    "class2_graphid = class_graphid_list[index][2]\n",
    "class3_graphid = class_graphid_list[index][3]"
   ]
  },
  {
   "cell_type": "code",
   "execution_count": 29,
   "id": "06fd655c-4d03-4763-bc45-8d3af235cae6",
   "metadata": {},
   "outputs": [
    {
     "data": {
      "text/plain": [
       "'graph488'"
      ]
     },
     "execution_count": 29,
     "metadata": {},
     "output_type": "execute_result"
    }
   ],
   "source": [
    "class0_graphid"
   ]
  },
  {
   "cell_type": "code",
   "execution_count": 30,
   "id": "229cf0d8-b3dd-4ded-bf84-e28f3b624643",
   "metadata": {},
   "outputs": [],
   "source": [
    "max_pred0 = max_pred_list[index][0]\n",
    "max_pred1 = max_pred_list[index][1]\n",
    "max_pred2 = max_pred_list[index][2]\n",
    "max_pred3 = max_pred_list[index][3]"
   ]
  },
  {
   "cell_type": "code",
   "execution_count": 31,
   "id": "4c1a418e-5302-4db5-9845-c84caf7e8f65",
   "metadata": {},
   "outputs": [
    {
     "name": "stdout",
     "output_type": "stream",
     "text": [
      "Number of nodes:  12\n",
      "graph id:  graph488\n",
      "Max pred probability for class 0 is 0.9480962753295898\n"
     ]
    },
    {
     "data": {
      "image/png": "[encoded data removed]",
      "text/plain": [
       "<Figure size 640x480 with 1 Axes>"
      ]
     },
     "metadata": {},
     "output_type": "display_data"
    }
   ],
   "source": [
    "explanation_graph0 = plot_graph(class0_graphid, max_pred0, 0)"
   ]
  },
  {
   "cell_type": "code",
   "execution_count": 32,
   "id": "3e0b7648-f409-4fe1-b85c-c2de113a5771",
   "metadata": {},
   "outputs": [
    {
     "name": "stdout",
     "output_type": "stream",
     "text": [
      "Number of nodes:  15\n",
      "graph id:  graph1046\n",
      "Max pred probability for class 1 is 0.08631490170955658\n"
     ]
    },
    {
     "data": {
      "image/png": "[encoded data removed]",
      "text/plain": [
       "<Figure size 640x480 with 1 Axes>"
      ]
     },
     "metadata": {},
     "output_type": "display_data"
    }
   ],
   "source": [
    "explanation_graph1 = plot_graph(class1_graphid, max_pred1, 1)"
   ]
  },
  {
   "cell_type": "code",
   "execution_count": 33,
   "id": "1830c3de-ed71-4a76-acc6-c04834a294fb",
   "metadata": {},
   "outputs": [
    {
     "name": "stdout",
     "output_type": "stream",
     "text": [
      "Number of nodes:  15\n",
      "graph id:  graph1046\n",
      "Max pred probability for class 2 is 0.20485292375087738\n"
     ]
    },
    {
     "data": {
      "image/png": "[encoded data removed]",
      "text/plain": [
       "<Figure size 640x480 with 1 Axes>"
      ]
     },
     "metadata": {},
     "output_type": "display_data"
    }
   ],
   "source": [
    "explanation_graph2 = plot_graph(class2_graphid, max_pred2, 2)"
   ]
  },
  {
   "cell_type": "code",
   "execution_count": 41,
   "id": "adf18a94-3581-43a2-9d65-3b56ef9ff304",
   "metadata": {},
   "outputs": [
    {
     "name": "stdout",
     "output_type": "stream",
     "text": [
      "Number of nodes:  15\n",
      "graph id:  graph1046\n",
      "Max pred probability for class 3 is 0.03519691899418831\n"
     ]
    },
    {
     "data": {
      "image/png": "[encoded data removed]",
      "text/plain": [
       "<Figure size 640x480 with 1 Axes>"
      ]
     },
     "metadata": {},
     "output_type": "display_data"
    }
   ],
   "source": [
    "explanation_graph3 = plot_graph(class3_graphid, max_pred3, 3)"
   ]
  },
  {
   "cell_type": "code",
   "execution_count": 36,
   "id": "7e2f0ab8-02e0-4a0d-9ba5-1728b36d0f9b",
   "metadata": {},
   "outputs": [],
   "source": [
    "motifs_path = '../motifs/BAshapes/'\n",
    "files_motif = os.listdir(motifs_path)"
   ]
  },
  {
   "cell_type": "code",
   "execution_count": 37,
   "id": "f37677d4-5908-45de-80ec-1ee98604995f",
   "metadata": {},
   "outputs": [
    {
     "name": "stdout",
     "output_type": "stream",
     "text": [
      "../motifs/shapegen_bashapes/house0.gexf\n",
      "../motifs/shapegen_bashapes/house1.gexf\n",
      "../motifs/shapegen_bashapes/house10.gexf\n",
      "../motifs/shapegen_bashapes/house11.gexf\n",
      "../motifs/shapegen_bashapes/house12.gexf\n",
      "../motifs/shapegen_bashapes/house13.gexf\n",
      "../motifs/shapegen_bashapes/house14.gexf\n",
      "../motifs/shapegen_bashapes/house2.gexf\n",
      "../motifs/shapegen_bashapes/house3.gexf\n",
      "../motifs/shapegen_bashapes/house4.gexf\n",
      "../motifs/shapegen_bashapes/house5.gexf\n",
      "../motifs/shapegen_bashapes/house6.gexf\n",
      "../motifs/shapegen_bashapes/house7.gexf\n",
      "../motifs/shapegen_bashapes/house8.gexf\n",
      "../motifs/shapegen_bashapes/house9.gexf\n",
      "../motifs/shapegen_bashapes/motif_ba_graph0.gexf\n",
      "../motifs/shapegen_bashapes/motif_ba_graph1.gexf\n",
      "../motifs/shapegen_bashapes/motif_ba_graph10.gexf\n",
      "../motifs/shapegen_bashapes/motif_ba_graph11.gexf\n",
      "../motifs/shapegen_bashapes/motif_ba_graph12.gexf\n",
      "../motifs/shapegen_bashapes/motif_ba_graph13.gexf\n",
      "../motifs/shapegen_bashapes/motif_ba_graph14.gexf\n",
      "../motifs/shapegen_bashapes/motif_ba_graph2.gexf\n",
      "../motifs/shapegen_bashapes/motif_ba_graph3.gexf\n",
      "../motifs/shapegen_bashapes/motif_ba_graph4.gexf\n",
      "../motifs/shapegen_bashapes/motif_ba_graph5.gexf\n",
      "../motifs/shapegen_bashapes/motif_ba_graph6.gexf\n",
      "../motifs/shapegen_bashapes/motif_ba_graph7.gexf\n",
      "../motifs/shapegen_bashapes/motif_ba_graph8.gexf\n",
      "../motifs/shapegen_bashapes/motif_ba_graph9.gexf\n"
     ]
    }
   ],
   "source": [
    "for index_m, file_m in enumerate(files_motif):\n",
    "    filepath_m = os.path.join(motifs_path, file_m)\n",
    "    print(filepath_m)"
   ]
  },
  {
   "cell_type": "code",
   "execution_count": 38,
   "id": "e7d00960-ce62-430f-80a6-b125495249f1",
   "metadata": {},
   "outputs": [],
   "source": [
    "def get_avg_fidelity(graphid_list):\n",
    "    class_avg_fidelity = []\n",
    "    for graphid in graphid_list:\n",
    "        expln_graph=nx.read_gexf(graphs_path + 'BAshapes_10to15/' + graphid + '.gexf')\n",
    "    \n",
    "        fid_score_list = []       \n",
    "        for index_m, file_m in enumerate(files_motif):\n",
    "            filepath_m = os.path.join(motifs_path, file_m)\n",
    "            \n",
    "            motif_graph = nx.read_gexf(filepath_m)\n",
    "\n",
    "            GM = nx.algorithms.isomorphism.GraphMatcher(expln_graph,motif_graph)\n",
    "            x = 1 if GM.subgraph_is_isomorphic() else 0    \n",
    "            fid_score_list.append(x)\n",
    "\n",
    "        class_avg_fidelity.append(np.mean(fid_score_list))\n",
    "\n",
    "    return np.mean(class_avg_fidelity) "
   ]
  },
  {
   "cell_type": "code",
   "execution_count": 39,
   "id": "c4cd79ca-4abe-40ab-94e2-86a04c98c194",
   "metadata": {},
   "outputs": [
    {
     "name": "stdout",
     "output_type": "stream",
     "text": [
      "Run0 0.7666666666666667\n",
      "Run1 0.7666666666666667\n",
      "Run2 0.7666666666666667\n",
      "Run3 0.7666666666666667\n",
      "Run4 0.7666666666666667\n",
      "Run5 0.7666666666666667\n",
      "Run6 0.7666666666666667\n",
      "Run7 0.7666666666666667\n",
      "Run8 0.7666666666666667\n",
      "Run9 0.7666666666666667\n",
      "0.7666666666666667\n"
     ]
    }
   ],
   "source": [
    "avg_fidelity_list = []\n",
    "\n",
    "for i in range(0,10):\n",
    "    avg_fidelity = get_avg_fidelity(class_graphid_list[i])\n",
    "\n",
    "    print('Run'+str(i),avg_fidelity)\n",
    "    avg_fidelity_list.append(avg_fidelity)\n",
    "print(np.mean(avg_fidelity_list))"
   ]
  },
  {
   "cell_type": "code",
   "execution_count": null,
   "id": "f92b22f3-b31c-401e-98c6-42714072a064",
   "metadata": {},
   "outputs": [],
   "source": []
  },
  {
   "cell_type": "code",
   "execution_count": null,
   "id": "492dd0f3-9b53-4f3b-8115-4bdc6e11e2e1",
   "metadata": {},
   "outputs": [],
   "source": []
  },
  {
   "cell_type": "code",
   "execution_count": null,
   "id": "71e3be1d-d960-4d5c-92bf-f0efdc9d6823",
   "metadata": {},
   "outputs": [],
   "source": []
  },
  {
   "cell_type": "code",
   "execution_count": null,
   "id": "a89da080-7db5-4c88-8136-479c34e5e40c",
   "metadata": {},
   "outputs": [],
   "source": []
  }
 ],
 "metadata": {
  "kernelspec": {
   "display_name": "Python 3 (ipykernel)",
   "language": "python",
   "name": "python3"
  },
  "language_info": {
   "codemirror_mode": {
    "name": "ipython",
    "version": 3
   },
   "file_extension": ".py",
   "mimetype": "text/x-python",
   "name": "python",
   "nbconvert_exporter": "python",
   "pygments_lexer": "ipython3",
   "version": "3.10.6"
  }
 },
 "nbformat": 4,
 "nbformat_minor": 5
}
