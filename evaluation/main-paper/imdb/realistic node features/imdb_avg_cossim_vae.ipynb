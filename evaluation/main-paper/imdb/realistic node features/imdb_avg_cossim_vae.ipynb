{
 "cells": [
  {
   "cell_type": "code",
   "execution_count": 1,
   "id": "5912fa0d-4f6c-4540-b15e-a7b62abe7cdd",
   "metadata": {},
   "outputs": [],
   "source": [
    "import os \n",
    "import networkx as nx\n",
    "from collections import Counter\n",
    "from sklearn.metrics.pairwise import cosine_similarity\n",
    "import numpy as np\n",
    "import torch\n",
    "import itertools \n",
    "import pandas as pd"
   ]
  },
  {
   "cell_type": "markdown",
   "id": "003aeafd-0c9d-4adc-a859-e61605e19d41",
   "metadata": {},
   "source": [
    "PubMed"
   ]
  },
  {
   "cell_type": "code",
   "execution_count": 2,
   "id": "66767f20-f6a3-4e40-b949-83267ff6f40c",
   "metadata": {},
   "outputs": [],
   "source": [
    "def cosine_sim(original,sampled):\n",
    "    return cosine_similarity(np.array(original), np.array(sampled))"
   ]
  },
  {
   "cell_type": "code",
   "execution_count": 3,
   "id": "0265db96-fc76-42e9-b5be-be0a1863fc9d",
   "metadata": {},
   "outputs": [],
   "source": [
    "def convert_to_discrete(df):\n",
    "    return df.applymap(lambda x: 0.0 if x<0.5 else 1.0 if 0.5>=x<0.6 \n",
    "                       else 2.0 if 0.6>=x<0.7 else 3.0 if 0.7>=x<0.8 else 4.0 if 0.8>=x<0.9 \n",
    "                       else 5.0 if 0.9>=x<0.99 else 1.0)"
   ]
  },
  {
   "cell_type": "code",
   "execution_count": 4,
   "id": "6f0596e0-c2ee-411f-8cc9-2cdba630d594",
   "metadata": {},
   "outputs": [],
   "source": [
    "file_path_vae = '../../../../graph generator/baseline_vae/real_graphs/imdb_15/15.pt'"
   ]
  },
  {
   "cell_type": "code",
   "execution_count": 5,
   "id": "8aa7dd69-182e-4d8a-bfaf-8a0aa7f0b7ae",
   "metadata": {},
   "outputs": [],
   "source": [
    "adjs_vae, types_vae, node_feats = torch.load(file_path_vae)"
   ]
  },
  {
   "cell_type": "code",
   "execution_count": 6,
   "id": "3574597a-b0c0-4847-9db5-d1f342f7de35",
   "metadata": {},
   "outputs": [
    {
     "data": {
      "text/plain": [
       "200"
      ]
     },
     "execution_count": 6,
     "metadata": {},
     "output_type": "execute_result"
    }
   ],
   "source": [
    "len(node_feats)"
   ]
  },
  {
   "cell_type": "code",
   "execution_count": 7,
   "id": "626f7a6b-6ba6-40bf-b0eb-cf2d2240797c",
   "metadata": {},
   "outputs": [],
   "source": [
    "cossim_list = []"
   ]
  },
  {
   "cell_type": "code",
   "execution_count": 8,
   "id": "ad736bd5-0bad-4bbc-a0ac-44218a1177c1",
   "metadata": {},
   "outputs": [],
   "source": [
    "rootdir = '../imdb_vae_15'\n",
    "\n",
    "dir_list = []\n",
    "counter = 0\n",
    "\n",
    "for subdir, dirs,files in os.walk(rootdir):\n",
    "    if counter < 50:\n",
    "        if files:\n",
    "            syn_class_path = os.path.join(subdir, files[1])\n",
    "            syn_feature_path = os.path.join(subdir, files[2])\n",
    "\n",
    "            node_feature_syn = torch.load(syn_feature_path).detach().numpy()\n",
    "\n",
    "            node_class_syn = torch.load(syn_class_path).detach().numpy()\n",
    "\n",
    "            df_syn = pd.DataFrame(node_feature_syn)\n",
    "            df_syn['class'] = node_class_syn\n",
    "\n",
    "            class2_syn = df_syn[df_syn['class'] == 2].drop(['class'], axis = 1)\n",
    "            class2_syn_discrete = convert_to_discrete(class2_syn)\n",
    "\n",
    "            df_real = pd.DataFrame(node_feats[counter])\n",
    "            df_real['class'] = types_vae[counter]\n",
    "            class2_real = df_real[df_real['class'] == 2].drop(['class'], axis = 1)\n",
    "\n",
    "            avg_cossim = np.mean(cosine_sim(class2_real,class2_syn_discrete))\n",
    "            cossim_list.append(avg_cossim)\n",
    "            counter = counter+1"
   ]
  },
  {
   "cell_type": "code",
   "execution_count": 9,
   "id": "516b95a0-993c-488c-851d-be88822999f2",
   "metadata": {},
   "outputs": [
    {
     "data": {
      "text/plain": [
       "50"
      ]
     },
     "execution_count": 9,
     "metadata": {},
     "output_type": "execute_result"
    }
   ],
   "source": [
    "len(cossim_list)"
   ]
  },
  {
   "cell_type": "code",
   "execution_count": 10,
   "id": "4c38d86a-9670-44f9-abfb-2b6b71dc0bc4",
   "metadata": {},
   "outputs": [
    {
     "data": {
      "text/plain": [
       "[0.0,\n",
       " 0.0,\n",
       " 0.0,\n",
       " 0.0,\n",
       " 0.0,\n",
       " 0.0,\n",
       " 0.0,\n",
       " 0.0,\n",
       " 0.0,\n",
       " 0.0,\n",
       " 0.0,\n",
       " 0.0,\n",
       " 0.0,\n",
       " 0.0,\n",
       " 0.0,\n",
       " 0.0,\n",
       " 0.0,\n",
       " 0.0,\n",
       " 0.004057204129667898,\n",
       " 0.0,\n",
       " 0.0,\n",
       " 0.0,\n",
       " 0.0,\n",
       " 0.0,\n",
       " 0.0,\n",
       " 0.0,\n",
       " 0.0,\n",
       " 0.0,\n",
       " 0.0,\n",
       " 0.0,\n",
       " 0.0,\n",
       " 0.0,\n",
       " 0.0,\n",
       " 0.0,\n",
       " 0.0,\n",
       " 0.0,\n",
       " 0.0,\n",
       " 0.0,\n",
       " 0.0,\n",
       " 0.0,\n",
       " 0.0,\n",
       " 0.0,\n",
       " 0.0,\n",
       " 0.0,\n",
       " 0.0,\n",
       " 0.0,\n",
       " 0.0,\n",
       " 0.0,\n",
       " 0.0,\n",
       " 0.0]"
      ]
     },
     "execution_count": 10,
     "metadata": {},
     "output_type": "execute_result"
    }
   ],
   "source": [
    "cossim_list"
   ]
  },
  {
   "cell_type": "code",
   "execution_count": 11,
   "id": "4201bf77-58bc-4035-8185-fe89fd982d57",
   "metadata": {},
   "outputs": [
    {
     "data": {
      "text/plain": [
       "8.114408259335796e-05"
      ]
     },
     "execution_count": 11,
     "metadata": {},
     "output_type": "execute_result"
    }
   ],
   "source": [
    "np.mean(cossim_list)"
   ]
  },
  {
   "cell_type": "code",
   "execution_count": null,
   "id": "c6647e93-5535-431b-a97f-a6e8a4556be6",
   "metadata": {},
   "outputs": [],
   "source": []
  }
 ],
 "metadata": {
  "kernelspec": {
   "display_name": "Python 3 (ipykernel)",
   "language": "python",
   "name": "python3"
  },
  "language_info": {
   "codemirror_mode": {
    "name": "ipython",
    "version": 3
   },
   "file_extension": ".py",
   "mimetype": "text/x-python",
   "name": "python",
   "nbconvert_exporter": "python",
   "pygments_lexer": "ipython3",
   "version": "3.10.6"
  }
 },
 "nbformat": 4,
 "nbformat_minor": 5
}
