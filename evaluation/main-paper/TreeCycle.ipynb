{
 "cells": [
  {
   "cell_type": "code",
   "execution_count": 1,
   "id": "6fecbe2c-d2ec-43d7-bc65-b1a44498873b",
   "metadata": {},
   "outputs": [],
   "source": [
    "import dgl\n",
    "from dgl.data import TreeCycleDataset\n",
    "import torch\n",
    "import torch_geometric\n",
    "import torch_geometric.transforms as T"
   ]
  },
  {
   "cell_type": "code",
   "execution_count": 2,
   "id": "d36e0977-759d-4b89-91f7-ca95919e81f7",
   "metadata": {},
   "outputs": [],
   "source": [
    "import argparse\n",
    "import time\n",
    "import easydict\n",
    "from torch.nn import Linear\n",
    "import torch.nn.functional as F\n",
    "from torch_geometric.nn import GCNConv\n",
    "import networkx as nx\n",
    "import matplotlib.pyplot as plt\n",
    "import numpy as np"
   ]
  },
  {
   "cell_type": "code",
   "execution_count": 3,
   "id": "1f01a4e1-0075-4c10-8b44-34d7e756963a",
   "metadata": {},
   "outputs": [],
   "source": [
    "import torch_geometric.utils\n",
    "from torch_geometric.utils.convert import from_networkx\n",
    "from torch_geometric.logging import log\n",
    "import os\n",
    "import pandas as pd\n",
    "import glob\n",
    "import pickle"
   ]
  },
  {
   "cell_type": "code",
   "execution_count": 4,
   "id": "f1a64946-187d-46d7-8eba-a9f2a30309c5",
   "metadata": {},
   "outputs": [
    {
     "name": "stdout",
     "output_type": "stream",
     "text": [
      "Done loading data from cached files.\n"
     ]
    }
   ],
   "source": [
    "dataset = TreeCycleDataset()\n",
    "g = dataset[0]"
   ]
  },
  {
   "cell_type": "code",
   "execution_count": 5,
   "id": "a96a48b3-2ceb-4850-90e4-e83cb2e95aaa",
   "metadata": {},
   "outputs": [],
   "source": [
    "#Download file Tree_Cycle.pkl from the dataset in https://github.com/Graph-and-Geometric-Learning/D4Explainer. Tree_Cycle.pkl is required for the train/val/test splits."
   ]
  },
  {
   "cell_type": "code",
   "execution_count": 6,
   "id": "ffd4b139-e533-41a7-8987-55fa48d2ee03",
   "metadata": {},
   "outputs": [],
   "source": [
    "with open('Tree_Cycle.pkl', 'rb') as fin:\n",
    "    adj, features, y_train, y_val, y_test, train_mask, val_mask, test_mask, edge_label_matrix  = pickle.load(fin)"
   ]
  },
  {
   "cell_type": "code",
   "execution_count": 7,
   "id": "247c4e9a-62ce-4b7f-9482-d5dd853ed58e",
   "metadata": {},
   "outputs": [],
   "source": [
    "g.ndata[\"train_mask\"] = torch.tensor(train_mask)\n",
    "g.ndata[\"val_mask\"] = torch.tensor(val_mask)\n",
    "g.ndata[\"test_mask\"] = torch.tensor(test_mask)"
   ]
  },
  {
   "cell_type": "code",
   "execution_count": 8,
   "id": "19fc04df-11df-41c7-9356-a5c456359faf",
   "metadata": {},
   "outputs": [
    {
     "data": {
      "text/plain": [
       "tensor([1, 1, 1, 1, 1, 1, 1, 1, 1, 1, 1, 1, 1, 1, 1, 1, 1, 1, 1, 1, 1, 1, 1, 1,\n",
       "        1, 1, 1, 1, 1, 1, 1, 1, 1, 1, 1, 1, 1, 1, 1, 1, 1, 1, 1, 1, 1, 1, 1, 1,\n",
       "        1, 1, 1, 1, 1, 1, 1, 1, 1, 1, 1, 1, 1, 1, 1, 1, 1, 1, 1, 1, 1, 1, 1, 1,\n",
       "        1, 1, 1, 1, 1, 1, 1, 1, 1, 1, 1, 1, 1, 1, 1, 1, 1, 1, 1, 1, 1, 1, 1, 1,\n",
       "        1, 1, 1, 1, 1, 1, 1, 1, 1, 1, 1, 1, 1, 1, 1, 1, 1, 1, 1, 1, 1, 1, 1, 1,\n",
       "        1, 1, 1, 1, 1, 1, 1, 1, 1, 1, 1, 1, 1, 1, 1, 1, 1, 1, 1, 1, 1, 1, 1, 1,\n",
       "        1, 1, 1, 1, 1, 1, 1, 1, 1, 1, 1, 1, 1, 1, 1, 1, 1, 1, 1, 1, 1, 1, 1, 1,\n",
       "        1, 0, 0, 0, 0, 1, 1, 0, 0, 0, 0, 0, 0, 0, 0, 1, 1, 0, 0, 0, 0, 1, 0, 0,\n",
       "        0, 0, 0, 0, 0, 0, 0, 0, 0, 0, 0, 0, 0, 0, 1, 0, 0, 0, 0, 0, 0, 0, 0, 1,\n",
       "        0, 0, 0, 0, 0, 0, 0, 1, 1, 0, 0, 0, 0, 0, 0, 0, 0, 1, 1, 0, 0, 0, 0, 1,\n",
       "        1, 1, 0, 0, 0, 0, 0, 0, 0, 0, 1, 1, 1, 0, 0, 0, 0, 0, 0, 0, 0, 0, 0, 0,\n",
       "        0, 1, 0, 0, 0, 0, 0, 0, 0, 0, 0, 0, 0, 0, 1, 1, 0, 0, 0, 0, 0, 0, 0, 0,\n",
       "        0, 0, 0, 0, 1, 0, 0, 0, 0, 1, 1, 1, 0, 0, 0, 0, 1, 1, 0, 0, 0, 0, 0, 0,\n",
       "        0, 0, 0, 0, 0, 0, 0, 0, 1, 1, 1, 1, 1, 1, 1, 1, 1, 1, 1, 1, 1, 1, 1, 1,\n",
       "        0, 1, 1, 1, 1, 1, 1, 1, 1, 1, 1, 1, 1, 1, 1, 1, 1, 0, 0, 1, 0, 0, 0, 0,\n",
       "        1, 0, 0, 0, 0, 0, 0, 0, 0, 0, 0, 0, 0, 0, 0, 0, 0, 0, 0, 1, 1, 0, 0, 0,\n",
       "        0, 1, 1, 0, 0, 1, 0, 0, 0, 0, 1, 0, 0, 1, 0, 0, 0, 0, 0, 0, 0, 0, 0, 0,\n",
       "        1, 0, 0, 0, 0, 0, 0, 1, 1, 0, 0, 1, 0, 0, 1, 0, 0, 0, 0, 0, 0, 0, 1, 1,\n",
       "        1, 1, 0, 0, 0, 0, 0, 0, 0, 0, 1, 0, 0, 0, 0, 0, 0, 1, 0, 0, 0, 0, 0, 0,\n",
       "        0, 0, 0, 0, 0, 0, 1, 0, 0, 0, 0, 1, 0, 0, 0, 1, 1, 1, 1, 1, 0, 0, 0, 0,\n",
       "        0, 0, 0, 0, 0, 0, 0, 0, 1, 0, 0, 0, 0, 0, 0, 0, 0, 1, 0, 0, 0, 0, 0, 0,\n",
       "        0, 0, 0, 0, 0, 0, 0, 0, 0, 0, 1, 0, 0, 0, 0, 1, 1, 0, 0, 1, 0, 0, 0, 0,\n",
       "        1, 0, 0, 0, 0, 0, 0, 1, 0, 0, 1, 0, 0, 0, 0, 0, 1, 1, 1, 1, 0, 1, 0, 0,\n",
       "        1, 1, 0, 0, 0, 0, 1, 1, 0, 0, 0, 1, 1, 0, 0, 0, 0, 1, 1, 0, 0, 0, 0, 0,\n",
       "        0, 1, 1, 0, 0, 0, 0, 0, 0, 0, 0, 0, 0, 0, 0, 0, 0, 0, 0, 0, 0, 1, 0, 0,\n",
       "        1, 0, 0, 0, 0, 0, 0, 1, 0, 0, 0, 0, 1, 1, 1, 1, 1, 0, 1, 0, 1, 1, 1, 1,\n",
       "        1, 0, 1, 1, 1, 1, 1, 1, 1, 1, 0, 0, 1, 0, 0, 1, 1, 0, 0, 1, 0, 0, 0, 0,\n",
       "        0, 0, 0, 0, 0, 0, 0, 0, 1, 0, 0, 0, 0, 1, 0, 0, 1, 0, 0, 0, 0, 1, 1, 1,\n",
       "        0, 0, 0, 0, 0, 0, 0, 0, 0, 0, 0, 0, 1, 0, 0, 0, 0, 0, 1, 0, 0, 0, 0, 0,\n",
       "        0, 0, 0, 1, 1, 0, 0, 0, 0, 1, 1, 1, 1, 1, 1, 1, 1, 1, 1, 0, 0, 1, 0, 0,\n",
       "        0, 0, 0, 0, 0, 0, 0, 0, 1, 0, 0, 1, 0, 0, 0, 0, 0, 0, 0, 0, 0, 0, 0, 0,\n",
       "        0, 1, 0, 0, 1, 1, 1, 1, 1, 0, 0, 0, 0, 1, 0, 0, 0, 0, 1, 1, 1, 0, 0, 0,\n",
       "        0, 1, 1, 1, 0, 0, 0, 0, 0, 0, 0, 0, 0, 0, 1, 1, 0, 0, 0, 0, 0, 0, 0, 0,\n",
       "        1, 1, 1, 1, 1, 0, 0, 1, 0, 0, 1, 1, 0, 0, 1, 0, 0, 0, 0, 0, 1, 1, 0, 0,\n",
       "        0, 0, 1, 1, 1, 0, 0, 0, 0, 1, 0, 0, 0, 0, 0, 0, 1, 0, 0, 0, 0, 1, 0, 0,\n",
       "        1, 0, 0, 0, 0, 0, 0, 0, 0, 0, 0, 0, 0, 0, 0, 0, 0, 0, 0, 0, 0, 0, 0, 0,\n",
       "        0, 0, 0, 0, 0, 0, 0])"
      ]
     },
     "execution_count": 8,
     "metadata": {},
     "output_type": "execute_result"
    }
   ],
   "source": [
    "data = torch_geometric.utils.from_dgl(g)\n",
    "data.x = data.feat\n",
    "data.y = data.label\n",
    "data.pop('feat')\n",
    "data.pop('__orig__')\n",
    "data.pop('label')\n",
    "#data"
   ]
  },
  {
   "cell_type": "code",
   "execution_count": 9,
   "id": "74b40e53-85ff-4745-9412-b555354e46e4",
   "metadata": {},
   "outputs": [],
   "source": [
    "x = torch.tensor([1.0]*2)\n",
    "data.x = x.repeat(data.x.shape[0],1)"
   ]
  },
  {
   "cell_type": "code",
   "execution_count": 10,
   "id": "77acd45e-a6b9-4288-8157-d2f0e057bb08",
   "metadata": {},
   "outputs": [
    {
     "data": {
      "text/plain": [
       "tensor([[1., 1.],\n",
       "        [1., 1.],\n",
       "        [1., 1.],\n",
       "        ...,\n",
       "        [1., 1.],\n",
       "        [1., 1.],\n",
       "        [1., 1.]])"
      ]
     },
     "execution_count": 10,
     "metadata": {},
     "output_type": "execute_result"
    }
   ],
   "source": [
    "data.x"
   ]
  },
  {
   "cell_type": "code",
   "execution_count": 11,
   "id": "289dd98e-d16f-4fc0-aa1c-80608aa9f659",
   "metadata": {},
   "outputs": [
    {
     "data": {
      "text/plain": [
       "torch.Size([871, 2])"
      ]
     },
     "execution_count": 11,
     "metadata": {},
     "output_type": "execute_result"
    }
   ],
   "source": [
    "data.x.shape"
   ]
  },
  {
   "cell_type": "code",
   "execution_count": 12,
   "id": "0532eaad-2f8f-41c0-9b51-1a4cfce5cb7e",
   "metadata": {},
   "outputs": [
    {
     "data": {
      "text/plain": [
       "Data(edge_index=[2, 967], train_mask=[871], val_mask=[871], test_mask=[871], x=[871, 2], y=[871])"
      ]
     },
     "execution_count": 12,
     "metadata": {},
     "output_type": "execute_result"
    }
   ],
   "source": [
    "data"
   ]
  },
  {
   "cell_type": "code",
   "execution_count": 13,
   "id": "eb4d1d38-b73f-4531-9843-6163416cc70e",
   "metadata": {},
   "outputs": [],
   "source": [
    "parser = argparse.ArgumentParser()\n",
    "args = easydict.EasyDict({\n",
    "    \"dataset\": 'TreeCycle',\n",
    "    #\"batch_size\": 128,\n",
    "    # \"hidden_channels\": 64,\n",
    "    # \"lr\": 0.0005,\n",
    "    \"epochs\": 2000,\n",
    "})"
   ]
  },
  {
   "cell_type": "code",
   "execution_count": 14,
   "id": "8bd04be0-b2bd-4c46-9273-c459a8d4fcc4",
   "metadata": {},
   "outputs": [],
   "source": [
    "device = 'cpu'\n",
    "class GCN(torch.nn.Module):\n",
    "    def __init__(self, in_channels, hidden_channels, out_channels):\n",
    "        super().__init__()\n",
    "        self.conv1 = GCNConv(in_channels, hidden_channels,\n",
    "                             )\n",
    "        self.conv2 = GCNConv(hidden_channels, hidden_channels,\n",
    "                             )\n",
    "        self.conv3 = GCNConv(hidden_channels, out_channels,\n",
    "                             )\n",
    "\n",
    "    def forward(self, x, edge_index, edge_weight=None):\n",
    "        x = F.dropout(x, p=0.5, training=self.training)\n",
    "        x = self.conv1(x, edge_index, edge_weight).relu()\n",
    "        x = F.dropout(x, p=0.5, training=self.training)\n",
    "        x = self.conv2(x, edge_index, edge_weight).relu()\n",
    "        x = F.dropout(x, p=0.5, training=self.training)\n",
    "        x = self.conv3(x, edge_index, edge_weight)\n",
    "        return x\n",
    "\n",
    "\n",
    "def train():\n",
    "    model.train()\n",
    "    optimizer.zero_grad()\n",
    "    out = model(data.x, data.edge_index)\n",
    "\n",
    "    loss = F.cross_entropy(out[data.train_mask], data.y[data.train_mask])\n",
    "    loss.backward()\n",
    "    optimizer.step()\n",
    "    return float(loss)\n",
    "\n",
    "\n",
    "@torch.no_grad()\n",
    "def test():\n",
    "    model.eval()\n",
    "    pred = model(data.x, data.edge_index).argmax(dim=-1)\n",
    "\n",
    "    accs = []\n",
    "    for mask in [data.train_mask, data.val_mask, data.test_mask]:\n",
    "        accs.append(int((pred[mask] == data.y[mask]).sum()) / int(mask.sum()))\n",
    "    return accs"
   ]
  },
  {
   "cell_type": "code",
   "execution_count": 15,
   "id": "6f65c16c-d7de-43a0-bb46-9d9d034839e8",
   "metadata": {},
   "outputs": [],
   "source": [
    "def evaluate_gnn(graph):\n",
    "    with torch.no_grad():\n",
    "        model.eval()\n",
    "        graph = graph.to(device)\n",
    "        # The pred is not used for accuracy, the softmax is used\n",
    "        out = model(graph.x.float(), graph.edge_index, graph.batch)\n",
    "        pred = out.argmax(dim=-1)\n",
    "\n",
    "        # Getting class prediction probabilities from the softmax layer\n",
    "        softmax = out.softmax(dim=-1)\n",
    "\n",
    "        return softmax.tolist()"
   ]
  },
  {
   "cell_type": "code",
   "execution_count": 16,
   "id": "ac68d905-8c9b-4cc7-b07e-ce312c31c087",
   "metadata": {},
   "outputs": [
    {
     "name": "stdout",
     "output_type": "stream",
     "text": [
      "Original no of graphs: 1398\n"
     ]
    }
   ],
   "source": [
    "graphs_path = '../../graph generator/diffusion models/sampled_graphs_diffusion/' \n",
    "print('Original no of graphs:',len([name for name in glob.iglob(graphs_path + 'TreeCycle_10to15/*.gexf')]))"
   ]
  },
  {
   "cell_type": "code",
   "execution_count": 17,
   "id": "e5181a8c-87b7-44fe-8e08-c8d835234e19",
   "metadata": {},
   "outputs": [],
   "source": [
    "avg_max_pred_list = []\n",
    "max_pred_list = []\n",
    "softmax_dict_list = []\n",
    "class_graphid_list = []"
   ]
  },
  {
   "cell_type": "code",
   "execution_count": 18,
   "id": "90803ef3-29ea-4707-96db-5e63ba3cde7f",
   "metadata": {},
   "outputs": [],
   "source": [
    "def get_max_pred(softmax_dict,i):\n",
    "    #Getting the list of predictions for each class\n",
    "    prob_class0_dict = {}\n",
    "    prob_class1_dict = {}\n",
    "\n",
    "    for nodeid in softmax_dict:\n",
    "        list0= []\n",
    "        list1= []\n",
    "\n",
    "        if len(softmax_dict[nodeid]) > 0:\n",
    "            list0= []\n",
    "            list1= []\n",
    "    \n",
    "            for prob in softmax_dict[nodeid]:        \n",
    "                list0.append(prob[0])        \n",
    "                list1.append(prob[1]) \n",
    "    \n",
    "         #Taking max probability of all nodes of each class in a graph\n",
    "        if len(list0) != 0:\n",
    "            prob_class0_dict[nodeid]=max(list0)\n",
    "        if len(list1) != 0:    \n",
    "            prob_class1_dict[nodeid]=max(list1)\n",
    "\n",
    "    max_pred0 = max(prob_class0_dict.values())\n",
    "    max_pred1 = max(prob_class1_dict.values())\n",
    "\n",
    "    print('Run'+str(i), max_pred0, max_pred1)\n",
    "    max_pred_list.append([max_pred0, max_pred1])\n",
    "\n",
    "    softmax_dict_list.append(softmax_dict)\n",
    "    \n",
    "    avg_max_pred = (max_pred0+max_pred1)/2\n",
    "    avg_max_pred_list.append(avg_max_pred)\n",
    "    \n",
    "    class0_graphid = max(prob_class0_dict, key=prob_class0_dict.get)\n",
    "    class1_graphid = max(prob_class1_dict, key=prob_class1_dict.get)\n",
    "\n",
    "    class_graphid_list.append([class0_graphid,class1_graphid])"
   ]
  },
  {
   "cell_type": "code",
   "execution_count": 19,
   "id": "174c90d3-d58a-4b8d-b15a-955f4f66629e",
   "metadata": {},
   "outputs": [
    {
     "name": "stdout",
     "output_type": "stream",
     "text": [
      "Epoch: 100, Loss: 0.6781, Train: 0.5776, Val: 0.6552, Test: 0.5909\n",
      "Stopping training as validation accuracy did not improve for 100 epochs\n",
      "No. of graphs evaluated:  1398\n",
      "Run0 0.5950760841369629 0.4536891579627991\n",
      "Epoch: 100, Loss: 0.6878, Train: 0.5776, Val: 0.6552, Test: 0.5909\n",
      "Stopping training as validation accuracy did not improve for 100 epochs\n",
      "No. of graphs evaluated:  1398\n",
      "Run1 0.5882276296615601 0.45723360776901245\n",
      "Epoch: 100, Loss: 0.6831, Train: 0.5776, Val: 0.6552, Test: 0.5909\n",
      "Stopping training as validation accuracy did not improve for 100 epochs\n",
      "No. of graphs evaluated:  1398\n",
      "Run2 0.6124445796012878 0.44522279500961304\n",
      "Epoch: 100, Loss: 0.6861, Train: 0.5776, Val: 0.6552, Test: 0.5909\n",
      "Stopping training as validation accuracy did not improve for 100 epochs\n",
      "No. of graphs evaluated:  1398\n",
      "Run3 0.6239323019981384 0.4394757151603699\n",
      "Epoch: 100, Loss: 0.6790, Train: 0.5776, Val: 0.6552, Test: 0.5909\n",
      "Stopping training as validation accuracy did not improve for 100 epochs\n",
      "No. of graphs evaluated:  1398\n",
      "Run4 0.6008396148681641 0.45078045129776\n",
      "Epoch: 100, Loss: 0.6828, Train: 0.5776, Val: 0.6552, Test: 0.5909\n",
      "Stopping training as validation accuracy did not improve for 100 epochs\n",
      "No. of graphs evaluated:  1398\n",
      "Run5 0.6231012344360352 0.44029781222343445\n",
      "Epoch: 100, Loss: 0.6936, Train: 0.5776, Val: 0.6552, Test: 0.5909\n",
      "Stopping training as validation accuracy did not improve for 100 epochs\n",
      "No. of graphs evaluated:  1398\n",
      "Run6 0.6563506126403809 0.4236287474632263\n",
      "Epoch: 100, Loss: 0.7015, Train: 0.5776, Val: 0.6552, Test: 0.5909\n",
      "Stopping training as validation accuracy did not improve for 100 epochs\n",
      "No. of graphs evaluated:  1398\n",
      "Run7 0.6013636589050293 0.4507157504558563\n",
      "Epoch: 100, Loss: 0.6940, Train: 0.5776, Val: 0.6552, Test: 0.5909\n",
      "Stopping training as validation accuracy did not improve for 100 epochs\n",
      "No. of graphs evaluated:  1398\n",
      "Run8 0.6212165951728821 0.4409974217414856\n",
      "Epoch: 100, Loss: 0.6780, Train: 0.5776, Val: 0.6552, Test: 0.5909\n",
      "Stopping training as validation accuracy did not improve for 100 epochs\n",
      "No. of graphs evaluated:  1398\n",
      "Run9 0.6096228361129761 0.4464706480503082\n"
     ]
    }
   ],
   "source": [
    "for i in range(0,10):\n",
    "    device = 'cpu'\n",
    "    model = GCN(\n",
    "        in_channels=data.x.shape[1],\n",
    "        hidden_channels=128,\n",
    "        out_channels=2,\n",
    "    ).to(device)\n",
    "    \n",
    "    optimizer = torch.optim.Adam([\n",
    "    dict(params=model.conv1.parameters(), weight_decay=5e-4),\n",
    "    dict(params=model.conv2.parameters(), weight_decay=0),\n",
    "    dict(params=model.conv3.parameters(), weight_decay=0)\n",
    "    ], lr=0.00005)  # Only perform weight-decay on first convolution.\n",
    "\n",
    "    best_val_acc = test_acc = 0\n",
    "    start_patience = patience = 100\n",
    "    #times = []\n",
    "    for epoch in range(1, 2000 + 1):\n",
    "        loss = train()\n",
    "        train_acc, val_acc, tmp_test_acc = test()\n",
    "        if val_acc > best_val_acc:\n",
    "            #best_val_acc = val_acc\n",
    "            test_acc = tmp_test_acc\n",
    "        if epoch%100==0:\n",
    "            log(Epoch=epoch, Loss=loss, Train=train_acc, Val=val_acc, Test=test_acc)\n",
    "        #times.append(time.time() - start)\n",
    "    \n",
    "        if (val_acc>best_val_acc):\n",
    "            patience = start_patience\n",
    "            best_val_acc = val_acc\n",
    "    \n",
    "        else:\n",
    "            patience -= 1\n",
    "            \n",
    "        if patience <= 0:\n",
    "            print('Stopping training as validation accuracy did not improve '\n",
    "                  f'for {start_patience} epochs')\n",
    "            break \n",
    "\n",
    "    all_edges = {}\n",
    "    softmax_dict = {}\n",
    "    nodefeature_dict = {}\n",
    "    graph_dict = {}\n",
    "\n",
    "    for filepath in glob.iglob(graphs_path + 'TreeCycle_10to15/*.gexf'):\n",
    "    \n",
    "        graph = nx.read_gexf(filepath)\n",
    "    \n",
    "        filename = os.path.basename(filepath)\n",
    "        graph_id= filename.split('.')[0]\n",
    "\n",
    "        small_graph = from_networkx(graph)\n",
    "        x = torch.tensor([1.0]*2)\n",
    "        small_graph.x= x.repeat(small_graph.num_nodes,1)\n",
    "        small_graph.y = small_graph.pop('node_type')\n",
    "\n",
    "        transform = T.RandomNodeSplit(split='train_rest', num_val=0.0, num_test=1.0)\n",
    "        small_graph = transform(small_graph)\n",
    "    \n",
    "        small_graph.pop('mode')\n",
    "        small_graph.pop('weight')\n",
    "        small_graph.pop('label')\n",
    "        small_graph.pop('id')\n",
    "        small_graph.pop('num_nodes')\n",
    "        \n",
    "        softmax = evaluate_gnn(small_graph)\n",
    "        softmax_dict[graph_id] = softmax\n",
    "        \n",
    "\n",
    "    print(\"No. of graphs evaluated: \",len(softmax_dict))\n",
    "    get_max_pred(softmax_dict,i)\n"
   ]
  },
  {
   "cell_type": "code",
   "execution_count": 20,
   "id": "e98b72ec-7042-43f8-a729-911719bc5773",
   "metadata": {},
   "outputs": [
    {
     "data": {
      "text/plain": [
       "[0.524382621049881,\n",
       " 0.5227306187152863,\n",
       " 0.5288336873054504,\n",
       " 0.5317040085792542,\n",
       " 0.525810033082962,\n",
       " 0.5316995233297348,\n",
       " 0.5399896800518036,\n",
       " 0.5260397046804428,\n",
       " 0.5311070084571838,\n",
       " 0.5280467420816422]"
      ]
     },
     "execution_count": 20,
     "metadata": {},
     "output_type": "execute_result"
    }
   ],
   "source": [
    "avg_max_pred_list"
   ]
  },
  {
   "cell_type": "code",
   "execution_count": 21,
   "id": "967a8f91-a894-4aca-bda8-332ae3e386e4",
   "metadata": {},
   "outputs": [
    {
     "data": {
      "text/plain": [
       "0.5290343627333641"
      ]
     },
     "execution_count": 21,
     "metadata": {},
     "output_type": "execute_result"
    }
   ],
   "source": [
    "np.mean(avg_max_pred_list)"
   ]
  },
  {
   "cell_type": "code",
   "execution_count": 22,
   "id": "1f9dbbea-29ff-489a-bc88-cde53aa5e079",
   "metadata": {},
   "outputs": [
    {
     "data": {
      "text/plain": [
       "6"
      ]
     },
     "execution_count": 22,
     "metadata": {},
     "output_type": "execute_result"
    }
   ],
   "source": [
    "m = max(avg_max_pred_list)\n",
    "index = avg_max_pred_list.index(m)\n",
    "index"
   ]
  },
  {
   "cell_type": "code",
   "execution_count": 23,
   "id": "92e8ffb8-af2a-4b89-8857-2fbe0d1bd7b9",
   "metadata": {},
   "outputs": [
    {
     "data": {
      "text/plain": [
       "[['graph758', 'graph522'],\n",
       " ['graph758', 'graph522'],\n",
       " ['graph758', 'graph522'],\n",
       " ['graph758', 'graph522'],\n",
       " ['graph758', 'graph522'],\n",
       " ['graph758', 'graph522'],\n",
       " ['graph758', 'graph522'],\n",
       " ['graph758', 'graph522'],\n",
       " ['graph758', 'graph522'],\n",
       " ['graph758', 'graph522']]"
      ]
     },
     "execution_count": 23,
     "metadata": {},
     "output_type": "execute_result"
    }
   ],
   "source": [
    "class_graphid_list"
   ]
  },
  {
   "cell_type": "code",
   "execution_count": 24,
   "id": "e6d51ea1-8076-42a0-a433-1acb0225f684",
   "metadata": {},
   "outputs": [],
   "source": [
    "def plot_graph(graphid, max_pred, nodetype):\n",
    "    \n",
    "    graph=nx.read_gexf(graphs_path + 'TreeCycle_10to15/' + graphid + '.gexf')\n",
    "    \n",
    "    print('Number of nodes: ',graph.number_of_nodes())\n",
    "    print('graph id: ',graphid)\n",
    "    print(f'Max pred probability for class {nodetype} is {max_pred}')\n",
    "\n",
    "    nx.draw(graph, \n",
    "    with_labels=False,\n",
    "             node_size=100)\n",
    "    plt.show()"
   ]
  },
  {
   "cell_type": "code",
   "execution_count": 25,
   "id": "ce6a0cd6-f843-4d68-b674-17197a39bdbd",
   "metadata": {},
   "outputs": [],
   "source": [
    "class0_graphid = class_graphid_list[index][0]\n",
    "class1_graphid = class_graphid_list[index][1]"
   ]
  },
  {
   "cell_type": "code",
   "execution_count": 26,
   "id": "229cf0d8-b3dd-4ded-bf84-e28f3b624643",
   "metadata": {},
   "outputs": [],
   "source": [
    "max_pred0 = max_pred_list[index][0]\n",
    "max_pred1 = max_pred_list[index][1]"
   ]
  },
  {
   "cell_type": "code",
   "execution_count": 27,
   "id": "db8fc747-02ca-451f-afc5-53e6201fc6f4",
   "metadata": {},
   "outputs": [
    {
     "data": {
      "text/plain": [
       "[[0.5950760841369629, 0.4536891579627991],\n",
       " [0.5882276296615601, 0.45723360776901245],\n",
       " [0.6124445796012878, 0.44522279500961304],\n",
       " [0.6239323019981384, 0.4394757151603699],\n",
       " [0.6008396148681641, 0.45078045129776],\n",
       " [0.6231012344360352, 0.44029781222343445],\n",
       " [0.6563506126403809, 0.4236287474632263],\n",
       " [0.6013636589050293, 0.4507157504558563],\n",
       " [0.6212165951728821, 0.4409974217414856],\n",
       " [0.6096228361129761, 0.4464706480503082]]"
      ]
     },
     "execution_count": 27,
     "metadata": {},
     "output_type": "execute_result"
    }
   ],
   "source": [
    "max_pred_list"
   ]
  },
  {
   "cell_type": "code",
   "execution_count": 28,
   "id": "4c1a418e-5302-4db5-9845-c84caf7e8f65",
   "metadata": {},
   "outputs": [
    {
     "name": "stdout",
     "output_type": "stream",
     "text": [
      "Number of nodes:  13\n",
      "graph id:  graph758\n",
      "Max pred probability for class 0 is 0.6563506126403809\n"
     ]
    },
    {
     "data": {
      "image/png": "[encoded data removed]",
      "text/plain": [
       "<Figure size 640x480 with 1 Axes>"
      ]
     },
     "metadata": {},
     "output_type": "display_data"
    }
   ],
   "source": [
    "explanation_graph0 = plot_graph(class0_graphid, max_pred0, 0)"
   ]
  },
  {
   "cell_type": "code",
   "execution_count": 29,
   "id": "3e0b7648-f409-4fe1-b85c-c2de113a5771",
   "metadata": {},
   "outputs": [
    {
     "name": "stdout",
     "output_type": "stream",
     "text": [
      "Number of nodes:  12\n",
      "graph id:  graph522\n",
      "Max pred probability for class 1 is 0.4236287474632263\n"
     ]
    },
    {
     "data": {
      "image/png": "[encoded data removed]",
      "text/plain": [
       "<Figure size 640x480 with 1 Axes>"
      ]
     },
     "metadata": {},
     "output_type": "display_data"
    }
   ],
   "source": [
    "explanation_graph1 = plot_graph(class1_graphid, max_pred1, 1)"
   ]
  },
  {
   "cell_type": "code",
   "execution_count": 30,
   "id": "7e2f0ab8-02e0-4a0d-9ba5-1728b36d0f9b",
   "metadata": {},
   "outputs": [],
   "source": [
    "motifs_path = '../motifs/TreeCycle/'\n",
    "files_motif = os.listdir(motifs_path)"
   ]
  },
  {
   "cell_type": "code",
   "execution_count": null,
   "id": "f37677d4-5908-45de-80ec-1ee98604995f",
   "metadata": {},
   "outputs": [],
   "source": [
    "for index_m, file_m in enumerate(files_motif):\n",
    "    filepath_m = os.path.join(motifs_path, file_m)\n",
    "    print(filepath_m)"
   ]
  },
  {
   "cell_type": "code",
   "execution_count": 32,
   "id": "e7d00960-ce62-430f-80a6-b125495249f1",
   "metadata": {},
   "outputs": [],
   "source": [
    "def get_faithfulness(graphid_list):\n",
    "    class_faithfulness = []\n",
    "    for graphid in graphid_list:\n",
    "        expln_graph=nx.read_gexf(graphs_path + 'TreeCycle_10to15/' + graphid + '.gexf')\n",
    "        \n",
    "        faith_score_list = []\n",
    "        for index_m, file_m in enumerate(files_motif):\n",
    "            filepath_m = os.path.join(motifs_path, file_m)\n",
    "            \n",
    "            motif_graph = nx.read_gexf(filepath_m)\n",
    "\n",
    "            GM = nx.algorithms.isomorphism.GraphMatcher(expln_graph,motif_graph)\n",
    "            x = 1 if GM.subgraph_is_isomorphic() else 0    \n",
    "            faith_score_list.append(x)\n",
    "\n",
    "        class_faithfulness.append(np.mean(faith_score_list))\n",
    "\n",
    "    return np.mean(class_faithfulness)"
   ]
  },
  {
   "cell_type": "code",
   "execution_count": 33,
   "id": "c4cd79ca-4abe-40ab-94e2-86a04c98c194",
   "metadata": {},
   "outputs": [
    {
     "name": "stdout",
     "output_type": "stream",
     "text": [
      "Run0 0.7166666666666667\n",
      "Run1 0.7166666666666667\n",
      "Run2 0.7166666666666667\n",
      "Run3 0.7166666666666667\n",
      "Run4 0.7166666666666667\n",
      "Run5 0.7166666666666667\n",
      "Run6 0.7166666666666667\n",
      "Run7 0.7166666666666667\n",
      "Run8 0.7166666666666667\n",
      "Run9 0.7166666666666667\n",
      "0.7166666666666667\n"
     ]
    }
   ],
   "source": [
    "faithfulness_list = []\n",
    "\n",
    "for i in range(0,10):\n",
    "    faithfulness = get_faithfulness(class_graphid_list[i])\n",
    "\n",
    "    print('Run'+str(i),faithfulness)\n",
    "    faithfulness_list.append(faithfulness)\n",
    "print(np.mean(faithfulness_list))"
   ]
  },
  {
   "cell_type": "code",
   "execution_count": null,
   "id": "f92b22f3-b31c-401e-98c6-42714072a064",
   "metadata": {},
   "outputs": [],
   "source": []
  },
  {
   "cell_type": "code",
   "execution_count": null,
   "id": "492dd0f3-9b53-4f3b-8115-4bdc6e11e2e1",
   "metadata": {},
   "outputs": [],
   "source": []
  },
  {
   "cell_type": "code",
   "execution_count": null,
   "id": "71e3be1d-d960-4d5c-92bf-f0efdc9d6823",
   "metadata": {},
   "outputs": [],
   "source": []
  },
  {
   "cell_type": "code",
   "execution_count": null,
   "id": "a89da080-7db5-4c88-8136-479c34e5e40c",
   "metadata": {},
   "outputs": [],
   "source": []
  }
 ],
 "metadata": {
  "kernelspec": {
   "display_name": "Python 3 (ipykernel)",
   "language": "python",
   "name": "python3"
  },
  "language_info": {
   "codemirror_mode": {
    "name": "ipython",
    "version": 3
   },
   "file_extension": ".py",
   "mimetype": "text/x-python",
   "name": "python",
   "nbconvert_exporter": "python",
   "pygments_lexer": "ipython3",
   "version": "3.10.6"
  }
 },
 "nbformat": 4,
 "nbformat_minor": 5
}
