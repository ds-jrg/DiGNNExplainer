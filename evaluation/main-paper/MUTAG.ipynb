{
 "cells": [
  {
   "cell_type": "code",
   "execution_count": 1,
   "id": "b1024780-edc8-4851-940e-0f30d653b8a5",
   "metadata": {},
   "outputs": [],
   "source": [
    "import argparse\n",
    "import time\n",
    "import torch\n",
    "from torch_geometric.datasets import TUDataset\n",
    "from torch_geometric.loader import DataLoader\n",
    "from torch_geometric.logging import log\n",
    "import easydict\n",
    "import rdkit\n",
    "from rdkit import Chem\n",
    "import torch_geometric\n",
    "import torch_geometric.utils.smiles as smiles\n",
    "import random\n",
    "import numpy as np\n",
    "from torch.nn import Linear\n",
    "import torch.nn.functional as F\n",
    "from torch_geometric.nn import GCNConv\n",
    "from torch_geometric.nn import global_mean_pool\n",
    "import networkx as nx\n",
    "import matplotlib.pyplot as plt\n",
    "import itertools\n",
    "import community as community_louvain\n",
    "import matplotlib.cm as cm\n",
    "import os"
   ]
  },
  {
   "cell_type": "code",
   "execution_count": 2,
   "id": "d75b31c3-ea18-4d3d-87ef-cfe05d1fd395",
   "metadata": {},
   "outputs": [],
   "source": [
    "parser = argparse.ArgumentParser()\n",
    "args = easydict.EasyDict({\n",
    "    \"dataset\": 'MUTAG',\n",
    "    \"batch_size\": 128,\n",
    "    \"hidden_channels\": 32,\n",
    "    \"lr\": 0.0005,\n",
    "    \"epochs\": 2000,\n",
    "})"
   ]
  },
  {
   "cell_type": "code",
   "execution_count": 3,
   "id": "6e456f1b-e568-43f2-89f1-5af09cbb5aeb",
   "metadata": {},
   "outputs": [
    {
     "data": {
      "text/plain": [
       "MUTAG(188)"
      ]
     },
     "execution_count": 3,
     "metadata": {},
     "output_type": "execute_result"
    }
   ],
   "source": [
    "dataset = TUDataset(root='./mutag_data', name=args.dataset).shuffle()\n",
    "dataset"
   ]
  },
  {
   "cell_type": "code",
   "execution_count": 4,
   "id": "3b08f3f6-285c-4fc8-a4e8-6643b0c467f1",
   "metadata": {},
   "outputs": [
    {
     "data": {
      "text/plain": [
       "tensor([0, 1])"
      ]
     },
     "execution_count": 4,
     "metadata": {},
     "output_type": "execute_result"
    }
   ],
   "source": [
    "torch.unique(dataset.y)"
   ]
  },
  {
   "cell_type": "code",
   "execution_count": 5,
   "id": "e58cb796-9a20-4f83-aa6c-f7c6038c49bb",
   "metadata": {},
   "outputs": [],
   "source": [
    "train_loader = DataLoader(dataset[:0.9], args.batch_size, shuffle=True)\n",
    "test_loader = DataLoader(dataset[0.9:], args.batch_size)"
   ]
  },
  {
   "cell_type": "code",
   "execution_count": 6,
   "id": "14fa416c-fff5-42b4-ad71-76e6e3258626",
   "metadata": {},
   "outputs": [],
   "source": [
    "class GCN(torch.nn.Module):\n",
    "    def __init__(self, hidden_channels):\n",
    "        super(GCN, self).__init__()\n",
    "        torch.manual_seed(12345)\n",
    "        self.conv1 = GCNConv(dataset.num_node_features, args.hidden_channels)\n",
    "        self.conv2 = GCNConv(args.hidden_channels, args.hidden_channels)\n",
    "        self.conv3 = GCNConv(args.hidden_channels, args.hidden_channels)\n",
    "        self.lin = Linear(args.hidden_channels, dataset.num_classes)\n",
    "\n",
    "    def forward(self, x, edge_index, batch):\n",
    "        # 1. Obtain node embeddings\n",
    "        x = self.conv1(x, edge_index)\n",
    "        x = x.relu()\n",
    "        x = self.conv2(x, edge_index)\n",
    "        x = x.relu()\n",
    "        x = self.conv3(x, edge_index)\n",
    "\n",
    "        # 2. Readout layer\n",
    "        x = global_mean_pool(x, batch)  # [batch_size, hidden_channels]\n",
    "\n",
    "        # 3. Apply a final classifier\n",
    "        x = F.dropout(x, p=0.3, training=self.training)\n",
    "        x = self.lin(x)\n",
    "\n",
    "        return x\n",
    "\n",
    "def train():\n",
    "    model.train()\n",
    "\n",
    "    total_loss = 0\n",
    "    for data in train_loader:\n",
    "        \n",
    "        data = data.to(device)\n",
    "        optimizer.zero_grad()\n",
    "        out = model(data.x, data.edge_index, data.batch)\n",
    "        loss = F.cross_entropy(out, data.y)\n",
    "        loss.backward()\n",
    "        optimizer.step()\n",
    "        total_loss += float(loss) * data.num_graphs\n",
    "    return total_loss / len(train_loader.dataset)\n",
    "\n",
    "\n",
    "@torch.no_grad()\n",
    "def test(loader):\n",
    "    model.eval()\n",
    "\n",
    "    total_correct = 0\n",
    "    for data in loader:\n",
    "        data = data.to(device)\n",
    "        out = model(data.x, data.edge_index, data.batch)\n",
    "        pred = out.argmax(dim=-1)\n",
    "        \n",
    "        total_correct += int((pred == data.y).sum())\n",
    "    return total_correct / len(loader.dataset)"
   ]
  },
  {
   "cell_type": "code",
   "execution_count": 7,
   "id": "911b240b-9590-4fba-b18e-94790c755588",
   "metadata": {},
   "outputs": [],
   "source": [
    "def evaluate_gnn(graph):\n",
    "    with torch.no_grad():\n",
    "        model.eval()\n",
    "        graph = graph.to(device)\n",
    "        # The pred is not used for accuracy, the softmax is used\n",
    "        out = model(graph.x.float(), graph.edge_index, graph.batch)\n",
    "        pred = out.argmax(dim=-1)\n",
    "\n",
    "        # Getting class prediction probabilities from the softmax layer\n",
    "        softmax = out.softmax(dim=-1)\n",
    "\n",
    "        return softmax.tolist()"
   ]
  },
  {
   "cell_type": "code",
   "execution_count": 8,
   "id": "3f45947a-9986-4a45-ac43-7b27d37de41c",
   "metadata": {},
   "outputs": [],
   "source": [
    "softmax_dict_list = []\n",
    "max_pred_list = []\n",
    "avg_max_pred_list = []\n",
    "class_smile_list = []\n",
    "class_graph_list = []\n",
    "graph_dict_list = []"
   ]
  },
  {
   "cell_type": "code",
   "execution_count": 9,
   "id": "533afaeb-097d-40a9-bcc1-382be5cb5c50",
   "metadata": {},
   "outputs": [],
   "source": [
    "def get_max_pred(softmax_dict,i):\n",
    "    prob_class0_dict = {}\n",
    "    prob_class1_dict = {}\n",
    "    \n",
    "    for graph in softmax_dict:\n",
    "        if len(softmax_dict[graph]) > 0:\n",
    "            list0 = []\n",
    "            list1 = []\n",
    "    \n",
    "            for prob in softmax_dict[graph]:\n",
    "                list0.append(prob[0])\n",
    "                list1.append(prob[1])\n",
    "    \n",
    "        #Taking max probability of all nodes of each class in a graph\n",
    "        if len(list0) != 0:\n",
    "            prob_class0_dict[graph] = max(list0)\n",
    "        if len(list1) != 0:\n",
    "            prob_class1_dict[graph] = max(list1)\n",
    "    \n",
    "    max_pred0 = max(prob_class0_dict.values())\n",
    "    max_pred1 = max(prob_class1_dict.values())\n",
    "\n",
    "    print('Run'+str(i), max_pred0, max_pred1)\n",
    "    max_pred_list.append([max_pred0, max_pred1])\n",
    "    \n",
    "    avg_max_pred = (max_pred0+max_pred1)/2\n",
    "    avg_max_pred_list.append(avg_max_pred)\n",
    "    \n",
    "    graph_dict_list.append(graph_dict)\n",
    "    #print(graph_dict)\n",
    "    softmax_dict_list.append(softmax_dict)\n",
    "\n",
    "    class0_smile = max(prob_class0_dict, key=prob_class0_dict.get)\n",
    "    class1_smile = max(prob_class1_dict, key=prob_class1_dict.get)\n",
    "\n",
    "    class_smile_list.append([class0_smile,class1_smile])\n",
    "    \n",
    "    class_graph_list.append([graph_dict.get(class0_smile), graph_dict.get(class1_smile)])"
   ]
  },
  {
   "cell_type": "code",
   "execution_count": 10,
   "id": "ea5ae89c-ef93-4e17-a9c3-fd2701ab0586",
   "metadata": {},
   "outputs": [],
   "source": [
    "concatenate text files for different sizes\n",
    "filenames = ['smiles_txt/final_smiles_11.txt', 'smiles_txt/final_smiles_12.txt', 'smiles_txt/final_smiles_13.txt', \n",
    "             'smiles_txt/final_smiles_14.txt', 'smiles_txt/final_smiles_15.txt']\n",
    "with open('smiles_txt/final_smiles.txt', 'w') as outfile:\n",
    "    for fname in filenames:\n",
    "        with open(fname) as infile:\n",
    "            for line in infile:\n",
    "                outfile.write(line)\n"
   ]
  },
  {
   "cell_type": "code",
   "execution_count": 11,
   "id": "35cdce0b-f213-44f9-b2b7-ccab2f97b3cb",
   "metadata": {},
   "outputs": [
    {
     "name": "stdout",
     "output_type": "stream",
     "text": [
      "Epoch: 200, Loss: 0.5242, Train: 0.7219, Test: 0.8421\n",
      "Epoch: 400, Loss: 0.5010, Train: 0.7515, Test: 0.9474\n",
      "Epoch: 600, Loss: 0.5074, Train: 0.7396, Test: 0.8947\n",
      "Stopping training as validation accuracy did not improve for 100 epochs\n",
      "counter 731\n",
      "graphs 731\n",
      "No. of graphs evaluated:  731\n",
      "Run0 1.0 1.0\n",
      "Epoch: 200, Loss: 0.5242, Train: 0.7219, Test: 0.8421\n",
      "Epoch: 400, Loss: 0.5010, Train: 0.7515, Test: 0.9474\n",
      "Epoch: 600, Loss: 0.5074, Train: 0.7396, Test: 0.8947\n",
      "Stopping training as validation accuracy did not improve for 100 epochs\n",
      "counter 731\n",
      "graphs 731\n",
      "No. of graphs evaluated:  731\n",
      "Run1 1.0 1.0\n",
      "Epoch: 200, Loss: 0.5242, Train: 0.7219, Test: 0.8421\n",
      "Epoch: 400, Loss: 0.5010, Train: 0.7515, Test: 0.9474\n",
      "Epoch: 600, Loss: 0.5074, Train: 0.7396, Test: 0.8947\n",
      "Stopping training as validation accuracy did not improve for 100 epochs\n",
      "counter 731\n",
      "graphs 731\n",
      "No. of graphs evaluated:  731\n",
      "Run2 1.0 1.0\n",
      "Epoch: 200, Loss: 0.5242, Train: 0.7219, Test: 0.8421\n",
      "Epoch: 400, Loss: 0.5010, Train: 0.7515, Test: 0.9474\n",
      "Epoch: 600, Loss: 0.5074, Train: 0.7396, Test: 0.8947\n",
      "Stopping training as validation accuracy did not improve for 100 epochs\n",
      "counter 731\n",
      "graphs 731\n",
      "No. of graphs evaluated:  731\n",
      "Run3 1.0 1.0\n",
      "Epoch: 200, Loss: 0.5242, Train: 0.7219, Test: 0.8421\n",
      "Epoch: 400, Loss: 0.5010, Train: 0.7515, Test: 0.9474\n",
      "Epoch: 600, Loss: 0.5074, Train: 0.7396, Test: 0.8947\n",
      "Stopping training as validation accuracy did not improve for 100 epochs\n",
      "counter 731\n",
      "graphs 731\n",
      "No. of graphs evaluated:  731\n",
      "Run4 1.0 1.0\n",
      "Epoch: 200, Loss: 0.5242, Train: 0.7219, Test: 0.8421\n",
      "Epoch: 400, Loss: 0.5010, Train: 0.7515, Test: 0.9474\n",
      "Epoch: 600, Loss: 0.5074, Train: 0.7396, Test: 0.8947\n",
      "Stopping training as validation accuracy did not improve for 100 epochs\n",
      "counter 731\n",
      "graphs 731\n",
      "No. of graphs evaluated:  731\n",
      "Run5 1.0 1.0\n",
      "Epoch: 200, Loss: 0.5242, Train: 0.7219, Test: 0.8421\n",
      "Epoch: 400, Loss: 0.5010, Train: 0.7515, Test: 0.9474\n",
      "Epoch: 600, Loss: 0.5074, Train: 0.7396, Test: 0.8947\n",
      "Stopping training as validation accuracy did not improve for 100 epochs\n",
      "counter 731\n",
      "graphs 731\n",
      "No. of graphs evaluated:  731\n",
      "Run6 1.0 1.0\n",
      "Epoch: 200, Loss: 0.5242, Train: 0.7219, Test: 0.8421\n",
      "Epoch: 400, Loss: 0.5010, Train: 0.7515, Test: 0.9474\n",
      "Epoch: 600, Loss: 0.5074, Train: 0.7396, Test: 0.8947\n",
      "Stopping training as validation accuracy did not improve for 100 epochs\n",
      "counter 731\n",
      "graphs 731\n",
      "No. of graphs evaluated:  731\n",
      "Run7 1.0 1.0\n",
      "Epoch: 200, Loss: 0.5242, Train: 0.7219, Test: 0.8421\n",
      "Epoch: 400, Loss: 0.5010, Train: 0.7515, Test: 0.9474\n",
      "Epoch: 600, Loss: 0.5074, Train: 0.7396, Test: 0.8947\n",
      "Stopping training as validation accuracy did not improve for 100 epochs\n",
      "counter 731\n",
      "graphs 731\n",
      "No. of graphs evaluated:  731\n",
      "Run8 1.0 1.0\n",
      "Epoch: 200, Loss: 0.5242, Train: 0.7219, Test: 0.8421\n",
      "Epoch: 400, Loss: 0.5010, Train: 0.7515, Test: 0.9474\n",
      "Epoch: 600, Loss: 0.5074, Train: 0.7396, Test: 0.8947\n",
      "Stopping training as validation accuracy did not improve for 100 epochs\n",
      "counter 731\n",
      "graphs 731\n",
      "No. of graphs evaluated:  731\n",
      "Run9 1.0 1.0\n"
     ]
    }
   ],
   "source": [
    "#['C', 'N', 'O', 'F', 'I', 'Cl', 'Br']\n",
    "atomic_numbers = {0: 6, 1: 7, 2: 8, 3: 9, 4: 53, 5: 17, 6: 35}\n",
    "edge_types = {0: 'AROMATIC', 1: 'SINGLE', 2: 'DOUBLE', 3: 'TRIPLE'}\n",
    "\n",
    "\n",
    "for i in range(0,10):\n",
    "    \n",
    "    if torch.cuda.is_available():\n",
    "        device = torch.device('cuda')\n",
    "    else:\n",
    "        device = torch.device('cpu')\n",
    "    \n",
    "    model = GCN(hidden_channels=args.hidden_channels).to(device)\n",
    "    optimizer = torch.optim.Adam(model.parameters(), lr=args.lr)\n",
    "    criterion = torch.nn.CrossEntropyLoss()\n",
    "    \n",
    "\n",
    "    best_test_acc = 0\n",
    "    start_patience = patience = 100\n",
    "    for epoch in range(1, args.epochs + 1):\n",
    "        loss = train()\n",
    "        train_acc = test(train_loader)\n",
    "        test_acc = test(test_loader)\n",
    "        if epoch % 200 == 0:\n",
    "            log(Epoch=epoch, Loss=loss, Train=train_acc, Test=test_acc)\n",
    "        if best_test_acc <= test_acc:\n",
    "            patience = start_patience\n",
    "            best_test_acc = test_acc\n",
    "        else:\n",
    "            patience -= 1\n",
    "    \n",
    "        if patience <= 0:\n",
    "            print('Stopping training as validation accuracy did not improve '\n",
    "                  f'for {start_patience} epochs')\n",
    "            break\n",
    "\n",
    "\n",
    "    \n",
    "    counter = 0\n",
    "    f = open('smiles_txt/final_smiles.txt', 'r')\n",
    "    list_smiles = []\n",
    "    unique_labels = [0, 1]\n",
    "    softmax_dict = {}\n",
    "    graph_dict = {}\n",
    "    counter = 0\n",
    "    for l in f:\n",
    "        \n",
    "        if l != 'None\\n':\n",
    "            #counter=counter+1\n",
    "            list_smiles.append(l)\n",
    "            #print(l)\n",
    "            counter = counter + 1\n",
    "            graph = smiles.from_smiles(l)\n",
    "            mol = Chem.MolFromSmiles(l)\n",
    "    \n",
    "            node_type_list = []\n",
    "            for atom in mol.GetAtoms():\n",
    "                atomic_no = atom.GetAtomicNum()\n",
    "                node_type_list.append(list(atomic_numbers.keys())[list(atomic_numbers.values()).index(atomic_no)])\n",
    "            graph.x = F.one_hot(torch.tensor(node_type_list), num_classes=len(atomic_numbers.keys()))\n",
    "    \n",
    "            graph.y = torch.tensor(random.choice(unique_labels)).to(torch.int64)\n",
    "    \n",
    "            edge_type_list = []\n",
    "            for bond in mol.GetBonds():\n",
    "                edge = str(bond.GetBondType())\n",
    "                edge_type_list.append(list(edge_types.keys())[list(edge_types.values()).index(edge)])\n",
    "            if edge_type_list:\n",
    "                graph.edge_attr = F.one_hot(torch.tensor(edge_type_list), num_classes=len(edge_types.keys()))\n",
    "            else:\n",
    "                graph.edge_attr = torch.zeros(len(edge_types.keys())).to(torch.int64)\n",
    "    \n",
    "            graph.batch = torch.Tensor([0]).to(torch.int64)\n",
    "            smile_str = str(graph.smiles).strip()\n",
    "            graph.pop('smiles')\n",
    "    \n",
    "            softmax = evaluate_gnn(graph)\n",
    "            \n",
    "            softmax_dict[counter] = softmax               \n",
    "            graph_dict[counter] = graph\n",
    "                \n",
    "    print('counter',len(list_smiles))   \n",
    "    print('graphs',len(graph_dict)) \n",
    "    print(\"No. of graphs evaluated: \", len(softmax_dict))\n",
    "\n",
    "    get_max_pred(softmax_dict,i)"
   ]
  },
  {
   "cell_type": "code",
   "execution_count": 12,
   "id": "6ef0b145-c84c-491d-9a90-08c71b9424bf",
   "metadata": {},
   "outputs": [
    {
     "data": {
      "text/plain": [
       "731"
      ]
     },
     "execution_count": 12,
     "metadata": {},
     "output_type": "execute_result"
    }
   ],
   "source": [
    "counter"
   ]
  },
  {
   "cell_type": "code",
   "execution_count": 13,
   "id": "cd778768-99fb-4bac-bdb8-5edd556bb94e",
   "metadata": {},
   "outputs": [
    {
     "data": {
      "text/plain": [
       "[1.0, 1.0, 1.0, 1.0, 1.0, 1.0, 1.0, 1.0, 1.0, 1.0]"
      ]
     },
     "execution_count": 13,
     "metadata": {},
     "output_type": "execute_result"
    }
   ],
   "source": [
    "avg_max_pred_list"
   ]
  },
  {
   "cell_type": "code",
   "execution_count": 14,
   "id": "963c4efd-bbde-4b50-9c7a-d2e79a4d018d",
   "metadata": {},
   "outputs": [
    {
     "data": {
      "text/plain": [
       "1.0"
      ]
     },
     "execution_count": 14,
     "metadata": {},
     "output_type": "execute_result"
    }
   ],
   "source": [
    "np.mean(avg_max_pred_list)"
   ]
  },
  {
   "cell_type": "code",
   "execution_count": 15,
   "id": "2c9c4210-74e9-446a-833e-260908315fa2",
   "metadata": {},
   "outputs": [
    {
     "data": {
      "text/plain": [
       "0"
      ]
     },
     "execution_count": 15,
     "metadata": {},
     "output_type": "execute_result"
    }
   ],
   "source": [
    "m = max(avg_max_pred_list)\n",
    "index = avg_max_pred_list.index(m)\n",
    "index"
   ]
  },
  {
   "cell_type": "code",
   "execution_count": 16,
   "id": "fa2cf74d-3a63-4291-8a26-8c678e4901f4",
   "metadata": {},
   "outputs": [],
   "source": [
    "def graph_draw(g: torch_geometric.data.Data):\n",
    "    \n",
    "    # Convert to networkx\n",
    "    g = torch_geometric.utils.to_networkx(g, to_undirected=True)\n",
    "\n",
    "    node_color = []\n",
    "\n",
    "    nx.draw(g, with_labels=False,\n",
    "             node_size=100)\n",
    "    plt.show()"
   ]
  },
  {
   "cell_type": "code",
   "execution_count": 17,
   "id": "b9eb54fc-663e-40b7-af43-105596e7dce5",
   "metadata": {},
   "outputs": [],
   "source": [
    "class0_smile = class_smile_list[index][0]\n",
    "class1_smile = class_smile_list[index][1]"
   ]
  },
  {
   "cell_type": "code",
   "execution_count": 18,
   "id": "5543831b-7467-4c80-b99d-14af53b39c9c",
   "metadata": {},
   "outputs": [],
   "source": [
    "max_pred0 = max_pred_list[index][0]\n",
    "max_pred1 = max_pred_list[index][1]"
   ]
  },
  {
   "cell_type": "code",
   "execution_count": 19,
   "id": "09ee109c-4a33-4b36-9a95-761531cfd064",
   "metadata": {},
   "outputs": [
    {
     "name": "stdout",
     "output_type": "stream",
     "text": [
      "1.0\n",
      "1.0\n"
     ]
    }
   ],
   "source": [
    "print(max_pred0)\n",
    "print(max_pred1)"
   ]
  },
  {
   "cell_type": "code",
   "execution_count": 20,
   "id": "0b137980-d83e-4aeb-9fa5-76e08e663c05",
   "metadata": {},
   "outputs": [],
   "source": [
    "graph_dict_ind = graph_dict_list[index]"
   ]
  },
  {
   "cell_type": "markdown",
   "id": "0d658c90-61db-47e1-ace3-126247e6760d",
   "metadata": {},
   "source": [
    "Explanation graph for class 0"
   ]
  },
  {
   "cell_type": "code",
   "execution_count": 21,
   "id": "93247104-48a5-4b6c-b774-da8cabb5916c",
   "metadata": {},
   "outputs": [
    {
     "data": {
      "image/png": "[encoded data removed]",
      "text/plain": [
       "<Figure size 640x480 with 1 Axes>"
      ]
     },
     "metadata": {},
     "output_type": "display_data"
    }
   ],
   "source": [
    "graph_draw(graph_dict_ind[class0_smile])"
   ]
  },
  {
   "cell_type": "markdown",
   "id": "0f79607f-90ac-40aa-a766-2029b5c6a242",
   "metadata": {},
   "source": [
    "Explanation graph for class 1"
   ]
  },
  {
   "cell_type": "code",
   "execution_count": 22,
   "id": "74aa731b-1806-4f36-a7d8-30d3063c0fb4",
   "metadata": {},
   "outputs": [
    {
     "data": {
      "image/png": "[encoded data removed]",
      "text/plain": [
       "<Figure size 640x480 with 1 Axes>"
      ]
     },
     "metadata": {},
     "output_type": "display_data"
    }
   ],
   "source": [
    "graph_draw(graph_dict_ind[class1_smile])"
   ]
  },
  {
   "cell_type": "code",
   "execution_count": 23,
   "id": "c7a06264-c9ad-428f-b26e-5c0a74c06078",
   "metadata": {},
   "outputs": [],
   "source": [
    "motifs_path = 'motifs/mutag/'\n",
    "#files_motif = os.listdir(motifs_path)"
   ]
  },
  {
   "cell_type": "code",
   "execution_count": 24,
   "id": "cad8ddf3-196b-4533-bff7-d96fb2bb1ed0",
   "metadata": {},
   "outputs": [
    {
     "name": "stdout",
     "output_type": "stream",
     "text": [
      "motifs/mutag/ []\n",
      "motifs/mutag/class0 ['motif_real_mutag_21.gexf', 'motif_real_mutag_22.gexf', 'motif_real_mutag_23.gexf', 'motif_real_mutag_24.gexf', 'motif_real_mutag_25.gexf', 'motif_real_mutag_26.gexf', 'motif_real_mutag_27.gexf', 'motif_real_mutag_28.gexf', 'motif_real_mutag_29.gexf', 'motif_real_mutag_3.gexf', 'motif_real_mutag_30.gexf', 'motif_real_mutag_31.gexf', 'motif_real_mutag_32.gexf', 'motif_real_mutag_33.gexf', 'motif_real_mutag_34.gexf', 'motif_real_mutag_35.gexf', 'motif_real_mutag_36.gexf', 'motif_real_mutag_37.gexf', 'motif_real_mutag_38.gexf', 'motif_real_mutag_39.gexf', 'motif_real_mutag_4.gexf', 'motif_real_mutag_40.gexf', 'motif_real_mutag_41.gexf', 'motif_real_mutag_42.gexf', 'motif_real_mutag_43.gexf', 'motif_real_mutag_5.gexf', 'motif_real_mutag_6.gexf', 'motif_real_mutag_7.gexf', 'motif_real_mutag_8.gexf', 'motif_real_mutag_9.gexf', 'motif_real_mutag_0.gexf', 'motif_real_mutag_1.gexf', 'motif_real_mutag_10.gexf', 'motif_real_mutag_11.gexf', 'motif_real_mutag_12.gexf', 'motif_real_mutag_13.gexf', 'motif_real_mutag_14.gexf', 'motif_real_mutag_15.gexf', 'motif_real_mutag_16.gexf', 'motif_real_mutag_17.gexf', 'motif_real_mutag_18.gexf', 'motif_real_mutag_19.gexf', 'motif_real_mutag_2.gexf', 'motif_real_mutag_20.gexf']\n",
      "motifs/mutag/class1 ['motif_real_mutag_44.gexf', 'motif_real_mutag_45.gexf', 'motif_real_mutag_46.gexf', 'motif_real_mutag_47.gexf', 'motif_real_mutag_48.gexf', 'motif_real_mutag_49.gexf', 'motif_real_mutag_50.gexf', 'motif_real_mutag_51.gexf', 'motif_real_mutag_52.gexf', 'motif_real_mutag_53.gexf', 'motif_real_mutag_54.gexf', 'motif_real_mutag_55.gexf', 'motif_real_mutag_56.gexf', 'motif_real_mutag_57.gexf']\n"
     ]
    }
   ],
   "source": [
    "from os import walk\n",
    "w = walk(motifs_path)\n",
    "\n",
    "for (dirpath, dirnames, filenames) in w:\n",
    "    print(dirpath,filenames)"
   ]
  },
  {
   "cell_type": "code",
   "execution_count": 25,
   "id": "1e8e10b0-9aaa-4bee-8079-dfb4f8402a17",
   "metadata": {},
   "outputs": [],
   "source": [
    "def get_avg_fidelity(graph_list):\n",
    "    class_avg_fidelity = []\n",
    "    for i, g in enumerate(graph_list):\n",
    "        expln_graph = torch_geometric.utils.to_networkx(g, to_undirected=True)\n",
    "        fid_score_list = [] \n",
    "        path = motifs_path + 'class' + str(i) + '/'\n",
    "        files_motif = os.listdir(path)\n",
    "        for index_m, file_m in enumerate(files_motif):\n",
    "            filepath_m = os.path.join(path, file_m)\n",
    "            \n",
    "            motif_graph = nx.read_gexf(filepath_m)\n",
    "\n",
    "            GM = nx.algorithms.isomorphism.GraphMatcher(expln_graph,motif_graph)\n",
    "            x = 1 if GM.subgraph_is_isomorphic() else 0    \n",
    "            fid_score_list.append(x)\n",
    "\n",
    "        class_avg_fidelity.append(np.mean(fid_score_list))\n",
    "\n",
    "    return np.mean(class_avg_fidelity) "
   ]
  },
  {
   "cell_type": "code",
   "execution_count": 26,
   "id": "37d2cc96-f0bb-4098-8601-c99249422634",
   "metadata": {},
   "outputs": [
    {
     "name": "stdout",
     "output_type": "stream",
     "text": [
      "Run0 0.4253246753246753\n",
      "Run1 0.4253246753246753\n",
      "Run2 0.4253246753246753\n",
      "Run3 0.4253246753246753\n",
      "Run4 0.4253246753246753\n",
      "Run5 0.4253246753246753\n",
      "Run6 0.4253246753246753\n",
      "Run7 0.4253246753246753\n",
      "Run8 0.4253246753246753\n",
      "Run9 0.4253246753246753\n",
      "0.42532467532467527\n"
     ]
    }
   ],
   "source": [
    "avg_fidelity_list = []\n",
    "\n",
    "for i in range(0,10):\n",
    "    avg_fidelity = get_avg_fidelity(class_graph_list[i])\n",
    "\n",
    "    print('Run'+str(i),avg_fidelity)\n",
    "    avg_fidelity_list.append(avg_fidelity)\n",
    "print(np.mean(avg_fidelity_list))"
   ]
  },
  {
   "cell_type": "code",
   "execution_count": null,
   "id": "06bf2a78-0458-4aed-adf9-46291ff7b78b",
   "metadata": {},
   "outputs": [],
   "source": []
  },
  {
   "cell_type": "code",
   "execution_count": null,
   "id": "a4e9e619-0abe-4ce7-8070-3f46d9ab33ad",
   "metadata": {},
   "outputs": [],
   "source": []
  },
  {
   "cell_type": "code",
   "execution_count": null,
   "id": "2f552261-2b21-4cfb-b5c0-713a13f74efa",
   "metadata": {},
   "outputs": [],
   "source": []
  },
  {
   "cell_type": "code",
   "execution_count": null,
   "id": "18e8fc30-b3ec-445c-8011-c57c0c94dc2f",
   "metadata": {},
   "outputs": [],
   "source": []
  }
 ],
 "metadata": {
  "kernelspec": {
   "display_name": "Python 3 (ipykernel)",
   "language": "python",
   "name": "python3"
  },
  "language_info": {
   "codemirror_mode": {
    "name": "ipython",
    "version": 3
   },
   "file_extension": ".py",
   "mimetype": "text/x-python",
   "name": "python",
   "nbconvert_exporter": "python",
   "pygments_lexer": "ipython3",
   "version": "3.10.6"
  }
 },
 "nbformat": 4,
 "nbformat_minor": 5
}
