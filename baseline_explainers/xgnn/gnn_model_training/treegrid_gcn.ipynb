{
 "cells": [
  {
   "cell_type": "code",
   "execution_count": 1,
   "id": "94a4b40b-629d-4b23-a81c-c86f9b454a23",
   "metadata": {},
   "outputs": [],
   "source": [
    "import dgl\n",
    "from dgl.data import TreeGridDataset\n",
    "import torch\n",
    "import torch_geometric\n",
    "import torch_geometric.transforms as T"
   ]
  },
  {
   "cell_type": "code",
   "execution_count": 2,
   "id": "359a835c-6839-40cb-91c8-7a70b240c797",
   "metadata": {},
   "outputs": [],
   "source": [
    "import argparse\n",
    "import time\n",
    "import easydict\n",
    "from torch.nn import Linear\n",
    "import torch.nn.functional as F\n",
    "from torch_geometric.nn import GCNConv\n",
    "import networkx as nx\n",
    "import matplotlib.pyplot as plt\n",
    "import numpy as np"
   ]
  },
  {
   "cell_type": "code",
   "execution_count": 3,
   "id": "4556835e-e358-448a-9f6e-5358b752aa24",
   "metadata": {},
   "outputs": [],
   "source": [
    "import torch_geometric.utils\n",
    "from torch_geometric.utils.convert import from_networkx\n",
    "from torch_geometric.logging import log\n",
    "import os\n",
    "import pandas as pd\n",
    "import glob\n",
    "import pickle"
   ]
  },
  {
   "cell_type": "code",
   "execution_count": 4,
   "id": "4d6bbac1-a327-47de-9bde-b92ab62f84fc",
   "metadata": {},
   "outputs": [
    {
     "name": "stdout",
     "output_type": "stream",
     "text": [
      "Done loading data from cached files.\n"
     ]
    }
   ],
   "source": [
    "dataset = TreeGridDataset()\n",
    "g = dataset[0]"
   ]
  },
  {
   "cell_type": "code",
   "execution_count": 5,
   "id": "49e5e306-17cf-432e-97ef-08110006d25c",
   "metadata": {},
   "outputs": [],
   "source": [
    "#Download file Tree_Grids.pkl from the dataset in https://github.com/Graph-and-Geometric-Learning/D4Explainer. Tree_Grids.pkl is required for the train/val/test splits."
   ]
  },
  {
   "cell_type": "code",
   "execution_count": 6,
   "id": "87e6d5be-c155-4fdc-89dc-e47ce74e22ae",
   "metadata": {},
   "outputs": [],
   "source": [
    "with open('Tree_Grids.pkl', 'rb') as fin:\n",
    "    adj, features, y_train, y_val, y_test, train_mask, val_mask, test_mask, edge_label_matrix  = pickle.load(fin)"
   ]
  },
  {
   "cell_type": "code",
   "execution_count": 7,
   "id": "8ac31239-196e-4f25-b3d9-8aae615580b1",
   "metadata": {},
   "outputs": [
    {
     "data": {
      "text/plain": [
       "1231"
      ]
     },
     "execution_count": 7,
     "metadata": {},
     "output_type": "execute_result"
    }
   ],
   "source": [
    "len(adj)"
   ]
  },
  {
   "cell_type": "code",
   "execution_count": 8,
   "id": "f3c78b76-33b2-4788-aac8-65b7612f9836",
   "metadata": {},
   "outputs": [],
   "source": [
    "g.ndata[\"train_mask\"] = torch.tensor(train_mask)\n",
    "g.ndata[\"val_mask\"] = torch.tensor(val_mask)\n",
    "g.ndata[\"test_mask\"] = torch.tensor(test_mask)"
   ]
  },
  {
   "cell_type": "code",
   "execution_count": 9,
   "id": "dbcaa90f-29bf-436a-b912-1079e9ed5264",
   "metadata": {},
   "outputs": [
    {
     "data": {
      "text/plain": [
       "tensor([1, 1, 1,  ..., 0, 0, 0])"
      ]
     },
     "execution_count": 9,
     "metadata": {},
     "output_type": "execute_result"
    }
   ],
   "source": [
    "data = torch_geometric.utils.from_dgl(g)\n",
    "data.x = data.feat\n",
    "data.y = data.label\n",
    "data.pop('feat')\n",
    "data.pop('__orig__')\n",
    "data.pop('label')\n",
    "#data"
   ]
  },
  {
   "cell_type": "code",
   "execution_count": 10,
   "id": "835c70ae-2d4f-440a-8fd3-8a0e7da730e2",
   "metadata": {},
   "outputs": [],
   "source": [
    "x = torch.tensor([1.0,0.0])\n",
    "data.x = x.repeat(data.x.shape[0],1)"
   ]
  },
  {
   "cell_type": "code",
   "execution_count": 11,
   "id": "01697479-f8c9-4e74-977c-dbdd45ce7403",
   "metadata": {},
   "outputs": [
    {
     "data": {
      "text/plain": [
       "tensor([[1., 0.],\n",
       "        [1., 0.],\n",
       "        [1., 0.],\n",
       "        ...,\n",
       "        [1., 0.],\n",
       "        [1., 0.],\n",
       "        [1., 0.]])"
      ]
     },
     "execution_count": 11,
     "metadata": {},
     "output_type": "execute_result"
    }
   ],
   "source": [
    "data.x"
   ]
  },
  {
   "cell_type": "code",
   "execution_count": 12,
   "id": "debd3feb-2649-44e1-93ea-520f0c8433bc",
   "metadata": {},
   "outputs": [
    {
     "data": {
      "text/plain": [
       "torch.Size([1231, 2])"
      ]
     },
     "execution_count": 12,
     "metadata": {},
     "output_type": "execute_result"
    }
   ],
   "source": [
    "data.x.shape"
   ]
  },
  {
   "cell_type": "code",
   "execution_count": 13,
   "id": "e10b4f23-97c6-454c-acda-21ef4eea71dc",
   "metadata": {},
   "outputs": [
    {
     "data": {
      "text/plain": [
       "Data(edge_index=[2, 1705], train_mask=[1231], val_mask=[1231], test_mask=[1231], x=[1231, 2], y=[1231])"
      ]
     },
     "execution_count": 13,
     "metadata": {},
     "output_type": "execute_result"
    }
   ],
   "source": [
    "data"
   ]
  },
  {
   "cell_type": "code",
   "execution_count": 14,
   "id": "90563350-118e-4da6-90eb-32aee3582a91",
   "metadata": {},
   "outputs": [],
   "source": [
    "parser = argparse.ArgumentParser()\n",
    "args = easydict.EasyDict({\n",
    "    \"dataset\": 'TreeGrid',\n",
    "    #\"batch_size\": 128,\n",
    "    # \"hidden_channels\": 64,\n",
    "    # \"lr\": 0.0005,\n",
    "    \"epochs\": 2000,\n",
    "})"
   ]
  },
  {
   "cell_type": "code",
   "execution_count": 15,
   "id": "0f7b67a5-d5de-47d5-b427-e9e8e2de74f8",
   "metadata": {},
   "outputs": [],
   "source": [
    "device = 'cpu'"
   ]
  },
  {
   "cell_type": "code",
   "execution_count": 16,
   "id": "df272ac6-00bf-4492-98ab-d3a13938744a",
   "metadata": {},
   "outputs": [
    {
     "name": "stdout",
     "output_type": "stream",
     "text": [
      "saving....\n",
      "best acc is 0.6178861788617886\n",
      "Epoch: 010, Loss: 0.6701, Train: 0.5752, Val: 0.6179, Test: 0.6290\n",
      "Epoch: 020, Loss: 0.6497, Train: 0.5752, Val: 0.6179, Test: 0.6290\n",
      "saving....\n",
      "best acc is 0.6504065040650406\n",
      "saving....\n",
      "best acc is 0.7073170731707317\n",
      "saving....\n",
      "best acc is 0.7560975609756098\n",
      "Epoch: 030, Loss: 0.6437, Train: 0.7398, Val: 0.7561, Test: 0.7097\n",
      "Epoch: 040, Loss: 0.6372, Train: 0.5030, Val: 0.5122, Test: 0.7097\n",
      "Epoch: 050, Loss: 0.6433, Train: 0.4299, Val: 0.3902, Test: 0.7097\n",
      "Epoch: 060, Loss: 0.6441, Train: 0.4248, Val: 0.3821, Test: 0.7097\n",
      "Epoch: 070, Loss: 0.6374, Train: 0.4695, Val: 0.4553, Test: 0.7097\n",
      "Epoch: 080, Loss: 0.6281, Train: 0.4278, Val: 0.3821, Test: 0.7097\n",
      "Epoch: 090, Loss: 0.6453, Train: 0.4868, Val: 0.4715, Test: 0.7097\n",
      "Epoch: 100, Loss: 0.6414, Train: 0.4868, Val: 0.4715, Test: 0.7097\n",
      "Epoch: 110, Loss: 0.6407, Train: 0.4837, Val: 0.4715, Test: 0.7097\n",
      "Epoch: 120, Loss: 0.6275, Train: 0.4817, Val: 0.4715, Test: 0.7097\n",
      "Stopping training as validation accuracy did not improve for 100 epochs\n",
      "Median time per epoch: 0.0029s\n"
     ]
    }
   ],
   "source": [
    "class GCN(torch.nn.Module):\n",
    "    def __init__(self, in_channels, hidden_channels, out_channels):\n",
    "        super().__init__()\n",
    "        self.conv1 = GCNConv(in_channels, hidden_channels,\n",
    "                             )\n",
    "        self.conv2 = GCNConv(hidden_channels, hidden_channels,\n",
    "                             )\n",
    "        self.conv3 = GCNConv(hidden_channels, out_channels,\n",
    "                             )\n",
    "\n",
    "    def forward(self, x, edge_index, edge_weight=None):\n",
    "        x = F.dropout(x, p=0.3, training=self.training)\n",
    "        x = self.conv1(x, edge_index, edge_weight).relu()\n",
    "        x = F.dropout(x, p=0.3, training=self.training)\n",
    "        x = self.conv2(x, edge_index, edge_weight).relu()\n",
    "        x = F.dropout(x, p=0.3, training=self.training)\n",
    "        x = self.conv3(x, edge_index, edge_weight)\n",
    "        return x\n",
    "device = 'cpu'\n",
    "model = GCN(\n",
    "    in_channels=data.x.shape[1],\n",
    "    hidden_channels=32,\n",
    "    out_channels=2,\n",
    ").to(device)\n",
    "\n",
    "optimizer = torch.optim.Adam([\n",
    "    dict(params=model.conv1.parameters(), weight_decay=5e-4),\n",
    "    dict(params=model.conv2.parameters(), weight_decay=0),\n",
    "    dict(params=model.conv3.parameters(), weight_decay=0)\n",
    "], lr=0.01)  # Only perform weight-decay on first convolution.\n",
    "\n",
    "\n",
    "def train():\n",
    "    model.train()\n",
    "    optimizer.zero_grad()\n",
    "    out = model(data.x, data.edge_index)\n",
    "    #train_idx = data.y != -1 \n",
    "    #loss = F.cross_entropy(out[train_idx], data.y[train_idx])\n",
    "    loss = F.cross_entropy(out[data.train_mask], data.y[data.train_mask])\n",
    "    loss.backward()\n",
    "    optimizer.step()\n",
    "    return float(loss)\n",
    "\n",
    "\n",
    "@torch.no_grad()\n",
    "def test():\n",
    "    model.eval()\n",
    "    pred = model(data.x, data.edge_index).argmax(dim=-1)\n",
    "\n",
    "    accs = []\n",
    "    for mask in [data.train_mask, data.val_mask, data.test_mask]:\n",
    "        accs.append(int((pred[mask] == data.y[mask]).sum()) / int(mask.sum()))\n",
    "    return accs\n",
    "\n",
    "\n",
    "best_val_acc = test_acc = 0\n",
    "start_patience = patience = 100\n",
    "times = []\n",
    "for epoch in range(1, 2000 + 1):\n",
    "    start = time.time()\n",
    "    loss = train()\n",
    "    train_acc, val_acc, tmp_test_acc = test()\n",
    "    if val_acc > best_val_acc:\n",
    "        #best_val_acc = val_acc\n",
    "        test_acc = tmp_test_acc\n",
    "    if epoch%10==0:\n",
    "        log(Epoch=epoch, Loss=loss, Train=train_acc, Val=val_acc, Test=test_acc)\n",
    "    times.append(time.time() - start)\n",
    "\n",
    "    if (val_acc>best_val_acc):\n",
    "        print('saving....')\n",
    "        patience = start_patience\n",
    "        best_val_acc = val_acc\n",
    "        print('best acc is', best_val_acc)\n",
    "\n",
    "        if not os.path.isdir('checkpoint'):\n",
    "            os.mkdir('checkpoint')\n",
    "        torch.save(model.state_dict(), '../checkpoint/TreeGrids_gcn.pth')\n",
    "    else:\n",
    "        patience -= 1\n",
    "        \n",
    "    if patience <= 0:\n",
    "        print('Stopping training as validation accuracy did not improve '\n",
    "              f'for {start_patience} epochs')\n",
    "        break   \n",
    "        #torch.save(model.cpu(), './checkpoint/dblp_gcn.pt')\n",
    "print(f'Median time per epoch: {torch.tensor(times).median():.4f}s')"
   ]
  },
  {
   "cell_type": "code",
   "execution_count": null,
   "id": "a1e2cf95-208e-464d-9fee-5963a044cf03",
   "metadata": {},
   "outputs": [],
   "source": []
  },
  {
   "cell_type": "code",
   "execution_count": null,
   "id": "657fe3af-f0b6-4e65-982b-9e5d64e6cc29",
   "metadata": {},
   "outputs": [],
   "source": []
  },
  {
   "cell_type": "code",
   "execution_count": null,
   "id": "ad7ed2ff-77da-419d-a0b2-b5d271f75d47",
   "metadata": {},
   "outputs": [],
   "source": []
  }
 ],
 "metadata": {
  "kernelspec": {
   "display_name": "Python 3 (ipykernel)",
   "language": "python",
   "name": "python3"
  },
  "language_info": {
   "codemirror_mode": {
    "name": "ipython",
    "version": 3
   },
   "file_extension": ".py",
   "mimetype": "text/x-python",
   "name": "python",
   "nbconvert_exporter": "python",
   "pygments_lexer": "ipython3",
   "version": "3.10.6"
  }
 },
 "nbformat": 4,
 "nbformat_minor": 5
}
