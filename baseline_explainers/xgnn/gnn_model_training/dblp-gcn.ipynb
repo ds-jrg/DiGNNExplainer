{
 "cells": [
  {
   "cell_type": "code",
   "execution_count": 1,
   "id": "4ea859c3-ca54-4a57-90be-72644f4ae9ed",
   "metadata": {},
   "outputs": [],
   "source": [
    "# This code works in Python 3.10.6\n",
    "import matplotlib.pyplot as plt\n",
    "import networkx as nx\n",
    "import torch\n",
    "import torch_geometric.utils\n",
    "from torch_geometric.data import HeteroData\n",
    "import torch_geometric.transforms as T\n",
    "import torch.nn.functional as F\n",
    "from torch_geometric.datasets.dblp import DBLP\n",
    "from torch_geometric.nn import GCNConv\n",
    "import time\n",
    "from torch_geometric.logging import log\n",
    "import os\n",
    "from collections import Counter"
   ]
  },
  {
   "cell_type": "code",
   "execution_count": 2,
   "id": "ebb82938-e81d-4cde-b61a-8453e45d0f7a",
   "metadata": {},
   "outputs": [],
   "source": [
    "dataset = DBLP(root='./dblp_data', transform=T.Constant(node_types='conference'))\n",
    "hetero_data = dataset[0]"
   ]
  },
  {
   "cell_type": "code",
   "execution_count": 3,
   "id": "1bd5402f-06eb-4930-b105-7552b6da14f4",
   "metadata": {},
   "outputs": [
    {
     "data": {
      "text/plain": [
       "HeteroData(\n",
       "  author={\n",
       "    x=[4057, 334],\n",
       "    y=[4057],\n",
       "    train_mask=[4057],\n",
       "    val_mask=[4057],\n",
       "    test_mask=[4057],\n",
       "  },\n",
       "  paper={ x=[14328, 4231] },\n",
       "  term={ x=[7723, 50] },\n",
       "  conference={\n",
       "    num_nodes=20,\n",
       "    x=[20, 1],\n",
       "  },\n",
       "  (author, to, paper)={ edge_index=[2, 19645] },\n",
       "  (paper, to, author)={ edge_index=[2, 19645] },\n",
       "  (paper, to, term)={ edge_index=[2, 85810] },\n",
       "  (paper, to, conference)={ edge_index=[2, 14328] },\n",
       "  (term, to, paper)={ edge_index=[2, 85810] },\n",
       "  (conference, to, paper)={ edge_index=[2, 14328] }\n",
       ")"
      ]
     },
     "execution_count": 3,
     "metadata": {},
     "output_type": "execute_result"
    }
   ],
   "source": [
    "hetero_data"
   ]
  },
  {
   "cell_type": "code",
   "execution_count": 4,
   "id": "043115e7-661e-4e50-94e9-c88558794c9b",
   "metadata": {},
   "outputs": [],
   "source": [
    "# This code works in torch-geometric==2.6.0\n",
    "data = hetero_data.to_homogeneous(add_edge_type=False)"
   ]
  },
  {
   "cell_type": "code",
   "execution_count": 5,
   "id": "ca896df0-688a-48ff-b5ba-b5699236fe7b",
   "metadata": {},
   "outputs": [
    {
     "data": {
      "text/plain": [
       "Data(edge_index=[2, 239566], x=[26128, 4231], y=[26128], train_mask=[26128], val_mask=[26128], test_mask=[26128], node_type=[26128])"
      ]
     },
     "execution_count": 5,
     "metadata": {},
     "output_type": "execute_result"
    }
   ],
   "source": [
    "data"
   ]
  },
  {
   "cell_type": "code",
   "execution_count": 6,
   "id": "a080ab03-d384-4896-8a63-47b59c09f9ce",
   "metadata": {},
   "outputs": [
    {
     "data": {
      "text/plain": [
       "tensor([0, 0, 0,  ..., 3, 3, 3])"
      ]
     },
     "execution_count": 6,
     "metadata": {},
     "output_type": "execute_result"
    }
   ],
   "source": [
    "data.node_type"
   ]
  },
  {
   "cell_type": "code",
   "execution_count": 7,
   "id": "cbc22611-7107-4059-bca6-c9cd5a5c00de",
   "metadata": {},
   "outputs": [],
   "source": [
    "data.x = F.one_hot(data.node_type, num_classes=len(torch.unique(data.node_type))).float()"
   ]
  },
  {
   "cell_type": "code",
   "execution_count": 8,
   "id": "ba4d9414-5ab2-4646-9826-65a64a66e17b",
   "metadata": {},
   "outputs": [
    {
     "data": {
      "text/plain": [
       "tensor([[1., 0., 0., 0.],\n",
       "        [1., 0., 0., 0.],\n",
       "        [1., 0., 0., 0.],\n",
       "        ...,\n",
       "        [0., 0., 0., 1.],\n",
       "        [0., 0., 0., 1.],\n",
       "        [0., 0., 0., 1.]])"
      ]
     },
     "execution_count": 8,
     "metadata": {},
     "output_type": "execute_result"
    }
   ],
   "source": [
    "data.x"
   ]
  },
  {
   "cell_type": "code",
   "execution_count": 9,
   "id": "29b1d4b6-0711-403e-989d-f5aec13ae1e3",
   "metadata": {},
   "outputs": [
    {
     "data": {
      "text/plain": [
       "tensor([-1,  0,  1,  2,  3])"
      ]
     },
     "execution_count": 9,
     "metadata": {},
     "output_type": "execute_result"
    }
   ],
   "source": [
    "torch.unique(data.y)"
   ]
  },
  {
   "cell_type": "code",
   "execution_count": 10,
   "id": "81b7c95c-6f4c-4e8f-9681-185fe3b32656",
   "metadata": {},
   "outputs": [
    {
     "data": {
      "text/plain": [
       "Counter({-1: 22071, 0: 1197, 2: 1109, 3: 1006, 1: 745})"
      ]
     },
     "execution_count": 10,
     "metadata": {},
     "output_type": "execute_result"
    }
   ],
   "source": [
    "Counter(data.y.tolist())"
   ]
  },
  {
   "cell_type": "code",
   "execution_count": 11,
   "id": "c7b9bd48-fee9-4aeb-a97b-c356216768ff",
   "metadata": {},
   "outputs": [
    {
     "data": {
      "text/plain": [
       "False"
      ]
     },
     "execution_count": 11,
     "metadata": {},
     "output_type": "execute_result"
    }
   ],
   "source": [
    "data.has_isolated_nodes()"
   ]
  },
  {
   "cell_type": "code",
   "execution_count": 12,
   "id": "9e5c5ebf-3de9-4d97-a7a3-871701f7ddb8",
   "metadata": {},
   "outputs": [
    {
     "data": {
      "text/plain": [
       "False"
      ]
     },
     "execution_count": 12,
     "metadata": {},
     "output_type": "execute_result"
    }
   ],
   "source": [
    "data.has_self_loops()"
   ]
  },
  {
   "cell_type": "code",
   "execution_count": 13,
   "id": "76c75118-527a-4153-87f5-1838a842bc4b",
   "metadata": {},
   "outputs": [
    {
     "data": {
      "text/plain": [
       "False"
      ]
     },
     "execution_count": 13,
     "metadata": {},
     "output_type": "execute_result"
    }
   ],
   "source": [
    "data.is_directed()"
   ]
  },
  {
   "cell_type": "code",
   "execution_count": 14,
   "id": "6d49ee96-5f0a-4c9d-8b0c-25cf58f904e2",
   "metadata": {},
   "outputs": [
    {
     "name": "stdout",
     "output_type": "stream",
     "text": [
      "saving....\n",
      "best acc is 0.2625\n",
      "saving....\n",
      "best acc is 0.2725\n",
      "saving....\n",
      "best acc is 0.2775\n",
      "Epoch: 010, Loss: 1.3616, Train: 0.3175, Val: 0.2825, Test: 0.3224\n",
      "saving....\n",
      "best acc is 0.2825\n",
      "saving....\n",
      "best acc is 0.3375\n",
      "saving....\n",
      "best acc is 0.345\n",
      "saving....\n",
      "best acc is 0.3525\n",
      "saving....\n",
      "best acc is 0.355\n",
      "saving....\n",
      "best acc is 0.36\n",
      "Epoch: 020, Loss: 1.3461, Train: 0.3700, Val: 0.3400, Test: 0.3773\n",
      "saving....\n",
      "best acc is 0.365\n",
      "Epoch: 030, Loss: 1.3391, Train: 0.3650, Val: 0.3625, Test: 0.3755\n",
      "Epoch: 040, Loss: 1.3354, Train: 0.3750, Val: 0.3475, Test: 0.3755\n",
      "Epoch: 050, Loss: 1.3358, Train: 0.3825, Val: 0.3575, Test: 0.3755\n",
      "Epoch: 060, Loss: 1.3266, Train: 0.3800, Val: 0.3600, Test: 0.3755\n",
      "saving....\n",
      "best acc is 0.37\n",
      "Epoch: 070, Loss: 1.3282, Train: 0.3800, Val: 0.3350, Test: 0.3792\n",
      "Epoch: 080, Loss: 1.3264, Train: 0.3775, Val: 0.3500, Test: 0.3792\n",
      "Epoch: 090, Loss: 1.3142, Train: 0.3825, Val: 0.3675, Test: 0.3792\n",
      "Epoch: 100, Loss: 1.3188, Train: 0.3925, Val: 0.3675, Test: 0.3792\n",
      "Epoch: 110, Loss: 1.3405, Train: 0.4025, Val: 0.3650, Test: 0.3792\n",
      "saving....\n",
      "best acc is 0.3775\n",
      "saving....\n",
      "best acc is 0.3825\n",
      "Epoch: 120, Loss: 1.3194, Train: 0.4000, Val: 0.3725, Test: 0.3773\n",
      "saving....\n",
      "best acc is 0.3925\n",
      "saving....\n",
      "best acc is 0.395\n",
      "Epoch: 130, Loss: 1.3138, Train: 0.3675, Val: 0.3175, Test: 0.3826\n",
      "Epoch: 140, Loss: 1.3024, Train: 0.4300, Val: 0.3825, Test: 0.3826\n",
      "Epoch: 150, Loss: 1.3079, Train: 0.4000, Val: 0.3425, Test: 0.3826\n",
      "Epoch: 160, Loss: 1.3006, Train: 0.4100, Val: 0.3750, Test: 0.3826\n",
      "Epoch: 170, Loss: 1.3225, Train: 0.3725, Val: 0.3250, Test: 0.3826\n",
      "Epoch: 180, Loss: 1.3152, Train: 0.3550, Val: 0.3100, Test: 0.3826\n",
      "Epoch: 190, Loss: 1.3010, Train: 0.4050, Val: 0.3675, Test: 0.3826\n",
      "Epoch: 200, Loss: 1.2838, Train: 0.3925, Val: 0.3325, Test: 0.3826\n",
      "Epoch: 210, Loss: 1.2574, Train: 0.3775, Val: 0.3400, Test: 0.3826\n",
      "Epoch: 220, Loss: 1.2984, Train: 0.4025, Val: 0.3675, Test: 0.3826\n",
      "Stopping training as validation accuracy did not improvefor 100 epochs\n",
      "Median time per epoch: 0.1448s\n"
     ]
    }
   ],
   "source": [
    "class GCN(torch.nn.Module):\n",
    "    def __init__(self, in_channels, hidden_channels, out_channels):\n",
    "        super().__init__()\n",
    "        self.conv1 = GCNConv(in_channels, hidden_channels,\n",
    "                             )\n",
    "        self.conv2 = GCNConv(hidden_channels, hidden_channels,\n",
    "                             )\n",
    "        self.conv3 = GCNConv(hidden_channels, out_channels,\n",
    "                             )\n",
    "\n",
    "    def forward(self, x, edge_index, edge_weight=None):\n",
    "        x = F.dropout(x, p=0.3, training=self.training)\n",
    "        x = self.conv1(x, edge_index, edge_weight).relu()\n",
    "        x = F.dropout(x, p=0.3, training=self.training)\n",
    "        x = self.conv2(x, edge_index, edge_weight).relu()\n",
    "        x = F.dropout(x, p=0.3, training=self.training)\n",
    "        x = self.conv3(x, edge_index, edge_weight)\n",
    "        return x\n",
    "\n",
    "\n",
    "device = 'cpu'\n",
    "model = GCN(\n",
    "    in_channels=data.x.shape[1],\n",
    "    hidden_channels=32,\n",
    "    out_channels=4,\n",
    ").to(device)\n",
    "\n",
    "optimizer = torch.optim.Adam([\n",
    "    dict(params=model.conv1.parameters(), weight_decay=5e-4),\n",
    "    dict(params=model.conv2.parameters(), weight_decay=0),\n",
    "    dict(params=model.conv3.parameters(), weight_decay=0)\n",
    "], lr=0.01)  # Only perform weight-decay on first convolution.\n",
    "\n",
    "\n",
    "def train():\n",
    "    model.train()\n",
    "    optimizer.zero_grad()\n",
    "    out = model(data.x, data.edge_index)\n",
    "    train_idx = data.y != -1 \n",
    "    loss = F.cross_entropy(out[train_idx], data.y[train_idx])\n",
    "    loss.backward()\n",
    "    optimizer.step()\n",
    "    return float(loss)\n",
    "\n",
    "    \n",
    "@torch.no_grad()\n",
    "def test():\n",
    "    model.eval()\n",
    "    pred = model(data.x, data.edge_index).argmax(dim=-1)\n",
    "\n",
    "    accs = []\n",
    "    for mask in [data.train_mask, data.val_mask, data.test_mask]:\n",
    "        accs.append(int((pred[mask] == data.y[mask]).sum()) / int(mask.sum()))\n",
    "    return accs\n",
    "\n",
    "\n",
    "best_val_acc = test_acc = 0\n",
    "start_patience = patience = 100\n",
    "times = []\n",
    "for epoch in range(1, 2000 + 1):\n",
    "    start = time.time()\n",
    "    loss = train()\n",
    "    train_acc, val_acc, tmp_test_acc = test()\n",
    "    if val_acc > best_val_acc:\n",
    "        #best_val_acc = val_acc\n",
    "        test_acc = tmp_test_acc\n",
    "    if epoch%10==0:\n",
    "        log(Epoch=epoch, Loss=loss, Train=train_acc, Val=val_acc, Test=test_acc)\n",
    "    times.append(time.time() - start)\n",
    "\n",
    "    if (val_acc>best_val_acc):\n",
    "        print('saving....')\n",
    "        patience = start_patience\n",
    "        best_val_acc = val_acc\n",
    "        print('best acc is', best_val_acc)\n",
    "\n",
    "        if not os.path.isdir('checkpoint'):\n",
    "            os.mkdir('checkpoint')\n",
    "        torch.save(model.state_dict(), '../checkpoint/dblp_gcn.pth')\n",
    "    else:\n",
    "        patience -= 1\n",
    "        \n",
    "    if patience <= 0:\n",
    "        print('Stopping training as validation accuracy did not improve'\n",
    "              f'for {start_patience} epochs')\n",
    "        break   \n",
    "        \n",
    "print(f'Median time per epoch: {torch.tensor(times).median():.4f}s')"
   ]
  },
  {
   "cell_type": "code",
   "execution_count": null,
   "id": "e7d0ef2a-9b43-4047-968a-35455a7f54dd",
   "metadata": {},
   "outputs": [],
   "source": []
  },
  {
   "cell_type": "code",
   "execution_count": null,
   "id": "666f2579-34d9-4cf8-8381-18344881eefa",
   "metadata": {},
   "outputs": [],
   "source": []
  },
  {
   "cell_type": "code",
   "execution_count": null,
   "id": "70e50f76-b108-42bc-bb12-bada7a6a232e",
   "metadata": {},
   "outputs": [],
   "source": []
  },
  {
   "cell_type": "code",
   "execution_count": null,
   "id": "ea570f96-096e-4d72-9cd6-78ca18b19d68",
   "metadata": {},
   "outputs": [],
   "source": []
  }
 ],
 "metadata": {
  "kernelspec": {
   "display_name": "Python 3 (ipykernel)",
   "language": "python",
   "name": "python3"
  },
  "language_info": {
   "codemirror_mode": {
    "name": "ipython",
    "version": 3
   },
   "file_extension": ".py",
   "mimetype": "text/x-python",
   "name": "python",
   "nbconvert_exporter": "python",
   "pygments_lexer": "ipython3",
   "version": "3.10.6"
  }
 },
 "nbformat": 4,
 "nbformat_minor": 5
}
