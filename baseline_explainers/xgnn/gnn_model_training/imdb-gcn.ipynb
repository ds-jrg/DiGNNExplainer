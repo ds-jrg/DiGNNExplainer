{
 "cells": [
  {
   "cell_type": "code",
   "execution_count": 1,
   "id": "4ea859c3-ca54-4a57-90be-72644f4ae9ed",
   "metadata": {},
   "outputs": [],
   "source": [
    "# This code works in Python 3.10.6\n",
    "import matplotlib.pyplot as plt\n",
    "import networkx as nx\n",
    "import torch\n",
    "import torch_geometric.utils\n",
    "from torch_geometric.data import HeteroData\n",
    "import torch_geometric.transforms as T\n",
    "import torch.nn.functional as F\n",
    "from torch_geometric.datasets import IMDB\n",
    "from torch_geometric.nn import GCNConv\n",
    "import time\n",
    "from torch_geometric.logging import log\n",
    "import os\n",
    "from collections import Counter"
   ]
  },
  {
   "cell_type": "code",
   "execution_count": 2,
   "id": "ebb82938-e81d-4cde-b61a-8453e45d0f7a",
   "metadata": {},
   "outputs": [],
   "source": [
    "dataset = IMDB(root='./imdb_data')\n",
    "hetero_data = dataset[0]"
   ]
  },
  {
   "cell_type": "code",
   "execution_count": 3,
   "id": "1bd5402f-06eb-4930-b105-7552b6da14f4",
   "metadata": {},
   "outputs": [
    {
     "data": {
      "text/plain": [
       "HeteroData(\n",
       "  movie={\n",
       "    x=[4278, 3066],\n",
       "    y=[4278],\n",
       "    train_mask=[4278],\n",
       "    val_mask=[4278],\n",
       "    test_mask=[4278],\n",
       "  },\n",
       "  director={ x=[2081, 3066] },\n",
       "  actor={ x=[5257, 3066] },\n",
       "  (movie, to, director)={ edge_index=[2, 4278] },\n",
       "  (movie, to, actor)={ edge_index=[2, 12828] },\n",
       "  (director, to, movie)={ edge_index=[2, 4278] },\n",
       "  (actor, to, movie)={ edge_index=[2, 12828] }\n",
       ")"
      ]
     },
     "execution_count": 3,
     "metadata": {},
     "output_type": "execute_result"
    }
   ],
   "source": [
    "hetero_data"
   ]
  },
  {
   "cell_type": "code",
   "execution_count": 4,
   "id": "043115e7-661e-4e50-94e9-c88558794c9b",
   "metadata": {},
   "outputs": [],
   "source": [
    "# This code works in torch-geometric==2.6.0\n",
    "data = hetero_data.to_homogeneous(add_edge_type=False)"
   ]
  },
  {
   "cell_type": "code",
   "execution_count": 5,
   "id": "ca896df0-688a-48ff-b5ba-b5699236fe7b",
   "metadata": {},
   "outputs": [
    {
     "data": {
      "text/plain": [
       "Data(edge_index=[2, 34212], x=[11616, 3066], y=[11616], train_mask=[11616], val_mask=[11616], test_mask=[11616], node_type=[11616])"
      ]
     },
     "execution_count": 5,
     "metadata": {},
     "output_type": "execute_result"
    }
   ],
   "source": [
    "data"
   ]
  },
  {
   "cell_type": "code",
   "execution_count": 6,
   "id": "6854f3b7-bef3-4ff3-8773-976d7d2d9851",
   "metadata": {},
   "outputs": [
    {
     "data": {
      "text/plain": [
       "tensor([0, 0, 0,  ..., 2, 2, 2])"
      ]
     },
     "execution_count": 6,
     "metadata": {},
     "output_type": "execute_result"
    }
   ],
   "source": [
    "data.node_type"
   ]
  },
  {
   "cell_type": "code",
   "execution_count": 7,
   "id": "2bd50f26-8f48-4e03-8c18-a64db5cac26a",
   "metadata": {},
   "outputs": [],
   "source": [
    "data.x = F.one_hot(data.node_type, num_classes=len(torch.unique(data.node_type))).float()"
   ]
  },
  {
   "cell_type": "code",
   "execution_count": 8,
   "id": "e02fd6a4-420a-4b35-946c-44efa82eea0f",
   "metadata": {},
   "outputs": [
    {
     "data": {
      "text/plain": [
       "tensor([[1., 0., 0.],\n",
       "        [1., 0., 0.],\n",
       "        [1., 0., 0.],\n",
       "        ...,\n",
       "        [0., 0., 1.],\n",
       "        [0., 0., 1.],\n",
       "        [0., 0., 1.]])"
      ]
     },
     "execution_count": 8,
     "metadata": {},
     "output_type": "execute_result"
    }
   ],
   "source": [
    "data.x"
   ]
  },
  {
   "cell_type": "code",
   "execution_count": 9,
   "id": "a720d38d-14c1-4983-a9ba-4914e3897a86",
   "metadata": {},
   "outputs": [
    {
     "data": {
      "text/plain": [
       "tensor([-1,  0,  1,  2])"
      ]
     },
     "execution_count": 9,
     "metadata": {},
     "output_type": "execute_result"
    }
   ],
   "source": [
    "torch.unique(data.y)"
   ]
  },
  {
   "cell_type": "code",
   "execution_count": 10,
   "id": "81b7c95c-6f4c-4e8f-9681-185fe3b32656",
   "metadata": {},
   "outputs": [
    {
     "data": {
      "text/plain": [
       "Counter({-1: 7338, 1: 1584, 2: 1559, 0: 1135})"
      ]
     },
     "execution_count": 10,
     "metadata": {},
     "output_type": "execute_result"
    }
   ],
   "source": [
    "Counter(data.y.tolist())"
   ]
  },
  {
   "cell_type": "code",
   "execution_count": 11,
   "id": "c7b9bd48-fee9-4aeb-a97b-c356216768ff",
   "metadata": {},
   "outputs": [
    {
     "data": {
      "text/plain": [
       "False"
      ]
     },
     "execution_count": 11,
     "metadata": {},
     "output_type": "execute_result"
    }
   ],
   "source": [
    "data.has_isolated_nodes()"
   ]
  },
  {
   "cell_type": "code",
   "execution_count": 12,
   "id": "9e5c5ebf-3de9-4d97-a7a3-871701f7ddb8",
   "metadata": {},
   "outputs": [
    {
     "data": {
      "text/plain": [
       "False"
      ]
     },
     "execution_count": 12,
     "metadata": {},
     "output_type": "execute_result"
    }
   ],
   "source": [
    "data.has_self_loops()"
   ]
  },
  {
   "cell_type": "code",
   "execution_count": 13,
   "id": "76c75118-527a-4153-87f5-1838a842bc4b",
   "metadata": {},
   "outputs": [
    {
     "data": {
      "text/plain": [
       "False"
      ]
     },
     "execution_count": 13,
     "metadata": {},
     "output_type": "execute_result"
    }
   ],
   "source": [
    "data.is_directed()"
   ]
  },
  {
   "cell_type": "code",
   "execution_count": 14,
   "id": "6d49ee96-5f0a-4c9d-8b0c-25cf58f904e2",
   "metadata": {},
   "outputs": [
    {
     "name": "stdout",
     "output_type": "stream",
     "text": [
      "saving....\n",
      "best acc is 0.395\n",
      "Epoch: 010, Loss: 1.0896, Train: 0.3975, Val: 0.3950, Test: 0.3643\n",
      "saving....\n",
      "best acc is 0.41\n",
      "saving....\n",
      "best acc is 0.425\n",
      "saving....\n",
      "best acc is 0.4275\n",
      "Epoch: 020, Loss: 1.0869, Train: 0.3925, Val: 0.3800, Test: 0.3847\n",
      "Epoch: 030, Loss: 1.0854, Train: 0.3650, Val: 0.3975, Test: 0.3847\n",
      "Epoch: 040, Loss: 1.0855, Train: 0.3650, Val: 0.3925, Test: 0.3847\n",
      "Epoch: 050, Loss: 1.0843, Train: 0.4075, Val: 0.4150, Test: 0.3847\n",
      "Epoch: 060, Loss: 1.0827, Train: 0.3975, Val: 0.4125, Test: 0.3847\n",
      "Epoch: 070, Loss: 1.0822, Train: 0.3800, Val: 0.4150, Test: 0.3847\n",
      "Epoch: 080, Loss: 1.0825, Train: 0.4125, Val: 0.4175, Test: 0.3847\n",
      "Epoch: 090, Loss: 1.0832, Train: 0.4100, Val: 0.4125, Test: 0.3847\n",
      "Epoch: 100, Loss: 1.0823, Train: 0.4050, Val: 0.4075, Test: 0.3847\n",
      "Epoch: 110, Loss: 1.0839, Train: 0.3775, Val: 0.4150, Test: 0.3847\n",
      "Stopping training as validation accuracy did not improve for 100 epochs\n",
      "Median time per epoch: 0.0254s\n"
     ]
    }
   ],
   "source": [
    "class GCN(torch.nn.Module):\n",
    "    def __init__(self, in_channels, hidden_channels, out_channels):\n",
    "        super().__init__()\n",
    "        self.conv1 = GCNConv(in_channels, hidden_channels,\n",
    "                             )\n",
    "        self.conv2 = GCNConv(hidden_channels, hidden_channels,\n",
    "                             )\n",
    "        self.conv3 = GCNConv(hidden_channels, out_channels,\n",
    "                             )\n",
    "\n",
    "    def forward(self, x, edge_index, edge_weight=None):\n",
    "        x = F.dropout(x, p=0.3, training=self.training)\n",
    "        x = self.conv1(x, edge_index, edge_weight).relu()\n",
    "        x = F.dropout(x, p=0.3, training=self.training)\n",
    "        x = self.conv2(x, edge_index, edge_weight).relu()\n",
    "        x = F.dropout(x, p=0.3, training=self.training)\n",
    "        x = self.conv3(x, edge_index, edge_weight)\n",
    "        return x\n",
    "\n",
    "device = 'cpu'\n",
    "model = GCN(\n",
    "    in_channels=data.x.shape[1],\n",
    "    hidden_channels=32,\n",
    "    out_channels=3,\n",
    ").to(device)\n",
    "\n",
    "optimizer = torch.optim.Adam([\n",
    "    dict(params=model.conv1.parameters(), weight_decay=5e-4),\n",
    "    dict(params=model.conv2.parameters(), weight_decay=0),\n",
    "    dict(params=model.conv3.parameters(), weight_decay=0)\n",
    "], lr=0.01)  # Only perform weight-decay on first convolution.\n",
    "\n",
    "\n",
    "def train():\n",
    "    model.train()\n",
    "    optimizer.zero_grad()\n",
    "    out = model(data.x, data.edge_index)\n",
    "    train_idx = data.y != -1 \n",
    "    loss = F.cross_entropy(out[train_idx], data.y[train_idx])\n",
    "   \n",
    "    loss.backward()\n",
    "    optimizer.step()\n",
    "    return float(loss)\n",
    "\n",
    "\n",
    "@torch.no_grad()\n",
    "def test():\n",
    "    model.eval()\n",
    "    pred = model(data.x, data.edge_index).argmax(dim=-1)\n",
    "\n",
    "    accs = []\n",
    "    for mask in [data.train_mask, data.val_mask, data.test_mask]:\n",
    "        accs.append(int((pred[mask] == data.y[mask]).sum()) / int(mask.sum()))\n",
    "    return accs\n",
    "\n",
    "\n",
    "best_val_acc = test_acc = 0\n",
    "start_patience = patience = 100\n",
    "times = []\n",
    "for epoch in range(1, 2000 + 1):\n",
    "    start = time.time()\n",
    "    loss = train()\n",
    "    train_acc, val_acc, tmp_test_acc = test()\n",
    "    if val_acc > best_val_acc:\n",
    "        test_acc = tmp_test_acc\n",
    "    if epoch%10==0:\n",
    "        log(Epoch=epoch, Loss=loss, Train=train_acc, Val=val_acc, Test=test_acc)\n",
    "    times.append(time.time() - start)\n",
    "\n",
    "    if (val_acc>best_val_acc):\n",
    "        print('saving....')\n",
    "        patience = start_patience\n",
    "        best_val_acc = val_acc\n",
    "        print('best acc is', best_val_acc)\n",
    "\n",
    "        if not os.path.isdir('checkpoint'):\n",
    "            os.mkdir('checkpoint')\n",
    "        torch.save(model.state_dict(), '../checkpoint/imdb_gcn.pth')\n",
    "    else:\n",
    "        patience -= 1\n",
    "        \n",
    "    if patience <= 0:\n",
    "        print('Stopping training as validation accuracy did not improve '\n",
    "              f'for {start_patience} epochs')\n",
    "        break   \n",
    "       \n",
    "print(f'Median time per epoch: {torch.tensor(times).median():.4f}s')"
   ]
  },
  {
   "cell_type": "code",
   "execution_count": null,
   "id": "e7d0ef2a-9b43-4047-968a-35455a7f54dd",
   "metadata": {},
   "outputs": [],
   "source": []
  },
  {
   "cell_type": "code",
   "execution_count": null,
   "id": "666f2579-34d9-4cf8-8381-18344881eefa",
   "metadata": {},
   "outputs": [],
   "source": []
  },
  {
   "cell_type": "code",
   "execution_count": null,
   "id": "70e50f76-b108-42bc-bb12-bada7a6a232e",
   "metadata": {},
   "outputs": [],
   "source": []
  },
  {
   "cell_type": "code",
   "execution_count": null,
   "id": "ea570f96-096e-4d72-9cd6-78ca18b19d68",
   "metadata": {},
   "outputs": [],
   "source": []
  }
 ],
 "metadata": {
  "kernelspec": {
   "display_name": "Python 3 (ipykernel)",
   "language": "python",
   "name": "python3"
  },
  "language_info": {
   "codemirror_mode": {
    "name": "ipython",
    "version": 3
   },
   "file_extension": ".py",
   "mimetype": "text/x-python",
   "name": "python",
   "nbconvert_exporter": "python",
   "pygments_lexer": "ipython3",
   "version": "3.10.6"
  }
 },
 "nbformat": 4,
 "nbformat_minor": 5
}
