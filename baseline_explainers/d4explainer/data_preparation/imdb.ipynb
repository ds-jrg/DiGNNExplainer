{
 "cells": [
  {
   "cell_type": "code",
   "execution_count": 1,
   "id": "4ea859c3-ca54-4a57-90be-72644f4ae9ed",
   "metadata": {},
   "outputs": [],
   "source": [
    "# This code works in Python 3.10.6\n",
    "import matplotlib.pyplot as plt\n",
    "import networkx as nx\n",
    "import torch\n",
    "import torch_geometric.utils\n",
    "from torch_geometric.data import HeteroData\n",
    "import torch_geometric.transforms as T\n",
    "import torch.nn.functional as F\n",
    "from torch_geometric.datasets import IMDB\n",
    "from torch_geometric.nn import GCNConv\n",
    "import time\n",
    "from torch_geometric.logging import log\n",
    "import os\n",
    "from collections import Counter\n",
    "import random"
   ]
  },
  {
   "cell_type": "code",
   "execution_count": 2,
   "id": "ebb82938-e81d-4cde-b61a-8453e45d0f7a",
   "metadata": {},
   "outputs": [],
   "source": [
    "dataset = IMDB(root='./imdb_data')\n",
    "hetero_data = dataset[0]"
   ]
  },
  {
   "cell_type": "code",
   "execution_count": 3,
   "id": "1bd5402f-06eb-4930-b105-7552b6da14f4",
   "metadata": {},
   "outputs": [
    {
     "data": {
      "text/plain": [
       "HeteroData(\n",
       "  movie={\n",
       "    x=[4278, 3066],\n",
       "    y=[4278],\n",
       "    train_mask=[4278],\n",
       "    val_mask=[4278],\n",
       "    test_mask=[4278],\n",
       "  },\n",
       "  director={ x=[2081, 3066] },\n",
       "  actor={ x=[5257, 3066] },\n",
       "  (movie, to, director)={ edge_index=[2, 4278] },\n",
       "  (movie, to, actor)={ edge_index=[2, 12828] },\n",
       "  (director, to, movie)={ edge_index=[2, 4278] },\n",
       "  (actor, to, movie)={ edge_index=[2, 12828] }\n",
       ")"
      ]
     },
     "execution_count": 3,
     "metadata": {},
     "output_type": "execute_result"
    }
   ],
   "source": [
    "hetero_data"
   ]
  },
  {
   "cell_type": "code",
   "execution_count": 4,
   "id": "043115e7-661e-4e50-94e9-c88558794c9b",
   "metadata": {},
   "outputs": [],
   "source": [
    "# This code works in torch-geometric==2.6.0\n",
    "data = hetero_data.to_homogeneous(add_edge_type=False)"
   ]
  },
  {
   "cell_type": "code",
   "execution_count": 5,
   "id": "ca896df0-688a-48ff-b5ba-b5699236fe7b",
   "metadata": {},
   "outputs": [
    {
     "data": {
      "text/plain": [
       "Data(edge_index=[2, 34212], x=[11616, 3066], y=[11616], train_mask=[11616], val_mask=[11616], test_mask=[11616], node_type=[11616])"
      ]
     },
     "execution_count": 5,
     "metadata": {},
     "output_type": "execute_result"
    }
   ],
   "source": [
    "data"
   ]
  },
  {
   "cell_type": "code",
   "execution_count": 6,
   "id": "f2df1892-971c-42db-8ad7-0ae501552473",
   "metadata": {},
   "outputs": [
    {
     "data": {
      "text/plain": [
       "tensor([0, 0, 0,  ..., 2, 2, 2])"
      ]
     },
     "execution_count": 6,
     "metadata": {},
     "output_type": "execute_result"
    }
   ],
   "source": [
    "data.node_type"
   ]
  },
  {
   "cell_type": "code",
   "execution_count": 7,
   "id": "695fa474-6e78-4a51-b3f8-11555ce8f4f2",
   "metadata": {},
   "outputs": [],
   "source": [
    "data.x = F.one_hot(data.node_type, num_classes=len(torch.unique(data.node_type))).float()"
   ]
  },
  {
   "cell_type": "code",
   "execution_count": 8,
   "id": "a720d38d-14c1-4983-a9ba-4914e3897a86",
   "metadata": {},
   "outputs": [
    {
     "data": {
      "text/plain": [
       "tensor([[1., 0., 0.],\n",
       "        [1., 0., 0.],\n",
       "        [1., 0., 0.],\n",
       "        ...,\n",
       "        [0., 0., 1.],\n",
       "        [0., 0., 1.],\n",
       "        [0., 0., 1.]])"
      ]
     },
     "execution_count": 8,
     "metadata": {},
     "output_type": "execute_result"
    }
   ],
   "source": [
    "data.x"
   ]
  },
  {
   "cell_type": "code",
   "execution_count": 9,
   "id": "7a72921c-120e-4a94-b74b-7704930407f2",
   "metadata": {},
   "outputs": [],
   "source": [
    "torch.save(data, '../data/imdb/processed/data.pt')"
   ]
  },
  {
   "cell_type": "code",
   "execution_count": 10,
   "id": "29b1d4b6-0711-403e-989d-f5aec13ae1e3",
   "metadata": {},
   "outputs": [
    {
     "data": {
      "text/plain": [
       "tensor([-1,  0,  1,  2])"
      ]
     },
     "execution_count": 10,
     "metadata": {},
     "output_type": "execute_result"
    }
   ],
   "source": [
    "torch.unique(data.y)"
   ]
  },
  {
   "cell_type": "code",
   "execution_count": 11,
   "id": "81b7c95c-6f4c-4e8f-9681-185fe3b32656",
   "metadata": {},
   "outputs": [
    {
     "data": {
      "text/plain": [
       "Counter({-1: 7338, 1: 1584, 2: 1559, 0: 1135})"
      ]
     },
     "execution_count": 11,
     "metadata": {},
     "output_type": "execute_result"
    }
   ],
   "source": [
    "Counter(data.y.tolist())"
   ]
  },
  {
   "cell_type": "code",
   "execution_count": 12,
   "id": "e7d0ef2a-9b43-4047-968a-35455a7f54dd",
   "metadata": {},
   "outputs": [
    {
     "data": {
      "text/plain": [
       "False"
      ]
     },
     "execution_count": 12,
     "metadata": {},
     "output_type": "execute_result"
    }
   ],
   "source": [
    "data.has_isolated_nodes()"
   ]
  },
  {
   "cell_type": "code",
   "execution_count": 13,
   "id": "666f2579-34d9-4cf8-8381-18344881eefa",
   "metadata": {},
   "outputs": [
    {
     "data": {
      "text/plain": [
       "False"
      ]
     },
     "execution_count": 13,
     "metadata": {},
     "output_type": "execute_result"
    }
   ],
   "source": [
    "data.has_self_loops()"
   ]
  },
  {
   "cell_type": "code",
   "execution_count": null,
   "id": "70e50f76-b108-42bc-bb12-bada7a6a232e",
   "metadata": {},
   "outputs": [],
   "source": []
  },
  {
   "cell_type": "code",
   "execution_count": null,
   "id": "ea570f96-096e-4d72-9cd6-78ca18b19d68",
   "metadata": {},
   "outputs": [],
   "source": []
  }
 ],
 "metadata": {
  "kernelspec": {
   "display_name": "Python 3 (ipykernel)",
   "language": "python",
   "name": "python3"
  },
  "language_info": {
   "codemirror_mode": {
    "name": "ipython",
    "version": 3
   },
   "file_extension": ".py",
   "mimetype": "text/x-python",
   "name": "python",
   "nbconvert_exporter": "python",
   "pygments_lexer": "ipython3",
   "version": "3.10.6"
  }
 },
 "nbformat": 4,
 "nbformat_minor": 5
}
