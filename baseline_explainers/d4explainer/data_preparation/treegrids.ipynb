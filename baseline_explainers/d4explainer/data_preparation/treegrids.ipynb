{
 "cells": [
  {
   "cell_type": "code",
   "execution_count": 1,
   "id": "94a4b40b-629d-4b23-a81c-c86f9b454a23",
   "metadata": {},
   "outputs": [],
   "source": [
    "import dgl\n",
    "from dgl.data import TreeGridDataset\n",
    "import torch\n",
    "import torch_geometric\n",
    "import torch_geometric.transforms as T"
   ]
  },
  {
   "cell_type": "code",
   "execution_count": 2,
   "id": "359a835c-6839-40cb-91c8-7a70b240c797",
   "metadata": {},
   "outputs": [],
   "source": [
    "import argparse\n",
    "import time\n",
    "import easydict\n",
    "from torch.nn import Linear\n",
    "import torch.nn.functional as F\n",
    "from torch_geometric.nn import GCNConv\n",
    "import networkx as nx\n",
    "import matplotlib.pyplot as plt\n",
    "import numpy as np"
   ]
  },
  {
   "cell_type": "code",
   "execution_count": 3,
   "id": "4556835e-e358-448a-9f6e-5358b752aa24",
   "metadata": {},
   "outputs": [],
   "source": [
    "import torch_geometric.utils\n",
    "from torch_geometric.utils.convert import from_networkx\n",
    "from torch_geometric.logging import log\n",
    "import os\n",
    "import pandas as pd\n",
    "import glob\n",
    "import pickle\n",
    "from collections import Counter"
   ]
  },
  {
   "cell_type": "code",
   "execution_count": 4,
   "id": "4d6bbac1-a327-47de-9bde-b92ab62f84fc",
   "metadata": {},
   "outputs": [
    {
     "name": "stdout",
     "output_type": "stream",
     "text": [
      "Done loading data from cached files.\n"
     ]
    }
   ],
   "source": [
    "dataset = TreeGridDataset()\n",
    "g = dataset[0]"
   ]
  },
  {
   "cell_type": "code",
   "execution_count": 5,
   "id": "9a1e80d4-1570-40c3-814d-f42f42cfad4e",
   "metadata": {},
   "outputs": [],
   "source": [
    "#Download file Tree_Grids.pkl from the dataset in https://github.com/Graph-and-Geometric-Learning/D4Explainer. Tree_Grids.pkl is required for the train/val/test splits."
   ]
  },
  {
   "cell_type": "code",
   "execution_count": 6,
   "id": "87e6d5be-c155-4fdc-89dc-e47ce74e22ae",
   "metadata": {},
   "outputs": [],
   "source": [
    "with open('Tree_Grids.pkl', 'rb') as fin:\n",
    "    adj, features, y_train, y_val, y_test, train_mask, val_mask, test_mask, edge_label_matrix  = pickle.load(fin)"
   ]
  },
  {
   "cell_type": "code",
   "execution_count": 7,
   "id": "8ac31239-196e-4f25-b3d9-8aae615580b1",
   "metadata": {},
   "outputs": [
    {
     "data": {
      "text/plain": [
       "1231"
      ]
     },
     "execution_count": 7,
     "metadata": {},
     "output_type": "execute_result"
    }
   ],
   "source": [
    "len(adj)"
   ]
  },
  {
   "cell_type": "code",
   "execution_count": 8,
   "id": "f3c78b76-33b2-4788-aac8-65b7612f9836",
   "metadata": {},
   "outputs": [],
   "source": [
    "g.ndata[\"train_mask\"] = torch.tensor(train_mask)\n",
    "g.ndata[\"val_mask\"] = torch.tensor(val_mask)\n",
    "g.ndata[\"test_mask\"] = torch.tensor(test_mask)"
   ]
  },
  {
   "cell_type": "code",
   "execution_count": 9,
   "id": "dbcaa90f-29bf-436a-b912-1079e9ed5264",
   "metadata": {},
   "outputs": [
    {
     "data": {
      "text/plain": [
       "tensor([1, 1, 1,  ..., 0, 0, 0])"
      ]
     },
     "execution_count": 9,
     "metadata": {},
     "output_type": "execute_result"
    }
   ],
   "source": [
    "data = torch_geometric.utils.from_dgl(g)\n",
    "data.x = data.feat\n",
    "data.y = data.label\n",
    "data.pop('feat')\n",
    "data.pop('__orig__')\n",
    "data.pop('label')\n",
    "#data"
   ]
  },
  {
   "cell_type": "code",
   "execution_count": 11,
   "id": "835c70ae-2d4f-440a-8fd3-8a0e7da730e2",
   "metadata": {},
   "outputs": [],
   "source": [
    "x = torch.tensor([1.0,0.0])\n",
    "data.x = x.repeat(data.x.shape[0],1)"
   ]
  },
  {
   "cell_type": "code",
   "execution_count": 12,
   "id": "c99d5d6e-cab3-49da-9d21-7484ef0c20d3",
   "metadata": {},
   "outputs": [
    {
     "data": {
      "text/plain": [
       "tensor([[1., 0.],\n",
       "        [1., 0.],\n",
       "        [1., 0.],\n",
       "        ...,\n",
       "        [1., 0.],\n",
       "        [1., 0.],\n",
       "        [1., 0.]])"
      ]
     },
     "execution_count": 12,
     "metadata": {},
     "output_type": "execute_result"
    }
   ],
   "source": [
    "data.x"
   ]
  },
  {
   "cell_type": "code",
   "execution_count": 13,
   "id": "da942b49-8e24-47b1-8390-e8dbf22505b5",
   "metadata": {},
   "outputs": [
    {
     "data": {
      "text/plain": [
       "torch.Size([1231, 2])"
      ]
     },
     "execution_count": 13,
     "metadata": {},
     "output_type": "execute_result"
    }
   ],
   "source": [
    "data.x.shape"
   ]
  },
  {
   "cell_type": "code",
   "execution_count": 14,
   "id": "596b935a-2817-4b0c-82c6-7b8a86b4bf38",
   "metadata": {},
   "outputs": [
    {
     "data": {
      "text/plain": [
       "Data(edge_index=[2, 1705], train_mask=[1231], val_mask=[1231], test_mask=[1231], x=[1231, 2], y=[1231])"
      ]
     },
     "execution_count": 14,
     "metadata": {},
     "output_type": "execute_result"
    }
   ],
   "source": [
    "data"
   ]
  },
  {
   "cell_type": "code",
   "execution_count": 15,
   "id": "1f6fc5b8-d4aa-4d32-9ddd-c76fb371e45f",
   "metadata": {},
   "outputs": [],
   "source": [
    "torch.save(data, '../data/TreeGrids/processed/data.pt')"
   ]
  },
  {
   "cell_type": "code",
   "execution_count": 16,
   "id": "a1e2cf95-208e-464d-9fee-5963a044cf03",
   "metadata": {},
   "outputs": [
    {
     "data": {
      "text/plain": [
       "Counter({1: 720, 0: 511})"
      ]
     },
     "execution_count": 16,
     "metadata": {},
     "output_type": "execute_result"
    }
   ],
   "source": [
    "Counter(data.y.tolist())"
   ]
  },
  {
   "cell_type": "code",
   "execution_count": 17,
   "id": "657fe3af-f0b6-4e65-982b-9e5d64e6cc29",
   "metadata": {},
   "outputs": [
    {
     "data": {
      "text/plain": [
       "False"
      ]
     },
     "execution_count": 17,
     "metadata": {},
     "output_type": "execute_result"
    }
   ],
   "source": [
    "data.has_isolated_nodes()"
   ]
  },
  {
   "cell_type": "code",
   "execution_count": 18,
   "id": "ad7ed2ff-77da-419d-a0b2-b5d271f75d47",
   "metadata": {},
   "outputs": [
    {
     "data": {
      "text/plain": [
       "False"
      ]
     },
     "execution_count": 18,
     "metadata": {},
     "output_type": "execute_result"
    }
   ],
   "source": [
    "data.has_self_loops()"
   ]
  },
  {
   "cell_type": "code",
   "execution_count": null,
   "id": "46c6c706-6c23-48da-a5fe-aed9a98b7568",
   "metadata": {},
   "outputs": [],
   "source": []
  }
 ],
 "metadata": {
  "kernelspec": {
   "display_name": "Python 3 (ipykernel)",
   "language": "python",
   "name": "python3"
  },
  "language_info": {
   "codemirror_mode": {
    "name": "ipython",
    "version": 3
   },
   "file_extension": ".py",
   "mimetype": "text/x-python",
   "name": "python",
   "nbconvert_exporter": "python",
   "pygments_lexer": "ipython3",
   "version": "3.10.6"
  }
 },
 "nbformat": 4,
 "nbformat_minor": 5
}
