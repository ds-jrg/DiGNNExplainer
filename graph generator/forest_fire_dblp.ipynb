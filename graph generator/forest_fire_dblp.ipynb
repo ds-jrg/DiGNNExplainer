{
 "cells": [
  {
   "cell_type": "code",
   "execution_count": 1,
   "id": "410e19ad-540c-46de-8c45-a47f0f2c41f0",
   "metadata": {},
   "outputs": [
    {
     "data": {
      "text/html": [
       "\n",
       "\t\t\t<script type=\"text/javascript\">\n",
       "\t\t\t<!--\n",
       "\t\t\t\t\n",
       "\t\t\t{\n",
       "\t\t\t\tvar element = document.getElementById('NetworKit_script');\n",
       "\t\t\t\tif (element) {\n",
       "\t\t\t\t\telement.parentNode.removeChild(element);\n",
       "\t\t\t\t}\n",
       "\t\t\t\telement = document.createElement('script');\n",
       "\t\t\t\telement.type = 'text/javascript';\n",
       "\t\t\t\telement.innerHTML = 'function NetworKit_pageEmbed(id) { var i, j; var elements; elements = document.getElementById(id).getElementsByClassName(\"Plot\"); for (i=0; i<elements.length; i++) { elements[i].id = id + \"_Plot_\" + i; var data = elements[i].getAttribute(\"data-image\").split(\"|\"); elements[i].removeAttribute(\"data-image\"); var content = \"<div class=\\\\\"Image\\\\\" id=\\\\\"\" + elements[i].id + \"_Image\\\\\" />\"; elements[i].innerHTML = content; elements[i].setAttribute(\"data-image-index\", 0); elements[i].setAttribute(\"data-image-length\", data.length); for (j=0; j<data.length; j++) { elements[i].setAttribute(\"data-image-\" + j, data[j]); } NetworKit_plotUpdate(elements[i]); elements[i].onclick = function (e) { NetworKit_overlayShow((e.target) ? e.target : e.srcElement); } } elements = document.getElementById(id).getElementsByClassName(\"HeatCell\"); for (i=0; i<elements.length; i++) { var data = parseFloat(elements[i].getAttribute(\"data-heat\")); var color = \"#00FF00\"; if (data <= 1 && data > 0) { color = \"hsla(0, 100%, 75%, \" + (data) + \")\"; } else if (data <= 0 && data >= -1) { color = \"hsla(240, 100%, 75%, \" + (-data) + \")\"; } elements[i].style.backgroundColor = color; } elements = document.getElementById(id).getElementsByClassName(\"Details\"); for (i=0; i<elements.length; i++) { elements[i].setAttribute(\"data-title\", \"-\"); NetworKit_toggleDetails(elements[i]); elements[i].onclick = function (e) { NetworKit_toggleDetails((e.target) ? e.target : e.srcElement); } } elements = document.getElementById(id).getElementsByClassName(\"MathValue\"); for (i=elements.length-1; i>=0; i--) { value = elements[i].innerHTML.trim(); if (value === \"nan\") { elements[i].parentNode.innerHTML = \"\" } } elements = document.getElementById(id).getElementsByClassName(\"SubCategory\"); for (i=elements.length-1; i>=0; i--) { value = elements[i].innerHTML.trim(); if (value === \"\") { elements[i].parentNode.removeChild(elements[i]) } } elements = document.getElementById(id).getElementsByClassName(\"Category\"); for (i=elements.length-1; i>=0; i--) { value = elements[i].innerHTML.trim(); if (value === \"\") { elements[i].parentNode.removeChild(elements[i]) } } var isFirefox = false; try { isFirefox = typeof InstallTrigger !== \"undefined\"; } catch (e) {} if (!isFirefox) { alert(\"Currently the function\\'s output is only fully supported by Firefox.\"); } } function NetworKit_plotUpdate(source) { var index = source.getAttribute(\"data-image-index\"); var data = source.getAttribute(\"data-image-\" + index); var image = document.getElementById(source.id + \"_Image\"); image.style.backgroundImage = \"url(\" + data + \")\"; } function NetworKit_showElement(id, show) { var element = document.getElementById(id); element.style.display = (show) ? \"block\" : \"none\"; } function NetworKit_overlayShow(source) { NetworKit_overlayUpdate(source); NetworKit_showElement(\"NetworKit_Overlay\", true); } function NetworKit_overlayUpdate(source) { document.getElementById(\"NetworKit_Overlay_Title\").innerHTML = source.title; var index = source.getAttribute(\"data-image-index\"); var data = source.getAttribute(\"data-image-\" + index); var image = document.getElementById(\"NetworKit_Overlay_Image\"); image.setAttribute(\"data-id\", source.id); image.style.backgroundImage = \"url(\" + data + \")\"; var link = document.getElementById(\"NetworKit_Overlay_Toolbar_Bottom_Save\"); link.href = data; link.download = source.title + \".svg\"; } function NetworKit_overlayImageShift(delta) { var image = document.getElementById(\"NetworKit_Overlay_Image\"); var source = document.getElementById(image.getAttribute(\"data-id\")); var index = parseInt(source.getAttribute(\"data-image-index\")); var length = parseInt(source.getAttribute(\"data-image-length\")); var index = (index+delta) % length; if (index < 0) { index = length + index; } source.setAttribute(\"data-image-index\", index); NetworKit_overlayUpdate(source); } function NetworKit_toggleDetails(source) { var childs = source.children; var show = false; if (source.getAttribute(\"data-title\") == \"-\") { source.setAttribute(\"data-title\", \"+\"); show = false; } else { source.setAttribute(\"data-title\", \"-\"); show = true; } for (i=0; i<childs.length; i++) { if (show) { childs[i].style.display = \"block\"; } else { childs[i].style.display = \"none\"; } } }';\n",
       "\t\t\t\telement.setAttribute('id', 'NetworKit_script');\n",
       "\t\t\t\tdocument.head.appendChild(element);\n",
       "\t\t\t}\n",
       "\t\t\n",
       "\t\t\t\t\n",
       "\t\t\t{\n",
       "\t\t\t\tvar element = document.getElementById('NetworKit_style');\n",
       "\t\t\t\tif (element) {\n",
       "\t\t\t\t\telement.parentNode.removeChild(element);\n",
       "\t\t\t\t}\n",
       "\t\t\t\telement = document.createElement('style');\n",
       "\t\t\t\telement.type = 'text/css';\n",
       "\t\t\t\telement.innerHTML = '.NetworKit_Page { font-family: Arial, Helvetica, sans-serif; font-size: 14px; } .NetworKit_Page .Value:before { font-family: Arial, Helvetica, sans-serif; font-size: 1.05em; content: attr(data-title) \":\"; margin-left: -2.5em; padding-right: 0.5em; } .NetworKit_Page .Details .Value:before { display: block; } .NetworKit_Page .Value { font-family: monospace; white-space: pre; padding-left: 2.5em; white-space: -moz-pre-wrap !important; white-space: -pre-wrap; white-space: -o-pre-wrap; white-space: pre-wrap; word-wrap: break-word; tab-size: 4; -moz-tab-size: 4; } .NetworKit_Page .Category { clear: both; padding-left: 1em; margin-bottom: 1.5em; } .NetworKit_Page .Category:before { content: attr(data-title); font-size: 1.75em; display: block; margin-left: -0.8em; margin-bottom: 0.5em; } .NetworKit_Page .SubCategory { margin-bottom: 1.5em; padding-left: 1em; } .NetworKit_Page .SubCategory:before { font-size: 1.6em; display: block; margin-left: -0.8em; margin-bottom: 0.5em; } .NetworKit_Page .SubCategory[data-title]:before { content: attr(data-title); } .NetworKit_Page .Block { display: block; } .NetworKit_Page .Block:after { content: \".\"; visibility: hidden; display: block; height: 0; clear: both; } .NetworKit_Page .Block .Thumbnail_Overview, .NetworKit_Page .Block .Thumbnail_ScatterPlot { width: 260px; float: left; } .NetworKit_Page .Block .Thumbnail_Overview img, .NetworKit_Page .Block .Thumbnail_ScatterPlot img { width: 260px; } .NetworKit_Page .Block .Thumbnail_Overview:before, .NetworKit_Page .Block .Thumbnail_ScatterPlot:before { display: block; text-align: center; font-weight: bold; } .NetworKit_Page .Block .Thumbnail_Overview:before { content: attr(data-title); } .NetworKit_Page .HeatCell { font-family: \"Courier New\", Courier, monospace; cursor: pointer; } .NetworKit_Page .HeatCell, .NetworKit_Page .HeatCellName { display: inline; padding: 0.1em; margin-right: 2px; background-color: #FFFFFF } .NetworKit_Page .HeatCellName { margin-left: 0.25em; } .NetworKit_Page .HeatCell:before { content: attr(data-heat); display: inline-block; color: #000000; width: 4em; text-align: center; } .NetworKit_Page .Measure { clear: both; } .NetworKit_Page .Measure .Details { cursor: pointer; } .NetworKit_Page .Measure .Details:before { content: \"[\" attr(data-title) \"]\"; display: block; } .NetworKit_Page .Measure .Details .Value { border-left: 1px dotted black; margin-left: 0.4em; padding-left: 3.5em; pointer-events: none; } .NetworKit_Page .Measure .Details .Spacer:before { content: \".\"; opacity: 0.0; pointer-events: none; } .NetworKit_Page .Measure .Plot { width: 440px; height: 440px; cursor: pointer; float: left; margin-left: -0.9em; margin-right: 20px; } .NetworKit_Page .Measure .Plot .Image { background-repeat: no-repeat; background-position: center center; background-size: contain; height: 100%; pointer-events: none; } .NetworKit_Page .Measure .Stat { width: 500px; float: left; } .NetworKit_Page .Measure .Stat .Group { padding-left: 1.25em; margin-bottom: 0.75em; } .NetworKit_Page .Measure .Stat .Group .Title { font-size: 1.1em; display: block; margin-bottom: 0.3em; margin-left: -0.75em; border-right-style: dotted; border-right-width: 1px; border-bottom-style: dotted; border-bottom-width: 1px; background-color: #D0D0D0; padding-left: 0.2em; } .NetworKit_Page .Measure .Stat .Group .List { -webkit-column-count: 3; -moz-column-count: 3; column-count: 3; } .NetworKit_Page .Measure .Stat .Group .List .Entry { position: relative; line-height: 1.75em; } .NetworKit_Page .Measure .Stat .Group .List .Entry[data-tooltip]:before { position: absolute; left: 0; top: -40px; background-color: #808080; color: #ffffff; height: 30px; line-height: 30px; border-radius: 5px; padding: 0 15px; content: attr(data-tooltip); white-space: nowrap; display: none; } .NetworKit_Page .Measure .Stat .Group .List .Entry[data-tooltip]:after { position: absolute; left: 15px; top: -10px; border-top: 7px solid #808080; border-left: 7px solid transparent; border-right: 7px solid transparent; content: \"\"; display: none; } .NetworKit_Page .Measure .Stat .Group .List .Entry[data-tooltip]:hover:after, .NetworKit_Page .Measure .Stat .Group .List .Entry[data-tooltip]:hover:before { display: block; } .NetworKit_Page .Measure .Stat .Group .List .Entry .MathValue { font-family: \"Courier New\", Courier, monospace; } .NetworKit_Page .Measure:after { content: \".\"; visibility: hidden; display: block; height: 0; clear: both; } .NetworKit_Page .PartitionPie { clear: both; } .NetworKit_Page .PartitionPie img { width: 600px; } #NetworKit_Overlay { left: 0px; top: 0px; display: none; position: absolute; width: 100%; height: 100%; background-color: rgba(0,0,0,0.6); z-index: 1000; } #NetworKit_Overlay_Title { position: absolute; color: white; transform: rotate(-90deg); width: 32em; height: 32em; padding-right: 0.5em; padding-top: 0.5em; text-align: right; font-size: 40px; } #NetworKit_Overlay .button { background: white; cursor: pointer; } #NetworKit_Overlay .button:before { size: 13px; display: inline-block; text-align: center; margin-top: 0.5em; margin-bottom: 0.5em; width: 1.5em; height: 1.5em; } #NetworKit_Overlay .icon-close:before { content: \"X\"; } #NetworKit_Overlay .icon-previous:before { content: \"P\"; } #NetworKit_Overlay .icon-next:before { content: \"N\"; } #NetworKit_Overlay .icon-save:before { content: \"S\"; } #NetworKit_Overlay_Toolbar_Top, #NetworKit_Overlay_Toolbar_Bottom { position: absolute; width: 40px; right: 13px; text-align: right; z-index: 1100; } #NetworKit_Overlay_Toolbar_Top { top: 0.5em; } #NetworKit_Overlay_Toolbar_Bottom { Bottom: 0.5em; } #NetworKit_Overlay_ImageContainer { position: absolute; top: 5%; left: 5%; height: 90%; width: 90%; background-repeat: no-repeat; background-position: center center; background-size: contain; } #NetworKit_Overlay_Image { height: 100%; width: 100%; background-repeat: no-repeat; background-position: center center; background-size: contain; }';\n",
       "\t\t\t\telement.setAttribute('id', 'NetworKit_style');\n",
       "\t\t\t\tdocument.head.appendChild(element);\n",
       "\t\t\t}\n",
       "\t\t\n",
       "\t\t\t\t\n",
       "\t\t\t{\n",
       "\t\t\t\tvar element = document.getElementById('NetworKit_Overlay');\n",
       "\t\t\t\tif (element) {\n",
       "\t\t\t\t\telement.parentNode.removeChild(element);\n",
       "\t\t\t\t}\n",
       "\t\t\t\telement = document.createElement('div');\n",
       "\t\t\t\telement.innerHTML = '<div id=\"NetworKit_Overlay_Toolbar_Top\"><div class=\"button icon-close\" id=\"NetworKit_Overlay_Close\" /></div><div id=\"NetworKit_Overlay_Title\" /> <div id=\"NetworKit_Overlay_ImageContainer\"> <div id=\"NetworKit_Overlay_Image\" /> </div> <div id=\"NetworKit_Overlay_Toolbar_Bottom\"> <div class=\"button icon-previous\" onclick=\"NetworKit_overlayImageShift(-1)\" /> <div class=\"button icon-next\" onclick=\"NetworKit_overlayImageShift(1)\" /> <a id=\"NetworKit_Overlay_Toolbar_Bottom_Save\"><div class=\"button icon-save\" /></a> </div>';\n",
       "\t\t\t\telement.setAttribute('id', 'NetworKit_Overlay');\n",
       "\t\t\t\tdocument.body.appendChild(element);\n",
       "\t\t\t\tdocument.getElementById('NetworKit_Overlay_Close').onclick = function (e) {\n",
       "\t\t\t\t\tdocument.getElementById('NetworKit_Overlay').style.display = 'none';\n",
       "\t\t\t\t}\n",
       "\t\t\t}\n",
       "\t\t\n",
       "\t\t\t-->\n",
       "\t\t\t</script>\n",
       "\t\t"
      ]
     },
     "metadata": {},
     "output_type": "display_data"
    }
   ],
   "source": [
    "import random\n",
    "import numpy as np\n",
    "import networkx as nx\n",
    "import networkit as nk\n",
    "from typing import Union\n",
    "from collections import deque\n",
    "from littleballoffur.sampler import Sampler\n",
    "import torch\n",
    "import torch_geometric.transforms as T\n",
    "from torch_geometric.datasets.dblp import DBLP\n",
    "from sklearn.feature_selection import VarianceThreshold\n",
    "import matplotlib.pyplot as plt\n",
    "from torch_geometric.utils import to_networkx\n",
    "\n",
    "NKGraph = type(nk.graph.Graph())\n",
    "NXGraph = nx.classes.graph.Graph"
   ]
  },
  {
   "cell_type": "markdown",
   "id": "25cc7e9a-6a59-4016-a6ad-d460b01efa85",
   "metadata": {},
   "source": [
    "Small graphs are obtained from real datasets by modifying the ForestFireSampler code in https://little-ball-of-fur.readthedocs.io/en/latest/_modules/littleballoffur/exploration_sampling/forestfiresampler.html"
   ]
  },
  {
   "cell_type": "code",
   "execution_count": 2,
   "id": "9f18ee51-ff12-4c3b-afbc-2369e0018876",
   "metadata": {},
   "outputs": [],
   "source": [
    "dataset_name = 'dblp'\n",
    "nodetype = 1\n",
    "classes = [0,1,2,3]\n",
    "feature_size = 50"
   ]
  },
  {
   "cell_type": "code",
   "execution_count": 3,
   "id": "2737f251-9ebe-46a2-ad65-8284e7ccc6b0",
   "metadata": {},
   "outputs": [],
   "source": [
    "import pandas as pd\n",
    "import warnings\n",
    "warnings.filterwarnings('ignore')\n",
    "import csv\n",
    "import random\n",
    "import os\n",
    "\n",
    "from littleballoffur import ForestFireSampler\n",
    "import time"
   ]
  },
  {
   "cell_type": "code",
   "execution_count": 4,
   "id": "fcc4a9d6-0ec6-4cf5-a4fe-606b98a214e7",
   "metadata": {},
   "outputs": [],
   "source": [
    "class ForestFireSampler(Sampler):\n",
    "    r\"\"\"An implementation of forest fire sampling. The procedure is a stochastic\n",
    "    snowball sampling method where the expansion is proportional to the burning probability.\n",
    "    `\"For details about the algorithm see this paper.\" <https://cs.stanford.edu/people/jure/pubs/sampling-kdd06.pdf>`_\n",
    "\n",
    "\n",
    "    Args:\n",
    "        number_of_nodes (int): Number of sampled nodes. Default is 100.\n",
    "        p (float): Burning probability. Default is 0.4.\n",
    "        seed (int): Random seed. Default is 42.\n",
    "    \"\"\"\n",
    "\n",
    "    def __init__(\n",
    "            self,\n",
    "            number_of_nodes: int = 100,\n",
    "            p: float = 0.4,\n",
    "            seed: int = 42,\n",
    "            max_visited_nodes_backlog: int = 100,\n",
    "            restart_hop_size: int = 10,\n",
    "    ):\n",
    "        self.number_of_nodes = number_of_nodes\n",
    "        self.p = p\n",
    "        #self.seed = seed\n",
    "        #self._set_seed()\n",
    "        self.restart_hop_size = restart_hop_size\n",
    "        self.max_visited_nodes_backlog = max_visited_nodes_backlog\n",
    "\n",
    "    def _create_node_sets(self, graph):\n",
    "        \"\"\"\n",
    "        Create a starting set of nodes.\n",
    "        \"\"\"\n",
    "        self._sampled_nodes = set()\n",
    "        self._set_of_nodes = set(range(self.backend.get_number_of_nodes(graph)))\n",
    "        self._visited_nodes = deque(maxlen=self.max_visited_nodes_backlog)\n",
    "\n",
    "    def _start_a_fire(self, graph):\n",
    "        \"\"\"\n",
    "        Starting a forest fire from a single node.\n",
    "        \"\"\"\n",
    "        remaining_nodes = list(self._set_of_nodes.difference(self._sampled_nodes))\n",
    "        #seed_node = random.choice(remaining_nodes)\n",
    "        #modified code to select start node from the list of Author nodes\n",
    "        author_nodes= [x for x, y in undirected_graph.nodes(data=True) if y['type'] == 1]\n",
    "        seed_node = random.choice(author_nodes)\n",
    "        self._sampled_nodes.add(seed_node)\n",
    "        node_queue = deque([seed_node])\n",
    "        while len(self._sampled_nodes) < self.number_of_nodes:\n",
    "            if len(node_queue) == 0:\n",
    "                node_queue = deque(\n",
    "                    [\n",
    "                        self._visited_nodes.popleft()\n",
    "                        for k in range(\n",
    "                        min(self.restart_hop_size, len(self._visited_nodes))\n",
    "                    )\n",
    "                    ]\n",
    "                )\n",
    "                if len(node_queue) == 0:\n",
    "                    print(\n",
    "                        \"Warning: could not collect the required number of nodes. The fire could not find enough nodes to burn.\"\n",
    "                    )\n",
    "                    break\n",
    "            top_node = node_queue.popleft()\n",
    "            self._sampled_nodes.add(top_node)\n",
    "            neighbors = set(self.backend.get_neighbors(graph, top_node))\n",
    "            unvisited_neighbors = neighbors.difference(self._sampled_nodes)\n",
    "            score = np.random.geometric(self.p)\n",
    "            count = min(len(unvisited_neighbors), score)\n",
    "            burned_neighbors = random.sample(unvisited_neighbors, count)\n",
    "            self._visited_nodes.extendleft(\n",
    "                unvisited_neighbors.difference(set(burned_neighbors))\n",
    "            )\n",
    "            for neighbor in burned_neighbors:\n",
    "                if len(self._sampled_nodes) >= self.number_of_nodes:\n",
    "                    break\n",
    "                node_queue.extend([neighbor])\n",
    "\n",
    "    def sample(self, graph: Union[NXGraph, NKGraph]) -> Union[NXGraph, NKGraph]:\n",
    "        \"\"\"\n",
    "        Sampling nodes iteratively with a forest fire sampler.\n",
    "\n",
    "        Arg types:\n",
    "            * **graph** *(NetworkX or NetworKit graph)* - The graph to be sampled from.\n",
    "\n",
    "        Return types:\n",
    "            * **new_graph** *(NetworkX or NetworKit graph)* - The graph of sampled nodes.\n",
    "        \"\"\"\n",
    "        self._deploy_backend(graph)\n",
    "        self._check_number_of_nodes(graph)\n",
    "        self._create_node_sets(graph)\n",
    "        while len(self._sampled_nodes) < self.number_of_nodes:\n",
    "            self._start_a_fire(graph)\n",
    "        new_graph = self.backend.get_subgraph(graph, self._sampled_nodes)\n",
    "        return new_graph"
   ]
  },
  {
   "cell_type": "code",
   "execution_count": 5,
   "id": "54af7308-fd8e-4341-b110-dce8238382dc",
   "metadata": {},
   "outputs": [],
   "source": [
    "def plot_graph(G,attribute):\n",
    "\n",
    "    color_class_map = {0: 'blue', 1: 'red', 2: 'darkgreen', 3: 'orange'}\n",
    "\n",
    "    nx.draw(G, \n",
    "        with_labels=True, node_color=[color_class_map[node[1][attribute]] \n",
    "                        for node in G.nodes(data=True)], \n",
    "            node_size=200,\n",
    "        font_color='black')\n",
    "    plt.show() "
   ]
  },
  {
   "cell_type": "markdown",
   "id": "8e0f80bf-992c-4523-aeae-cb1be282549e",
   "metadata": {},
   "source": [
    "DBLP"
   ]
  },
  {
   "cell_type": "code",
   "execution_count": 7,
   "id": "9939758b-00fa-4212-82c1-3e3015c9be47",
   "metadata": {},
   "outputs": [],
   "source": [
    "def get_node_types(G):\n",
    "    \n",
    "    for n in G.nodes:\n",
    "        node_type = G.nodes[n]['type']\n",
    "        if node_type == 'author':\n",
    "            G.nodes[n]['type'] = 1\n",
    "        elif node_type == 'paper':\n",
    "            G.nodes[n]['type'] = 0\n",
    "        elif node_type == 'term':\n",
    "            G.nodes[n]['type'] = 2\n",
    "        elif node_type == 'conference':\n",
    "            G.nodes[n]['type'] = 3"
   ]
  },
  {
   "cell_type": "code",
   "execution_count": 8,
   "id": "cd82be53-717e-445c-9b61-e92d69cbfb06",
   "metadata": {},
   "outputs": [],
   "source": [
    "dataset = DBLP(root='./dblp_data', transform=T.Constant(node_types='conference'))\n",
    "data = dataset[0]"
   ]
  },
  {
   "cell_type": "code",
   "execution_count": 9,
   "id": "0be448a5-d2c2-442a-b37a-dd26547b8640",
   "metadata": {},
   "outputs": [],
   "source": [
    "author = data['author'].x.tolist()\n",
    "author_df = pd.DataFrame(data['author'].x)\n",
    "author_df['class'] = data['author'].y.tolist()"
   ]
  },
  {
   "cell_type": "code",
   "execution_count": 10,
   "id": "afacec50-78cb-43c4-9458-51d4a5b3315d",
   "metadata": {},
   "outputs": [],
   "source": [
    "def feature_selection_var(X,threshold=0.0):\n",
    "    sel = VarianceThreshold(threshold=(threshold * (1 - threshold)))\n",
    "    fitted_X = sel.fit_transform(X)\n",
    "    imp_feat = pd.DataFrame(fitted_X)\n",
    "    \n",
    "    return imp_feat"
   ]
  },
  {
   "cell_type": "code",
   "execution_count": 12,
   "id": "58f4e57f-ee68-47df-8cdb-ea528343199d",
   "metadata": {},
   "outputs": [],
   "source": [
    "networkX_graph = to_networkx(data, node_attrs=['x'])\n",
    "undirected_graph = networkX_graph.to_undirected()\n",
    "get_node_types(undirected_graph)"
   ]
  },
  {
   "cell_type": "code",
   "execution_count": 14,
   "id": "9f5cf84a-b43d-4842-81fe-344843327da5",
   "metadata": {},
   "outputs": [],
   "source": [
    "#Feature selection for author and paper nodes\n",
    "author_features=[]\n",
    "paper_features=[]\n",
    "for n in undirected_graph.nodes:\n",
    "    node_type = undirected_graph.nodes[n]['type']\n",
    "    if node_type == 1:\n",
    "        author_features.append(undirected_graph.nodes[n]['x'])\n",
    "        \n",
    "    elif node_type == 0:\n",
    "        paper_features.append(undirected_graph.nodes[n]['x'])\n",
    "\n",
    "selected_author_feat = feature_selection_var(pd.DataFrame(author_features),threshold=0.948).iloc[:, : feature_size]\n",
    "selected_paper_feat = feature_selection_var(pd.DataFrame(paper_features),threshold=0.9845).iloc[:, : feature_size]"
   ]
  },
  {
   "cell_type": "code",
   "execution_count": 15,
   "id": "5a2a03f8-42f6-40db-b8b0-8b2dadcbc8a2",
   "metadata": {},
   "outputs": [],
   "source": [
    "#Add selected features to nodes and one-hot encoding of node types to features\n",
    "author_node_counter=0\n",
    "paper_node_counter=0\n",
    "\n",
    "ohe_paper = list(np.eye(len(classes))[1])\n",
    "ohe_author = list(np.eye(len(classes))[0])\n",
    "ohe_term = list(np.eye(len(classes))[2])\n",
    "ohe_conference = list(np.eye(len(classes))[3])\n",
    "\n",
    "for n in undirected_graph.nodes:\n",
    "    node_type = undirected_graph.nodes[n]['type']\n",
    "    if node_type == 1:  \n",
    "        author_feat = selected_author_feat.iloc[author_node_counter].to_list()\n",
    "        author_feat.extend(ohe_author)\n",
    "        undirected_graph.nodes[n]['x'] = author_feat\n",
    "        author_node_counter = author_node_counter + 1\n",
    "        \n",
    "    elif node_type == 0:    \n",
    "        paper_feat = selected_paper_feat.iloc[paper_node_counter].to_list()\n",
    "        paper_feat.extend(ohe_paper)\n",
    "        undirected_graph.nodes[n]['x'] = paper_feat\n",
    "        paper_node_counter = paper_node_counter + 1\n",
    "\n",
    "    elif node_type == 2:    \n",
    "        term_feat = undirected_graph.nodes[n]['x']\n",
    "        term_feat.extend(ohe_term)\n",
    "        undirected_graph.nodes[n]['x'] = term_feat\n",
    "        \n",
    "    elif node_type == 3:   \n",
    "        conf_feat = list(np.zeros(50))\n",
    "        conf_feat.extend(ohe_conference)\n",
    "        undirected_graph.nodes[n]['x'] = conf_feat\n",
    "    \n"
   ]
  },
  {
   "cell_type": "code",
   "execution_count": 19,
   "id": "43055e22-3e07-4958-90b3-a0bb14020b6d",
   "metadata": {
    "scrolled": true
   },
   "outputs": [
    {
     "data": {
      "text/plain": [
       "54"
      ]
     },
     "execution_count": 19,
     "metadata": {},
     "output_type": "execute_result"
    }
   ],
   "source": [
    "len(undirected_graph.nodes(data=True)[0]['x'])"
   ]
  },
  {
   "cell_type": "code",
   "execution_count": 20,
   "id": "6e35325c-afaa-4933-9cf5-975d6bde13e3",
   "metadata": {},
   "outputs": [],
   "source": [
    "for nodesize in range(10,16):\n",
    "    adj_list= []\n",
    "    node_type_list = []\n",
    "    node_feature_list = []\n",
    "    for i in range(0,200):\n",
    "        model = ForestFireSampler(nodesize)\n",
    "        graph = model.sample(undirected_graph)\n",
    "        if nx.is_connected(graph):\n",
    "\n",
    "            A = nx.adjacency_matrix(graph)\n",
    "            adj = torch.tensor(np.asarray(A.todense()))\n",
    "            adj_list.append(adj)\n",
    "            \n",
    "            node_type = nx.get_node_attributes(graph, \"type\")\n",
    "            node_feature = nx.get_node_attributes(graph, \"x\")\n",
    "            \n",
    "            node_type_list.append(list(node_type.values()))\n",
    "            node_feature_list.append(list(node_feature.values()))\n",
    "\n",
    "        else:\n",
    "            print('Disconnected graph')  \n",
    "        torch.save([adj_list,node_type_list,node_feature_list],'baseline_vae/real_' + dataset_name+ '_vae_var/'+ str(nodesize) + '.pt')"
   ]
  },
  {
   "cell_type": "code",
   "execution_count": 21,
   "id": "46168961-01c9-4e86-9959-fbe79e26bc0d",
   "metadata": {},
   "outputs": [
    {
     "data": {
      "text/plain": [
       "200"
      ]
     },
     "execution_count": 21,
     "metadata": {},
     "output_type": "execute_result"
    }
   ],
   "source": [
    "len(adj_list)"
   ]
  },
  {
   "cell_type": "code",
   "execution_count": 22,
   "id": "6a9c34b7-8d17-49b6-8d2d-18dbc2c42ec0",
   "metadata": {},
   "outputs": [],
   "source": [
    "adjs, node_types, node_feats = torch.load('baseline_vae/real_dblp_vae_var/10.pt')"
   ]
  },
  {
   "cell_type": "code",
   "execution_count": 23,
   "id": "e7ec0bce-63d6-4b05-a5ad-62532f838491",
   "metadata": {},
   "outputs": [
    {
     "data": {
      "text/plain": [
       "tensor([[0, 0, 0, 0, 0, 0, 0, 0, 0, 1],\n",
       "        [0, 0, 1, 0, 0, 0, 0, 0, 0, 1],\n",
       "        [0, 1, 0, 0, 0, 0, 0, 0, 1, 0],\n",
       "        [0, 0, 0, 0, 1, 0, 0, 0, 0, 1],\n",
       "        [0, 0, 0, 1, 0, 0, 0, 0, 0, 0],\n",
       "        [0, 0, 0, 0, 0, 0, 0, 1, 0, 1],\n",
       "        [0, 0, 0, 0, 0, 0, 0, 0, 0, 1],\n",
       "        [0, 0, 0, 0, 0, 1, 0, 0, 0, 0],\n",
       "        [0, 0, 1, 0, 0, 0, 0, 0, 0, 1],\n",
       "        [1, 1, 0, 1, 0, 1, 1, 0, 1, 0]])"
      ]
     },
     "execution_count": 23,
     "metadata": {},
     "output_type": "execute_result"
    }
   ],
   "source": [
    "adjs[0]"
   ]
  },
  {
   "cell_type": "code",
   "execution_count": 29,
   "id": "90141301-fafc-4b3b-929b-d070914a2bcf",
   "metadata": {},
   "outputs": [
    {
     "data": {
      "text/plain": [
       "[2, 1, 0, 2, 0, 2, 1, 0, 1, 0]"
      ]
     },
     "execution_count": 29,
     "metadata": {},
     "output_type": "execute_result"
    }
   ],
   "source": [
    "node_types[0]"
   ]
  },
  {
   "cell_type": "code",
   "execution_count": 33,
   "id": "6be0d2ec-a854-4af3-b47d-1ac6e25919fe",
   "metadata": {},
   "outputs": [
    {
     "data": {
      "text/plain": [
       "[0.16902999579906464,\n",
       " 1.2401000261306763,\n",
       " 0.06723000109195709,\n",
       " -0.389629989862442,\n",
       " 0.3119100034236908,\n",
       " 1.1172000169754028,\n",
       " 0.7573300004005432,\n",
       " -0.8892999887466431,\n",
       " 0.6833599805831909,\n",
       " -0.753600001335144,\n",
       " -0.1707800030708313,\n",
       " -0.3740200102329254,\n",
       " -0.02481199987232685,\n",
       " -0.015793999657034874,\n",
       " 0.17962999641895294,\n",
       " -0.0433569997549057,\n",
       " -0.163100004196167,\n",
       " -0.061482999473810196,\n",
       " -0.8431199789047241,\n",
       " -0.8103700280189514,\n",
       " -0.36487001180648804,\n",
       " -0.3984299898147583,\n",
       " 0.9004499912261963,\n",
       " -0.041652001440525055,\n",
       " 0.382860004901886,\n",
       " -0.4183900058269501,\n",
       " -0.07397300004959106,\n",
       " 1.1279000043869019,\n",
       " 0.28856000304222107,\n",
       " -0.1861100047826767,\n",
       " 3.1709001064300537,\n",
       " -0.26805999875068665,\n",
       " 0.5761299729347229,\n",
       " 0.6187499761581421,\n",
       " 0.2998400032520294,\n",
       " -0.43720999360084534,\n",
       " 0.6200199723243713,\n",
       " 0.37286999821662903,\n",
       " -0.7694100141525269,\n",
       " 0.05594500154256821,\n",
       " 0.18544000387191772,\n",
       " 0.02395699918270111,\n",
       " 0.20765000581741333,\n",
       " 0.3058300018310547,\n",
       " -1.4075000286102295,\n",
       " -0.881850004196167,\n",
       " 1.32669997215271,\n",
       " -0.5072000026702881,\n",
       " -0.6269999742507935,\n",
       " 0.061083000153303146,\n",
       " 0.0,\n",
       " 0.0,\n",
       " 1.0,\n",
       " 0.0]"
      ]
     },
     "execution_count": 33,
     "metadata": {},
     "output_type": "execute_result"
    }
   ],
   "source": [
    "node_feats[0][0]"
   ]
  },
  {
   "cell_type": "code",
   "execution_count": 32,
   "id": "7546bfc4-7b26-4469-a770-71a308464f1d",
   "metadata": {},
   "outputs": [
    {
     "data": {
      "text/plain": [
       "54"
      ]
     },
     "execution_count": 32,
     "metadata": {},
     "output_type": "execute_result"
    }
   ],
   "source": [
    "len(node_feats[0][0])"
   ]
  },
  {
   "cell_type": "code",
   "execution_count": null,
   "id": "9501dfdf-7422-47d4-8a73-2daff94ca0df",
   "metadata": {},
   "outputs": [],
   "source": []
  },
  {
   "cell_type": "code",
   "execution_count": null,
   "id": "6718a239-6278-4814-ac45-7e47c1208a2c",
   "metadata": {},
   "outputs": [],
   "source": []
  }
 ],
 "metadata": {
  "kernelspec": {
   "display_name": "Python 3 (ipykernel)",
   "language": "python",
   "name": "python3"
  },
  "language_info": {
   "codemirror_mode": {
    "name": "ipython",
    "version": 3
   },
   "file_extension": ".py",
   "mimetype": "text/x-python",
   "name": "python",
   "nbconvert_exporter": "python",
   "pygments_lexer": "ipython3",
   "version": "3.10.6"
  }
 },
 "nbformat": 4,
 "nbformat_minor": 5
}
